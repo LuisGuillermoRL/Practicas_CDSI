{
  "cells": [
    {
      "cell_type": "markdown",
      "metadata": {
        "id": "view-in-github",
        "colab_type": "text"
      },
      "source": [
        "<a href=\"https://colab.research.google.com/github/LuisGuillermoRL/Practicas_CDSI/blob/main/C_Pr%C3%A1ctica_Se%C3%B1as_Inerciales.ipynb\" target=\"_parent\"><img src=\"https://colab.research.google.com/assets/colab-badge.svg\" alt=\"Open In Colab\"/></a>"
      ]
    },
    {
      "cell_type": "code",
      "execution_count": null,
      "metadata": {
        "id": "oyCSz8JhbYn5",
        "outputId": "f74b6d45-ac83-4ae0-953d-5a5ea46ac398",
        "colab": {
          "base_uri": "https://localhost:8080/"
        }
      },
      "outputs": [
        {
          "output_type": "stream",
          "name": "stdout",
          "text": [
            "Looking in indexes: https://pypi.org/simple, https://us-python.pkg.dev/colab-wheels/public/simple/\n",
            "Collecting tsfel\n",
            "  Downloading tsfel-0.1.5-py3-none-any.whl (46 kB)\n",
            "\u001b[2K     \u001b[90m━━━━━━━━━━━━━━━━━━━━━━━━━━━━━━━━━━━━━━━━\u001b[0m \u001b[32m46.9/46.9 KB\u001b[0m \u001b[31m1.1 MB/s\u001b[0m eta \u001b[36m0:00:00\u001b[0m\n",
            "\u001b[?25hCollecting pandas>=1.5.3\n",
            "  Downloading pandas-1.5.3-cp39-cp39-manylinux_2_17_x86_64.manylinux2014_x86_64.whl (12.2 MB)\n",
            "\u001b[2K     \u001b[90m━━━━━━━━━━━━━━━━━━━━━━━━━━━━━━━━━━━━━━━━\u001b[0m \u001b[32m12.2/12.2 MB\u001b[0m \u001b[31m49.5 MB/s\u001b[0m eta \u001b[36m0:00:00\u001b[0m\n",
            "\u001b[?25hRequirement already satisfied: setuptools>=47.1.1 in /usr/local/lib/python3.9/dist-packages (from tsfel) (63.4.3)\n",
            "Requirement already satisfied: oauth2client>=4.1.3 in /usr/local/lib/python3.9/dist-packages (from tsfel) (4.1.3)\n",
            "Requirement already satisfied: gspread>=3.1.0 in /usr/local/lib/python3.9/dist-packages (from tsfel) (3.4.2)\n",
            "Requirement already satisfied: scipy>=1.7.3 in /usr/local/lib/python3.9/dist-packages (from tsfel) (1.10.1)\n",
            "Requirement already satisfied: numpy>=1.18.5 in /usr/local/lib/python3.9/dist-packages (from tsfel) (1.22.4)\n",
            "Requirement already satisfied: Sphinx>=1.8.5 in /usr/local/lib/python3.9/dist-packages (from tsfel) (3.5.4)\n",
            "Requirement already satisfied: ipython>=7.4.0 in /usr/local/lib/python3.9/dist-packages (from tsfel) (7.9.0)\n",
            "Requirement already satisfied: requests>=2.2.1 in /usr/local/lib/python3.9/dist-packages (from gspread>=3.1.0->tsfel) (2.27.1)\n",
            "Requirement already satisfied: google-auth in /usr/local/lib/python3.9/dist-packages (from gspread>=3.1.0->tsfel) (2.16.2)\n",
            "Requirement already satisfied: prompt-toolkit<2.1.0,>=2.0.0 in /usr/local/lib/python3.9/dist-packages (from ipython>=7.4.0->tsfel) (2.0.10)\n",
            "Collecting jedi>=0.10\n",
            "  Downloading jedi-0.18.2-py2.py3-none-any.whl (1.6 MB)\n",
            "\u001b[2K     \u001b[90m━━━━━━━━━━━━━━━━━━━━━━━━━━━━━━━━━━━━━━━━\u001b[0m \u001b[32m1.6/1.6 MB\u001b[0m \u001b[31m30.9 MB/s\u001b[0m eta \u001b[36m0:00:00\u001b[0m\n",
            "\u001b[?25hRequirement already satisfied: pygments in /usr/local/lib/python3.9/dist-packages (from ipython>=7.4.0->tsfel) (2.6.1)\n",
            "Requirement already satisfied: traitlets>=4.2 in /usr/local/lib/python3.9/dist-packages (from ipython>=7.4.0->tsfel) (5.7.1)\n",
            "Requirement already satisfied: decorator in /usr/local/lib/python3.9/dist-packages (from ipython>=7.4.0->tsfel) (4.4.2)\n",
            "Requirement already satisfied: backcall in /usr/local/lib/python3.9/dist-packages (from ipython>=7.4.0->tsfel) (0.2.0)\n",
            "Requirement already satisfied: pexpect in /usr/local/lib/python3.9/dist-packages (from ipython>=7.4.0->tsfel) (4.8.0)\n",
            "Requirement already satisfied: pickleshare in /usr/local/lib/python3.9/dist-packages (from ipython>=7.4.0->tsfel) (0.7.5)\n",
            "Requirement already satisfied: rsa>=3.1.4 in /usr/local/lib/python3.9/dist-packages (from oauth2client>=4.1.3->tsfel) (4.9)\n",
            "Requirement already satisfied: six>=1.6.1 in /usr/local/lib/python3.9/dist-packages (from oauth2client>=4.1.3->tsfel) (1.15.0)\n",
            "Requirement already satisfied: pyasn1-modules>=0.0.5 in /usr/local/lib/python3.9/dist-packages (from oauth2client>=4.1.3->tsfel) (0.2.8)\n",
            "Requirement already satisfied: httplib2>=0.9.1 in /usr/local/lib/python3.9/dist-packages (from oauth2client>=4.1.3->tsfel) (0.21.0)\n",
            "Requirement already satisfied: pyasn1>=0.1.7 in /usr/local/lib/python3.9/dist-packages (from oauth2client>=4.1.3->tsfel) (0.4.8)\n",
            "Requirement already satisfied: python-dateutil>=2.8.1 in /usr/local/lib/python3.9/dist-packages (from pandas>=1.5.3->tsfel) (2.8.2)\n",
            "Requirement already satisfied: pytz>=2020.1 in /usr/local/lib/python3.9/dist-packages (from pandas>=1.5.3->tsfel) (2022.7.1)\n",
            "Requirement already satisfied: babel>=1.3 in /usr/local/lib/python3.9/dist-packages (from Sphinx>=1.8.5->tsfel) (2.12.1)\n",
            "Requirement already satisfied: sphinxcontrib-jsmath in /usr/local/lib/python3.9/dist-packages (from Sphinx>=1.8.5->tsfel) (1.0.1)\n",
            "Requirement already satisfied: packaging in /usr/local/lib/python3.9/dist-packages (from Sphinx>=1.8.5->tsfel) (23.0)\n",
            "Requirement already satisfied: sphinxcontrib-serializinghtml in /usr/local/lib/python3.9/dist-packages (from Sphinx>=1.8.5->tsfel) (1.1.5)\n",
            "Requirement already satisfied: sphinxcontrib-qthelp in /usr/local/lib/python3.9/dist-packages (from Sphinx>=1.8.5->tsfel) (1.0.3)\n",
            "Requirement already satisfied: sphinxcontrib-htmlhelp in /usr/local/lib/python3.9/dist-packages (from Sphinx>=1.8.5->tsfel) (2.0.1)\n",
            "Requirement already satisfied: snowballstemmer>=1.1 in /usr/local/lib/python3.9/dist-packages (from Sphinx>=1.8.5->tsfel) (2.2.0)\n",
            "Requirement already satisfied: sphinxcontrib-devhelp in /usr/local/lib/python3.9/dist-packages (from Sphinx>=1.8.5->tsfel) (1.0.2)\n",
            "Requirement already satisfied: alabaster<0.8,>=0.7 in /usr/local/lib/python3.9/dist-packages (from Sphinx>=1.8.5->tsfel) (0.7.13)\n",
            "Requirement already satisfied: imagesize in /usr/local/lib/python3.9/dist-packages (from Sphinx>=1.8.5->tsfel) (1.4.1)\n",
            "Requirement already satisfied: docutils<0.17,>=0.12 in /usr/local/lib/python3.9/dist-packages (from Sphinx>=1.8.5->tsfel) (0.16)\n",
            "Requirement already satisfied: sphinxcontrib-applehelp in /usr/local/lib/python3.9/dist-packages (from Sphinx>=1.8.5->tsfel) (1.0.4)\n",
            "Requirement already satisfied: Jinja2>=2.3 in /usr/local/lib/python3.9/dist-packages (from Sphinx>=1.8.5->tsfel) (3.1.2)\n",
            "Requirement already satisfied: pyparsing!=3.0.0,!=3.0.1,!=3.0.2,!=3.0.3,<4,>=2.4.2 in /usr/local/lib/python3.9/dist-packages (from httplib2>=0.9.1->oauth2client>=4.1.3->tsfel) (3.0.9)\n",
            "Requirement already satisfied: parso<0.9.0,>=0.8.0 in /usr/local/lib/python3.9/dist-packages (from jedi>=0.10->ipython>=7.4.0->tsfel) (0.8.3)\n",
            "Requirement already satisfied: MarkupSafe>=2.0 in /usr/local/lib/python3.9/dist-packages (from Jinja2>=2.3->Sphinx>=1.8.5->tsfel) (2.1.2)\n",
            "Requirement already satisfied: wcwidth in /usr/local/lib/python3.9/dist-packages (from prompt-toolkit<2.1.0,>=2.0.0->ipython>=7.4.0->tsfel) (0.2.6)\n",
            "Requirement already satisfied: idna<4,>=2.5 in /usr/local/lib/python3.9/dist-packages (from requests>=2.2.1->gspread>=3.1.0->tsfel) (3.4)\n",
            "Requirement already satisfied: certifi>=2017.4.17 in /usr/local/lib/python3.9/dist-packages (from requests>=2.2.1->gspread>=3.1.0->tsfel) (2022.12.7)\n",
            "Requirement already satisfied: charset-normalizer~=2.0.0 in /usr/local/lib/python3.9/dist-packages (from requests>=2.2.1->gspread>=3.1.0->tsfel) (2.0.12)\n",
            "Requirement already satisfied: urllib3<1.27,>=1.21.1 in /usr/local/lib/python3.9/dist-packages (from requests>=2.2.1->gspread>=3.1.0->tsfel) (1.26.15)\n",
            "Requirement already satisfied: cachetools<6.0,>=2.0.0 in /usr/local/lib/python3.9/dist-packages (from google-auth->gspread>=3.1.0->tsfel) (5.3.0)\n",
            "Requirement already satisfied: ptyprocess>=0.5 in /usr/local/lib/python3.9/dist-packages (from pexpect->ipython>=7.4.0->tsfel) (0.7.0)\n",
            "Installing collected packages: jedi, pandas, tsfel\n",
            "  Attempting uninstall: pandas\n",
            "    Found existing installation: pandas 1.4.4\n",
            "    Uninstalling pandas-1.4.4:\n",
            "      Successfully uninstalled pandas-1.4.4\n",
            "Successfully installed jedi-0.18.2 pandas-1.5.3 tsfel-0.1.5\n"
          ]
        }
      ],
      "source": [
        "! pip install tsfel\n"
      ]
    },
    {
      "cell_type": "code",
      "execution_count": null,
      "metadata": {
        "id": "LfSjY830cvme"
      },
      "outputs": [],
      "source": [
        "import numpy as np\n",
        "import pandas as pd\n",
        "import matplotlib.pyplot as plt\n",
        "from sklearn.impute import SimpleImputer\n",
        "import tsfel\n"
      ]
    },
    {
      "cell_type": "code",
      "execution_count": null,
      "metadata": {
        "colab": {
          "base_uri": "https://localhost:8080/"
        },
        "id": "f3Ut51MLc1qX",
        "outputId": "7dc574e7-f421-4d01-c2b5-8b1142371fe1"
      },
      "outputs": [
        {
          "output_type": "stream",
          "name": "stdout",
          "text": [
            "Mounted at /content/drive\n"
          ]
        }
      ],
      "source": [
        "from glob import glob\n",
        "from google.colab import drive\n",
        "import os\n",
        "drive.mount('/content/drive')"
      ]
    },
    {
      "cell_type": "code",
      "source": [
        "cfg = tsfel.get_features_by_domain()"
      ],
      "metadata": {
        "id": "ZGH8Z8atRI_2"
      },
      "execution_count": null,
      "outputs": []
    },
    {
      "cell_type": "markdown",
      "metadata": {
        "id": "CnbVwkiwdMXl"
      },
      "source": [
        "###Ejemplo de un solo archivo"
      ]
    },
    {
      "cell_type": "code",
      "execution_count": null,
      "metadata": {
        "id": "PVumgX3UdPL6"
      },
      "outputs": [],
      "source": [
        "ruta_prueba = '/content/drive/MyDrive/Tareas CDSI/Archivos inerciales/Inerciales_por_carpeta/Jhon Doe/Folder_file001_MR.csv'"
      ]
    },
    {
      "cell_type": "code",
      "execution_count": null,
      "metadata": {
        "id": "MRYsf4areS7g"
      },
      "outputs": [],
      "source": [
        "prueba = pd.read_csv(ruta_prueba,names=[\"x\",\"y\",\"z\",\"time\"])#,skiprows=113, usecols=[1,2], header=None, na_values=['            '])\n"
      ]
    },
    {
      "cell_type": "markdown",
      "source": [
        "Los datos muestran componentes de movimiento en 3 dimensiones, es decir, en las componentes x,y e z. y el tiempo en realizar las actividades mencionadas más abajo."
      ],
      "metadata": {
        "id": "tpO0PVxSH0lQ"
      }
    },
    {
      "cell_type": "code",
      "execution_count": null,
      "metadata": {
        "colab": {
          "base_uri": "https://localhost:8080/",
          "height": 423
        },
        "id": "0TFsPE20iTh4",
        "outputId": "232cf585-cfcd-487c-ff6d-ac1da0126357"
      },
      "outputs": [
        {
          "output_type": "execute_result",
          "data": {
            "text/plain": [
              "             x        y        z    time\n",
              "0    -0.027146  1.03220  0.33435  46.147\n",
              "1    -0.026347  1.04410  0.30773  46.152\n",
              "2    -0.017418  1.08350  0.27855  46.157\n",
              "3    -0.008152  1.13880  0.23818  46.162\n",
              "4     0.004662  1.20600  0.21375  46.167\n",
              "...        ...      ...      ...     ...\n",
              "1331  0.168010  0.92558  0.13821  52.646\n",
              "1332  0.184310  0.92558  0.13199  52.651\n",
              "1333  0.192340  0.93347  0.13287  52.656\n",
              "1334  0.195430  0.92953  0.16384  52.661\n",
              "1335  0.211840  0.93347  0.15386  52.666\n",
              "\n",
              "[1336 rows x 4 columns]"
            ],
            "text/html": [
              "\n",
              "  <div id=\"df-23a4185a-f952-4c98-830e-960b09245ef8\">\n",
              "    <div class=\"colab-df-container\">\n",
              "      <div>\n",
              "<style scoped>\n",
              "    .dataframe tbody tr th:only-of-type {\n",
              "        vertical-align: middle;\n",
              "    }\n",
              "\n",
              "    .dataframe tbody tr th {\n",
              "        vertical-align: top;\n",
              "    }\n",
              "\n",
              "    .dataframe thead th {\n",
              "        text-align: right;\n",
              "    }\n",
              "</style>\n",
              "<table border=\"1\" class=\"dataframe\">\n",
              "  <thead>\n",
              "    <tr style=\"text-align: right;\">\n",
              "      <th></th>\n",
              "      <th>x</th>\n",
              "      <th>y</th>\n",
              "      <th>z</th>\n",
              "      <th>time</th>\n",
              "    </tr>\n",
              "  </thead>\n",
              "  <tbody>\n",
              "    <tr>\n",
              "      <th>0</th>\n",
              "      <td>-0.027146</td>\n",
              "      <td>1.03220</td>\n",
              "      <td>0.33435</td>\n",
              "      <td>46.147</td>\n",
              "    </tr>\n",
              "    <tr>\n",
              "      <th>1</th>\n",
              "      <td>-0.026347</td>\n",
              "      <td>1.04410</td>\n",
              "      <td>0.30773</td>\n",
              "      <td>46.152</td>\n",
              "    </tr>\n",
              "    <tr>\n",
              "      <th>2</th>\n",
              "      <td>-0.017418</td>\n",
              "      <td>1.08350</td>\n",
              "      <td>0.27855</td>\n",
              "      <td>46.157</td>\n",
              "    </tr>\n",
              "    <tr>\n",
              "      <th>3</th>\n",
              "      <td>-0.008152</td>\n",
              "      <td>1.13880</td>\n",
              "      <td>0.23818</td>\n",
              "      <td>46.162</td>\n",
              "    </tr>\n",
              "    <tr>\n",
              "      <th>4</th>\n",
              "      <td>0.004662</td>\n",
              "      <td>1.20600</td>\n",
              "      <td>0.21375</td>\n",
              "      <td>46.167</td>\n",
              "    </tr>\n",
              "    <tr>\n",
              "      <th>...</th>\n",
              "      <td>...</td>\n",
              "      <td>...</td>\n",
              "      <td>...</td>\n",
              "      <td>...</td>\n",
              "    </tr>\n",
              "    <tr>\n",
              "      <th>1331</th>\n",
              "      <td>0.168010</td>\n",
              "      <td>0.92558</td>\n",
              "      <td>0.13821</td>\n",
              "      <td>52.646</td>\n",
              "    </tr>\n",
              "    <tr>\n",
              "      <th>1332</th>\n",
              "      <td>0.184310</td>\n",
              "      <td>0.92558</td>\n",
              "      <td>0.13199</td>\n",
              "      <td>52.651</td>\n",
              "    </tr>\n",
              "    <tr>\n",
              "      <th>1333</th>\n",
              "      <td>0.192340</td>\n",
              "      <td>0.93347</td>\n",
              "      <td>0.13287</td>\n",
              "      <td>52.656</td>\n",
              "    </tr>\n",
              "    <tr>\n",
              "      <th>1334</th>\n",
              "      <td>0.195430</td>\n",
              "      <td>0.92953</td>\n",
              "      <td>0.16384</td>\n",
              "      <td>52.661</td>\n",
              "    </tr>\n",
              "    <tr>\n",
              "      <th>1335</th>\n",
              "      <td>0.211840</td>\n",
              "      <td>0.93347</td>\n",
              "      <td>0.15386</td>\n",
              "      <td>52.666</td>\n",
              "    </tr>\n",
              "  </tbody>\n",
              "</table>\n",
              "<p>1336 rows × 4 columns</p>\n",
              "</div>\n",
              "      <button class=\"colab-df-convert\" onclick=\"convertToInteractive('df-23a4185a-f952-4c98-830e-960b09245ef8')\"\n",
              "              title=\"Convert this dataframe to an interactive table.\"\n",
              "              style=\"display:none;\">\n",
              "        \n",
              "  <svg xmlns=\"http://www.w3.org/2000/svg\" height=\"24px\"viewBox=\"0 0 24 24\"\n",
              "       width=\"24px\">\n",
              "    <path d=\"M0 0h24v24H0V0z\" fill=\"none\"/>\n",
              "    <path d=\"M18.56 5.44l.94 2.06.94-2.06 2.06-.94-2.06-.94-.94-2.06-.94 2.06-2.06.94zm-11 1L8.5 8.5l.94-2.06 2.06-.94-2.06-.94L8.5 2.5l-.94 2.06-2.06.94zm10 10l.94 2.06.94-2.06 2.06-.94-2.06-.94-.94-2.06-.94 2.06-2.06.94z\"/><path d=\"M17.41 7.96l-1.37-1.37c-.4-.4-.92-.59-1.43-.59-.52 0-1.04.2-1.43.59L10.3 9.45l-7.72 7.72c-.78.78-.78 2.05 0 2.83L4 21.41c.39.39.9.59 1.41.59.51 0 1.02-.2 1.41-.59l7.78-7.78 2.81-2.81c.8-.78.8-2.07 0-2.86zM5.41 20L4 18.59l7.72-7.72 1.47 1.35L5.41 20z\"/>\n",
              "  </svg>\n",
              "      </button>\n",
              "      \n",
              "  <style>\n",
              "    .colab-df-container {\n",
              "      display:flex;\n",
              "      flex-wrap:wrap;\n",
              "      gap: 12px;\n",
              "    }\n",
              "\n",
              "    .colab-df-convert {\n",
              "      background-color: #E8F0FE;\n",
              "      border: none;\n",
              "      border-radius: 50%;\n",
              "      cursor: pointer;\n",
              "      display: none;\n",
              "      fill: #1967D2;\n",
              "      height: 32px;\n",
              "      padding: 0 0 0 0;\n",
              "      width: 32px;\n",
              "    }\n",
              "\n",
              "    .colab-df-convert:hover {\n",
              "      background-color: #E2EBFA;\n",
              "      box-shadow: 0px 1px 2px rgba(60, 64, 67, 0.3), 0px 1px 3px 1px rgba(60, 64, 67, 0.15);\n",
              "      fill: #174EA6;\n",
              "    }\n",
              "\n",
              "    [theme=dark] .colab-df-convert {\n",
              "      background-color: #3B4455;\n",
              "      fill: #D2E3FC;\n",
              "    }\n",
              "\n",
              "    [theme=dark] .colab-df-convert:hover {\n",
              "      background-color: #434B5C;\n",
              "      box-shadow: 0px 1px 3px 1px rgba(0, 0, 0, 0.15);\n",
              "      filter: drop-shadow(0px 1px 2px rgba(0, 0, 0, 0.3));\n",
              "      fill: #FFFFFF;\n",
              "    }\n",
              "  </style>\n",
              "\n",
              "      <script>\n",
              "        const buttonEl =\n",
              "          document.querySelector('#df-23a4185a-f952-4c98-830e-960b09245ef8 button.colab-df-convert');\n",
              "        buttonEl.style.display =\n",
              "          google.colab.kernel.accessAllowed ? 'block' : 'none';\n",
              "\n",
              "        async function convertToInteractive(key) {\n",
              "          const element = document.querySelector('#df-23a4185a-f952-4c98-830e-960b09245ef8');\n",
              "          const dataTable =\n",
              "            await google.colab.kernel.invokeFunction('convertToInteractive',\n",
              "                                                     [key], {});\n",
              "          if (!dataTable) return;\n",
              "\n",
              "          const docLinkHtml = 'Like what you see? Visit the ' +\n",
              "            '<a target=\"_blank\" href=https://colab.research.google.com/notebooks/data_table.ipynb>data table notebook</a>'\n",
              "            + ' to learn more about interactive tables.';\n",
              "          element.innerHTML = '';\n",
              "          dataTable['output_type'] = 'display_data';\n",
              "          await google.colab.output.renderOutput(dataTable, element);\n",
              "          const docLink = document.createElement('div');\n",
              "          docLink.innerHTML = docLinkHtml;\n",
              "          element.appendChild(docLink);\n",
              "        }\n",
              "      </script>\n",
              "    </div>\n",
              "  </div>\n",
              "  "
            ]
          },
          "metadata": {},
          "execution_count": 7
        }
      ],
      "source": [
        "prueba"
      ]
    },
    {
      "cell_type": "code",
      "execution_count": null,
      "metadata": {
        "colab": {
          "base_uri": "https://localhost:8080/"
        },
        "id": "G6j4XqeeeiEX",
        "outputId": "1089d50c-9315-4ae6-99fd-177c715d3e60"
      },
      "outputs": [
        {
          "output_type": "execute_result",
          "data": {
            "text/plain": [
              "array([[-2.7146e-02,  1.0322e+00,  3.3435e-01,  4.6147e+01],\n",
              "       [-2.6347e-02,  1.0441e+00,  3.0773e-01,  4.6152e+01],\n",
              "       [-1.7418e-02,  1.0835e+00,  2.7855e-01,  4.6157e+01],\n",
              "       ...,\n",
              "       [ 1.9234e-01,  9.3347e-01,  1.3287e-01,  5.2656e+01],\n",
              "       [ 1.9543e-01,  9.2953e-01,  1.6384e-01,  5.2661e+01],\n",
              "       [ 2.1184e-01,  9.3347e-01,  1.5386e-01,  5.2666e+01]])"
            ]
          },
          "metadata": {},
          "execution_count": 8
        }
      ],
      "source": [
        "prueba_arr = prueba.values\n",
        "prueba_arr"
      ]
    },
    {
      "cell_type": "markdown",
      "source": [
        "El Docente a cargo nos comento que la componente en y aparecía desplzada, por lo que daba las siguientes dos recomendaciones:\n",
        "- Desplzar la componenete en y al \"origen\" y trabajar con esta.\n",
        "- Crear otra característica, a saber el vector aceleración, el cuál mencionó que se obtenía con la raíz cuadrada de la suma de las componentes (x,y,z) al cuadrado. $\\sqrt{x^2+y^2+z^2}$\n",
        "\n",
        "Primero ploteamos dos gráficas, una con la componente en Y sin desplazar y en la otra gráfica la componente en Y desplazada."
      ],
      "metadata": {
        "id": "k7swOToiDWrj"
      }
    },
    {
      "cell_type": "code",
      "execution_count": null,
      "metadata": {
        "id": "MwsHIfkitkxv"
      },
      "outputs": [],
      "source": [
        "#Arcaicamente buscamos plotear la señal pero ya hay métodos para transpuesta y multiplicar\n",
        "b= np.zeros(shape=(3,1336)) #\n",
        "for j in [0,1,2]:\n",
        "  for i in range(len(prueba_arr[...,0])):\n",
        "    b[j][i]=prueba_arr[...,j][i]*1000\n",
        "    #el 1000 sólo es para ploterlo, No es necesario en la práctica\n",
        "\n"
      ]
    },
    {
      "cell_type": "code",
      "execution_count": null,
      "metadata": {
        "colab": {
          "base_uri": "https://localhost:8080/"
        },
        "id": "LGjtkkq33oee",
        "outputId": "60484f9c-836c-46c4-b13c-2b3a9aefe9f0"
      },
      "outputs": [
        {
          "output_type": "execute_result",
          "data": {
            "text/plain": [
              "array([[ -27.146,  -26.347,  -17.418, ...,  192.34 ,  195.43 ,  211.84 ],\n",
              "       [1032.2  , 1044.1  , 1083.5  , ...,  933.47 ,  929.53 ,  933.47 ],\n",
              "       [ 334.35 ,  307.73 ,  278.55 , ...,  132.87 ,  163.84 ,  153.86 ]])"
            ]
          },
          "metadata": {},
          "execution_count": 10
        }
      ],
      "source": [
        "b"
      ]
    },
    {
      "cell_type": "code",
      "execution_count": null,
      "metadata": {
        "colab": {
          "base_uri": "https://localhost:8080/"
        },
        "id": "7ga8JYxl6dsQ",
        "outputId": "f9efa239-4a92-404b-cd20-b9d9779a65b5"
      },
      "outputs": [
        {
          "output_type": "execute_result",
          "data": {
            "text/plain": [
              "array([46.147, 46.152, 46.157, ..., 52.656, 52.661, 52.666])"
            ]
          },
          "metadata": {},
          "execution_count": 11
        }
      ],
      "source": [
        "x_b=prueba_arr[...,3] #Tiempo\n",
        "x_b"
      ]
    },
    {
      "cell_type": "code",
      "execution_count": null,
      "metadata": {
        "colab": {
          "base_uri": "https://localhost:8080/",
          "height": 295
        },
        "id": "4cXwTtsh_n1C",
        "outputId": "2ce72ef5-3acb-4a52-c64c-b9c7cb8bf601"
      },
      "outputs": [
        {
          "output_type": "display_data",
          "data": {
            "text/plain": [
              "<Figure size 432x288 with 1 Axes>"
            ],
            "image/png": "[encoded data removed]"
          },
          "metadata": {
            "needs_background": "light"
          }
        }
      ],
      "source": [
        "plt.plot(x_b,b[0],x_b,b[1],x_b,b[2])#,b[1].transpose,b[2].transpose) #Ojo que x_b se repite\n",
        "plt.legend([\"componente en x\",\"componente en y\", \"componente en z\"])\n",
        "\n",
        "plt.grid(True)\n",
        "plt.xlabel(\"nombre en el eje x\")\n",
        "plt.ylabel(\"nombre ne eje y o y=f(x)\")\n",
        "plt.title(\"Componente en Y sin trasladar\")\n",
        "plt.show()"
      ]
    },
    {
      "cell_type": "code",
      "execution_count": null,
      "metadata": {
        "colab": {
          "base_uri": "https://localhost:8080/"
        },
        "id": "0yZIw-NQFE-9",
        "outputId": "d8d82240-38e2-45ec-f25f-a51622e6fa04"
      },
      "outputs": [
        {
          "output_type": "execute_result",
          "data": {
            "text/plain": [
              "984.0341535179641"
            ]
          },
          "metadata": {},
          "execution_count": 13
        }
      ],
      "source": [
        "r=np.mean(b[1])\n",
        "r"
      ]
    },
    {
      "cell_type": "code",
      "execution_count": null,
      "metadata": {
        "colab": {
          "base_uri": "https://localhost:8080/"
        },
        "id": "AcYOTgHWFxER",
        "outputId": "76ea95c0-c325-4cda-fa27-ba7d28dfd4e0"
      },
      "outputs": [
        {
          "output_type": "execute_result",
          "data": {
            "text/plain": [
              "array([ 48.16584648,  60.06584648,  99.46584648, ..., -50.56415352,\n",
              "       -54.50415352, -50.56415352])"
            ]
          },
          "metadata": {},
          "execution_count": 14
        }
      ],
      "source": [
        "yp=b[1]-r\n",
        "yp"
      ]
    },
    {
      "cell_type": "code",
      "execution_count": null,
      "metadata": {
        "colab": {
          "base_uri": "https://localhost:8080/",
          "height": 295
        },
        "id": "ytgoGiX6G5JP",
        "outputId": "eb238558-fb9f-49fc-c437-3a4a7f6e5bb6"
      },
      "outputs": [
        {
          "output_type": "display_data",
          "data": {
            "text/plain": [
              "<Figure size 432x288 with 1 Axes>"
            ],
            "image/png": "[encoded data removed]"
          },
          "metadata": {
            "needs_background": "light"
          }
        }
      ],
      "source": [
        "plt.plot(x_b,b[0],x_b,yp,x_b,b[2])#,b[1].transpose,b[2].transpose)\n",
        "plt.legend([\"componente en x\",\"componente en y\", \"componente en z\"])\n",
        "\n",
        "plt.grid(True)\n",
        "plt.xlabel(\"nombre en el eje x\")\n",
        "plt.ylabel(\"nombre ne eje y o y=f(x)\")\n",
        "plt.title(\"Gráfica con componente Y trasladado\")\n",
        "plt.show()"
      ]
    },
    {
      "cell_type": "markdown",
      "metadata": {
        "id": "epP_yxw2p9PX"
      },
      "source": [
        "**Observación:** El código de siguiente es para  obtener un data frame con cuatro columnas, una en la componente en x, y, z y **el vector de aceleración**."
      ]
    },
    {
      "cell_type": "code",
      "execution_count": null,
      "metadata": {
        "colab": {
          "base_uri": "https://localhost:8080/"
        },
        "id": "V3WF-X8nmSQC",
        "outputId": "383d454f-85ec-4f84-8082-926f5a3530a0"
      },
      "outputs": [
        {
          "output_type": "execute_result",
          "data": {
            "text/plain": [
              "0.984034153517964"
            ]
          },
          "metadata": {},
          "execution_count": 16
        }
      ],
      "source": [
        "prm_p=np.mean(prueba_arr[:,1])\n",
        "prm_p\n"
      ]
    },
    {
      "cell_type": "code",
      "execution_count": null,
      "metadata": {
        "colab": {
          "base_uri": "https://localhost:8080/"
        },
        "id": "4J7Zo4xcpbKE",
        "outputId": "0ff92614-6573-42dc-ef42-99868d28cf2f"
      },
      "outputs": [
        {
          "output_type": "execute_result",
          "data": {
            "text/plain": [
              "array([ 0.04816585,  0.06006585,  0.09946585, ..., -0.05056415,\n",
              "       -0.05450415, -0.05056415])"
            ]
          },
          "metadata": {},
          "execution_count": 17
        }
      ],
      "source": [
        "yp_d=prueba_arr[:,1]-prm_p\n",
        "yp_d"
      ]
    },
    {
      "cell_type": "code",
      "execution_count": null,
      "metadata": {
        "colab": {
          "base_uri": "https://localhost:8080/"
        },
        "id": "fSrmHQu5klfU",
        "outputId": "e0195832-56d2-4a3f-f23e-31061299a2c3"
      },
      "outputs": [
        {
          "output_type": "execute_result",
          "data": {
            "text/plain": [
              "array([0.33889051, 0.31464237, 0.29628862, ..., 0.23917744, 0.26078177,\n",
              "       0.26665674])"
            ]
          },
          "metadata": {},
          "execution_count": 18
        }
      ],
      "source": [
        "va_p=np.sqrt(prueba_arr[:,0]**2+yp_d**2+prueba_arr[:,2]**2)\n",
        "va_p"
      ]
    },
    {
      "cell_type": "markdown",
      "metadata": {
        "id": "ilTRITz4qsP2"
      },
      "source": [
        "Data Frame de prueba"
      ]
    },
    {
      "cell_type": "code",
      "execution_count": null,
      "metadata": {
        "colab": {
          "base_uri": "https://localhost:8080/"
        },
        "id": "TzAkCP38qvOt",
        "outputId": "d209031f-b4ec-4e91-c905-793c02716431"
      },
      "outputs": [
        {
          "output_type": "execute_result",
          "data": {
            "text/plain": [
              "{'X': array([-0.027146, -0.026347, -0.017418, ...,  0.19234 ,  0.19543 ,\n",
              "         0.21184 ]),\n",
              " 'Y': array([ 0.04816585,  0.06006585,  0.09946585, ..., -0.05056415,\n",
              "        -0.05450415, -0.05056415]),\n",
              " 'Z': array([0.33435, 0.30773, 0.27855, ..., 0.13287, 0.16384, 0.15386]),\n",
              " 'Vect. Ace.': array([0.33889051, 0.31464237, 0.29628862, ..., 0.23917744, 0.26078177,\n",
              "        0.26665674])}"
            ]
          },
          "metadata": {},
          "execution_count": 19
        }
      ],
      "source": [
        "dic_prueba={\"X\":prueba_arr[:,0],\"Y\":yp_d,\"Z\":prueba_arr[:,2],\"Vect. Ace.\":va_p}\n",
        "dic_prueba"
      ]
    },
    {
      "cell_type": "markdown",
      "source": [
        "DataFrame del que se obtendrán las características."
      ],
      "metadata": {
        "id": "qYkW55NmEGr3"
      }
    },
    {
      "cell_type": "code",
      "execution_count": null,
      "metadata": {
        "colab": {
          "base_uri": "https://localhost:8080/",
          "height": 423
        },
        "id": "mF8iSj0jtPCi",
        "outputId": "7f30a78d-6207-4320-b123-bb5748ab1dc9"
      },
      "outputs": [
        {
          "output_type": "execute_result",
          "data": {
            "text/plain": [
              "             X         Y        Z  Vect. Ace.\n",
              "0    -0.027146  0.048166  0.33435    0.338891\n",
              "1    -0.026347  0.060066  0.30773    0.314642\n",
              "2    -0.017418  0.099466  0.27855    0.296289\n",
              "3    -0.008152  0.154766  0.23818    0.284163\n",
              "4     0.004662  0.221966  0.21375    0.308188\n",
              "...        ...       ...      ...         ...\n",
              "1331  0.168010 -0.058454  0.13821    0.225269\n",
              "1332  0.184310 -0.058454  0.13199    0.234112\n",
              "1333  0.192340 -0.050564  0.13287    0.239177\n",
              "1334  0.195430 -0.054504  0.16384    0.260782\n",
              "1335  0.211840 -0.050564  0.15386    0.266657\n",
              "\n",
              "[1336 rows x 4 columns]"
            ],
            "text/html": [
              "\n",
              "  <div id=\"df-fcab6b63-4123-49a0-bea7-857f4c724752\">\n",
              "    <div class=\"colab-df-container\">\n",
              "      <div>\n",
              "<style scoped>\n",
              "    .dataframe tbody tr th:only-of-type {\n",
              "        vertical-align: middle;\n",
              "    }\n",
              "\n",
              "    .dataframe tbody tr th {\n",
              "        vertical-align: top;\n",
              "    }\n",
              "\n",
              "    .dataframe thead th {\n",
              "        text-align: right;\n",
              "    }\n",
              "</style>\n",
              "<table border=\"1\" class=\"dataframe\">\n",
              "  <thead>\n",
              "    <tr style=\"text-align: right;\">\n",
              "      <th></th>\n",
              "      <th>X</th>\n",
              "      <th>Y</th>\n",
              "      <th>Z</th>\n",
              "      <th>Vect. Ace.</th>\n",
              "    </tr>\n",
              "  </thead>\n",
              "  <tbody>\n",
              "    <tr>\n",
              "      <th>0</th>\n",
              "      <td>-0.027146</td>\n",
              "      <td>0.048166</td>\n",
              "      <td>0.33435</td>\n",
              "      <td>0.338891</td>\n",
              "    </tr>\n",
              "    <tr>\n",
              "      <th>1</th>\n",
              "      <td>-0.026347</td>\n",
              "      <td>0.060066</td>\n",
              "      <td>0.30773</td>\n",
              "      <td>0.314642</td>\n",
              "    </tr>\n",
              "    <tr>\n",
              "      <th>2</th>\n",
              "      <td>-0.017418</td>\n",
              "      <td>0.099466</td>\n",
              "      <td>0.27855</td>\n",
              "      <td>0.296289</td>\n",
              "    </tr>\n",
              "    <tr>\n",
              "      <th>3</th>\n",
              "      <td>-0.008152</td>\n",
              "      <td>0.154766</td>\n",
              "      <td>0.23818</td>\n",
              "      <td>0.284163</td>\n",
              "    </tr>\n",
              "    <tr>\n",
              "      <th>4</th>\n",
              "      <td>0.004662</td>\n",
              "      <td>0.221966</td>\n",
              "      <td>0.21375</td>\n",
              "      <td>0.308188</td>\n",
              "    </tr>\n",
              "    <tr>\n",
              "      <th>...</th>\n",
              "      <td>...</td>\n",
              "      <td>...</td>\n",
              "      <td>...</td>\n",
              "      <td>...</td>\n",
              "    </tr>\n",
              "    <tr>\n",
              "      <th>1331</th>\n",
              "      <td>0.168010</td>\n",
              "      <td>-0.058454</td>\n",
              "      <td>0.13821</td>\n",
              "      <td>0.225269</td>\n",
              "    </tr>\n",
              "    <tr>\n",
              "      <th>1332</th>\n",
              "      <td>0.184310</td>\n",
              "      <td>-0.058454</td>\n",
              "      <td>0.13199</td>\n",
              "      <td>0.234112</td>\n",
              "    </tr>\n",
              "    <tr>\n",
              "      <th>1333</th>\n",
              "      <td>0.192340</td>\n",
              "      <td>-0.050564</td>\n",
              "      <td>0.13287</td>\n",
              "      <td>0.239177</td>\n",
              "    </tr>\n",
              "    <tr>\n",
              "      <th>1334</th>\n",
              "      <td>0.195430</td>\n",
              "      <td>-0.054504</td>\n",
              "      <td>0.16384</td>\n",
              "      <td>0.260782</td>\n",
              "    </tr>\n",
              "    <tr>\n",
              "      <th>1335</th>\n",
              "      <td>0.211840</td>\n",
              "      <td>-0.050564</td>\n",
              "      <td>0.15386</td>\n",
              "      <td>0.266657</td>\n",
              "    </tr>\n",
              "  </tbody>\n",
              "</table>\n",
              "<p>1336 rows × 4 columns</p>\n",
              "</div>\n",
              "      <button class=\"colab-df-convert\" onclick=\"convertToInteractive('df-fcab6b63-4123-49a0-bea7-857f4c724752')\"\n",
              "              title=\"Convert this dataframe to an interactive table.\"\n",
              "              style=\"display:none;\">\n",
              "        \n",
              "  <svg xmlns=\"http://www.w3.org/2000/svg\" height=\"24px\"viewBox=\"0 0 24 24\"\n",
              "       width=\"24px\">\n",
              "    <path d=\"M0 0h24v24H0V0z\" fill=\"none\"/>\n",
              "    <path d=\"M18.56 5.44l.94 2.06.94-2.06 2.06-.94-2.06-.94-.94-2.06-.94 2.06-2.06.94zm-11 1L8.5 8.5l.94-2.06 2.06-.94-2.06-.94L8.5 2.5l-.94 2.06-2.06.94zm10 10l.94 2.06.94-2.06 2.06-.94-2.06-.94-.94-2.06-.94 2.06-2.06.94z\"/><path d=\"M17.41 7.96l-1.37-1.37c-.4-.4-.92-.59-1.43-.59-.52 0-1.04.2-1.43.59L10.3 9.45l-7.72 7.72c-.78.78-.78 2.05 0 2.83L4 21.41c.39.39.9.59 1.41.59.51 0 1.02-.2 1.41-.59l7.78-7.78 2.81-2.81c.8-.78.8-2.07 0-2.86zM5.41 20L4 18.59l7.72-7.72 1.47 1.35L5.41 20z\"/>\n",
              "  </svg>\n",
              "      </button>\n",
              "      \n",
              "  <style>\n",
              "    .colab-df-container {\n",
              "      display:flex;\n",
              "      flex-wrap:wrap;\n",
              "      gap: 12px;\n",
              "    }\n",
              "\n",
              "    .colab-df-convert {\n",
              "      background-color: #E8F0FE;\n",
              "      border: none;\n",
              "      border-radius: 50%;\n",
              "      cursor: pointer;\n",
              "      display: none;\n",
              "      fill: #1967D2;\n",
              "      height: 32px;\n",
              "      padding: 0 0 0 0;\n",
              "      width: 32px;\n",
              "    }\n",
              "\n",
              "    .colab-df-convert:hover {\n",
              "      background-color: #E2EBFA;\n",
              "      box-shadow: 0px 1px 2px rgba(60, 64, 67, 0.3), 0px 1px 3px 1px rgba(60, 64, 67, 0.15);\n",
              "      fill: #174EA6;\n",
              "    }\n",
              "\n",
              "    [theme=dark] .colab-df-convert {\n",
              "      background-color: #3B4455;\n",
              "      fill: #D2E3FC;\n",
              "    }\n",
              "\n",
              "    [theme=dark] .colab-df-convert:hover {\n",
              "      background-color: #434B5C;\n",
              "      box-shadow: 0px 1px 3px 1px rgba(0, 0, 0, 0.15);\n",
              "      filter: drop-shadow(0px 1px 2px rgba(0, 0, 0, 0.3));\n",
              "      fill: #FFFFFF;\n",
              "    }\n",
              "  </style>\n",
              "\n",
              "      <script>\n",
              "        const buttonEl =\n",
              "          document.querySelector('#df-fcab6b63-4123-49a0-bea7-857f4c724752 button.colab-df-convert');\n",
              "        buttonEl.style.display =\n",
              "          google.colab.kernel.accessAllowed ? 'block' : 'none';\n",
              "\n",
              "        async function convertToInteractive(key) {\n",
              "          const element = document.querySelector('#df-fcab6b63-4123-49a0-bea7-857f4c724752');\n",
              "          const dataTable =\n",
              "            await google.colab.kernel.invokeFunction('convertToInteractive',\n",
              "                                                     [key], {});\n",
              "          if (!dataTable) return;\n",
              "\n",
              "          const docLinkHtml = 'Like what you see? Visit the ' +\n",
              "            '<a target=\"_blank\" href=https://colab.research.google.com/notebooks/data_table.ipynb>data table notebook</a>'\n",
              "            + ' to learn more about interactive tables.';\n",
              "          element.innerHTML = '';\n",
              "          dataTable['output_type'] = 'display_data';\n",
              "          await google.colab.output.renderOutput(dataTable, element);\n",
              "          const docLink = document.createElement('div');\n",
              "          docLink.innerHTML = docLinkHtml;\n",
              "          element.appendChild(docLink);\n",
              "        }\n",
              "      </script>\n",
              "    </div>\n",
              "  </div>\n",
              "  "
            ]
          },
          "metadata": {},
          "execution_count": 20
        }
      ],
      "source": [
        "df_prueba=pd.DataFrame(dic_prueba)\n",
        "df_prueba"
      ]
    },
    {
      "cell_type": "code",
      "execution_count": null,
      "metadata": {
        "id": "14B0QWpJ8gis"
      },
      "outputs": [],
      "source": [
        "imputer_p = SimpleImputer(missing_values=np.nan, strategy=\"mean\") #Para corregir NaN´s del vector de aceleración\n",
        "imputer_p = imputer_p.fit(df_prueba[[\"Vect. Ace.\"]])\n",
        "df_prueba[\"Vect. Ace.\"]=imputer_p.transform(df_prueba[[\"Vect. Ace.\"]])"
      ]
    },
    {
      "cell_type": "markdown",
      "metadata": {
        "id": "4T0sGhzTt6TP"
      },
      "source": [
        "Extracción de las 60 características"
      ]
    },
    {
      "cell_type": "code",
      "execution_count": null,
      "metadata": {
        "colab": {
          "base_uri": "https://localhost:8080/",
          "height": 383
        },
        "id": "RcN43YeWuDPR",
        "outputId": "20e03e0c-d3b3-4188-f5b7-5f921d199464"
      },
      "outputs": [
        {
          "output_type": "stream",
          "name": "stdout",
          "text": [
            "*** Feature extraction started ***\n",
            "60\n"
          ]
        },
        {
          "output_type": "stream",
          "name": "stderr",
          "text": [
            "<ipython-input-22-da7cdf85a1e4>:1: UserWarning: Using default sampling frequency set in configuration file.\n",
            "  carac_prueba = tsfel.time_series_features_extractor(cfg, df_prueba)\n"
          ]
        },
        {
          "output_type": "display_data",
          "data": {
            "text/plain": [
              "<IPython.core.display.HTML object>"
            ],
            "text/html": [
              "\n",
              "              <p>\n",
              "                  Progress: 100% Complete\n",
              "              <p/>            \n",
              "              <progress\n",
              "                  value='60'\n",
              "                  max='60',\n",
              "                  style='width: 25%',\n",
              "              >\n",
              "                  60\n",
              "              </progress>\n",
              "\n",
              "    "
            ]
          },
          "metadata": {}
        },
        {
          "output_type": "stream",
          "name": "stdout",
          "text": [
            "\n",
            "*** Feature extraction finished ***\n"
          ]
        },
        {
          "output_type": "execute_result",
          "data": {
            "text/plain": [
              "   0_Absolute energy  0_Area under the curve  0_Autocorrelation  0_Centroid  \\\n",
              "0         900.976452                6.043215         900.976452    7.228443   \n",
              "\n",
              "   0_ECDF Percentile Count_0  0_ECDF Percentile Count_1  0_ECDF Percentile_0  \\\n",
              "0                      267.0                     1068.0            -0.038027   \n",
              "\n",
              "   0_ECDF Percentile_1  0_ECDF_0  0_ECDF_1  ...  3_Wavelet variance_0  \\\n",
              "0              0.42439  0.000749  0.001497  ...              0.154701   \n",
              "\n",
              "   3_Wavelet variance_1  3_Wavelet variance_2  3_Wavelet variance_3  \\\n",
              "0              0.743857              1.219135               1.57729   \n",
              "\n",
              "   3_Wavelet variance_4  3_Wavelet variance_5  3_Wavelet variance_6  \\\n",
              "0              1.879151              2.208899              2.602667   \n",
              "\n",
              "   3_Wavelet variance_7  3_Wavelet variance_8  3_Zero crossing rate  \n",
              "0               3.01386              3.358975                   0.0  \n",
              "\n",
              "[1 rows x 1556 columns]"
            ],
            "text/html": [
              "\n",
              "  <div id=\"df-182d059f-639a-4678-bba2-129352c55b12\">\n",
              "    <div class=\"colab-df-container\">\n",
              "      <div>\n",
              "<style scoped>\n",
              "    .dataframe tbody tr th:only-of-type {\n",
              "        vertical-align: middle;\n",
              "    }\n",
              "\n",
              "    .dataframe tbody tr th {\n",
              "        vertical-align: top;\n",
              "    }\n",
              "\n",
              "    .dataframe thead th {\n",
              "        text-align: right;\n",
              "    }\n",
              "</style>\n",
              "<table border=\"1\" class=\"dataframe\">\n",
              "  <thead>\n",
              "    <tr style=\"text-align: right;\">\n",
              "      <th></th>\n",
              "      <th>0_Absolute energy</th>\n",
              "      <th>0_Area under the curve</th>\n",
              "      <th>0_Autocorrelation</th>\n",
              "      <th>0_Centroid</th>\n",
              "      <th>0_ECDF Percentile Count_0</th>\n",
              "      <th>0_ECDF Percentile Count_1</th>\n",
              "      <th>0_ECDF Percentile_0</th>\n",
              "      <th>0_ECDF Percentile_1</th>\n",
              "      <th>0_ECDF_0</th>\n",
              "      <th>0_ECDF_1</th>\n",
              "      <th>...</th>\n",
              "      <th>3_Wavelet variance_0</th>\n",
              "      <th>3_Wavelet variance_1</th>\n",
              "      <th>3_Wavelet variance_2</th>\n",
              "      <th>3_Wavelet variance_3</th>\n",
              "      <th>3_Wavelet variance_4</th>\n",
              "      <th>3_Wavelet variance_5</th>\n",
              "      <th>3_Wavelet variance_6</th>\n",
              "      <th>3_Wavelet variance_7</th>\n",
              "      <th>3_Wavelet variance_8</th>\n",
              "      <th>3_Zero crossing rate</th>\n",
              "    </tr>\n",
              "  </thead>\n",
              "  <tbody>\n",
              "    <tr>\n",
              "      <th>0</th>\n",
              "      <td>900.976452</td>\n",
              "      <td>6.043215</td>\n",
              "      <td>900.976452</td>\n",
              "      <td>7.228443</td>\n",
              "      <td>267.0</td>\n",
              "      <td>1068.0</td>\n",
              "      <td>-0.038027</td>\n",
              "      <td>0.42439</td>\n",
              "      <td>0.000749</td>\n",
              "      <td>0.001497</td>\n",
              "      <td>...</td>\n",
              "      <td>0.154701</td>\n",
              "      <td>0.743857</td>\n",
              "      <td>1.219135</td>\n",
              "      <td>1.57729</td>\n",
              "      <td>1.879151</td>\n",
              "      <td>2.208899</td>\n",
              "      <td>2.602667</td>\n",
              "      <td>3.01386</td>\n",
              "      <td>3.358975</td>\n",
              "      <td>0.0</td>\n",
              "    </tr>\n",
              "  </tbody>\n",
              "</table>\n",
              "<p>1 rows × 1556 columns</p>\n",
              "</div>\n",
              "      <button class=\"colab-df-convert\" onclick=\"convertToInteractive('df-182d059f-639a-4678-bba2-129352c55b12')\"\n",
              "              title=\"Convert this dataframe to an interactive table.\"\n",
              "              style=\"display:none;\">\n",
              "        \n",
              "  <svg xmlns=\"http://www.w3.org/2000/svg\" height=\"24px\"viewBox=\"0 0 24 24\"\n",
              "       width=\"24px\">\n",
              "    <path d=\"M0 0h24v24H0V0z\" fill=\"none\"/>\n",
              "    <path d=\"M18.56 5.44l.94 2.06.94-2.06 2.06-.94-2.06-.94-.94-2.06-.94 2.06-2.06.94zm-11 1L8.5 8.5l.94-2.06 2.06-.94-2.06-.94L8.5 2.5l-.94 2.06-2.06.94zm10 10l.94 2.06.94-2.06 2.06-.94-2.06-.94-.94-2.06-.94 2.06-2.06.94z\"/><path d=\"M17.41 7.96l-1.37-1.37c-.4-.4-.92-.59-1.43-.59-.52 0-1.04.2-1.43.59L10.3 9.45l-7.72 7.72c-.78.78-.78 2.05 0 2.83L4 21.41c.39.39.9.59 1.41.59.51 0 1.02-.2 1.41-.59l7.78-7.78 2.81-2.81c.8-.78.8-2.07 0-2.86zM5.41 20L4 18.59l7.72-7.72 1.47 1.35L5.41 20z\"/>\n",
              "  </svg>\n",
              "      </button>\n",
              "      \n",
              "  <style>\n",
              "    .colab-df-container {\n",
              "      display:flex;\n",
              "      flex-wrap:wrap;\n",
              "      gap: 12px;\n",
              "    }\n",
              "\n",
              "    .colab-df-convert {\n",
              "      background-color: #E8F0FE;\n",
              "      border: none;\n",
              "      border-radius: 50%;\n",
              "      cursor: pointer;\n",
              "      display: none;\n",
              "      fill: #1967D2;\n",
              "      height: 32px;\n",
              "      padding: 0 0 0 0;\n",
              "      width: 32px;\n",
              "    }\n",
              "\n",
              "    .colab-df-convert:hover {\n",
              "      background-color: #E2EBFA;\n",
              "      box-shadow: 0px 1px 2px rgba(60, 64, 67, 0.3), 0px 1px 3px 1px rgba(60, 64, 67, 0.15);\n",
              "      fill: #174EA6;\n",
              "    }\n",
              "\n",
              "    [theme=dark] .colab-df-convert {\n",
              "      background-color: #3B4455;\n",
              "      fill: #D2E3FC;\n",
              "    }\n",
              "\n",
              "    [theme=dark] .colab-df-convert:hover {\n",
              "      background-color: #434B5C;\n",
              "      box-shadow: 0px 1px 3px 1px rgba(0, 0, 0, 0.15);\n",
              "      filter: drop-shadow(0px 1px 2px rgba(0, 0, 0, 0.3));\n",
              "      fill: #FFFFFF;\n",
              "    }\n",
              "  </style>\n",
              "\n",
              "      <script>\n",
              "        const buttonEl =\n",
              "          document.querySelector('#df-182d059f-639a-4678-bba2-129352c55b12 button.colab-df-convert');\n",
              "        buttonEl.style.display =\n",
              "          google.colab.kernel.accessAllowed ? 'block' : 'none';\n",
              "\n",
              "        async function convertToInteractive(key) {\n",
              "          const element = document.querySelector('#df-182d059f-639a-4678-bba2-129352c55b12');\n",
              "          const dataTable =\n",
              "            await google.colab.kernel.invokeFunction('convertToInteractive',\n",
              "                                                     [key], {});\n",
              "          if (!dataTable) return;\n",
              "\n",
              "          const docLinkHtml = 'Like what you see? Visit the ' +\n",
              "            '<a target=\"_blank\" href=https://colab.research.google.com/notebooks/data_table.ipynb>data table notebook</a>'\n",
              "            + ' to learn more about interactive tables.';\n",
              "          element.innerHTML = '';\n",
              "          dataTable['output_type'] = 'display_data';\n",
              "          await google.colab.output.renderOutput(dataTable, element);\n",
              "          const docLink = document.createElement('div');\n",
              "          docLink.innerHTML = docLinkHtml;\n",
              "          element.appendChild(docLink);\n",
              "        }\n",
              "      </script>\n",
              "    </div>\n",
              "  </div>\n",
              "  "
            ]
          },
          "metadata": {},
          "execution_count": 22
        }
      ],
      "source": [
        "carac_prueba = tsfel.time_series_features_extractor(cfg, df_prueba)\n",
        "carac_prueba"
      ]
    },
    {
      "cell_type": "code",
      "execution_count": null,
      "metadata": {
        "colab": {
          "base_uri": "https://localhost:8080/",
          "height": 35
        },
        "id": "oWz6uX4tMdrN",
        "outputId": "0b493f69-e31d-4620-88ba-ba18c04ec3f3"
      },
      "outputs": [
        {
          "output_type": "execute_result",
          "data": {
            "text/plain": [
              "'MR'"
            ],
            "application/vnd.google.colaboratory.intrinsic+json": {
              "type": "string"
            }
          },
          "metadata": {},
          "execution_count": 23
        }
      ],
      "source": [
        "#Obtenemos la etiqueta\n",
        "basename_p = os.path.basename(ruta_prueba)\n",
        "label_p = basename_p.split(\"_\")[2]\n",
        "label_p, _  = os.path.splitext(label_p)\n",
        "label_p #obtenemos la etiqueta de verdad o mentira"
      ]
    },
    {
      "cell_type": "markdown",
      "metadata": {
        "id": "uwfHBeRWb4N9"
      },
      "source": [
        "###Generalización\n"
      ]
    },
    {
      "cell_type": "code",
      "execution_count": null,
      "metadata": {
        "id": "tRxaWulZcNs4"
      },
      "outputs": [],
      "source": [
        "def get_caract(file_name,i):\n",
        "  arch = pd.read_csv(file_name,names=[\"x\",\"y\",\"z\",\"time\"])\n",
        "  array_arch = arch.values\n",
        "\n",
        "  #Creamos un DataFrame con la componente en Y desplazada y que contenga el vector de aceleración.\n",
        "  prm = np.mean(array_arch[:,1]).astype('float')#Obtenemos el promedio de la comlumna en Y\n",
        "  yd = array_arch[:,1]-prm #Desplazamos Y\n",
        "  va = np.sqrt(array_arch[:,0]**2 + yd**2 + array_arch[:,2]**2) #Vector de aceleración\n",
        "  dic = {\"X\": array_arch[:,0], \"Y\": yd, \"Z\": array_arch[:,2], \"Vect. Ace.\": va} #diccionario para df con Y desplazado y vector de aceleración\n",
        "  df_arch = pd.DataFrame(dic) #df preprocesado\n",
        "\n",
        "  #Corregimos posibles NaN´s del vector de acelearación:\n",
        "  imputer = SimpleImputer(missing_values=np.nan, strategy=\"mean\") #sustituimos los NaN´s por la media de la fila\n",
        "  imputer = imputer.fit(df_arch[[\"Vect. Ace.\"]])\n",
        "  df_arch[\"Vect. Ace.\"] = imputer.transform(df_arch[[\"Vect. Ace.\"]])\n",
        "\n",
        "  #Obtenemos las características del DataFrame\n",
        "  carac = tsfel.time_series_features_extractor(cfg, df_arch) #Extraemos características, cfg debe estar importado\n",
        "  carac.index = [i] #Lo ubicamos con el índice i\n",
        "\n",
        "  return carac"
      ]
    },
    {
      "cell_type": "code",
      "execution_count": null,
      "metadata": {
        "id": "nKcODJ83YonN"
      },
      "outputs": [],
      "source": [
        "def load_data(ospath):\n",
        "  features=pd.DataFrame()# Data frame vacío\n",
        "  etiqueta=[\"Etiqueta\"]\n",
        "  letras=[]\n",
        "  i=0\n",
        "  for file in glob(ospath):\n",
        "    print(file)\n",
        "\n",
        "    #obtenemos las eiquetas:\n",
        "    base_name = os.path.basename(file)\n",
        "    individual_label = base_name.split(\"_\")[2]\n",
        "    individual_label, _ = os.path.splitext(individual_label)\n",
        "\n",
        "    #Obtenemos las características:\n",
        "    features_df = get_caract(file,i)\n",
        "    features = pd.concat([features, features_df])\n",
        "    letras.append(individual_label)\n",
        "    i+=1\n",
        "\n",
        "  DFE = pd.DataFrame(letras,columns=etiqueta) #Data frame de las etiquetas\n",
        "  return features,DFE\n"
      ]
    },
    {
      "cell_type": "code",
      "execution_count": null,
      "metadata": {
        "colab": {
          "base_uri": "https://localhost:8080/",
          "height": 1000
        },
        "id": "kBC92ahytKiV",
        "outputId": "768f1783-b80c-4912-bd29-d6609e6da7e0"
      },
      "outputs": [
        {
          "output_type": "stream",
          "name": "stdout",
          "text": [
            "/content/drive/MyDrive/Tareas CDSI/Archivos inerciales/Inerciales_por_carpeta/Jhon Doe/Folder_file022_LD.csv\n",
            "*** Feature extraction started ***\n",
            "60\n"
          ]
        },
        {
          "output_type": "stream",
          "name": "stderr",
          "text": [
            "<ipython-input-24-e31ce04631cc>:18: UserWarning: Using default sampling frequency set in configuration file.\n",
            "  carac = tsfel.time_series_features_extractor(cfg, df_arch) #Extraemos características, cfg debe estar importado\n"
          ]
        },
        {
          "output_type": "display_data",
          "data": {
            "text/plain": [
              "<IPython.core.display.HTML object>"
            ],
            "text/html": [
              "\n",
              "              <p>\n",
              "                  Progress: 100% Complete\n",
              "              <p/>            \n",
              "              <progress\n",
              "                  value='60'\n",
              "                  max='60',\n",
              "                  style='width: 25%',\n",
              "              >\n",
              "                  60\n",
              "              </progress>\n",
              "\n",
              "    "
            ]
          },
          "metadata": {}
        },
        {
          "output_type": "stream",
          "name": "stdout",
          "text": [
            "\n",
            "*** Feature extraction finished ***\n",
            "/content/drive/MyDrive/Tareas CDSI/Archivos inerciales/Inerciales_por_carpeta/Jhon Doe/Folder_file029_OT.csv\n",
            "*** Feature extraction started ***\n",
            "60\n"
          ]
        },
        {
          "output_type": "stream",
          "name": "stderr",
          "text": [
            "<ipython-input-24-e31ce04631cc>:18: UserWarning: Using default sampling frequency set in configuration file.\n",
            "  carac = tsfel.time_series_features_extractor(cfg, df_arch) #Extraemos características, cfg debe estar importado\n"
          ]
        },
        {
          "output_type": "display_data",
          "data": {
            "text/plain": [
              "<IPython.core.display.HTML object>"
            ],
            "text/html": [
              "\n",
              "              <p>\n",
              "                  Progress: 100% Complete\n",
              "              <p/>            \n",
              "              <progress\n",
              "                  value='60'\n",
              "                  max='60',\n",
              "                  style='width: 25%',\n",
              "              >\n",
              "                  60\n",
              "              </progress>\n",
              "\n",
              "    "
            ]
          },
          "metadata": {}
        },
        {
          "output_type": "stream",
          "name": "stdout",
          "text": [
            "\n",
            "*** Feature extraction finished ***\n",
            "/content/drive/MyDrive/Tareas CDSI/Archivos inerciales/Inerciales_por_carpeta/Jhon Doe/Folder_file002_MR.csv\n",
            "*** Feature extraction started ***\n",
            "60\n"
          ]
        },
        {
          "output_type": "stream",
          "name": "stderr",
          "text": [
            "<ipython-input-24-e31ce04631cc>:18: UserWarning: Using default sampling frequency set in configuration file.\n",
            "  carac = tsfel.time_series_features_extractor(cfg, df_arch) #Extraemos características, cfg debe estar importado\n"
          ]
        },
        {
          "output_type": "display_data",
          "data": {
            "text/plain": [
              "<IPython.core.display.HTML object>"
            ],
            "text/html": [
              "\n",
              "              <p>\n",
              "                  Progress: 100% Complete\n",
              "              <p/>            \n",
              "              <progress\n",
              "                  value='60'\n",
              "                  max='60',\n",
              "                  style='width: 25%',\n",
              "              >\n",
              "                  60\n",
              "              </progress>\n",
              "\n",
              "    "
            ]
          },
          "metadata": {}
        },
        {
          "output_type": "stream",
          "name": "stdout",
          "text": [
            "\n",
            "*** Feature extraction finished ***\n",
            "/content/drive/MyDrive/Tareas CDSI/Archivos inerciales/Inerciales_por_carpeta/Jhon Doe/Folder_file039_OT.csv\n",
            "*** Feature extraction started ***\n",
            "60\n"
          ]
        },
        {
          "output_type": "stream",
          "name": "stderr",
          "text": [
            "<ipython-input-24-e31ce04631cc>:18: UserWarning: Using default sampling frequency set in configuration file.\n",
            "  carac = tsfel.time_series_features_extractor(cfg, df_arch) #Extraemos características, cfg debe estar importado\n"
          ]
        },
        {
          "output_type": "display_data",
          "data": {
            "text/plain": [
              "<IPython.core.display.HTML object>"
            ],
            "text/html": [
              "\n",
              "              <p>\n",
              "                  Progress: 100% Complete\n",
              "              <p/>            \n",
              "              <progress\n",
              "                  value='60'\n",
              "                  max='60',\n",
              "                  style='width: 25%',\n",
              "              >\n",
              "                  60\n",
              "              </progress>\n",
              "\n",
              "    "
            ]
          },
          "metadata": {}
        },
        {
          "output_type": "stream",
          "name": "stdout",
          "text": [
            "\n",
            "*** Feature extraction finished ***\n",
            "/content/drive/MyDrive/Tareas CDSI/Archivos inerciales/Inerciales_por_carpeta/Jhon Doe/Folder_file038_OT.csv\n",
            "*** Feature extraction started ***\n",
            "60\n"
          ]
        },
        {
          "output_type": "stream",
          "name": "stderr",
          "text": [
            "<ipython-input-24-e31ce04631cc>:18: UserWarning: Using default sampling frequency set in configuration file.\n",
            "  carac = tsfel.time_series_features_extractor(cfg, df_arch) #Extraemos características, cfg debe estar importado\n"
          ]
        },
        {
          "output_type": "display_data",
          "data": {
            "text/plain": [
              "<IPython.core.display.HTML object>"
            ],
            "text/html": [
              "\n",
              "              <p>\n",
              "                  Progress: 100% Complete\n",
              "              <p/>            \n",
              "              <progress\n",
              "                  value='60'\n",
              "                  max='60',\n",
              "                  style='width: 25%',\n",
              "              >\n",
              "                  60\n",
              "              </progress>\n",
              "\n",
              "    "
            ]
          },
          "metadata": {}
        },
        {
          "output_type": "stream",
          "name": "stdout",
          "text": [
            "\n",
            "*** Feature extraction finished ***\n",
            "/content/drive/MyDrive/Tareas CDSI/Archivos inerciales/Inerciales_por_carpeta/Jhon Doe/Folder_file040_OT.csv\n",
            "*** Feature extraction started ***\n",
            "60\n"
          ]
        },
        {
          "output_type": "stream",
          "name": "stderr",
          "text": [
            "<ipython-input-24-e31ce04631cc>:18: UserWarning: Using default sampling frequency set in configuration file.\n",
            "  carac = tsfel.time_series_features_extractor(cfg, df_arch) #Extraemos características, cfg debe estar importado\n"
          ]
        },
        {
          "output_type": "display_data",
          "data": {
            "text/plain": [
              "<IPython.core.display.HTML object>"
            ],
            "text/html": [
              "\n",
              "              <p>\n",
              "                  Progress: 100% Complete\n",
              "              <p/>            \n",
              "              <progress\n",
              "                  value='60'\n",
              "                  max='60',\n",
              "                  style='width: 25%',\n",
              "              >\n",
              "                  60\n",
              "              </progress>\n",
              "\n",
              "    "
            ]
          },
          "metadata": {}
        },
        {
          "output_type": "stream",
          "name": "stdout",
          "text": [
            "\n",
            "*** Feature extraction finished ***\n",
            "/content/drive/MyDrive/Tareas CDSI/Archivos inerciales/Inerciales_por_carpeta/Jhon Doe/Folder_file028_OT.csv\n",
            "*** Feature extraction started ***\n",
            "60\n"
          ]
        },
        {
          "output_type": "stream",
          "name": "stderr",
          "text": [
            "<ipython-input-24-e31ce04631cc>:18: UserWarning: Using default sampling frequency set in configuration file.\n",
            "  carac = tsfel.time_series_features_extractor(cfg, df_arch) #Extraemos características, cfg debe estar importado\n"
          ]
        },
        {
          "output_type": "display_data",
          "data": {
            "text/plain": [
              "<IPython.core.display.HTML object>"
            ],
            "text/html": [
              "\n",
              "              <p>\n",
              "                  Progress: 100% Complete\n",
              "              <p/>            \n",
              "              <progress\n",
              "                  value='60'\n",
              "                  max='60',\n",
              "                  style='width: 25%',\n",
              "              >\n",
              "                  60\n",
              "              </progress>\n",
              "\n",
              "    "
            ]
          },
          "metadata": {}
        },
        {
          "output_type": "stream",
          "name": "stdout",
          "text": [
            "\n",
            "*** Feature extraction finished ***\n",
            "/content/drive/MyDrive/Tareas CDSI/Archivos inerciales/Inerciales_por_carpeta/Jhon Doe/Folder_file030_OT.csv\n",
            "*** Feature extraction started ***\n",
            "60\n"
          ]
        },
        {
          "output_type": "stream",
          "name": "stderr",
          "text": [
            "<ipython-input-24-e31ce04631cc>:18: UserWarning: Using default sampling frequency set in configuration file.\n",
            "  carac = tsfel.time_series_features_extractor(cfg, df_arch) #Extraemos características, cfg debe estar importado\n"
          ]
        },
        {
          "output_type": "display_data",
          "data": {
            "text/plain": [
              "<IPython.core.display.HTML object>"
            ],
            "text/html": [
              "\n",
              "              <p>\n",
              "                  Progress: 100% Complete\n",
              "              <p/>            \n",
              "              <progress\n",
              "                  value='60'\n",
              "                  max='60',\n",
              "                  style='width: 25%',\n",
              "              >\n",
              "                  60\n",
              "              </progress>\n",
              "\n",
              "    "
            ]
          },
          "metadata": {}
        },
        {
          "output_type": "stream",
          "name": "stdout",
          "text": [
            "\n",
            "*** Feature extraction finished ***\n",
            "/content/drive/MyDrive/Tareas CDSI/Archivos inerciales/Inerciales_por_carpeta/Jhon Doe/Folder_file024_LD.csv\n",
            "*** Feature extraction started ***\n",
            "60\n"
          ]
        },
        {
          "output_type": "stream",
          "name": "stderr",
          "text": [
            "<ipython-input-24-e31ce04631cc>:18: UserWarning: Using default sampling frequency set in configuration file.\n",
            "  carac = tsfel.time_series_features_extractor(cfg, df_arch) #Extraemos características, cfg debe estar importado\n"
          ]
        },
        {
          "output_type": "display_data",
          "data": {
            "text/plain": [
              "<IPython.core.display.HTML object>"
            ],
            "text/html": [
              "\n",
              "              <p>\n",
              "                  Progress: 100% Complete\n",
              "              <p/>            \n",
              "              <progress\n",
              "                  value='60'\n",
              "                  max='60',\n",
              "                  style='width: 25%',\n",
              "              >\n",
              "                  60\n",
              "              </progress>\n",
              "\n",
              "    "
            ]
          },
          "metadata": {}
        },
        {
          "output_type": "stream",
          "name": "stdout",
          "text": [
            "\n",
            "*** Feature extraction finished ***\n",
            "/content/drive/MyDrive/Tareas CDSI/Archivos inerciales/Inerciales_por_carpeta/Jhon Doe/Folder_file021_LD.csv\n",
            "*** Feature extraction started ***\n",
            "60\n"
          ]
        },
        {
          "output_type": "stream",
          "name": "stderr",
          "text": [
            "<ipython-input-24-e31ce04631cc>:18: UserWarning: Using default sampling frequency set in configuration file.\n",
            "  carac = tsfel.time_series_features_extractor(cfg, df_arch) #Extraemos características, cfg debe estar importado\n"
          ]
        },
        {
          "output_type": "display_data",
          "data": {
            "text/plain": [
              "<IPython.core.display.HTML object>"
            ],
            "text/html": [
              "\n",
              "              <p>\n",
              "                  Progress: 100% Complete\n",
              "              <p/>            \n",
              "              <progress\n",
              "                  value='60'\n",
              "                  max='60',\n",
              "                  style='width: 25%',\n",
              "              >\n",
              "                  60\n",
              "              </progress>\n",
              "\n",
              "    "
            ]
          },
          "metadata": {}
        },
        {
          "output_type": "stream",
          "name": "stdout",
          "text": [
            "\n",
            "*** Feature extraction finished ***\n",
            "/content/drive/MyDrive/Tareas CDSI/Archivos inerciales/Inerciales_por_carpeta/Jhon Doe/Folder_file013_MJ.csv\n",
            "*** Feature extraction started ***\n",
            "60\n"
          ]
        },
        {
          "output_type": "stream",
          "name": "stderr",
          "text": [
            "<ipython-input-24-e31ce04631cc>:18: UserWarning: Using default sampling frequency set in configuration file.\n",
            "  carac = tsfel.time_series_features_extractor(cfg, df_arch) #Extraemos características, cfg debe estar importado\n"
          ]
        },
        {
          "output_type": "display_data",
          "data": {
            "text/plain": [
              "<IPython.core.display.HTML object>"
            ],
            "text/html": [
              "\n",
              "              <p>\n",
              "                  Progress: 100% Complete\n",
              "              <p/>            \n",
              "              <progress\n",
              "                  value='60'\n",
              "                  max='60',\n",
              "                  style='width: 25%',\n",
              "              >\n",
              "                  60\n",
              "              </progress>\n",
              "\n",
              "    "
            ]
          },
          "metadata": {}
        },
        {
          "output_type": "stream",
          "name": "stdout",
          "text": [
            "\n",
            "*** Feature extraction finished ***\n",
            "/content/drive/MyDrive/Tareas CDSI/Archivos inerciales/Inerciales_por_carpeta/Jhon Doe/Folder_file018_MJ.csv\n",
            "*** Feature extraction started ***\n",
            "60\n"
          ]
        },
        {
          "output_type": "stream",
          "name": "stderr",
          "text": [
            "<ipython-input-24-e31ce04631cc>:18: UserWarning: Using default sampling frequency set in configuration file.\n",
            "  carac = tsfel.time_series_features_extractor(cfg, df_arch) #Extraemos características, cfg debe estar importado\n"
          ]
        },
        {
          "output_type": "display_data",
          "data": {
            "text/plain": [
              "<IPython.core.display.HTML object>"
            ],
            "text/html": [
              "\n",
              "              <p>\n",
              "                  Progress: 100% Complete\n",
              "              <p/>            \n",
              "              <progress\n",
              "                  value='60'\n",
              "                  max='60',\n",
              "                  style='width: 25%',\n",
              "              >\n",
              "                  60\n",
              "              </progress>\n",
              "\n",
              "    "
            ]
          },
          "metadata": {}
        },
        {
          "output_type": "stream",
          "name": "stdout",
          "text": [
            "\n",
            "*** Feature extraction finished ***\n",
            "/content/drive/MyDrive/Tareas CDSI/Archivos inerciales/Inerciales_por_carpeta/Jhon Doe/Folder_file036_OT.csv\n",
            "*** Feature extraction started ***\n",
            "60\n"
          ]
        },
        {
          "output_type": "stream",
          "name": "stderr",
          "text": [
            "<ipython-input-24-e31ce04631cc>:18: UserWarning: Using default sampling frequency set in configuration file.\n",
            "  carac = tsfel.time_series_features_extractor(cfg, df_arch) #Extraemos características, cfg debe estar importado\n"
          ]
        },
        {
          "output_type": "display_data",
          "data": {
            "text/plain": [
              "<IPython.core.display.HTML object>"
            ],
            "text/html": [
              "\n",
              "              <p>\n",
              "                  Progress: 100% Complete\n",
              "              <p/>            \n",
              "              <progress\n",
              "                  value='60'\n",
              "                  max='60',\n",
              "                  style='width: 25%',\n",
              "              >\n",
              "                  60\n",
              "              </progress>\n",
              "\n",
              "    "
            ]
          },
          "metadata": {}
        },
        {
          "output_type": "stream",
          "name": "stdout",
          "text": [
            "\n",
            "*** Feature extraction finished ***\n",
            "/content/drive/MyDrive/Tareas CDSI/Archivos inerciales/Inerciales_por_carpeta/Jhon Doe/Folder_file025_LD.csv\n",
            "*** Feature extraction started ***\n",
            "60\n"
          ]
        },
        {
          "output_type": "stream",
          "name": "stderr",
          "text": [
            "<ipython-input-24-e31ce04631cc>:18: UserWarning: Using default sampling frequency set in configuration file.\n",
            "  carac = tsfel.time_series_features_extractor(cfg, df_arch) #Extraemos características, cfg debe estar importado\n"
          ]
        },
        {
          "output_type": "display_data",
          "data": {
            "text/plain": [
              "<IPython.core.display.HTML object>"
            ],
            "text/html": [
              "\n",
              "              <p>\n",
              "                  Progress: 100% Complete\n",
              "              <p/>            \n",
              "              <progress\n",
              "                  value='60'\n",
              "                  max='60',\n",
              "                  style='width: 25%',\n",
              "              >\n",
              "                  60\n",
              "              </progress>\n",
              "\n",
              "    "
            ]
          },
          "metadata": {}
        },
        {
          "output_type": "stream",
          "name": "stdout",
          "text": [
            "\n",
            "*** Feature extraction finished ***\n",
            "/content/drive/MyDrive/Tareas CDSI/Archivos inerciales/Inerciales_por_carpeta/Jhon Doe/Folder_file037_OT.csv\n",
            "*** Feature extraction started ***\n",
            "60\n"
          ]
        },
        {
          "output_type": "stream",
          "name": "stderr",
          "text": [
            "<ipython-input-24-e31ce04631cc>:18: UserWarning: Using default sampling frequency set in configuration file.\n",
            "  carac = tsfel.time_series_features_extractor(cfg, df_arch) #Extraemos características, cfg debe estar importado\n"
          ]
        },
        {
          "output_type": "display_data",
          "data": {
            "text/plain": [
              "<IPython.core.display.HTML object>"
            ],
            "text/html": [
              "\n",
              "              <p>\n",
              "                  Progress: 100% Complete\n",
              "              <p/>            \n",
              "              <progress\n",
              "                  value='60'\n",
              "                  max='60',\n",
              "                  style='width: 25%',\n",
              "              >\n",
              "                  60\n",
              "              </progress>\n",
              "\n",
              "    "
            ]
          },
          "metadata": {}
        },
        {
          "output_type": "stream",
          "name": "stdout",
          "text": [
            "\n",
            "*** Feature extraction finished ***\n",
            "/content/drive/MyDrive/Tareas CDSI/Archivos inerciales/Inerciales_por_carpeta/Jhon Doe/Folder_file001_MR.csv\n",
            "*** Feature extraction started ***\n",
            "60\n"
          ]
        },
        {
          "output_type": "stream",
          "name": "stderr",
          "text": [
            "<ipython-input-24-e31ce04631cc>:18: UserWarning: Using default sampling frequency set in configuration file.\n",
            "  carac = tsfel.time_series_features_extractor(cfg, df_arch) #Extraemos características, cfg debe estar importado\n"
          ]
        },
        {
          "output_type": "display_data",
          "data": {
            "text/plain": [
              "<IPython.core.display.HTML object>"
            ],
            "text/html": [
              "\n",
              "              <p>\n",
              "                  Progress: 100% Complete\n",
              "              <p/>            \n",
              "              <progress\n",
              "                  value='60'\n",
              "                  max='60',\n",
              "                  style='width: 25%',\n",
              "              >\n",
              "                  60\n",
              "              </progress>\n",
              "\n",
              "    "
            ]
          },
          "metadata": {}
        },
        {
          "output_type": "stream",
          "name": "stdout",
          "text": [
            "\n",
            "*** Feature extraction finished ***\n",
            "/content/drive/MyDrive/Tareas CDSI/Archivos inerciales/Inerciales_por_carpeta/Jhon Doe/Folder_file033_OT.csv\n",
            "*** Feature extraction started ***\n",
            "60\n"
          ]
        },
        {
          "output_type": "stream",
          "name": "stderr",
          "text": [
            "<ipython-input-24-e31ce04631cc>:18: UserWarning: Using default sampling frequency set in configuration file.\n",
            "  carac = tsfel.time_series_features_extractor(cfg, df_arch) #Extraemos características, cfg debe estar importado\n"
          ]
        },
        {
          "output_type": "display_data",
          "data": {
            "text/plain": [
              "<IPython.core.display.HTML object>"
            ],
            "text/html": [
              "\n",
              "              <p>\n",
              "                  Progress: 100% Complete\n",
              "              <p/>            \n",
              "              <progress\n",
              "                  value='60'\n",
              "                  max='60',\n",
              "                  style='width: 25%',\n",
              "              >\n",
              "                  60\n",
              "              </progress>\n",
              "\n",
              "    "
            ]
          },
          "metadata": {}
        },
        {
          "output_type": "stream",
          "name": "stdout",
          "text": [
            "\n",
            "*** Feature extraction finished ***\n",
            "/content/drive/MyDrive/Tareas CDSI/Archivos inerciales/Inerciales_por_carpeta/Jhon Doe/Folder_file005_MR.csv\n",
            "*** Feature extraction started ***\n",
            "60\n"
          ]
        },
        {
          "output_type": "stream",
          "name": "stderr",
          "text": [
            "<ipython-input-24-e31ce04631cc>:18: UserWarning: Using default sampling frequency set in configuration file.\n",
            "  carac = tsfel.time_series_features_extractor(cfg, df_arch) #Extraemos características, cfg debe estar importado\n"
          ]
        },
        {
          "output_type": "display_data",
          "data": {
            "text/plain": [
              "<IPython.core.display.HTML object>"
            ],
            "text/html": [
              "\n",
              "              <p>\n",
              "                  Progress: 100% Complete\n",
              "              <p/>            \n",
              "              <progress\n",
              "                  value='60'\n",
              "                  max='60',\n",
              "                  style='width: 25%',\n",
              "              >\n",
              "                  60\n",
              "              </progress>\n",
              "\n",
              "    "
            ]
          },
          "metadata": {}
        },
        {
          "output_type": "stream",
          "name": "stdout",
          "text": [
            "\n",
            "*** Feature extraction finished ***\n",
            "/content/drive/MyDrive/Tareas CDSI/Archivos inerciales/Inerciales_por_carpeta/Jhon Doe/Folder_file034_OT.csv\n",
            "*** Feature extraction started ***\n",
            "60\n"
          ]
        },
        {
          "output_type": "stream",
          "name": "stderr",
          "text": [
            "<ipython-input-24-e31ce04631cc>:18: UserWarning: Using default sampling frequency set in configuration file.\n",
            "  carac = tsfel.time_series_features_extractor(cfg, df_arch) #Extraemos características, cfg debe estar importado\n"
          ]
        },
        {
          "output_type": "display_data",
          "data": {
            "text/plain": [
              "<IPython.core.display.HTML object>"
            ],
            "text/html": [
              "\n",
              "              <p>\n",
              "                  Progress: 100% Complete\n",
              "              <p/>            \n",
              "              <progress\n",
              "                  value='60'\n",
              "                  max='60',\n",
              "                  style='width: 25%',\n",
              "              >\n",
              "                  60\n",
              "              </progress>\n",
              "\n",
              "    "
            ]
          },
          "metadata": {}
        },
        {
          "output_type": "stream",
          "name": "stdout",
          "text": [
            "\n",
            "*** Feature extraction finished ***\n",
            "/content/drive/MyDrive/Tareas CDSI/Archivos inerciales/Inerciales_por_carpeta/Jhon Doe/Folder_file020_MJ.csv\n",
            "*** Feature extraction started ***\n",
            "60\n"
          ]
        },
        {
          "output_type": "stream",
          "name": "stderr",
          "text": [
            "<ipython-input-24-e31ce04631cc>:18: UserWarning: Using default sampling frequency set in configuration file.\n",
            "  carac = tsfel.time_series_features_extractor(cfg, df_arch) #Extraemos características, cfg debe estar importado\n"
          ]
        },
        {
          "output_type": "display_data",
          "data": {
            "text/plain": [
              "<IPython.core.display.HTML object>"
            ],
            "text/html": [
              "\n",
              "              <p>\n",
              "                  Progress: 100% Complete\n",
              "              <p/>            \n",
              "              <progress\n",
              "                  value='60'\n",
              "                  max='60',\n",
              "                  style='width: 25%',\n",
              "              >\n",
              "                  60\n",
              "              </progress>\n",
              "\n",
              "    "
            ]
          },
          "metadata": {}
        },
        {
          "output_type": "stream",
          "name": "stdout",
          "text": [
            "\n",
            "*** Feature extraction finished ***\n",
            "/content/drive/MyDrive/Tareas CDSI/Archivos inerciales/Inerciales_por_carpeta/Jhon Doe/Folder_file007_MW.csv\n",
            "*** Feature extraction started ***\n",
            "60\n"
          ]
        },
        {
          "output_type": "stream",
          "name": "stderr",
          "text": [
            "<ipython-input-24-e31ce04631cc>:18: UserWarning: Using default sampling frequency set in configuration file.\n",
            "  carac = tsfel.time_series_features_extractor(cfg, df_arch) #Extraemos características, cfg debe estar importado\n"
          ]
        },
        {
          "output_type": "display_data",
          "data": {
            "text/plain": [
              "<IPython.core.display.HTML object>"
            ],
            "text/html": [
              "\n",
              "              <p>\n",
              "                  Progress: 100% Complete\n",
              "              <p/>            \n",
              "              <progress\n",
              "                  value='60'\n",
              "                  max='60',\n",
              "                  style='width: 25%',\n",
              "              >\n",
              "                  60\n",
              "              </progress>\n",
              "\n",
              "    "
            ]
          },
          "metadata": {}
        },
        {
          "output_type": "stream",
          "name": "stdout",
          "text": [
            "\n",
            "*** Feature extraction finished ***\n",
            "/content/drive/MyDrive/Tareas CDSI/Archivos inerciales/Inerciales_por_carpeta/Jhon Doe/Folder_file017_MJ.csv\n",
            "*** Feature extraction started ***\n",
            "60\n"
          ]
        },
        {
          "output_type": "stream",
          "name": "stderr",
          "text": [
            "<ipython-input-24-e31ce04631cc>:18: UserWarning: Using default sampling frequency set in configuration file.\n",
            "  carac = tsfel.time_series_features_extractor(cfg, df_arch) #Extraemos características, cfg debe estar importado\n"
          ]
        },
        {
          "output_type": "display_data",
          "data": {
            "text/plain": [
              "<IPython.core.display.HTML object>"
            ],
            "text/html": [
              "\n",
              "              <p>\n",
              "                  Progress: 100% Complete\n",
              "              <p/>            \n",
              "              <progress\n",
              "                  value='60'\n",
              "                  max='60',\n",
              "                  style='width: 25%',\n",
              "              >\n",
              "                  60\n",
              "              </progress>\n",
              "\n",
              "    "
            ]
          },
          "metadata": {}
        },
        {
          "output_type": "stream",
          "name": "stdout",
          "text": [
            "\n",
            "*** Feature extraction finished ***\n",
            "/content/drive/MyDrive/Tareas CDSI/Archivos inerciales/Inerciales_por_carpeta/Jhon Doe/Folder_file019_MJ.csv\n",
            "*** Feature extraction started ***\n",
            "60\n"
          ]
        },
        {
          "output_type": "stream",
          "name": "stderr",
          "text": [
            "<ipython-input-24-e31ce04631cc>:18: UserWarning: Using default sampling frequency set in configuration file.\n",
            "  carac = tsfel.time_series_features_extractor(cfg, df_arch) #Extraemos características, cfg debe estar importado\n"
          ]
        },
        {
          "output_type": "display_data",
          "data": {
            "text/plain": [
              "<IPython.core.display.HTML object>"
            ],
            "text/html": [
              "\n",
              "              <p>\n",
              "                  Progress: 100% Complete\n",
              "              <p/>            \n",
              "              <progress\n",
              "                  value='60'\n",
              "                  max='60',\n",
              "                  style='width: 25%',\n",
              "              >\n",
              "                  60\n",
              "              </progress>\n",
              "\n",
              "    "
            ]
          },
          "metadata": {}
        },
        {
          "output_type": "stream",
          "name": "stdout",
          "text": [
            "\n",
            "*** Feature extraction finished ***\n",
            "/content/drive/MyDrive/Tareas CDSI/Archivos inerciales/Inerciales_por_carpeta/Jhon Doe/Folder_file010_MW.csv\n",
            "*** Feature extraction started ***\n",
            "60\n"
          ]
        },
        {
          "output_type": "stream",
          "name": "stderr",
          "text": [
            "<ipython-input-24-e31ce04631cc>:18: UserWarning: Using default sampling frequency set in configuration file.\n",
            "  carac = tsfel.time_series_features_extractor(cfg, df_arch) #Extraemos características, cfg debe estar importado\n"
          ]
        },
        {
          "output_type": "display_data",
          "data": {
            "text/plain": [
              "<IPython.core.display.HTML object>"
            ],
            "text/html": [
              "\n",
              "              <p>\n",
              "                  Progress: 100% Complete\n",
              "              <p/>            \n",
              "              <progress\n",
              "                  value='60'\n",
              "                  max='60',\n",
              "                  style='width: 25%',\n",
              "              >\n",
              "                  60\n",
              "              </progress>\n",
              "\n",
              "    "
            ]
          },
          "metadata": {}
        },
        {
          "output_type": "stream",
          "name": "stdout",
          "text": [
            "\n",
            "*** Feature extraction finished ***\n",
            "/content/drive/MyDrive/Tareas CDSI/Archivos inerciales/Inerciales_por_carpeta/Jhon Doe/Folder_file015_MJ.csv\n",
            "*** Feature extraction started ***\n",
            "60\n"
          ]
        },
        {
          "output_type": "stream",
          "name": "stderr",
          "text": [
            "<ipython-input-24-e31ce04631cc>:18: UserWarning: Using default sampling frequency set in configuration file.\n",
            "  carac = tsfel.time_series_features_extractor(cfg, df_arch) #Extraemos características, cfg debe estar importado\n"
          ]
        },
        {
          "output_type": "display_data",
          "data": {
            "text/plain": [
              "<IPython.core.display.HTML object>"
            ],
            "text/html": [
              "\n",
              "              <p>\n",
              "                  Progress: 100% Complete\n",
              "              <p/>            \n",
              "              <progress\n",
              "                  value='60'\n",
              "                  max='60',\n",
              "                  style='width: 25%',\n",
              "              >\n",
              "                  60\n",
              "              </progress>\n",
              "\n",
              "    "
            ]
          },
          "metadata": {}
        },
        {
          "output_type": "stream",
          "name": "stdout",
          "text": [
            "\n",
            "*** Feature extraction finished ***\n",
            "/content/drive/MyDrive/Tareas CDSI/Archivos inerciales/Inerciales_por_carpeta/Jhon Doe/Folder_file023_LD.csv\n",
            "*** Feature extraction started ***\n",
            "60\n"
          ]
        },
        {
          "output_type": "stream",
          "name": "stderr",
          "text": [
            "<ipython-input-24-e31ce04631cc>:18: UserWarning: Using default sampling frequency set in configuration file.\n",
            "  carac = tsfel.time_series_features_extractor(cfg, df_arch) #Extraemos características, cfg debe estar importado\n"
          ]
        },
        {
          "output_type": "display_data",
          "data": {
            "text/plain": [
              "<IPython.core.display.HTML object>"
            ],
            "text/html": [
              "\n",
              "              <p>\n",
              "                  Progress: 100% Complete\n",
              "              <p/>            \n",
              "              <progress\n",
              "                  value='60'\n",
              "                  max='60',\n",
              "                  style='width: 25%',\n",
              "              >\n",
              "                  60\n",
              "              </progress>\n",
              "\n",
              "    "
            ]
          },
          "metadata": {}
        },
        {
          "output_type": "stream",
          "name": "stdout",
          "text": [
            "\n",
            "*** Feature extraction finished ***\n",
            "/content/drive/MyDrive/Tareas CDSI/Archivos inerciales/Inerciales_por_carpeta/Jhon Doe/Folder_file006_MW.csv\n",
            "*** Feature extraction started ***\n",
            "60\n"
          ]
        },
        {
          "output_type": "stream",
          "name": "stderr",
          "text": [
            "<ipython-input-24-e31ce04631cc>:18: UserWarning: Using default sampling frequency set in configuration file.\n",
            "  carac = tsfel.time_series_features_extractor(cfg, df_arch) #Extraemos características, cfg debe estar importado\n"
          ]
        },
        {
          "output_type": "display_data",
          "data": {
            "text/plain": [
              "<IPython.core.display.HTML object>"
            ],
            "text/html": [
              "\n",
              "              <p>\n",
              "                  Progress: 100% Complete\n",
              "              <p/>            \n",
              "              <progress\n",
              "                  value='60'\n",
              "                  max='60',\n",
              "                  style='width: 25%',\n",
              "              >\n",
              "                  60\n",
              "              </progress>\n",
              "\n",
              "    "
            ]
          },
          "metadata": {}
        },
        {
          "output_type": "stream",
          "name": "stdout",
          "text": [
            "\n",
            "*** Feature extraction finished ***\n",
            "/content/drive/MyDrive/Tareas CDSI/Archivos inerciales/Inerciales_por_carpeta/Jhon Doe/Folder_file003_MR.csv\n",
            "*** Feature extraction started ***\n",
            "60\n"
          ]
        },
        {
          "output_type": "stream",
          "name": "stderr",
          "text": [
            "<ipython-input-24-e31ce04631cc>:18: UserWarning: Using default sampling frequency set in configuration file.\n",
            "  carac = tsfel.time_series_features_extractor(cfg, df_arch) #Extraemos características, cfg debe estar importado\n"
          ]
        },
        {
          "output_type": "display_data",
          "data": {
            "text/plain": [
              "<IPython.core.display.HTML object>"
            ],
            "text/html": [
              "\n",
              "              <p>\n",
              "                  Progress: 100% Complete\n",
              "              <p/>            \n",
              "              <progress\n",
              "                  value='60'\n",
              "                  max='60',\n",
              "                  style='width: 25%',\n",
              "              >\n",
              "                  60\n",
              "              </progress>\n",
              "\n",
              "    "
            ]
          },
          "metadata": {}
        },
        {
          "output_type": "stream",
          "name": "stdout",
          "text": [
            "\n",
            "*** Feature extraction finished ***\n",
            "/content/drive/MyDrive/Tareas CDSI/Archivos inerciales/Inerciales_por_carpeta/Jhon Doe/Folder_file027_OT.csv\n",
            "*** Feature extraction started ***\n",
            "60\n"
          ]
        },
        {
          "output_type": "stream",
          "name": "stderr",
          "text": [
            "<ipython-input-24-e31ce04631cc>:18: UserWarning: Using default sampling frequency set in configuration file.\n",
            "  carac = tsfel.time_series_features_extractor(cfg, df_arch) #Extraemos características, cfg debe estar importado\n"
          ]
        },
        {
          "output_type": "display_data",
          "data": {
            "text/plain": [
              "<IPython.core.display.HTML object>"
            ],
            "text/html": [
              "\n",
              "              <p>\n",
              "                  Progress: 100% Complete\n",
              "              <p/>            \n",
              "              <progress\n",
              "                  value='60'\n",
              "                  max='60',\n",
              "                  style='width: 25%',\n",
              "              >\n",
              "                  60\n",
              "              </progress>\n",
              "\n",
              "    "
            ]
          },
          "metadata": {}
        },
        {
          "output_type": "stream",
          "name": "stdout",
          "text": [
            "\n",
            "*** Feature extraction finished ***\n",
            "/content/drive/MyDrive/Tareas CDSI/Archivos inerciales/Inerciales_por_carpeta/Jhon Doe/Folder_file004_MR.csv\n",
            "*** Feature extraction started ***\n",
            "60\n"
          ]
        },
        {
          "output_type": "stream",
          "name": "stderr",
          "text": [
            "<ipython-input-24-e31ce04631cc>:18: UserWarning: Using default sampling frequency set in configuration file.\n",
            "  carac = tsfel.time_series_features_extractor(cfg, df_arch) #Extraemos características, cfg debe estar importado\n"
          ]
        },
        {
          "output_type": "display_data",
          "data": {
            "text/plain": [
              "<IPython.core.display.HTML object>"
            ],
            "text/html": [
              "\n",
              "              <p>\n",
              "                  Progress: 100% Complete\n",
              "              <p/>            \n",
              "              <progress\n",
              "                  value='60'\n",
              "                  max='60',\n",
              "                  style='width: 25%',\n",
              "              >\n",
              "                  60\n",
              "              </progress>\n",
              "\n",
              "    "
            ]
          },
          "metadata": {}
        },
        {
          "output_type": "stream",
          "name": "stdout",
          "text": [
            "\n",
            "*** Feature extraction finished ***\n",
            "/content/drive/MyDrive/Tareas CDSI/Archivos inerciales/Inerciales_por_carpeta/Jhon Doe/Folder_file009_MW.csv\n",
            "*** Feature extraction started ***\n",
            "60\n"
          ]
        },
        {
          "output_type": "stream",
          "name": "stderr",
          "text": [
            "<ipython-input-24-e31ce04631cc>:18: UserWarning: Using default sampling frequency set in configuration file.\n",
            "  carac = tsfel.time_series_features_extractor(cfg, df_arch) #Extraemos características, cfg debe estar importado\n"
          ]
        },
        {
          "output_type": "display_data",
          "data": {
            "text/plain": [
              "<IPython.core.display.HTML object>"
            ],
            "text/html": [
              "\n",
              "              <p>\n",
              "                  Progress: 100% Complete\n",
              "              <p/>            \n",
              "              <progress\n",
              "                  value='60'\n",
              "                  max='60',\n",
              "                  style='width: 25%',\n",
              "              >\n",
              "                  60\n",
              "              </progress>\n",
              "\n",
              "    "
            ]
          },
          "metadata": {}
        },
        {
          "output_type": "stream",
          "name": "stdout",
          "text": [
            "\n",
            "*** Feature extraction finished ***\n",
            "/content/drive/MyDrive/Tareas CDSI/Archivos inerciales/Inerciales_por_carpeta/Jhon Doe/Folder_file032_OT.csv\n",
            "*** Feature extraction started ***\n",
            "60\n"
          ]
        },
        {
          "output_type": "stream",
          "name": "stderr",
          "text": [
            "<ipython-input-24-e31ce04631cc>:18: UserWarning: Using default sampling frequency set in configuration file.\n",
            "  carac = tsfel.time_series_features_extractor(cfg, df_arch) #Extraemos características, cfg debe estar importado\n"
          ]
        },
        {
          "output_type": "display_data",
          "data": {
            "text/plain": [
              "<IPython.core.display.HTML object>"
            ],
            "text/html": [
              "\n",
              "              <p>\n",
              "                  Progress: 100% Complete\n",
              "              <p/>            \n",
              "              <progress\n",
              "                  value='60'\n",
              "                  max='60',\n",
              "                  style='width: 25%',\n",
              "              >\n",
              "                  60\n",
              "              </progress>\n",
              "\n",
              "    "
            ]
          },
          "metadata": {}
        },
        {
          "output_type": "stream",
          "name": "stdout",
          "text": [
            "\n",
            "*** Feature extraction finished ***\n",
            "/content/drive/MyDrive/Tareas CDSI/Archivos inerciales/Inerciales_por_carpeta/Jhon Doe/Folder_file035_OT.csv\n",
            "*** Feature extraction started ***\n",
            "60\n"
          ]
        },
        {
          "output_type": "stream",
          "name": "stderr",
          "text": [
            "<ipython-input-24-e31ce04631cc>:18: UserWarning: Using default sampling frequency set in configuration file.\n",
            "  carac = tsfel.time_series_features_extractor(cfg, df_arch) #Extraemos características, cfg debe estar importado\n"
          ]
        },
        {
          "output_type": "display_data",
          "data": {
            "text/plain": [
              "<IPython.core.display.HTML object>"
            ],
            "text/html": [
              "\n",
              "              <p>\n",
              "                  Progress: 100% Complete\n",
              "              <p/>            \n",
              "              <progress\n",
              "                  value='60'\n",
              "                  max='60',\n",
              "                  style='width: 25%',\n",
              "              >\n",
              "                  60\n",
              "              </progress>\n",
              "\n",
              "    "
            ]
          },
          "metadata": {}
        },
        {
          "output_type": "stream",
          "name": "stdout",
          "text": [
            "\n",
            "*** Feature extraction finished ***\n",
            "/content/drive/MyDrive/Tareas CDSI/Archivos inerciales/Inerciales_por_carpeta/Jhon Doe/Folder_file014_MJ.csv\n",
            "*** Feature extraction started ***\n",
            "60\n"
          ]
        },
        {
          "output_type": "stream",
          "name": "stderr",
          "text": [
            "<ipython-input-24-e31ce04631cc>:18: UserWarning: Using default sampling frequency set in configuration file.\n",
            "  carac = tsfel.time_series_features_extractor(cfg, df_arch) #Extraemos características, cfg debe estar importado\n"
          ]
        },
        {
          "output_type": "display_data",
          "data": {
            "text/plain": [
              "<IPython.core.display.HTML object>"
            ],
            "text/html": [
              "\n",
              "              <p>\n",
              "                  Progress: 100% Complete\n",
              "              <p/>            \n",
              "              <progress\n",
              "                  value='60'\n",
              "                  max='60',\n",
              "                  style='width: 25%',\n",
              "              >\n",
              "                  60\n",
              "              </progress>\n",
              "\n",
              "    "
            ]
          },
          "metadata": {}
        },
        {
          "output_type": "stream",
          "name": "stdout",
          "text": [
            "\n",
            "*** Feature extraction finished ***\n",
            "/content/drive/MyDrive/Tareas CDSI/Archivos inerciales/Inerciales_por_carpeta/Jhon Doe/Folder_file016_MJ.csv\n",
            "*** Feature extraction started ***\n",
            "60\n"
          ]
        },
        {
          "output_type": "stream",
          "name": "stderr",
          "text": [
            "<ipython-input-24-e31ce04631cc>:18: UserWarning: Using default sampling frequency set in configuration file.\n",
            "  carac = tsfel.time_series_features_extractor(cfg, df_arch) #Extraemos características, cfg debe estar importado\n"
          ]
        },
        {
          "output_type": "display_data",
          "data": {
            "text/plain": [
              "<IPython.core.display.HTML object>"
            ],
            "text/html": [
              "\n",
              "              <p>\n",
              "                  Progress: 100% Complete\n",
              "              <p/>            \n",
              "              <progress\n",
              "                  value='60'\n",
              "                  max='60',\n",
              "                  style='width: 25%',\n",
              "              >\n",
              "                  60\n",
              "              </progress>\n",
              "\n",
              "    "
            ]
          },
          "metadata": {}
        },
        {
          "output_type": "stream",
          "name": "stdout",
          "text": [
            "\n",
            "*** Feature extraction finished ***\n",
            "/content/drive/MyDrive/Tareas CDSI/Archivos inerciales/Inerciales_por_carpeta/Jhon Doe/Folder_file012_MJ.csv\n",
            "*** Feature extraction started ***\n",
            "60\n"
          ]
        },
        {
          "output_type": "stream",
          "name": "stderr",
          "text": [
            "<ipython-input-24-e31ce04631cc>:18: UserWarning: Using default sampling frequency set in configuration file.\n",
            "  carac = tsfel.time_series_features_extractor(cfg, df_arch) #Extraemos características, cfg debe estar importado\n"
          ]
        },
        {
          "output_type": "display_data",
          "data": {
            "text/plain": [
              "<IPython.core.display.HTML object>"
            ],
            "text/html": [
              "\n",
              "              <p>\n",
              "                  Progress: 100% Complete\n",
              "              <p/>            \n",
              "              <progress\n",
              "                  value='60'\n",
              "                  max='60',\n",
              "                  style='width: 25%',\n",
              "              >\n",
              "                  60\n",
              "              </progress>\n",
              "\n",
              "    "
            ]
          },
          "metadata": {}
        },
        {
          "output_type": "stream",
          "name": "stdout",
          "text": [
            "\n",
            "*** Feature extraction finished ***\n",
            "/content/drive/MyDrive/Tareas CDSI/Archivos inerciales/Inerciales_por_carpeta/Jhon Doe/Folder_file026_OT.csv\n",
            "*** Feature extraction started ***\n",
            "60\n"
          ]
        },
        {
          "output_type": "stream",
          "name": "stderr",
          "text": [
            "<ipython-input-24-e31ce04631cc>:18: UserWarning: Using default sampling frequency set in configuration file.\n",
            "  carac = tsfel.time_series_features_extractor(cfg, df_arch) #Extraemos características, cfg debe estar importado\n"
          ]
        },
        {
          "output_type": "display_data",
          "data": {
            "text/plain": [
              "<IPython.core.display.HTML object>"
            ],
            "text/html": [
              "\n",
              "              <p>\n",
              "                  Progress: 100% Complete\n",
              "              <p/>            \n",
              "              <progress\n",
              "                  value='60'\n",
              "                  max='60',\n",
              "                  style='width: 25%',\n",
              "              >\n",
              "                  60\n",
              "              </progress>\n",
              "\n",
              "    "
            ]
          },
          "metadata": {}
        },
        {
          "output_type": "stream",
          "name": "stdout",
          "text": [
            "\n",
            "*** Feature extraction finished ***\n",
            "/content/drive/MyDrive/Tareas CDSI/Archivos inerciales/Inerciales_por_carpeta/Jhon Doe/Folder_file011_MJ.csv\n",
            "*** Feature extraction started ***\n",
            "60\n"
          ]
        },
        {
          "output_type": "stream",
          "name": "stderr",
          "text": [
            "<ipython-input-24-e31ce04631cc>:18: UserWarning: Using default sampling frequency set in configuration file.\n",
            "  carac = tsfel.time_series_features_extractor(cfg, df_arch) #Extraemos características, cfg debe estar importado\n"
          ]
        },
        {
          "output_type": "display_data",
          "data": {
            "text/plain": [
              "<IPython.core.display.HTML object>"
            ],
            "text/html": [
              "\n",
              "              <p>\n",
              "                  Progress: 100% Complete\n",
              "              <p/>            \n",
              "              <progress\n",
              "                  value='60'\n",
              "                  max='60',\n",
              "                  style='width: 25%',\n",
              "              >\n",
              "                  60\n",
              "              </progress>\n",
              "\n",
              "    "
            ]
          },
          "metadata": {}
        },
        {
          "output_type": "stream",
          "name": "stdout",
          "text": [
            "\n",
            "*** Feature extraction finished ***\n",
            "/content/drive/MyDrive/Tareas CDSI/Archivos inerciales/Inerciales_por_carpeta/Jhon Doe/Folder_file031_OT.csv\n",
            "*** Feature extraction started ***\n",
            "60\n"
          ]
        },
        {
          "output_type": "stream",
          "name": "stderr",
          "text": [
            "<ipython-input-24-e31ce04631cc>:18: UserWarning: Using default sampling frequency set in configuration file.\n",
            "  carac = tsfel.time_series_features_extractor(cfg, df_arch) #Extraemos características, cfg debe estar importado\n"
          ]
        },
        {
          "output_type": "display_data",
          "data": {
            "text/plain": [
              "<IPython.core.display.HTML object>"
            ],
            "text/html": [
              "\n",
              "              <p>\n",
              "                  Progress: 100% Complete\n",
              "              <p/>            \n",
              "              <progress\n",
              "                  value='60'\n",
              "                  max='60',\n",
              "                  style='width: 25%',\n",
              "              >\n",
              "                  60\n",
              "              </progress>\n",
              "\n",
              "    "
            ]
          },
          "metadata": {}
        },
        {
          "output_type": "stream",
          "name": "stdout",
          "text": [
            "\n",
            "*** Feature extraction finished ***\n",
            "/content/drive/MyDrive/Tareas CDSI/Archivos inerciales/Inerciales_por_carpeta/Jhon Doe/Folder_file008_MW.csv\n",
            "*** Feature extraction started ***\n",
            "60\n"
          ]
        },
        {
          "output_type": "stream",
          "name": "stderr",
          "text": [
            "<ipython-input-24-e31ce04631cc>:18: UserWarning: Using default sampling frequency set in configuration file.\n",
            "  carac = tsfel.time_series_features_extractor(cfg, df_arch) #Extraemos características, cfg debe estar importado\n"
          ]
        },
        {
          "output_type": "display_data",
          "data": {
            "text/plain": [
              "<IPython.core.display.HTML object>"
            ],
            "text/html": [
              "\n",
              "              <p>\n",
              "                  Progress: 100% Complete\n",
              "              <p/>            \n",
              "              <progress\n",
              "                  value='60'\n",
              "                  max='60',\n",
              "                  style='width: 25%',\n",
              "              >\n",
              "                  60\n",
              "              </progress>\n",
              "\n",
              "    "
            ]
          },
          "metadata": {}
        },
        {
          "output_type": "stream",
          "name": "stdout",
          "text": [
            "\n",
            "*** Feature extraction finished ***\n",
            "/content/drive/MyDrive/Tareas CDSI/Archivos inerciales/Inerciales_por_carpeta/Vicente Fernández/Folder_file127_WD.csv\n",
            "*** Feature extraction started ***\n",
            "60\n"
          ]
        },
        {
          "output_type": "stream",
          "name": "stderr",
          "text": [
            "<ipython-input-24-e31ce04631cc>:18: UserWarning: Using default sampling frequency set in configuration file.\n",
            "  carac = tsfel.time_series_features_extractor(cfg, df_arch) #Extraemos características, cfg debe estar importado\n"
          ]
        },
        {
          "output_type": "display_data",
          "data": {
            "text/plain": [
              "<IPython.core.display.HTML object>"
            ],
            "text/html": [
              "\n",
              "              <p>\n",
              "                  Progress: 100% Complete\n",
              "              <p/>            \n",
              "              <progress\n",
              "                  value='60'\n",
              "                  max='60',\n",
              "                  style='width: 25%',\n",
              "              >\n",
              "                  60\n",
              "              </progress>\n",
              "\n",
              "    "
            ]
          },
          "metadata": {}
        },
        {
          "output_type": "stream",
          "name": "stdout",
          "text": [
            "\n",
            "*** Feature extraction finished ***\n",
            "/content/drive/MyDrive/Tareas CDSI/Archivos inerciales/Inerciales_por_carpeta/Vicente Fernández/Folder_file140_MW.csv\n",
            "*** Feature extraction started ***\n",
            "60\n"
          ]
        },
        {
          "output_type": "stream",
          "name": "stderr",
          "text": [
            "<ipython-input-24-e31ce04631cc>:18: UserWarning: Using default sampling frequency set in configuration file.\n",
            "  carac = tsfel.time_series_features_extractor(cfg, df_arch) #Extraemos características, cfg debe estar importado\n"
          ]
        },
        {
          "output_type": "display_data",
          "data": {
            "text/plain": [
              "<IPython.core.display.HTML object>"
            ],
            "text/html": [
              "\n",
              "              <p>\n",
              "                  Progress: 100% Complete\n",
              "              <p/>            \n",
              "              <progress\n",
              "                  value='60'\n",
              "                  max='60',\n",
              "                  style='width: 25%',\n",
              "              >\n",
              "                  60\n",
              "              </progress>\n",
              "\n",
              "    "
            ]
          },
          "metadata": {}
        },
        {
          "output_type": "stream",
          "name": "stdout",
          "text": [
            "\n",
            "*** Feature extraction finished ***\n",
            "/content/drive/MyDrive/Tareas CDSI/Archivos inerciales/Inerciales_por_carpeta/Vicente Fernández/Folder_file143_FB.csv\n",
            "*** Feature extraction started ***\n",
            "60\n"
          ]
        },
        {
          "output_type": "stream",
          "name": "stderr",
          "text": [
            "<ipython-input-24-e31ce04631cc>:18: UserWarning: Using default sampling frequency set in configuration file.\n",
            "  carac = tsfel.time_series_features_extractor(cfg, df_arch) #Extraemos características, cfg debe estar importado\n"
          ]
        },
        {
          "output_type": "display_data",
          "data": {
            "text/plain": [
              "<IPython.core.display.HTML object>"
            ],
            "text/html": [
              "\n",
              "              <p>\n",
              "                  Progress: 100% Complete\n",
              "              <p/>            \n",
              "              <progress\n",
              "                  value='60'\n",
              "                  max='60',\n",
              "                  style='width: 25%',\n",
              "              >\n",
              "                  60\n",
              "              </progress>\n",
              "\n",
              "    "
            ]
          },
          "metadata": {}
        },
        {
          "output_type": "stream",
          "name": "stdout",
          "text": [
            "\n",
            "*** Feature extraction finished ***\n",
            "/content/drive/MyDrive/Tareas CDSI/Archivos inerciales/Inerciales_por_carpeta/Vicente Fernández/Folder_file141_MW.csv\n",
            "*** Feature extraction started ***\n",
            "60\n"
          ]
        },
        {
          "output_type": "stream",
          "name": "stderr",
          "text": [
            "<ipython-input-24-e31ce04631cc>:18: UserWarning: Using default sampling frequency set in configuration file.\n",
            "  carac = tsfel.time_series_features_extractor(cfg, df_arch) #Extraemos características, cfg debe estar importado\n"
          ]
        },
        {
          "output_type": "display_data",
          "data": {
            "text/plain": [
              "<IPython.core.display.HTML object>"
            ],
            "text/html": [
              "\n",
              "              <p>\n",
              "                  Progress: 100% Complete\n",
              "              <p/>            \n",
              "              <progress\n",
              "                  value='60'\n",
              "                  max='60',\n",
              "                  style='width: 25%',\n",
              "              >\n",
              "                  60\n",
              "              </progress>\n",
              "\n",
              "    "
            ]
          },
          "metadata": {}
        },
        {
          "output_type": "stream",
          "name": "stdout",
          "text": [
            "\n",
            "*** Feature extraction finished ***\n",
            "/content/drive/MyDrive/Tareas CDSI/Archivos inerciales/Inerciales_por_carpeta/Vicente Fernández/Folder_file128_WD.csv\n",
            "*** Feature extraction started ***\n",
            "60\n"
          ]
        },
        {
          "output_type": "stream",
          "name": "stderr",
          "text": [
            "<ipython-input-24-e31ce04631cc>:18: UserWarning: Using default sampling frequency set in configuration file.\n",
            "  carac = tsfel.time_series_features_extractor(cfg, df_arch) #Extraemos características, cfg debe estar importado\n"
          ]
        },
        {
          "output_type": "display_data",
          "data": {
            "text/plain": [
              "<IPython.core.display.HTML object>"
            ],
            "text/html": [
              "\n",
              "              <p>\n",
              "                  Progress: 100% Complete\n",
              "              <p/>            \n",
              "              <progress\n",
              "                  value='60'\n",
              "                  max='60',\n",
              "                  style='width: 25%',\n",
              "              >\n",
              "                  60\n",
              "              </progress>\n",
              "\n",
              "    "
            ]
          },
          "metadata": {}
        },
        {
          "output_type": "stream",
          "name": "stdout",
          "text": [
            "\n",
            "*** Feature extraction finished ***\n",
            "/content/drive/MyDrive/Tareas CDSI/Archivos inerciales/Inerciales_por_carpeta/Vicente Fernández/Folder_file122_MR.csv\n",
            "*** Feature extraction started ***\n",
            "60\n"
          ]
        },
        {
          "output_type": "stream",
          "name": "stderr",
          "text": [
            "<ipython-input-24-e31ce04631cc>:18: UserWarning: Using default sampling frequency set in configuration file.\n",
            "  carac = tsfel.time_series_features_extractor(cfg, df_arch) #Extraemos características, cfg debe estar importado\n"
          ]
        },
        {
          "output_type": "display_data",
          "data": {
            "text/plain": [
              "<IPython.core.display.HTML object>"
            ],
            "text/html": [
              "\n",
              "              <p>\n",
              "                  Progress: 100% Complete\n",
              "              <p/>            \n",
              "              <progress\n",
              "                  value='60'\n",
              "                  max='60',\n",
              "                  style='width: 25%',\n",
              "              >\n",
              "                  60\n",
              "              </progress>\n",
              "\n",
              "    "
            ]
          },
          "metadata": {}
        },
        {
          "output_type": "stream",
          "name": "stdout",
          "text": [
            "\n",
            "*** Feature extraction finished ***\n",
            "/content/drive/MyDrive/Tareas CDSI/Archivos inerciales/Inerciales_por_carpeta/Vicente Fernández/Folder_file132_WU.csv\n",
            "*** Feature extraction started ***\n",
            "60\n"
          ]
        },
        {
          "output_type": "stream",
          "name": "stderr",
          "text": [
            "<ipython-input-24-e31ce04631cc>:18: UserWarning: Using default sampling frequency set in configuration file.\n",
            "  carac = tsfel.time_series_features_extractor(cfg, df_arch) #Extraemos características, cfg debe estar importado\n"
          ]
        },
        {
          "output_type": "display_data",
          "data": {
            "text/plain": [
              "<IPython.core.display.HTML object>"
            ],
            "text/html": [
              "\n",
              "              <p>\n",
              "                  Progress: 100% Complete\n",
              "              <p/>            \n",
              "              <progress\n",
              "                  value='60'\n",
              "                  max='60',\n",
              "                  style='width: 25%',\n",
              "              >\n",
              "                  60\n",
              "              </progress>\n",
              "\n",
              "    "
            ]
          },
          "metadata": {}
        },
        {
          "output_type": "stream",
          "name": "stdout",
          "text": [
            "\n",
            "*** Feature extraction finished ***\n",
            "/content/drive/MyDrive/Tareas CDSI/Archivos inerciales/Inerciales_por_carpeta/Vicente Fernández/Folder_file121_MR.csv\n",
            "*** Feature extraction started ***\n",
            "60\n"
          ]
        },
        {
          "output_type": "stream",
          "name": "stderr",
          "text": [
            "<ipython-input-24-e31ce04631cc>:18: UserWarning: Using default sampling frequency set in configuration file.\n",
            "  carac = tsfel.time_series_features_extractor(cfg, df_arch) #Extraemos características, cfg debe estar importado\n"
          ]
        },
        {
          "output_type": "display_data",
          "data": {
            "text/plain": [
              "<IPython.core.display.HTML object>"
            ],
            "text/html": [
              "\n",
              "              <p>\n",
              "                  Progress: 100% Complete\n",
              "              <p/>            \n",
              "              <progress\n",
              "                  value='60'\n",
              "                  max='60',\n",
              "                  style='width: 25%',\n",
              "              >\n",
              "                  60\n",
              "              </progress>\n",
              "\n",
              "    "
            ]
          },
          "metadata": {}
        },
        {
          "output_type": "stream",
          "name": "stdout",
          "text": [
            "\n",
            "*** Feature extraction finished ***\n",
            "/content/drive/MyDrive/Tareas CDSI/Archivos inerciales/Inerciales_por_carpeta/Vicente Fernández/Folder_file138_MW.csv\n",
            "*** Feature extraction started ***\n",
            "60\n"
          ]
        },
        {
          "output_type": "stream",
          "name": "stderr",
          "text": [
            "<ipython-input-24-e31ce04631cc>:18: UserWarning: Using default sampling frequency set in configuration file.\n",
            "  carac = tsfel.time_series_features_extractor(cfg, df_arch) #Extraemos características, cfg debe estar importado\n"
          ]
        },
        {
          "output_type": "display_data",
          "data": {
            "text/plain": [
              "<IPython.core.display.HTML object>"
            ],
            "text/html": [
              "\n",
              "              <p>\n",
              "                  Progress: 100% Complete\n",
              "              <p/>            \n",
              "              <progress\n",
              "                  value='60'\n",
              "                  max='60',\n",
              "                  style='width: 25%',\n",
              "              >\n",
              "                  60\n",
              "              </progress>\n",
              "\n",
              "    "
            ]
          },
          "metadata": {}
        },
        {
          "output_type": "stream",
          "name": "stdout",
          "text": [
            "\n",
            "*** Feature extraction finished ***\n",
            "/content/drive/MyDrive/Tareas CDSI/Archivos inerciales/Inerciales_por_carpeta/Vicente Fernández/Folder_file135_WU.csv\n",
            "*** Feature extraction started ***\n",
            "60\n"
          ]
        },
        {
          "output_type": "stream",
          "name": "stderr",
          "text": [
            "<ipython-input-24-e31ce04631cc>:18: UserWarning: Using default sampling frequency set in configuration file.\n",
            "  carac = tsfel.time_series_features_extractor(cfg, df_arch) #Extraemos características, cfg debe estar importado\n"
          ]
        },
        {
          "output_type": "display_data",
          "data": {
            "text/plain": [
              "<IPython.core.display.HTML object>"
            ],
            "text/html": [
              "\n",
              "              <p>\n",
              "                  Progress: 100% Complete\n",
              "              <p/>            \n",
              "              <progress\n",
              "                  value='60'\n",
              "                  max='60',\n",
              "                  style='width: 25%',\n",
              "              >\n",
              "                  60\n",
              "              </progress>\n",
              "\n",
              "    "
            ]
          },
          "metadata": {}
        },
        {
          "output_type": "stream",
          "name": "stdout",
          "text": [
            "\n",
            "*** Feature extraction finished ***\n",
            "/content/drive/MyDrive/Tareas CDSI/Archivos inerciales/Inerciales_por_carpeta/Vicente Fernández/Folder_file124_MR.csv\n",
            "*** Feature extraction started ***\n",
            "60\n"
          ]
        },
        {
          "output_type": "stream",
          "name": "stderr",
          "text": [
            "<ipython-input-24-e31ce04631cc>:18: UserWarning: Using default sampling frequency set in configuration file.\n",
            "  carac = tsfel.time_series_features_extractor(cfg, df_arch) #Extraemos características, cfg debe estar importado\n"
          ]
        },
        {
          "output_type": "display_data",
          "data": {
            "text/plain": [
              "<IPython.core.display.HTML object>"
            ],
            "text/html": [
              "\n",
              "              <p>\n",
              "                  Progress: 100% Complete\n",
              "              <p/>            \n",
              "              <progress\n",
              "                  value='60'\n",
              "                  max='60',\n",
              "                  style='width: 25%',\n",
              "              >\n",
              "                  60\n",
              "              </progress>\n",
              "\n",
              "    "
            ]
          },
          "metadata": {}
        },
        {
          "output_type": "stream",
          "name": "stdout",
          "text": [
            "\n",
            "*** Feature extraction finished ***\n",
            "/content/drive/MyDrive/Tareas CDSI/Archivos inerciales/Inerciales_por_carpeta/Vicente Fernández/Folder_file144_FB.csv\n",
            "*** Feature extraction started ***\n",
            "60\n"
          ]
        },
        {
          "output_type": "stream",
          "name": "stderr",
          "text": [
            "<ipython-input-24-e31ce04631cc>:18: UserWarning: Using default sampling frequency set in configuration file.\n",
            "  carac = tsfel.time_series_features_extractor(cfg, df_arch) #Extraemos características, cfg debe estar importado\n"
          ]
        },
        {
          "output_type": "display_data",
          "data": {
            "text/plain": [
              "<IPython.core.display.HTML object>"
            ],
            "text/html": [
              "\n",
              "              <p>\n",
              "                  Progress: 100% Complete\n",
              "              <p/>            \n",
              "              <progress\n",
              "                  value='60'\n",
              "                  max='60',\n",
              "                  style='width: 25%',\n",
              "              >\n",
              "                  60\n",
              "              </progress>\n",
              "\n",
              "    "
            ]
          },
          "metadata": {}
        },
        {
          "output_type": "stream",
          "name": "stdout",
          "text": [
            "\n",
            "*** Feature extraction finished ***\n",
            "/content/drive/MyDrive/Tareas CDSI/Archivos inerciales/Inerciales_por_carpeta/Vicente Fernández/Folder_file125_WD.csv\n",
            "*** Feature extraction started ***\n",
            "60\n"
          ]
        },
        {
          "output_type": "stream",
          "name": "stderr",
          "text": [
            "<ipython-input-24-e31ce04631cc>:18: UserWarning: Using default sampling frequency set in configuration file.\n",
            "  carac = tsfel.time_series_features_extractor(cfg, df_arch) #Extraemos características, cfg debe estar importado\n"
          ]
        },
        {
          "output_type": "display_data",
          "data": {
            "text/plain": [
              "<IPython.core.display.HTML object>"
            ],
            "text/html": [
              "\n",
              "              <p>\n",
              "                  Progress: 100% Complete\n",
              "              <p/>            \n",
              "              <progress\n",
              "                  value='60'\n",
              "                  max='60',\n",
              "                  style='width: 25%',\n",
              "              >\n",
              "                  60\n",
              "              </progress>\n",
              "\n",
              "    "
            ]
          },
          "metadata": {}
        },
        {
          "output_type": "stream",
          "name": "stdout",
          "text": [
            "\n",
            "*** Feature extraction finished ***\n",
            "/content/drive/MyDrive/Tareas CDSI/Archivos inerciales/Inerciales_por_carpeta/Vicente Fernández/Folder_file149_FF.csv\n",
            "*** Feature extraction started ***\n",
            "60\n"
          ]
        },
        {
          "output_type": "stream",
          "name": "stderr",
          "text": [
            "<ipython-input-24-e31ce04631cc>:18: UserWarning: Using default sampling frequency set in configuration file.\n",
            "  carac = tsfel.time_series_features_extractor(cfg, df_arch) #Extraemos características, cfg debe estar importado\n"
          ]
        },
        {
          "output_type": "display_data",
          "data": {
            "text/plain": [
              "<IPython.core.display.HTML object>"
            ],
            "text/html": [
              "\n",
              "              <p>\n",
              "                  Progress: 100% Complete\n",
              "              <p/>            \n",
              "              <progress\n",
              "                  value='60'\n",
              "                  max='60',\n",
              "                  style='width: 25%',\n",
              "              >\n",
              "                  60\n",
              "              </progress>\n",
              "\n",
              "    "
            ]
          },
          "metadata": {}
        },
        {
          "output_type": "stream",
          "name": "stdout",
          "text": [
            "\n",
            "*** Feature extraction finished ***\n",
            "/content/drive/MyDrive/Tareas CDSI/Archivos inerciales/Inerciales_por_carpeta/Vicente Fernández/Folder_file133_WU.csv\n",
            "*** Feature extraction started ***\n",
            "60\n"
          ]
        },
        {
          "output_type": "stream",
          "name": "stderr",
          "text": [
            "<ipython-input-24-e31ce04631cc>:18: UserWarning: Using default sampling frequency set in configuration file.\n",
            "  carac = tsfel.time_series_features_extractor(cfg, df_arch) #Extraemos características, cfg debe estar importado\n"
          ]
        },
        {
          "output_type": "display_data",
          "data": {
            "text/plain": [
              "<IPython.core.display.HTML object>"
            ],
            "text/html": [
              "\n",
              "              <p>\n",
              "                  Progress: 100% Complete\n",
              "              <p/>            \n",
              "              <progress\n",
              "                  value='60'\n",
              "                  max='60',\n",
              "                  style='width: 25%',\n",
              "              >\n",
              "                  60\n",
              "              </progress>\n",
              "\n",
              "    "
            ]
          },
          "metadata": {}
        },
        {
          "output_type": "stream",
          "name": "stdout",
          "text": [
            "\n",
            "*** Feature extraction finished ***\n",
            "/content/drive/MyDrive/Tareas CDSI/Archivos inerciales/Inerciales_por_carpeta/Vicente Fernández/Folder_file156_FS.csv\n",
            "*** Feature extraction started ***\n",
            "60\n"
          ]
        },
        {
          "output_type": "stream",
          "name": "stderr",
          "text": [
            "<ipython-input-24-e31ce04631cc>:18: UserWarning: Using default sampling frequency set in configuration file.\n",
            "  carac = tsfel.time_series_features_extractor(cfg, df_arch) #Extraemos características, cfg debe estar importado\n"
          ]
        },
        {
          "output_type": "display_data",
          "data": {
            "text/plain": [
              "<IPython.core.display.HTML object>"
            ],
            "text/html": [
              "\n",
              "              <p>\n",
              "                  Progress: 100% Complete\n",
              "              <p/>            \n",
              "              <progress\n",
              "                  value='60'\n",
              "                  max='60',\n",
              "                  style='width: 25%',\n",
              "              >\n",
              "                  60\n",
              "              </progress>\n",
              "\n",
              "    "
            ]
          },
          "metadata": {}
        },
        {
          "output_type": "stream",
          "name": "stdout",
          "text": [
            "\n",
            "*** Feature extraction finished ***\n",
            "/content/drive/MyDrive/Tareas CDSI/Archivos inerciales/Inerciales_por_carpeta/Vicente Fernández/Folder_file130_WD.csv\n",
            "*** Feature extraction started ***\n",
            "60\n"
          ]
        },
        {
          "output_type": "stream",
          "name": "stderr",
          "text": [
            "<ipython-input-24-e31ce04631cc>:18: UserWarning: Using default sampling frequency set in configuration file.\n",
            "  carac = tsfel.time_series_features_extractor(cfg, df_arch) #Extraemos características, cfg debe estar importado\n"
          ]
        },
        {
          "output_type": "display_data",
          "data": {
            "text/plain": [
              "<IPython.core.display.HTML object>"
            ],
            "text/html": [
              "\n",
              "              <p>\n",
              "                  Progress: 100% Complete\n",
              "              <p/>            \n",
              "              <progress\n",
              "                  value='60'\n",
              "                  max='60',\n",
              "                  style='width: 25%',\n",
              "              >\n",
              "                  60\n",
              "              </progress>\n",
              "\n",
              "    "
            ]
          },
          "metadata": {}
        },
        {
          "output_type": "stream",
          "name": "stdout",
          "text": [
            "\n",
            "*** Feature extraction finished ***\n",
            "/content/drive/MyDrive/Tareas CDSI/Archivos inerciales/Inerciales_por_carpeta/Vicente Fernández/Folder_file147_FF.csv\n",
            "*** Feature extraction started ***\n",
            "60\n"
          ]
        },
        {
          "output_type": "stream",
          "name": "stderr",
          "text": [
            "<ipython-input-24-e31ce04631cc>:18: UserWarning: Using default sampling frequency set in configuration file.\n",
            "  carac = tsfel.time_series_features_extractor(cfg, df_arch) #Extraemos características, cfg debe estar importado\n"
          ]
        },
        {
          "output_type": "display_data",
          "data": {
            "text/plain": [
              "<IPython.core.display.HTML object>"
            ],
            "text/html": [
              "\n",
              "              <p>\n",
              "                  Progress: 100% Complete\n",
              "              <p/>            \n",
              "              <progress\n",
              "                  value='60'\n",
              "                  max='60',\n",
              "                  style='width: 25%',\n",
              "              >\n",
              "                  60\n",
              "              </progress>\n",
              "\n",
              "    "
            ]
          },
          "metadata": {}
        },
        {
          "output_type": "stream",
          "name": "stdout",
          "text": [
            "\n",
            "*** Feature extraction finished ***\n",
            "/content/drive/MyDrive/Tareas CDSI/Archivos inerciales/Inerciales_por_carpeta/Vicente Fernández/Folder_file120_MR.csv\n",
            "*** Feature extraction started ***\n",
            "60\n"
          ]
        },
        {
          "output_type": "stream",
          "name": "stderr",
          "text": [
            "<ipython-input-24-e31ce04631cc>:18: UserWarning: Using default sampling frequency set in configuration file.\n",
            "  carac = tsfel.time_series_features_extractor(cfg, df_arch) #Extraemos características, cfg debe estar importado\n"
          ]
        },
        {
          "output_type": "display_data",
          "data": {
            "text/plain": [
              "<IPython.core.display.HTML object>"
            ],
            "text/html": [
              "\n",
              "              <p>\n",
              "                  Progress: 100% Complete\n",
              "              <p/>            \n",
              "              <progress\n",
              "                  value='60'\n",
              "                  max='60',\n",
              "                  style='width: 25%',\n",
              "              >\n",
              "                  60\n",
              "              </progress>\n",
              "\n",
              "    "
            ]
          },
          "metadata": {}
        },
        {
          "output_type": "stream",
          "name": "stdout",
          "text": [
            "\n",
            "*** Feature extraction finished ***\n",
            "/content/drive/MyDrive/Tareas CDSI/Archivos inerciales/Inerciales_por_carpeta/Vicente Fernández/Folder_file145_FB.csv\n",
            "*** Feature extraction started ***\n",
            "60\n"
          ]
        },
        {
          "output_type": "stream",
          "name": "stderr",
          "text": [
            "<ipython-input-24-e31ce04631cc>:18: UserWarning: Using default sampling frequency set in configuration file.\n",
            "  carac = tsfel.time_series_features_extractor(cfg, df_arch) #Extraemos características, cfg debe estar importado\n"
          ]
        },
        {
          "output_type": "display_data",
          "data": {
            "text/plain": [
              "<IPython.core.display.HTML object>"
            ],
            "text/html": [
              "\n",
              "              <p>\n",
              "                  Progress: 100% Complete\n",
              "              <p/>            \n",
              "              <progress\n",
              "                  value='60'\n",
              "                  max='60',\n",
              "                  style='width: 25%',\n",
              "              >\n",
              "                  60\n",
              "              </progress>\n",
              "\n",
              "    "
            ]
          },
          "metadata": {}
        },
        {
          "output_type": "stream",
          "name": "stdout",
          "text": [
            "\n",
            "*** Feature extraction finished ***\n",
            "/content/drive/MyDrive/Tareas CDSI/Archivos inerciales/Inerciales_por_carpeta/Vicente Fernández/Folder_file142_FB.csv\n",
            "*** Feature extraction started ***\n",
            "60\n"
          ]
        },
        {
          "output_type": "stream",
          "name": "stderr",
          "text": [
            "<ipython-input-24-e31ce04631cc>:18: UserWarning: Using default sampling frequency set in configuration file.\n",
            "  carac = tsfel.time_series_features_extractor(cfg, df_arch) #Extraemos características, cfg debe estar importado\n"
          ]
        },
        {
          "output_type": "display_data",
          "data": {
            "text/plain": [
              "<IPython.core.display.HTML object>"
            ],
            "text/html": [
              "\n",
              "              <p>\n",
              "                  Progress: 100% Complete\n",
              "              <p/>            \n",
              "              <progress\n",
              "                  value='60'\n",
              "                  max='60',\n",
              "                  style='width: 25%',\n",
              "              >\n",
              "                  60\n",
              "              </progress>\n",
              "\n",
              "    "
            ]
          },
          "metadata": {}
        },
        {
          "output_type": "stream",
          "name": "stdout",
          "text": [
            "\n",
            "*** Feature extraction finished ***\n",
            "/content/drive/MyDrive/Tareas CDSI/Archivos inerciales/Inerciales_por_carpeta/Vicente Fernández/Folder_file131_WU.csv\n",
            "*** Feature extraction started ***\n",
            "60\n"
          ]
        },
        {
          "output_type": "stream",
          "name": "stderr",
          "text": [
            "<ipython-input-24-e31ce04631cc>:18: UserWarning: Using default sampling frequency set in configuration file.\n",
            "  carac = tsfel.time_series_features_extractor(cfg, df_arch) #Extraemos características, cfg debe estar importado\n"
          ]
        },
        {
          "output_type": "display_data",
          "data": {
            "text/plain": [
              "<IPython.core.display.HTML object>"
            ],
            "text/html": [
              "\n",
              "              <p>\n",
              "                  Progress: 100% Complete\n",
              "              <p/>            \n",
              "              <progress\n",
              "                  value='60'\n",
              "                  max='60',\n",
              "                  style='width: 25%',\n",
              "              >\n",
              "                  60\n",
              "              </progress>\n",
              "\n",
              "    "
            ]
          },
          "metadata": {}
        },
        {
          "output_type": "stream",
          "name": "stdout",
          "text": [
            "\n",
            "*** Feature extraction finished ***\n",
            "/content/drive/MyDrive/Tareas CDSI/Archivos inerciales/Inerciales_por_carpeta/Vicente Fernández/Folder_file137_MW.csv\n",
            "*** Feature extraction started ***\n",
            "60\n"
          ]
        },
        {
          "output_type": "stream",
          "name": "stderr",
          "text": [
            "<ipython-input-24-e31ce04631cc>:18: UserWarning: Using default sampling frequency set in configuration file.\n",
            "  carac = tsfel.time_series_features_extractor(cfg, df_arch) #Extraemos características, cfg debe estar importado\n"
          ]
        },
        {
          "output_type": "display_data",
          "data": {
            "text/plain": [
              "<IPython.core.display.HTML object>"
            ],
            "text/html": [
              "\n",
              "              <p>\n",
              "                  Progress: 100% Complete\n",
              "              <p/>            \n",
              "              <progress\n",
              "                  value='60'\n",
              "                  max='60',\n",
              "                  style='width: 25%',\n",
              "              >\n",
              "                  60\n",
              "              </progress>\n",
              "\n",
              "    "
            ]
          },
          "metadata": {}
        },
        {
          "output_type": "stream",
          "name": "stdout",
          "text": [
            "\n",
            "*** Feature extraction finished ***\n",
            "/content/drive/MyDrive/Tareas CDSI/Archivos inerciales/Inerciales_por_carpeta/Vicente Fernández/Folder_file126_WD.csv\n",
            "*** Feature extraction started ***\n",
            "60\n"
          ]
        },
        {
          "output_type": "stream",
          "name": "stderr",
          "text": [
            "<ipython-input-24-e31ce04631cc>:18: UserWarning: Using default sampling frequency set in configuration file.\n",
            "  carac = tsfel.time_series_features_extractor(cfg, df_arch) #Extraemos características, cfg debe estar importado\n"
          ]
        },
        {
          "output_type": "display_data",
          "data": {
            "text/plain": [
              "<IPython.core.display.HTML object>"
            ],
            "text/html": [
              "\n",
              "              <p>\n",
              "                  Progress: 100% Complete\n",
              "              <p/>            \n",
              "              <progress\n",
              "                  value='60'\n",
              "                  max='60',\n",
              "                  style='width: 25%',\n",
              "              >\n",
              "                  60\n",
              "              </progress>\n",
              "\n",
              "    "
            ]
          },
          "metadata": {}
        },
        {
          "output_type": "stream",
          "name": "stdout",
          "text": [
            "\n",
            "*** Feature extraction finished ***\n",
            "/content/drive/MyDrive/Tareas CDSI/Archivos inerciales/Inerciales_por_carpeta/Vicente Fernández/Folder_file136_WU.csv\n",
            "*** Feature extraction started ***\n",
            "60\n"
          ]
        },
        {
          "output_type": "stream",
          "name": "stderr",
          "text": [
            "<ipython-input-24-e31ce04631cc>:18: UserWarning: Using default sampling frequency set in configuration file.\n",
            "  carac = tsfel.time_series_features_extractor(cfg, df_arch) #Extraemos características, cfg debe estar importado\n"
          ]
        },
        {
          "output_type": "display_data",
          "data": {
            "text/plain": [
              "<IPython.core.display.HTML object>"
            ],
            "text/html": [
              "\n",
              "              <p>\n",
              "                  Progress: 100% Complete\n",
              "              <p/>            \n",
              "              <progress\n",
              "                  value='60'\n",
              "                  max='60',\n",
              "                  style='width: 25%',\n",
              "              >\n",
              "                  60\n",
              "              </progress>\n",
              "\n",
              "    "
            ]
          },
          "metadata": {}
        },
        {
          "output_type": "stream",
          "name": "stdout",
          "text": [
            "\n",
            "*** Feature extraction finished ***\n",
            "/content/drive/MyDrive/Tareas CDSI/Archivos inerciales/Inerciales_por_carpeta/Vicente Fernández/Folder_file148_FF.csv\n",
            "*** Feature extraction started ***\n",
            "60\n"
          ]
        },
        {
          "output_type": "stream",
          "name": "stderr",
          "text": [
            "<ipython-input-24-e31ce04631cc>:18: UserWarning: Using default sampling frequency set in configuration file.\n",
            "  carac = tsfel.time_series_features_extractor(cfg, df_arch) #Extraemos características, cfg debe estar importado\n"
          ]
        },
        {
          "output_type": "display_data",
          "data": {
            "text/plain": [
              "<IPython.core.display.HTML object>"
            ],
            "text/html": [
              "\n",
              "              <p>\n",
              "                  Progress: 100% Complete\n",
              "              <p/>            \n",
              "              <progress\n",
              "                  value='60'\n",
              "                  max='60',\n",
              "                  style='width: 25%',\n",
              "              >\n",
              "                  60\n",
              "              </progress>\n",
              "\n",
              "    "
            ]
          },
          "metadata": {}
        },
        {
          "output_type": "stream",
          "name": "stdout",
          "text": [
            "\n",
            "*** Feature extraction finished ***\n",
            "/content/drive/MyDrive/Tareas CDSI/Archivos inerciales/Inerciales_por_carpeta/Vicente Fernández/Folder_file146_FB.csv\n",
            "*** Feature extraction started ***\n",
            "60\n"
          ]
        },
        {
          "output_type": "stream",
          "name": "stderr",
          "text": [
            "<ipython-input-24-e31ce04631cc>:18: UserWarning: Using default sampling frequency set in configuration file.\n",
            "  carac = tsfel.time_series_features_extractor(cfg, df_arch) #Extraemos características, cfg debe estar importado\n"
          ]
        },
        {
          "output_type": "display_data",
          "data": {
            "text/plain": [
              "<IPython.core.display.HTML object>"
            ],
            "text/html": [
              "\n",
              "              <p>\n",
              "                  Progress: 100% Complete\n",
              "              <p/>            \n",
              "              <progress\n",
              "                  value='60'\n",
              "                  max='60',\n",
              "                  style='width: 25%',\n",
              "              >\n",
              "                  60\n",
              "              </progress>\n",
              "\n",
              "    "
            ]
          },
          "metadata": {}
        },
        {
          "output_type": "stream",
          "name": "stdout",
          "text": [
            "\n",
            "*** Feature extraction finished ***\n",
            "/content/drive/MyDrive/Tareas CDSI/Archivos inerciales/Inerciales_por_carpeta/Vicente Fernández/Folder_file154_FS.csv\n",
            "*** Feature extraction started ***\n",
            "60\n"
          ]
        },
        {
          "output_type": "stream",
          "name": "stderr",
          "text": [
            "<ipython-input-24-e31ce04631cc>:18: UserWarning: Using default sampling frequency set in configuration file.\n",
            "  carac = tsfel.time_series_features_extractor(cfg, df_arch) #Extraemos características, cfg debe estar importado\n"
          ]
        },
        {
          "output_type": "display_data",
          "data": {
            "text/plain": [
              "<IPython.core.display.HTML object>"
            ],
            "text/html": [
              "\n",
              "              <p>\n",
              "                  Progress: 100% Complete\n",
              "              <p/>            \n",
              "              <progress\n",
              "                  value='60'\n",
              "                  max='60',\n",
              "                  style='width: 25%',\n",
              "              >\n",
              "                  60\n",
              "              </progress>\n",
              "\n",
              "    "
            ]
          },
          "metadata": {}
        },
        {
          "output_type": "stream",
          "name": "stdout",
          "text": [
            "\n",
            "*** Feature extraction finished ***\n",
            "/content/drive/MyDrive/Tareas CDSI/Archivos inerciales/Inerciales_por_carpeta/Vicente Fernández/Folder_file152_FS.csv\n",
            "*** Feature extraction started ***\n",
            "60\n"
          ]
        },
        {
          "output_type": "stream",
          "name": "stderr",
          "text": [
            "<ipython-input-24-e31ce04631cc>:18: UserWarning: Using default sampling frequency set in configuration file.\n",
            "  carac = tsfel.time_series_features_extractor(cfg, df_arch) #Extraemos características, cfg debe estar importado\n"
          ]
        },
        {
          "output_type": "display_data",
          "data": {
            "text/plain": [
              "<IPython.core.display.HTML object>"
            ],
            "text/html": [
              "\n",
              "              <p>\n",
              "                  Progress: 100% Complete\n",
              "              <p/>            \n",
              "              <progress\n",
              "                  value='60'\n",
              "                  max='60',\n",
              "                  style='width: 25%',\n",
              "              >\n",
              "                  60\n",
              "              </progress>\n",
              "\n",
              "    "
            ]
          },
          "metadata": {}
        },
        {
          "output_type": "stream",
          "name": "stdout",
          "text": [
            "\n",
            "*** Feature extraction finished ***\n",
            "/content/drive/MyDrive/Tareas CDSI/Archivos inerciales/Inerciales_por_carpeta/Vicente Fernández/Folder_file129_WD.csv\n",
            "*** Feature extraction started ***\n",
            "60\n"
          ]
        },
        {
          "output_type": "stream",
          "name": "stderr",
          "text": [
            "<ipython-input-24-e31ce04631cc>:18: UserWarning: Using default sampling frequency set in configuration file.\n",
            "  carac = tsfel.time_series_features_extractor(cfg, df_arch) #Extraemos características, cfg debe estar importado\n"
          ]
        },
        {
          "output_type": "display_data",
          "data": {
            "text/plain": [
              "<IPython.core.display.HTML object>"
            ],
            "text/html": [
              "\n",
              "              <p>\n",
              "                  Progress: 100% Complete\n",
              "              <p/>            \n",
              "              <progress\n",
              "                  value='60'\n",
              "                  max='60',\n",
              "                  style='width: 25%',\n",
              "              >\n",
              "                  60\n",
              "              </progress>\n",
              "\n",
              "    "
            ]
          },
          "metadata": {}
        },
        {
          "output_type": "stream",
          "name": "stdout",
          "text": [
            "\n",
            "*** Feature extraction finished ***\n",
            "/content/drive/MyDrive/Tareas CDSI/Archivos inerciales/Inerciales_por_carpeta/Vicente Fernández/Folder_file153_FS.csv\n",
            "*** Feature extraction started ***\n",
            "60\n"
          ]
        },
        {
          "output_type": "stream",
          "name": "stderr",
          "text": [
            "<ipython-input-24-e31ce04631cc>:18: UserWarning: Using default sampling frequency set in configuration file.\n",
            "  carac = tsfel.time_series_features_extractor(cfg, df_arch) #Extraemos características, cfg debe estar importado\n"
          ]
        },
        {
          "output_type": "display_data",
          "data": {
            "text/plain": [
              "<IPython.core.display.HTML object>"
            ],
            "text/html": [
              "\n",
              "              <p>\n",
              "                  Progress: 100% Complete\n",
              "              <p/>            \n",
              "              <progress\n",
              "                  value='60'\n",
              "                  max='60',\n",
              "                  style='width: 25%',\n",
              "              >\n",
              "                  60\n",
              "              </progress>\n",
              "\n",
              "    "
            ]
          },
          "metadata": {}
        },
        {
          "output_type": "stream",
          "name": "stdout",
          "text": [
            "\n",
            "*** Feature extraction finished ***\n",
            "/content/drive/MyDrive/Tareas CDSI/Archivos inerciales/Inerciales_por_carpeta/Vicente Fernández/Folder_file150_FF.csv\n",
            "*** Feature extraction started ***\n",
            "60\n"
          ]
        },
        {
          "output_type": "stream",
          "name": "stderr",
          "text": [
            "<ipython-input-24-e31ce04631cc>:18: UserWarning: Using default sampling frequency set in configuration file.\n",
            "  carac = tsfel.time_series_features_extractor(cfg, df_arch) #Extraemos características, cfg debe estar importado\n"
          ]
        },
        {
          "output_type": "display_data",
          "data": {
            "text/plain": [
              "<IPython.core.display.HTML object>"
            ],
            "text/html": [
              "\n",
              "              <p>\n",
              "                  Progress: 100% Complete\n",
              "              <p/>            \n",
              "              <progress\n",
              "                  value='60'\n",
              "                  max='60',\n",
              "                  style='width: 25%',\n",
              "              >\n",
              "                  60\n",
              "              </progress>\n",
              "\n",
              "    "
            ]
          },
          "metadata": {}
        },
        {
          "output_type": "stream",
          "name": "stdout",
          "text": [
            "\n",
            "*** Feature extraction finished ***\n",
            "/content/drive/MyDrive/Tareas CDSI/Archivos inerciales/Inerciales_por_carpeta/Vicente Fernández/Folder_file123_MR.csv\n",
            "*** Feature extraction started ***\n",
            "60\n"
          ]
        },
        {
          "output_type": "stream",
          "name": "stderr",
          "text": [
            "<ipython-input-24-e31ce04631cc>:18: UserWarning: Using default sampling frequency set in configuration file.\n",
            "  carac = tsfel.time_series_features_extractor(cfg, df_arch) #Extraemos características, cfg debe estar importado\n"
          ]
        },
        {
          "output_type": "display_data",
          "data": {
            "text/plain": [
              "<IPython.core.display.HTML object>"
            ],
            "text/html": [
              "\n",
              "              <p>\n",
              "                  Progress: 100% Complete\n",
              "              <p/>            \n",
              "              <progress\n",
              "                  value='60'\n",
              "                  max='60',\n",
              "                  style='width: 25%',\n",
              "              >\n",
              "                  60\n",
              "              </progress>\n",
              "\n",
              "    "
            ]
          },
          "metadata": {}
        },
        {
          "output_type": "stream",
          "name": "stdout",
          "text": [
            "\n",
            "*** Feature extraction finished ***\n",
            "/content/drive/MyDrive/Tareas CDSI/Archivos inerciales/Inerciales_por_carpeta/Vicente Fernández/Folder_file151_FF.csv\n",
            "*** Feature extraction started ***\n",
            "60\n"
          ]
        },
        {
          "output_type": "stream",
          "name": "stderr",
          "text": [
            "<ipython-input-24-e31ce04631cc>:18: UserWarning: Using default sampling frequency set in configuration file.\n",
            "  carac = tsfel.time_series_features_extractor(cfg, df_arch) #Extraemos características, cfg debe estar importado\n"
          ]
        },
        {
          "output_type": "display_data",
          "data": {
            "text/plain": [
              "<IPython.core.display.HTML object>"
            ],
            "text/html": [
              "\n",
              "              <p>\n",
              "                  Progress: 100% Complete\n",
              "              <p/>            \n",
              "              <progress\n",
              "                  value='60'\n",
              "                  max='60',\n",
              "                  style='width: 25%',\n",
              "              >\n",
              "                  60\n",
              "              </progress>\n",
              "\n",
              "    "
            ]
          },
          "metadata": {}
        },
        {
          "output_type": "stream",
          "name": "stdout",
          "text": [
            "\n",
            "*** Feature extraction finished ***\n",
            "/content/drive/MyDrive/Tareas CDSI/Archivos inerciales/Inerciales_por_carpeta/Vicente Fernández/Folder_file134_WU.csv\n",
            "*** Feature extraction started ***\n",
            "60\n"
          ]
        },
        {
          "output_type": "stream",
          "name": "stderr",
          "text": [
            "<ipython-input-24-e31ce04631cc>:18: UserWarning: Using default sampling frequency set in configuration file.\n",
            "  carac = tsfel.time_series_features_extractor(cfg, df_arch) #Extraemos características, cfg debe estar importado\n"
          ]
        },
        {
          "output_type": "display_data",
          "data": {
            "text/plain": [
              "<IPython.core.display.HTML object>"
            ],
            "text/html": [
              "\n",
              "              <p>\n",
              "                  Progress: 100% Complete\n",
              "              <p/>            \n",
              "              <progress\n",
              "                  value='60'\n",
              "                  max='60',\n",
              "                  style='width: 25%',\n",
              "              >\n",
              "                  60\n",
              "              </progress>\n",
              "\n",
              "    "
            ]
          },
          "metadata": {}
        },
        {
          "output_type": "stream",
          "name": "stdout",
          "text": [
            "\n",
            "*** Feature extraction finished ***\n",
            "/content/drive/MyDrive/Tareas CDSI/Archivos inerciales/Inerciales_por_carpeta/Vicente Fernández/Folder_file155_FS.csv\n",
            "*** Feature extraction started ***\n",
            "60\n"
          ]
        },
        {
          "output_type": "stream",
          "name": "stderr",
          "text": [
            "<ipython-input-24-e31ce04631cc>:18: UserWarning: Using default sampling frequency set in configuration file.\n",
            "  carac = tsfel.time_series_features_extractor(cfg, df_arch) #Extraemos características, cfg debe estar importado\n"
          ]
        },
        {
          "output_type": "display_data",
          "data": {
            "text/plain": [
              "<IPython.core.display.HTML object>"
            ],
            "text/html": [
              "\n",
              "              <p>\n",
              "                  Progress: 100% Complete\n",
              "              <p/>            \n",
              "              <progress\n",
              "                  value='60'\n",
              "                  max='60',\n",
              "                  style='width: 25%',\n",
              "              >\n",
              "                  60\n",
              "              </progress>\n",
              "\n",
              "    "
            ]
          },
          "metadata": {}
        },
        {
          "output_type": "stream",
          "name": "stdout",
          "text": [
            "\n",
            "*** Feature extraction finished ***\n",
            "/content/drive/MyDrive/Tareas CDSI/Archivos inerciales/Inerciales_por_carpeta/Vicente Fernández/Folder_file139_MW.csv\n",
            "*** Feature extraction started ***\n",
            "60\n"
          ]
        },
        {
          "output_type": "stream",
          "name": "stderr",
          "text": [
            "<ipython-input-24-e31ce04631cc>:18: UserWarning: Using default sampling frequency set in configuration file.\n",
            "  carac = tsfel.time_series_features_extractor(cfg, df_arch) #Extraemos características, cfg debe estar importado\n"
          ]
        },
        {
          "output_type": "display_data",
          "data": {
            "text/plain": [
              "<IPython.core.display.HTML object>"
            ],
            "text/html": [
              "\n",
              "              <p>\n",
              "                  Progress: 100% Complete\n",
              "              <p/>            \n",
              "              <progress\n",
              "                  value='60'\n",
              "                  max='60',\n",
              "                  style='width: 25%',\n",
              "              >\n",
              "                  60\n",
              "              </progress>\n",
              "\n",
              "    "
            ]
          },
          "metadata": {}
        },
        {
          "output_type": "stream",
          "name": "stdout",
          "text": [
            "\n",
            "*** Feature extraction finished ***\n",
            "/content/drive/MyDrive/Tareas CDSI/Archivos inerciales/Inerciales_por_carpeta/Saint Seiya/Folder_file062_MW.csv\n",
            "*** Feature extraction started ***\n",
            "60\n"
          ]
        },
        {
          "output_type": "stream",
          "name": "stderr",
          "text": [
            "<ipython-input-24-e31ce04631cc>:18: UserWarning: Using default sampling frequency set in configuration file.\n",
            "  carac = tsfel.time_series_features_extractor(cfg, df_arch) #Extraemos características, cfg debe estar importado\n"
          ]
        },
        {
          "output_type": "display_data",
          "data": {
            "text/plain": [
              "<IPython.core.display.HTML object>"
            ],
            "text/html": [
              "\n",
              "              <p>\n",
              "                  Progress: 100% Complete\n",
              "              <p/>            \n",
              "              <progress\n",
              "                  value='60'\n",
              "                  max='60',\n",
              "                  style='width: 25%',\n",
              "              >\n",
              "                  60\n",
              "              </progress>\n",
              "\n",
              "    "
            ]
          },
          "metadata": {}
        },
        {
          "output_type": "stream",
          "name": "stdout",
          "text": [
            "\n",
            "*** Feature extraction finished ***\n",
            "/content/drive/MyDrive/Tareas CDSI/Archivos inerciales/Inerciales_por_carpeta/Saint Seiya/Folder_file064_MW.csv\n",
            "*** Feature extraction started ***\n",
            "60\n"
          ]
        },
        {
          "output_type": "stream",
          "name": "stderr",
          "text": [
            "<ipython-input-24-e31ce04631cc>:18: UserWarning: Using default sampling frequency set in configuration file.\n",
            "  carac = tsfel.time_series_features_extractor(cfg, df_arch) #Extraemos características, cfg debe estar importado\n"
          ]
        },
        {
          "output_type": "display_data",
          "data": {
            "text/plain": [
              "<IPython.core.display.HTML object>"
            ],
            "text/html": [
              "\n",
              "              <p>\n",
              "                  Progress: 100% Complete\n",
              "              <p/>            \n",
              "              <progress\n",
              "                  value='60'\n",
              "                  max='60',\n",
              "                  style='width: 25%',\n",
              "              >\n",
              "                  60\n",
              "              </progress>\n",
              "\n",
              "    "
            ]
          },
          "metadata": {}
        },
        {
          "output_type": "stream",
          "name": "stdout",
          "text": [
            "\n",
            "*** Feature extraction finished ***\n",
            "/content/drive/MyDrive/Tareas CDSI/Archivos inerciales/Inerciales_por_carpeta/Saint Seiya/Folder_file056_WU.csv\n",
            "*** Feature extraction started ***\n",
            "60\n"
          ]
        },
        {
          "output_type": "stream",
          "name": "stderr",
          "text": [
            "<ipython-input-24-e31ce04631cc>:18: UserWarning: Using default sampling frequency set in configuration file.\n",
            "  carac = tsfel.time_series_features_extractor(cfg, df_arch) #Extraemos características, cfg debe estar importado\n"
          ]
        },
        {
          "output_type": "display_data",
          "data": {
            "text/plain": [
              "<IPython.core.display.HTML object>"
            ],
            "text/html": [
              "\n",
              "              <p>\n",
              "                  Progress: 100% Complete\n",
              "              <p/>            \n",
              "              <progress\n",
              "                  value='60'\n",
              "                  max='60',\n",
              "                  style='width: 25%',\n",
              "              >\n",
              "                  60\n",
              "              </progress>\n",
              "\n",
              "    "
            ]
          },
          "metadata": {}
        },
        {
          "output_type": "stream",
          "name": "stdout",
          "text": [
            "\n",
            "*** Feature extraction finished ***\n",
            "/content/drive/MyDrive/Tareas CDSI/Archivos inerciales/Inerciales_por_carpeta/Saint Seiya/Folder_file049_WD.csv\n",
            "*** Feature extraction started ***\n",
            "60\n"
          ]
        },
        {
          "output_type": "stream",
          "name": "stderr",
          "text": [
            "<ipython-input-24-e31ce04631cc>:18: UserWarning: Using default sampling frequency set in configuration file.\n",
            "  carac = tsfel.time_series_features_extractor(cfg, df_arch) #Extraemos características, cfg debe estar importado\n"
          ]
        },
        {
          "output_type": "display_data",
          "data": {
            "text/plain": [
              "<IPython.core.display.HTML object>"
            ],
            "text/html": [
              "\n",
              "              <p>\n",
              "                  Progress: 100% Complete\n",
              "              <p/>            \n",
              "              <progress\n",
              "                  value='60'\n",
              "                  max='60',\n",
              "                  style='width: 25%',\n",
              "              >\n",
              "                  60\n",
              "              </progress>\n",
              "\n",
              "    "
            ]
          },
          "metadata": {}
        },
        {
          "output_type": "stream",
          "name": "stdout",
          "text": [
            "\n",
            "*** Feature extraction finished ***\n",
            "/content/drive/MyDrive/Tareas CDSI/Archivos inerciales/Inerciales_por_carpeta/Saint Seiya/Folder_file058_WU.csv\n",
            "*** Feature extraction started ***\n",
            "60\n"
          ]
        },
        {
          "output_type": "stream",
          "name": "stderr",
          "text": [
            "<ipython-input-24-e31ce04631cc>:18: UserWarning: Using default sampling frequency set in configuration file.\n",
            "  carac = tsfel.time_series_features_extractor(cfg, df_arch) #Extraemos características, cfg debe estar importado\n"
          ]
        },
        {
          "output_type": "display_data",
          "data": {
            "text/plain": [
              "<IPython.core.display.HTML object>"
            ],
            "text/html": [
              "\n",
              "              <p>\n",
              "                  Progress: 100% Complete\n",
              "              <p/>            \n",
              "              <progress\n",
              "                  value='60'\n",
              "                  max='60',\n",
              "                  style='width: 25%',\n",
              "              >\n",
              "                  60\n",
              "              </progress>\n",
              "\n",
              "    "
            ]
          },
          "metadata": {}
        },
        {
          "output_type": "stream",
          "name": "stdout",
          "text": [
            "\n",
            "*** Feature extraction finished ***\n",
            "/content/drive/MyDrive/Tareas CDSI/Archivos inerciales/Inerciales_por_carpeta/Saint Seiya/Folder_file071_FF.csv\n",
            "*** Feature extraction started ***\n",
            "60\n"
          ]
        },
        {
          "output_type": "stream",
          "name": "stderr",
          "text": [
            "<ipython-input-24-e31ce04631cc>:18: UserWarning: Using default sampling frequency set in configuration file.\n",
            "  carac = tsfel.time_series_features_extractor(cfg, df_arch) #Extraemos características, cfg debe estar importado\n"
          ]
        },
        {
          "output_type": "display_data",
          "data": {
            "text/plain": [
              "<IPython.core.display.HTML object>"
            ],
            "text/html": [
              "\n",
              "              <p>\n",
              "                  Progress: 100% Complete\n",
              "              <p/>            \n",
              "              <progress\n",
              "                  value='60'\n",
              "                  max='60',\n",
              "                  style='width: 25%',\n",
              "              >\n",
              "                  60\n",
              "              </progress>\n",
              "\n",
              "    "
            ]
          },
          "metadata": {}
        },
        {
          "output_type": "stream",
          "name": "stdout",
          "text": [
            "\n",
            "*** Feature extraction finished ***\n",
            "/content/drive/MyDrive/Tareas CDSI/Archivos inerciales/Inerciales_por_carpeta/Saint Seiya/Folder_file077_FS.csv\n",
            "*** Feature extraction started ***\n",
            "60\n"
          ]
        },
        {
          "output_type": "stream",
          "name": "stderr",
          "text": [
            "<ipython-input-24-e31ce04631cc>:18: UserWarning: Using default sampling frequency set in configuration file.\n",
            "  carac = tsfel.time_series_features_extractor(cfg, df_arch) #Extraemos características, cfg debe estar importado\n"
          ]
        },
        {
          "output_type": "display_data",
          "data": {
            "text/plain": [
              "<IPython.core.display.HTML object>"
            ],
            "text/html": [
              "\n",
              "              <p>\n",
              "                  Progress: 100% Complete\n",
              "              <p/>            \n",
              "              <progress\n",
              "                  value='60'\n",
              "                  max='60',\n",
              "                  style='width: 25%',\n",
              "              >\n",
              "                  60\n",
              "              </progress>\n",
              "\n",
              "    "
            ]
          },
          "metadata": {}
        },
        {
          "output_type": "stream",
          "name": "stdout",
          "text": [
            "\n",
            "*** Feature extraction finished ***\n",
            "/content/drive/MyDrive/Tareas CDSI/Archivos inerciales/Inerciales_por_carpeta/Saint Seiya/Folder_file054_WU.csv\n",
            "*** Feature extraction started ***\n",
            "60\n"
          ]
        },
        {
          "output_type": "stream",
          "name": "stderr",
          "text": [
            "<ipython-input-24-e31ce04631cc>:18: UserWarning: Using default sampling frequency set in configuration file.\n",
            "  carac = tsfel.time_series_features_extractor(cfg, df_arch) #Extraemos características, cfg debe estar importado\n"
          ]
        },
        {
          "output_type": "display_data",
          "data": {
            "text/plain": [
              "<IPython.core.display.HTML object>"
            ],
            "text/html": [
              "\n",
              "              <p>\n",
              "                  Progress: 100% Complete\n",
              "              <p/>            \n",
              "              <progress\n",
              "                  value='60'\n",
              "                  max='60',\n",
              "                  style='width: 25%',\n",
              "              >\n",
              "                  60\n",
              "              </progress>\n",
              "\n",
              "    "
            ]
          },
          "metadata": {}
        },
        {
          "output_type": "stream",
          "name": "stdout",
          "text": [
            "\n",
            "*** Feature extraction finished ***\n",
            "/content/drive/MyDrive/Tareas CDSI/Archivos inerciales/Inerciales_por_carpeta/Saint Seiya/Folder_file079_FS.csv\n",
            "*** Feature extraction started ***\n",
            "60\n"
          ]
        },
        {
          "output_type": "stream",
          "name": "stderr",
          "text": [
            "<ipython-input-24-e31ce04631cc>:18: UserWarning: Using default sampling frequency set in configuration file.\n",
            "  carac = tsfel.time_series_features_extractor(cfg, df_arch) #Extraemos características, cfg debe estar importado\n"
          ]
        },
        {
          "output_type": "display_data",
          "data": {
            "text/plain": [
              "<IPython.core.display.HTML object>"
            ],
            "text/html": [
              "\n",
              "              <p>\n",
              "                  Progress: 100% Complete\n",
              "              <p/>            \n",
              "              <progress\n",
              "                  value='60'\n",
              "                  max='60',\n",
              "                  style='width: 25%',\n",
              "              >\n",
              "                  60\n",
              "              </progress>\n",
              "\n",
              "    "
            ]
          },
          "metadata": {}
        },
        {
          "output_type": "stream",
          "name": "stdout",
          "text": [
            "\n",
            "*** Feature extraction finished ***\n",
            "/content/drive/MyDrive/Tareas CDSI/Archivos inerciales/Inerciales_por_carpeta/Saint Seiya/Folder_file078_FS.csv\n",
            "*** Feature extraction started ***\n",
            "60\n"
          ]
        },
        {
          "output_type": "stream",
          "name": "stderr",
          "text": [
            "<ipython-input-24-e31ce04631cc>:18: UserWarning: Using default sampling frequency set in configuration file.\n",
            "  carac = tsfel.time_series_features_extractor(cfg, df_arch) #Extraemos características, cfg debe estar importado\n"
          ]
        },
        {
          "output_type": "display_data",
          "data": {
            "text/plain": [
              "<IPython.core.display.HTML object>"
            ],
            "text/html": [
              "\n",
              "              <p>\n",
              "                  Progress: 100% Complete\n",
              "              <p/>            \n",
              "              <progress\n",
              "                  value='60'\n",
              "                  max='60',\n",
              "                  style='width: 25%',\n",
              "              >\n",
              "                  60\n",
              "              </progress>\n",
              "\n",
              "    "
            ]
          },
          "metadata": {}
        },
        {
          "output_type": "stream",
          "name": "stdout",
          "text": [
            "\n",
            "*** Feature extraction finished ***\n",
            "/content/drive/MyDrive/Tareas CDSI/Archivos inerciales/Inerciales_por_carpeta/Saint Seiya/Folder_file057_WU.csv\n",
            "*** Feature extraction started ***\n",
            "60\n"
          ]
        },
        {
          "output_type": "stream",
          "name": "stderr",
          "text": [
            "<ipython-input-24-e31ce04631cc>:18: UserWarning: Using default sampling frequency set in configuration file.\n",
            "  carac = tsfel.time_series_features_extractor(cfg, df_arch) #Extraemos características, cfg debe estar importado\n"
          ]
        },
        {
          "output_type": "display_data",
          "data": {
            "text/plain": [
              "<IPython.core.display.HTML object>"
            ],
            "text/html": [
              "\n",
              "              <p>\n",
              "                  Progress: 100% Complete\n",
              "              <p/>            \n",
              "              <progress\n",
              "                  value='60'\n",
              "                  max='60',\n",
              "                  style='width: 25%',\n",
              "              >\n",
              "                  60\n",
              "              </progress>\n",
              "\n",
              "    "
            ]
          },
          "metadata": {}
        },
        {
          "output_type": "stream",
          "name": "stdout",
          "text": [
            "\n",
            "*** Feature extraction finished ***\n",
            "/content/drive/MyDrive/Tareas CDSI/Archivos inerciales/Inerciales_por_carpeta/Saint Seiya/Folder_file076_FS.csv\n",
            "*** Feature extraction started ***\n",
            "60\n"
          ]
        },
        {
          "output_type": "stream",
          "name": "stderr",
          "text": [
            "<ipython-input-24-e31ce04631cc>:18: UserWarning: Using default sampling frequency set in configuration file.\n",
            "  carac = tsfel.time_series_features_extractor(cfg, df_arch) #Extraemos características, cfg debe estar importado\n"
          ]
        },
        {
          "output_type": "display_data",
          "data": {
            "text/plain": [
              "<IPython.core.display.HTML object>"
            ],
            "text/html": [
              "\n",
              "              <p>\n",
              "                  Progress: 100% Complete\n",
              "              <p/>            \n",
              "              <progress\n",
              "                  value='60'\n",
              "                  max='60',\n",
              "                  style='width: 25%',\n",
              "              >\n",
              "                  60\n",
              "              </progress>\n",
              "\n",
              "    "
            ]
          },
          "metadata": {}
        },
        {
          "output_type": "stream",
          "name": "stdout",
          "text": [
            "\n",
            "*** Feature extraction finished ***\n",
            "/content/drive/MyDrive/Tareas CDSI/Archivos inerciales/Inerciales_por_carpeta/Saint Seiya/Folder_file068_FB.csv\n",
            "*** Feature extraction started ***\n",
            "60\n"
          ]
        },
        {
          "output_type": "stream",
          "name": "stderr",
          "text": [
            "<ipython-input-24-e31ce04631cc>:18: UserWarning: Using default sampling frequency set in configuration file.\n",
            "  carac = tsfel.time_series_features_extractor(cfg, df_arch) #Extraemos características, cfg debe estar importado\n"
          ]
        },
        {
          "output_type": "display_data",
          "data": {
            "text/plain": [
              "<IPython.core.display.HTML object>"
            ],
            "text/html": [
              "\n",
              "              <p>\n",
              "                  Progress: 100% Complete\n",
              "              <p/>            \n",
              "              <progress\n",
              "                  value='60'\n",
              "                  max='60',\n",
              "                  style='width: 25%',\n",
              "              >\n",
              "                  60\n",
              "              </progress>\n",
              "\n",
              "    "
            ]
          },
          "metadata": {}
        },
        {
          "output_type": "stream",
          "name": "stdout",
          "text": [
            "\n",
            "*** Feature extraction finished ***\n",
            "/content/drive/MyDrive/Tareas CDSI/Archivos inerciales/Inerciales_por_carpeta/Saint Seiya/Folder_file060_MW.csv\n",
            "*** Feature extraction started ***\n",
            "60\n"
          ]
        },
        {
          "output_type": "stream",
          "name": "stderr",
          "text": [
            "<ipython-input-24-e31ce04631cc>:18: UserWarning: Using default sampling frequency set in configuration file.\n",
            "  carac = tsfel.time_series_features_extractor(cfg, df_arch) #Extraemos características, cfg debe estar importado\n"
          ]
        },
        {
          "output_type": "display_data",
          "data": {
            "text/plain": [
              "<IPython.core.display.HTML object>"
            ],
            "text/html": [
              "\n",
              "              <p>\n",
              "                  Progress: 100% Complete\n",
              "              <p/>            \n",
              "              <progress\n",
              "                  value='60'\n",
              "                  max='60',\n",
              "                  style='width: 25%',\n",
              "              >\n",
              "                  60\n",
              "              </progress>\n",
              "\n",
              "    "
            ]
          },
          "metadata": {}
        },
        {
          "output_type": "stream",
          "name": "stdout",
          "text": [
            "\n",
            "*** Feature extraction finished ***\n",
            "/content/drive/MyDrive/Tareas CDSI/Archivos inerciales/Inerciales_por_carpeta/Saint Seiya/Folder_file065_FB.csv\n",
            "*** Feature extraction started ***\n",
            "60\n"
          ]
        },
        {
          "output_type": "stream",
          "name": "stderr",
          "text": [
            "<ipython-input-24-e31ce04631cc>:18: UserWarning: Using default sampling frequency set in configuration file.\n",
            "  carac = tsfel.time_series_features_extractor(cfg, df_arch) #Extraemos características, cfg debe estar importado\n"
          ]
        },
        {
          "output_type": "display_data",
          "data": {
            "text/plain": [
              "<IPython.core.display.HTML object>"
            ],
            "text/html": [
              "\n",
              "              <p>\n",
              "                  Progress: 100% Complete\n",
              "              <p/>            \n",
              "              <progress\n",
              "                  value='60'\n",
              "                  max='60',\n",
              "                  style='width: 25%',\n",
              "              >\n",
              "                  60\n",
              "              </progress>\n",
              "\n",
              "    "
            ]
          },
          "metadata": {}
        },
        {
          "output_type": "stream",
          "name": "stdout",
          "text": [
            "\n",
            "*** Feature extraction finished ***\n",
            "/content/drive/MyDrive/Tareas CDSI/Archivos inerciales/Inerciales_por_carpeta/Saint Seiya/Folder_file041_MR.csv\n",
            "*** Feature extraction started ***\n",
            "60\n"
          ]
        },
        {
          "output_type": "stream",
          "name": "stderr",
          "text": [
            "<ipython-input-24-e31ce04631cc>:18: UserWarning: Using default sampling frequency set in configuration file.\n",
            "  carac = tsfel.time_series_features_extractor(cfg, df_arch) #Extraemos características, cfg debe estar importado\n"
          ]
        },
        {
          "output_type": "display_data",
          "data": {
            "text/plain": [
              "<IPython.core.display.HTML object>"
            ],
            "text/html": [
              "\n",
              "              <p>\n",
              "                  Progress: 100% Complete\n",
              "              <p/>            \n",
              "              <progress\n",
              "                  value='60'\n",
              "                  max='60',\n",
              "                  style='width: 25%',\n",
              "              >\n",
              "                  60\n",
              "              </progress>\n",
              "\n",
              "    "
            ]
          },
          "metadata": {}
        },
        {
          "output_type": "stream",
          "name": "stdout",
          "text": [
            "\n",
            "*** Feature extraction finished ***\n",
            "/content/drive/MyDrive/Tareas CDSI/Archivos inerciales/Inerciales_por_carpeta/Saint Seiya/Folder_file044_MR.csv\n",
            "*** Feature extraction started ***\n",
            "60\n"
          ]
        },
        {
          "output_type": "stream",
          "name": "stderr",
          "text": [
            "<ipython-input-24-e31ce04631cc>:18: UserWarning: Using default sampling frequency set in configuration file.\n",
            "  carac = tsfel.time_series_features_extractor(cfg, df_arch) #Extraemos características, cfg debe estar importado\n"
          ]
        },
        {
          "output_type": "display_data",
          "data": {
            "text/plain": [
              "<IPython.core.display.HTML object>"
            ],
            "text/html": [
              "\n",
              "              <p>\n",
              "                  Progress: 100% Complete\n",
              "              <p/>            \n",
              "              <progress\n",
              "                  value='60'\n",
              "                  max='60',\n",
              "                  style='width: 25%',\n",
              "              >\n",
              "                  60\n",
              "              </progress>\n",
              "\n",
              "    "
            ]
          },
          "metadata": {}
        },
        {
          "output_type": "stream",
          "name": "stdout",
          "text": [
            "\n",
            "*** Feature extraction finished ***\n",
            "/content/drive/MyDrive/Tareas CDSI/Archivos inerciales/Inerciales_por_carpeta/Saint Seiya/Folder_file069_FB.csv\n",
            "*** Feature extraction started ***\n",
            "60\n"
          ]
        },
        {
          "output_type": "stream",
          "name": "stderr",
          "text": [
            "<ipython-input-24-e31ce04631cc>:18: UserWarning: Using default sampling frequency set in configuration file.\n",
            "  carac = tsfel.time_series_features_extractor(cfg, df_arch) #Extraemos características, cfg debe estar importado\n"
          ]
        },
        {
          "output_type": "display_data",
          "data": {
            "text/plain": [
              "<IPython.core.display.HTML object>"
            ],
            "text/html": [
              "\n",
              "              <p>\n",
              "                  Progress: 100% Complete\n",
              "              <p/>            \n",
              "              <progress\n",
              "                  value='60'\n",
              "                  max='60',\n",
              "                  style='width: 25%',\n",
              "              >\n",
              "                  60\n",
              "              </progress>\n",
              "\n",
              "    "
            ]
          },
          "metadata": {}
        },
        {
          "output_type": "stream",
          "name": "stdout",
          "text": [
            "\n",
            "*** Feature extraction finished ***\n",
            "/content/drive/MyDrive/Tareas CDSI/Archivos inerciales/Inerciales_por_carpeta/Saint Seiya/Folder_file075_FS.csv\n",
            "*** Feature extraction started ***\n",
            "60\n"
          ]
        },
        {
          "output_type": "stream",
          "name": "stderr",
          "text": [
            "<ipython-input-24-e31ce04631cc>:18: UserWarning: Using default sampling frequency set in configuration file.\n",
            "  carac = tsfel.time_series_features_extractor(cfg, df_arch) #Extraemos características, cfg debe estar importado\n"
          ]
        },
        {
          "output_type": "display_data",
          "data": {
            "text/plain": [
              "<IPython.core.display.HTML object>"
            ],
            "text/html": [
              "\n",
              "              <p>\n",
              "                  Progress: 100% Complete\n",
              "              <p/>            \n",
              "              <progress\n",
              "                  value='60'\n",
              "                  max='60',\n",
              "                  style='width: 25%',\n",
              "              >\n",
              "                  60\n",
              "              </progress>\n",
              "\n",
              "    "
            ]
          },
          "metadata": {}
        },
        {
          "output_type": "stream",
          "name": "stdout",
          "text": [
            "\n",
            "*** Feature extraction finished ***\n",
            "/content/drive/MyDrive/Tareas CDSI/Archivos inerciales/Inerciales_por_carpeta/Saint Seiya/Folder_file059_WU.csv\n",
            "*** Feature extraction started ***\n",
            "60\n"
          ]
        },
        {
          "output_type": "stream",
          "name": "stderr",
          "text": [
            "<ipython-input-24-e31ce04631cc>:18: UserWarning: Using default sampling frequency set in configuration file.\n",
            "  carac = tsfel.time_series_features_extractor(cfg, df_arch) #Extraemos características, cfg debe estar importado\n"
          ]
        },
        {
          "output_type": "display_data",
          "data": {
            "text/plain": [
              "<IPython.core.display.HTML object>"
            ],
            "text/html": [
              "\n",
              "              <p>\n",
              "                  Progress: 100% Complete\n",
              "              <p/>            \n",
              "              <progress\n",
              "                  value='60'\n",
              "                  max='60',\n",
              "                  style='width: 25%',\n",
              "              >\n",
              "                  60\n",
              "              </progress>\n",
              "\n",
              "    "
            ]
          },
          "metadata": {}
        },
        {
          "output_type": "stream",
          "name": "stdout",
          "text": [
            "\n",
            "*** Feature extraction finished ***\n",
            "/content/drive/MyDrive/Tareas CDSI/Archivos inerciales/Inerciales_por_carpeta/Saint Seiya/Folder_file046_WD.csv\n",
            "*** Feature extraction started ***\n",
            "60\n"
          ]
        },
        {
          "output_type": "stream",
          "name": "stderr",
          "text": [
            "<ipython-input-24-e31ce04631cc>:18: UserWarning: Using default sampling frequency set in configuration file.\n",
            "  carac = tsfel.time_series_features_extractor(cfg, df_arch) #Extraemos características, cfg debe estar importado\n"
          ]
        },
        {
          "output_type": "display_data",
          "data": {
            "text/plain": [
              "<IPython.core.display.HTML object>"
            ],
            "text/html": [
              "\n",
              "              <p>\n",
              "                  Progress: 100% Complete\n",
              "              <p/>            \n",
              "              <progress\n",
              "                  value='60'\n",
              "                  max='60',\n",
              "                  style='width: 25%',\n",
              "              >\n",
              "                  60\n",
              "              </progress>\n",
              "\n",
              "    "
            ]
          },
          "metadata": {}
        },
        {
          "output_type": "stream",
          "name": "stdout",
          "text": [
            "\n",
            "*** Feature extraction finished ***\n",
            "/content/drive/MyDrive/Tareas CDSI/Archivos inerciales/Inerciales_por_carpeta/Saint Seiya/Folder_file067_FB.csv\n",
            "*** Feature extraction started ***\n",
            "60\n"
          ]
        },
        {
          "output_type": "stream",
          "name": "stderr",
          "text": [
            "<ipython-input-24-e31ce04631cc>:18: UserWarning: Using default sampling frequency set in configuration file.\n",
            "  carac = tsfel.time_series_features_extractor(cfg, df_arch) #Extraemos características, cfg debe estar importado\n"
          ]
        },
        {
          "output_type": "display_data",
          "data": {
            "text/plain": [
              "<IPython.core.display.HTML object>"
            ],
            "text/html": [
              "\n",
              "              <p>\n",
              "                  Progress: 100% Complete\n",
              "              <p/>            \n",
              "              <progress\n",
              "                  value='60'\n",
              "                  max='60',\n",
              "                  style='width: 25%',\n",
              "              >\n",
              "                  60\n",
              "              </progress>\n",
              "\n",
              "    "
            ]
          },
          "metadata": {}
        },
        {
          "output_type": "stream",
          "name": "stdout",
          "text": [
            "\n",
            "*** Feature extraction finished ***\n",
            "/content/drive/MyDrive/Tareas CDSI/Archivos inerciales/Inerciales_por_carpeta/Saint Seiya/Folder_file052_WD.csv\n",
            "*** Feature extraction started ***\n",
            "60\n"
          ]
        },
        {
          "output_type": "stream",
          "name": "stderr",
          "text": [
            "<ipython-input-24-e31ce04631cc>:18: UserWarning: Using default sampling frequency set in configuration file.\n",
            "  carac = tsfel.time_series_features_extractor(cfg, df_arch) #Extraemos características, cfg debe estar importado\n"
          ]
        },
        {
          "output_type": "display_data",
          "data": {
            "text/plain": [
              "<IPython.core.display.HTML object>"
            ],
            "text/html": [
              "\n",
              "              <p>\n",
              "                  Progress: 100% Complete\n",
              "              <p/>            \n",
              "              <progress\n",
              "                  value='60'\n",
              "                  max='60',\n",
              "                  style='width: 25%',\n",
              "              >\n",
              "                  60\n",
              "              </progress>\n",
              "\n",
              "    "
            ]
          },
          "metadata": {}
        },
        {
          "output_type": "stream",
          "name": "stdout",
          "text": [
            "\n",
            "*** Feature extraction finished ***\n",
            "/content/drive/MyDrive/Tareas CDSI/Archivos inerciales/Inerciales_por_carpeta/Saint Seiya/Folder_file070_FF.csv\n",
            "*** Feature extraction started ***\n",
            "60\n"
          ]
        },
        {
          "output_type": "stream",
          "name": "stderr",
          "text": [
            "<ipython-input-24-e31ce04631cc>:18: UserWarning: Using default sampling frequency set in configuration file.\n",
            "  carac = tsfel.time_series_features_extractor(cfg, df_arch) #Extraemos características, cfg debe estar importado\n"
          ]
        },
        {
          "output_type": "display_data",
          "data": {
            "text/plain": [
              "<IPython.core.display.HTML object>"
            ],
            "text/html": [
              "\n",
              "              <p>\n",
              "                  Progress: 100% Complete\n",
              "              <p/>            \n",
              "              <progress\n",
              "                  value='60'\n",
              "                  max='60',\n",
              "                  style='width: 25%',\n",
              "              >\n",
              "                  60\n",
              "              </progress>\n",
              "\n",
              "    "
            ]
          },
          "metadata": {}
        },
        {
          "output_type": "stream",
          "name": "stdout",
          "text": [
            "\n",
            "*** Feature extraction finished ***\n",
            "/content/drive/MyDrive/Tareas CDSI/Archivos inerciales/Inerciales_por_carpeta/Saint Seiya/Folder_file074_FF.csv\n",
            "*** Feature extraction started ***\n",
            "60\n"
          ]
        },
        {
          "output_type": "stream",
          "name": "stderr",
          "text": [
            "<ipython-input-24-e31ce04631cc>:18: UserWarning: Using default sampling frequency set in configuration file.\n",
            "  carac = tsfel.time_series_features_extractor(cfg, df_arch) #Extraemos características, cfg debe estar importado\n"
          ]
        },
        {
          "output_type": "display_data",
          "data": {
            "text/plain": [
              "<IPython.core.display.HTML object>"
            ],
            "text/html": [
              "\n",
              "              <p>\n",
              "                  Progress: 100% Complete\n",
              "              <p/>            \n",
              "              <progress\n",
              "                  value='60'\n",
              "                  max='60',\n",
              "                  style='width: 25%',\n",
              "              >\n",
              "                  60\n",
              "              </progress>\n",
              "\n",
              "    "
            ]
          },
          "metadata": {}
        },
        {
          "output_type": "stream",
          "name": "stdout",
          "text": [
            "\n",
            "*** Feature extraction finished ***\n",
            "/content/drive/MyDrive/Tareas CDSI/Archivos inerciales/Inerciales_por_carpeta/Saint Seiya/Folder_file042_MR.csv\n",
            "*** Feature extraction started ***\n",
            "60\n"
          ]
        },
        {
          "output_type": "stream",
          "name": "stderr",
          "text": [
            "<ipython-input-24-e31ce04631cc>:18: UserWarning: Using default sampling frequency set in configuration file.\n",
            "  carac = tsfel.time_series_features_extractor(cfg, df_arch) #Extraemos características, cfg debe estar importado\n"
          ]
        },
        {
          "output_type": "display_data",
          "data": {
            "text/plain": [
              "<IPython.core.display.HTML object>"
            ],
            "text/html": [
              "\n",
              "              <p>\n",
              "                  Progress: 100% Complete\n",
              "              <p/>            \n",
              "              <progress\n",
              "                  value='60'\n",
              "                  max='60',\n",
              "                  style='width: 25%',\n",
              "              >\n",
              "                  60\n",
              "              </progress>\n",
              "\n",
              "    "
            ]
          },
          "metadata": {}
        },
        {
          "output_type": "stream",
          "name": "stdout",
          "text": [
            "\n",
            "*** Feature extraction finished ***\n",
            "/content/drive/MyDrive/Tareas CDSI/Archivos inerciales/Inerciales_por_carpeta/Saint Seiya/Folder_file048_WD.csv\n",
            "*** Feature extraction started ***\n",
            "60\n"
          ]
        },
        {
          "output_type": "stream",
          "name": "stderr",
          "text": [
            "<ipython-input-24-e31ce04631cc>:18: UserWarning: Using default sampling frequency set in configuration file.\n",
            "  carac = tsfel.time_series_features_extractor(cfg, df_arch) #Extraemos características, cfg debe estar importado\n"
          ]
        },
        {
          "output_type": "display_data",
          "data": {
            "text/plain": [
              "<IPython.core.display.HTML object>"
            ],
            "text/html": [
              "\n",
              "              <p>\n",
              "                  Progress: 100% Complete\n",
              "              <p/>            \n",
              "              <progress\n",
              "                  value='60'\n",
              "                  max='60',\n",
              "                  style='width: 25%',\n",
              "              >\n",
              "                  60\n",
              "              </progress>\n",
              "\n",
              "    "
            ]
          },
          "metadata": {}
        },
        {
          "output_type": "stream",
          "name": "stdout",
          "text": [
            "\n",
            "*** Feature extraction finished ***\n",
            "/content/drive/MyDrive/Tareas CDSI/Archivos inerciales/Inerciales_por_carpeta/Saint Seiya/Folder_file055_WU.csv\n",
            "*** Feature extraction started ***\n",
            "60\n"
          ]
        },
        {
          "output_type": "stream",
          "name": "stderr",
          "text": [
            "<ipython-input-24-e31ce04631cc>:18: UserWarning: Using default sampling frequency set in configuration file.\n",
            "  carac = tsfel.time_series_features_extractor(cfg, df_arch) #Extraemos características, cfg debe estar importado\n"
          ]
        },
        {
          "output_type": "display_data",
          "data": {
            "text/plain": [
              "<IPython.core.display.HTML object>"
            ],
            "text/html": [
              "\n",
              "              <p>\n",
              "                  Progress: 100% Complete\n",
              "              <p/>            \n",
              "              <progress\n",
              "                  value='60'\n",
              "                  max='60',\n",
              "                  style='width: 25%',\n",
              "              >\n",
              "                  60\n",
              "              </progress>\n",
              "\n",
              "    "
            ]
          },
          "metadata": {}
        },
        {
          "output_type": "stream",
          "name": "stdout",
          "text": [
            "\n",
            "*** Feature extraction finished ***\n",
            "/content/drive/MyDrive/Tareas CDSI/Archivos inerciales/Inerciales_por_carpeta/Saint Seiya/Folder_file051_WD.csv\n",
            "*** Feature extraction started ***\n",
            "60\n"
          ]
        },
        {
          "output_type": "stream",
          "name": "stderr",
          "text": [
            "<ipython-input-24-e31ce04631cc>:18: UserWarning: Using default sampling frequency set in configuration file.\n",
            "  carac = tsfel.time_series_features_extractor(cfg, df_arch) #Extraemos características, cfg debe estar importado\n"
          ]
        },
        {
          "output_type": "display_data",
          "data": {
            "text/plain": [
              "<IPython.core.display.HTML object>"
            ],
            "text/html": [
              "\n",
              "              <p>\n",
              "                  Progress: 100% Complete\n",
              "              <p/>            \n",
              "              <progress\n",
              "                  value='60'\n",
              "                  max='60',\n",
              "                  style='width: 25%',\n",
              "              >\n",
              "                  60\n",
              "              </progress>\n",
              "\n",
              "    "
            ]
          },
          "metadata": {}
        },
        {
          "output_type": "stream",
          "name": "stdout",
          "text": [
            "\n",
            "*** Feature extraction finished ***\n",
            "/content/drive/MyDrive/Tareas CDSI/Archivos inerciales/Inerciales_por_carpeta/Saint Seiya/Folder_file063_MW.csv\n",
            "*** Feature extraction started ***\n",
            "60\n"
          ]
        },
        {
          "output_type": "stream",
          "name": "stderr",
          "text": [
            "<ipython-input-24-e31ce04631cc>:18: UserWarning: Using default sampling frequency set in configuration file.\n",
            "  carac = tsfel.time_series_features_extractor(cfg, df_arch) #Extraemos características, cfg debe estar importado\n"
          ]
        },
        {
          "output_type": "display_data",
          "data": {
            "text/plain": [
              "<IPython.core.display.HTML object>"
            ],
            "text/html": [
              "\n",
              "              <p>\n",
              "                  Progress: 100% Complete\n",
              "              <p/>            \n",
              "              <progress\n",
              "                  value='60'\n",
              "                  max='60',\n",
              "                  style='width: 25%',\n",
              "              >\n",
              "                  60\n",
              "              </progress>\n",
              "\n",
              "    "
            ]
          },
          "metadata": {}
        },
        {
          "output_type": "stream",
          "name": "stdout",
          "text": [
            "\n",
            "*** Feature extraction finished ***\n",
            "/content/drive/MyDrive/Tareas CDSI/Archivos inerciales/Inerciales_por_carpeta/Saint Seiya/Folder_file050_WD.csv\n",
            "*** Feature extraction started ***\n",
            "60\n"
          ]
        },
        {
          "output_type": "stream",
          "name": "stderr",
          "text": [
            "<ipython-input-24-e31ce04631cc>:18: UserWarning: Using default sampling frequency set in configuration file.\n",
            "  carac = tsfel.time_series_features_extractor(cfg, df_arch) #Extraemos características, cfg debe estar importado\n"
          ]
        },
        {
          "output_type": "display_data",
          "data": {
            "text/plain": [
              "<IPython.core.display.HTML object>"
            ],
            "text/html": [
              "\n",
              "              <p>\n",
              "                  Progress: 100% Complete\n",
              "              <p/>            \n",
              "              <progress\n",
              "                  value='60'\n",
              "                  max='60',\n",
              "                  style='width: 25%',\n",
              "              >\n",
              "                  60\n",
              "              </progress>\n",
              "\n",
              "    "
            ]
          },
          "metadata": {}
        },
        {
          "output_type": "stream",
          "name": "stdout",
          "text": [
            "\n",
            "*** Feature extraction finished ***\n",
            "/content/drive/MyDrive/Tareas CDSI/Archivos inerciales/Inerciales_por_carpeta/Saint Seiya/Folder_file072_FF.csv\n",
            "*** Feature extraction started ***\n",
            "60\n"
          ]
        },
        {
          "output_type": "stream",
          "name": "stderr",
          "text": [
            "<ipython-input-24-e31ce04631cc>:18: UserWarning: Using default sampling frequency set in configuration file.\n",
            "  carac = tsfel.time_series_features_extractor(cfg, df_arch) #Extraemos características, cfg debe estar importado\n"
          ]
        },
        {
          "output_type": "display_data",
          "data": {
            "text/plain": [
              "<IPython.core.display.HTML object>"
            ],
            "text/html": [
              "\n",
              "              <p>\n",
              "                  Progress: 100% Complete\n",
              "              <p/>            \n",
              "              <progress\n",
              "                  value='60'\n",
              "                  max='60',\n",
              "                  style='width: 25%',\n",
              "              >\n",
              "                  60\n",
              "              </progress>\n",
              "\n",
              "    "
            ]
          },
          "metadata": {}
        },
        {
          "output_type": "stream",
          "name": "stdout",
          "text": [
            "\n",
            "*** Feature extraction finished ***\n",
            "/content/drive/MyDrive/Tareas CDSI/Archivos inerciales/Inerciales_por_carpeta/Saint Seiya/Folder_file043_MR.csv\n",
            "*** Feature extraction started ***\n",
            "60\n"
          ]
        },
        {
          "output_type": "stream",
          "name": "stderr",
          "text": [
            "<ipython-input-24-e31ce04631cc>:18: UserWarning: Using default sampling frequency set in configuration file.\n",
            "  carac = tsfel.time_series_features_extractor(cfg, df_arch) #Extraemos características, cfg debe estar importado\n"
          ]
        },
        {
          "output_type": "display_data",
          "data": {
            "text/plain": [
              "<IPython.core.display.HTML object>"
            ],
            "text/html": [
              "\n",
              "              <p>\n",
              "                  Progress: 100% Complete\n",
              "              <p/>            \n",
              "              <progress\n",
              "                  value='60'\n",
              "                  max='60',\n",
              "                  style='width: 25%',\n",
              "              >\n",
              "                  60\n",
              "              </progress>\n",
              "\n",
              "    "
            ]
          },
          "metadata": {}
        },
        {
          "output_type": "stream",
          "name": "stdout",
          "text": [
            "\n",
            "*** Feature extraction finished ***\n",
            "/content/drive/MyDrive/Tareas CDSI/Archivos inerciales/Inerciales_por_carpeta/Saint Seiya/Folder_file066_FB.csv\n",
            "*** Feature extraction started ***\n",
            "60\n"
          ]
        },
        {
          "output_type": "stream",
          "name": "stderr",
          "text": [
            "<ipython-input-24-e31ce04631cc>:18: UserWarning: Using default sampling frequency set in configuration file.\n",
            "  carac = tsfel.time_series_features_extractor(cfg, df_arch) #Extraemos características, cfg debe estar importado\n"
          ]
        },
        {
          "output_type": "display_data",
          "data": {
            "text/plain": [
              "<IPython.core.display.HTML object>"
            ],
            "text/html": [
              "\n",
              "              <p>\n",
              "                  Progress: 100% Complete\n",
              "              <p/>            \n",
              "              <progress\n",
              "                  value='60'\n",
              "                  max='60',\n",
              "                  style='width: 25%',\n",
              "              >\n",
              "                  60\n",
              "              </progress>\n",
              "\n",
              "    "
            ]
          },
          "metadata": {}
        },
        {
          "output_type": "stream",
          "name": "stdout",
          "text": [
            "\n",
            "*** Feature extraction finished ***\n",
            "/content/drive/MyDrive/Tareas CDSI/Archivos inerciales/Inerciales_por_carpeta/Saint Seiya/Folder_file047_WD.csv\n",
            "*** Feature extraction started ***\n",
            "60\n"
          ]
        },
        {
          "output_type": "stream",
          "name": "stderr",
          "text": [
            "<ipython-input-24-e31ce04631cc>:18: UserWarning: Using default sampling frequency set in configuration file.\n",
            "  carac = tsfel.time_series_features_extractor(cfg, df_arch) #Extraemos características, cfg debe estar importado\n"
          ]
        },
        {
          "output_type": "display_data",
          "data": {
            "text/plain": [
              "<IPython.core.display.HTML object>"
            ],
            "text/html": [
              "\n",
              "              <p>\n",
              "                  Progress: 100% Complete\n",
              "              <p/>            \n",
              "              <progress\n",
              "                  value='60'\n",
              "                  max='60',\n",
              "                  style='width: 25%',\n",
              "              >\n",
              "                  60\n",
              "              </progress>\n",
              "\n",
              "    "
            ]
          },
          "metadata": {}
        },
        {
          "output_type": "stream",
          "name": "stdout",
          "text": [
            "\n",
            "*** Feature extraction finished ***\n",
            "/content/drive/MyDrive/Tareas CDSI/Archivos inerciales/Inerciales_por_carpeta/Saint Seiya/Folder_file053_WU.csv\n",
            "*** Feature extraction started ***\n",
            "60\n"
          ]
        },
        {
          "output_type": "stream",
          "name": "stderr",
          "text": [
            "<ipython-input-24-e31ce04631cc>:18: UserWarning: Using default sampling frequency set in configuration file.\n",
            "  carac = tsfel.time_series_features_extractor(cfg, df_arch) #Extraemos características, cfg debe estar importado\n"
          ]
        },
        {
          "output_type": "display_data",
          "data": {
            "text/plain": [
              "<IPython.core.display.HTML object>"
            ],
            "text/html": [
              "\n",
              "              <p>\n",
              "                  Progress: 100% Complete\n",
              "              <p/>            \n",
              "              <progress\n",
              "                  value='60'\n",
              "                  max='60',\n",
              "                  style='width: 25%',\n",
              "              >\n",
              "                  60\n",
              "              </progress>\n",
              "\n",
              "    "
            ]
          },
          "metadata": {}
        },
        {
          "output_type": "stream",
          "name": "stdout",
          "text": [
            "\n",
            "*** Feature extraction finished ***\n",
            "/content/drive/MyDrive/Tareas CDSI/Archivos inerciales/Inerciales_por_carpeta/Saint Seiya/Folder_file045_MR.csv\n",
            "*** Feature extraction started ***\n",
            "60\n"
          ]
        },
        {
          "output_type": "stream",
          "name": "stderr",
          "text": [
            "<ipython-input-24-e31ce04631cc>:18: UserWarning: Using default sampling frequency set in configuration file.\n",
            "  carac = tsfel.time_series_features_extractor(cfg, df_arch) #Extraemos características, cfg debe estar importado\n"
          ]
        },
        {
          "output_type": "display_data",
          "data": {
            "text/plain": [
              "<IPython.core.display.HTML object>"
            ],
            "text/html": [
              "\n",
              "              <p>\n",
              "                  Progress: 100% Complete\n",
              "              <p/>            \n",
              "              <progress\n",
              "                  value='60'\n",
              "                  max='60',\n",
              "                  style='width: 25%',\n",
              "              >\n",
              "                  60\n",
              "              </progress>\n",
              "\n",
              "    "
            ]
          },
          "metadata": {}
        },
        {
          "output_type": "stream",
          "name": "stdout",
          "text": [
            "\n",
            "*** Feature extraction finished ***\n",
            "/content/drive/MyDrive/Tareas CDSI/Archivos inerciales/Inerciales_por_carpeta/Saint Seiya/Folder_file073_FF.csv\n",
            "*** Feature extraction started ***\n",
            "60\n"
          ]
        },
        {
          "output_type": "stream",
          "name": "stderr",
          "text": [
            "<ipython-input-24-e31ce04631cc>:18: UserWarning: Using default sampling frequency set in configuration file.\n",
            "  carac = tsfel.time_series_features_extractor(cfg, df_arch) #Extraemos características, cfg debe estar importado\n"
          ]
        },
        {
          "output_type": "display_data",
          "data": {
            "text/plain": [
              "<IPython.core.display.HTML object>"
            ],
            "text/html": [
              "\n",
              "              <p>\n",
              "                  Progress: 100% Complete\n",
              "              <p/>            \n",
              "              <progress\n",
              "                  value='60'\n",
              "                  max='60',\n",
              "                  style='width: 25%',\n",
              "              >\n",
              "                  60\n",
              "              </progress>\n",
              "\n",
              "    "
            ]
          },
          "metadata": {}
        },
        {
          "output_type": "stream",
          "name": "stdout",
          "text": [
            "\n",
            "*** Feature extraction finished ***\n",
            "/content/drive/MyDrive/Tareas CDSI/Archivos inerciales/Inerciales_por_carpeta/Saint Seiya/Folder_file061_MW.csv\n",
            "*** Feature extraction started ***\n",
            "60\n"
          ]
        },
        {
          "output_type": "stream",
          "name": "stderr",
          "text": [
            "<ipython-input-24-e31ce04631cc>:18: UserWarning: Using default sampling frequency set in configuration file.\n",
            "  carac = tsfel.time_series_features_extractor(cfg, df_arch) #Extraemos características, cfg debe estar importado\n"
          ]
        },
        {
          "output_type": "display_data",
          "data": {
            "text/plain": [
              "<IPython.core.display.HTML object>"
            ],
            "text/html": [
              "\n",
              "              <p>\n",
              "                  Progress: 100% Complete\n",
              "              <p/>            \n",
              "              <progress\n",
              "                  value='60'\n",
              "                  max='60',\n",
              "                  style='width: 25%',\n",
              "              >\n",
              "                  60\n",
              "              </progress>\n",
              "\n",
              "    "
            ]
          },
          "metadata": {}
        },
        {
          "output_type": "stream",
          "name": "stdout",
          "text": [
            "\n",
            "*** Feature extraction finished ***\n",
            "/content/drive/MyDrive/Tareas CDSI/Archivos inerciales/Inerciales_por_carpeta/Johan Strauss/Folder_file083_MR.csv\n",
            "*** Feature extraction started ***\n",
            "60\n"
          ]
        },
        {
          "output_type": "stream",
          "name": "stderr",
          "text": [
            "<ipython-input-24-e31ce04631cc>:18: UserWarning: Using default sampling frequency set in configuration file.\n",
            "  carac = tsfel.time_series_features_extractor(cfg, df_arch) #Extraemos características, cfg debe estar importado\n"
          ]
        },
        {
          "output_type": "display_data",
          "data": {
            "text/plain": [
              "<IPython.core.display.HTML object>"
            ],
            "text/html": [
              "\n",
              "              <p>\n",
              "                  Progress: 100% Complete\n",
              "              <p/>            \n",
              "              <progress\n",
              "                  value='60'\n",
              "                  max='60',\n",
              "                  style='width: 25%',\n",
              "              >\n",
              "                  60\n",
              "              </progress>\n",
              "\n",
              "    "
            ]
          },
          "metadata": {}
        },
        {
          "output_type": "stream",
          "name": "stdout",
          "text": [
            "\n",
            "*** Feature extraction finished ***\n",
            "/content/drive/MyDrive/Tareas CDSI/Archivos inerciales/Inerciales_por_carpeta/Johan Strauss/Folder_file091_MJ.csv\n",
            "*** Feature extraction started ***\n",
            "60\n"
          ]
        },
        {
          "output_type": "stream",
          "name": "stderr",
          "text": [
            "<ipython-input-24-e31ce04631cc>:18: UserWarning: Using default sampling frequency set in configuration file.\n",
            "  carac = tsfel.time_series_features_extractor(cfg, df_arch) #Extraemos características, cfg debe estar importado\n"
          ]
        },
        {
          "output_type": "display_data",
          "data": {
            "text/plain": [
              "<IPython.core.display.HTML object>"
            ],
            "text/html": [
              "\n",
              "              <p>\n",
              "                  Progress: 100% Complete\n",
              "              <p/>            \n",
              "              <progress\n",
              "                  value='60'\n",
              "                  max='60',\n",
              "                  style='width: 25%',\n",
              "              >\n",
              "                  60\n",
              "              </progress>\n",
              "\n",
              "    "
            ]
          },
          "metadata": {}
        },
        {
          "output_type": "stream",
          "name": "stdout",
          "text": [
            "\n",
            "*** Feature extraction finished ***\n",
            "/content/drive/MyDrive/Tareas CDSI/Archivos inerciales/Inerciales_por_carpeta/Johan Strauss/Folder_file098_MJ.csv\n",
            "*** Feature extraction started ***\n",
            "60\n"
          ]
        },
        {
          "output_type": "stream",
          "name": "stderr",
          "text": [
            "<ipython-input-24-e31ce04631cc>:18: UserWarning: Using default sampling frequency set in configuration file.\n",
            "  carac = tsfel.time_series_features_extractor(cfg, df_arch) #Extraemos características, cfg debe estar importado\n"
          ]
        },
        {
          "output_type": "display_data",
          "data": {
            "text/plain": [
              "<IPython.core.display.HTML object>"
            ],
            "text/html": [
              "\n",
              "              <p>\n",
              "                  Progress: 100% Complete\n",
              "              <p/>            \n",
              "              <progress\n",
              "                  value='60'\n",
              "                  max='60',\n",
              "                  style='width: 25%',\n",
              "              >\n",
              "                  60\n",
              "              </progress>\n",
              "\n",
              "    "
            ]
          },
          "metadata": {}
        },
        {
          "output_type": "stream",
          "name": "stdout",
          "text": [
            "\n",
            "*** Feature extraction finished ***\n",
            "/content/drive/MyDrive/Tareas CDSI/Archivos inerciales/Inerciales_por_carpeta/Johan Strauss/Folder_file108_OT.csv\n",
            "*** Feature extraction started ***\n",
            "60\n"
          ]
        },
        {
          "output_type": "stream",
          "name": "stderr",
          "text": [
            "<ipython-input-24-e31ce04631cc>:18: UserWarning: Using default sampling frequency set in configuration file.\n",
            "  carac = tsfel.time_series_features_extractor(cfg, df_arch) #Extraemos características, cfg debe estar importado\n"
          ]
        },
        {
          "output_type": "display_data",
          "data": {
            "text/plain": [
              "<IPython.core.display.HTML object>"
            ],
            "text/html": [
              "\n",
              "              <p>\n",
              "                  Progress: 100% Complete\n",
              "              <p/>            \n",
              "              <progress\n",
              "                  value='60'\n",
              "                  max='60',\n",
              "                  style='width: 25%',\n",
              "              >\n",
              "                  60\n",
              "              </progress>\n",
              "\n",
              "    "
            ]
          },
          "metadata": {}
        },
        {
          "output_type": "stream",
          "name": "stdout",
          "text": [
            "\n",
            "*** Feature extraction finished ***\n",
            "/content/drive/MyDrive/Tareas CDSI/Archivos inerciales/Inerciales_por_carpeta/Johan Strauss/Folder_file094_MJ.csv\n",
            "*** Feature extraction started ***\n",
            "60\n"
          ]
        },
        {
          "output_type": "stream",
          "name": "stderr",
          "text": [
            "<ipython-input-24-e31ce04631cc>:18: UserWarning: Using default sampling frequency set in configuration file.\n",
            "  carac = tsfel.time_series_features_extractor(cfg, df_arch) #Extraemos características, cfg debe estar importado\n"
          ]
        },
        {
          "output_type": "display_data",
          "data": {
            "text/plain": [
              "<IPython.core.display.HTML object>"
            ],
            "text/html": [
              "\n",
              "              <p>\n",
              "                  Progress: 100% Complete\n",
              "              <p/>            \n",
              "              <progress\n",
              "                  value='60'\n",
              "                  max='60',\n",
              "                  style='width: 25%',\n",
              "              >\n",
              "                  60\n",
              "              </progress>\n",
              "\n",
              "    "
            ]
          },
          "metadata": {}
        },
        {
          "output_type": "stream",
          "name": "stdout",
          "text": [
            "\n",
            "*** Feature extraction finished ***\n",
            "/content/drive/MyDrive/Tareas CDSI/Archivos inerciales/Inerciales_por_carpeta/Johan Strauss/Folder_file090_MJ.csv\n",
            "*** Feature extraction started ***\n",
            "60\n"
          ]
        },
        {
          "output_type": "stream",
          "name": "stderr",
          "text": [
            "<ipython-input-24-e31ce04631cc>:18: UserWarning: Using default sampling frequency set in configuration file.\n",
            "  carac = tsfel.time_series_features_extractor(cfg, df_arch) #Extraemos características, cfg debe estar importado\n"
          ]
        },
        {
          "output_type": "display_data",
          "data": {
            "text/plain": [
              "<IPython.core.display.HTML object>"
            ],
            "text/html": [
              "\n",
              "              <p>\n",
              "                  Progress: 100% Complete\n",
              "              <p/>            \n",
              "              <progress\n",
              "                  value='60'\n",
              "                  max='60',\n",
              "                  style='width: 25%',\n",
              "              >\n",
              "                  60\n",
              "              </progress>\n",
              "\n",
              "    "
            ]
          },
          "metadata": {}
        },
        {
          "output_type": "stream",
          "name": "stdout",
          "text": [
            "\n",
            "*** Feature extraction finished ***\n",
            "/content/drive/MyDrive/Tareas CDSI/Archivos inerciales/Inerciales_por_carpeta/Johan Strauss/Folder_file084_MR.csv\n",
            "*** Feature extraction started ***\n",
            "60\n"
          ]
        },
        {
          "output_type": "stream",
          "name": "stderr",
          "text": [
            "<ipython-input-24-e31ce04631cc>:18: UserWarning: Using default sampling frequency set in configuration file.\n",
            "  carac = tsfel.time_series_features_extractor(cfg, df_arch) #Extraemos características, cfg debe estar importado\n"
          ]
        },
        {
          "output_type": "display_data",
          "data": {
            "text/plain": [
              "<IPython.core.display.HTML object>"
            ],
            "text/html": [
              "\n",
              "              <p>\n",
              "                  Progress: 100% Complete\n",
              "              <p/>            \n",
              "              <progress\n",
              "                  value='60'\n",
              "                  max='60',\n",
              "                  style='width: 25%',\n",
              "              >\n",
              "                  60\n",
              "              </progress>\n",
              "\n",
              "    "
            ]
          },
          "metadata": {}
        },
        {
          "output_type": "stream",
          "name": "stdout",
          "text": [
            "\n",
            "*** Feature extraction finished ***\n",
            "/content/drive/MyDrive/Tareas CDSI/Archivos inerciales/Inerciales_por_carpeta/Johan Strauss/Folder_file082_MR.csv\n",
            "*** Feature extraction started ***\n",
            "60\n"
          ]
        },
        {
          "output_type": "stream",
          "name": "stderr",
          "text": [
            "<ipython-input-24-e31ce04631cc>:18: UserWarning: Using default sampling frequency set in configuration file.\n",
            "  carac = tsfel.time_series_features_extractor(cfg, df_arch) #Extraemos características, cfg debe estar importado\n"
          ]
        },
        {
          "output_type": "display_data",
          "data": {
            "text/plain": [
              "<IPython.core.display.HTML object>"
            ],
            "text/html": [
              "\n",
              "              <p>\n",
              "                  Progress: 100% Complete\n",
              "              <p/>            \n",
              "              <progress\n",
              "                  value='60'\n",
              "                  max='60',\n",
              "                  style='width: 25%',\n",
              "              >\n",
              "                  60\n",
              "              </progress>\n",
              "\n",
              "    "
            ]
          },
          "metadata": {}
        },
        {
          "output_type": "stream",
          "name": "stdout",
          "text": [
            "\n",
            "*** Feature extraction finished ***\n",
            "/content/drive/MyDrive/Tareas CDSI/Archivos inerciales/Inerciales_por_carpeta/Johan Strauss/Folder_file116_OT.csv\n",
            "*** Feature extraction started ***\n",
            "60\n"
          ]
        },
        {
          "output_type": "stream",
          "name": "stderr",
          "text": [
            "<ipython-input-24-e31ce04631cc>:18: UserWarning: Using default sampling frequency set in configuration file.\n",
            "  carac = tsfel.time_series_features_extractor(cfg, df_arch) #Extraemos características, cfg debe estar importado\n"
          ]
        },
        {
          "output_type": "display_data",
          "data": {
            "text/plain": [
              "<IPython.core.display.HTML object>"
            ],
            "text/html": [
              "\n",
              "              <p>\n",
              "                  Progress: 100% Complete\n",
              "              <p/>            \n",
              "              <progress\n",
              "                  value='60'\n",
              "                  max='60',\n",
              "                  style='width: 25%',\n",
              "              >\n",
              "                  60\n",
              "              </progress>\n",
              "\n",
              "    "
            ]
          },
          "metadata": {}
        },
        {
          "output_type": "stream",
          "name": "stdout",
          "text": [
            "\n",
            "*** Feature extraction finished ***\n",
            "/content/drive/MyDrive/Tareas CDSI/Archivos inerciales/Inerciales_por_carpeta/Johan Strauss/Folder_file103_LD.csv\n",
            "*** Feature extraction started ***\n",
            "60\n"
          ]
        },
        {
          "output_type": "stream",
          "name": "stderr",
          "text": [
            "<ipython-input-24-e31ce04631cc>:18: UserWarning: Using default sampling frequency set in configuration file.\n",
            "  carac = tsfel.time_series_features_extractor(cfg, df_arch) #Extraemos características, cfg debe estar importado\n"
          ]
        },
        {
          "output_type": "display_data",
          "data": {
            "text/plain": [
              "<IPython.core.display.HTML object>"
            ],
            "text/html": [
              "\n",
              "              <p>\n",
              "                  Progress: 100% Complete\n",
              "              <p/>            \n",
              "              <progress\n",
              "                  value='60'\n",
              "                  max='60',\n",
              "                  style='width: 25%',\n",
              "              >\n",
              "                  60\n",
              "              </progress>\n",
              "\n",
              "    "
            ]
          },
          "metadata": {}
        },
        {
          "output_type": "stream",
          "name": "stdout",
          "text": [
            "\n",
            "*** Feature extraction finished ***\n",
            "/content/drive/MyDrive/Tareas CDSI/Archivos inerciales/Inerciales_por_carpeta/Johan Strauss/Folder_file109_OT.csv\n",
            "*** Feature extraction started ***\n",
            "60\n"
          ]
        },
        {
          "output_type": "stream",
          "name": "stderr",
          "text": [
            "<ipython-input-24-e31ce04631cc>:18: UserWarning: Using default sampling frequency set in configuration file.\n",
            "  carac = tsfel.time_series_features_extractor(cfg, df_arch) #Extraemos características, cfg debe estar importado\n"
          ]
        },
        {
          "output_type": "display_data",
          "data": {
            "text/plain": [
              "<IPython.core.display.HTML object>"
            ],
            "text/html": [
              "\n",
              "              <p>\n",
              "                  Progress: 100% Complete\n",
              "              <p/>            \n",
              "              <progress\n",
              "                  value='60'\n",
              "                  max='60',\n",
              "                  style='width: 25%',\n",
              "              >\n",
              "                  60\n",
              "              </progress>\n",
              "\n",
              "    "
            ]
          },
          "metadata": {}
        },
        {
          "output_type": "stream",
          "name": "stdout",
          "text": [
            "\n",
            "*** Feature extraction finished ***\n",
            "/content/drive/MyDrive/Tareas CDSI/Archivos inerciales/Inerciales_por_carpeta/Johan Strauss/Folder_file114_OT.csv\n",
            "*** Feature extraction started ***\n",
            "60\n"
          ]
        },
        {
          "output_type": "stream",
          "name": "stderr",
          "text": [
            "<ipython-input-24-e31ce04631cc>:18: UserWarning: Using default sampling frequency set in configuration file.\n",
            "  carac = tsfel.time_series_features_extractor(cfg, df_arch) #Extraemos características, cfg debe estar importado\n"
          ]
        },
        {
          "output_type": "display_data",
          "data": {
            "text/plain": [
              "<IPython.core.display.HTML object>"
            ],
            "text/html": [
              "\n",
              "              <p>\n",
              "                  Progress: 100% Complete\n",
              "              <p/>            \n",
              "              <progress\n",
              "                  value='60'\n",
              "                  max='60',\n",
              "                  style='width: 25%',\n",
              "              >\n",
              "                  60\n",
              "              </progress>\n",
              "\n",
              "    "
            ]
          },
          "metadata": {}
        },
        {
          "output_type": "stream",
          "name": "stdout",
          "text": [
            "\n",
            "*** Feature extraction finished ***\n",
            "/content/drive/MyDrive/Tareas CDSI/Archivos inerciales/Inerciales_por_carpeta/Johan Strauss/Folder_file093_MJ.csv\n",
            "*** Feature extraction started ***\n",
            "60\n"
          ]
        },
        {
          "output_type": "stream",
          "name": "stderr",
          "text": [
            "<ipython-input-24-e31ce04631cc>:18: UserWarning: Using default sampling frequency set in configuration file.\n",
            "  carac = tsfel.time_series_features_extractor(cfg, df_arch) #Extraemos características, cfg debe estar importado\n"
          ]
        },
        {
          "output_type": "display_data",
          "data": {
            "text/plain": [
              "<IPython.core.display.HTML object>"
            ],
            "text/html": [
              "\n",
              "              <p>\n",
              "                  Progress: 100% Complete\n",
              "              <p/>            \n",
              "              <progress\n",
              "                  value='60'\n",
              "                  max='60',\n",
              "                  style='width: 25%',\n",
              "              >\n",
              "                  60\n",
              "              </progress>\n",
              "\n",
              "    "
            ]
          },
          "metadata": {}
        },
        {
          "output_type": "stream",
          "name": "stdout",
          "text": [
            "\n",
            "*** Feature extraction finished ***\n",
            "/content/drive/MyDrive/Tareas CDSI/Archivos inerciales/Inerciales_por_carpeta/Johan Strauss/Folder_file117_OT.csv\n",
            "*** Feature extraction started ***\n",
            "60\n"
          ]
        },
        {
          "output_type": "stream",
          "name": "stderr",
          "text": [
            "<ipython-input-24-e31ce04631cc>:18: UserWarning: Using default sampling frequency set in configuration file.\n",
            "  carac = tsfel.time_series_features_extractor(cfg, df_arch) #Extraemos características, cfg debe estar importado\n"
          ]
        },
        {
          "output_type": "display_data",
          "data": {
            "text/plain": [
              "<IPython.core.display.HTML object>"
            ],
            "text/html": [
              "\n",
              "              <p>\n",
              "                  Progress: 100% Complete\n",
              "              <p/>            \n",
              "              <progress\n",
              "                  value='60'\n",
              "                  max='60',\n",
              "                  style='width: 25%',\n",
              "              >\n",
              "                  60\n",
              "              </progress>\n",
              "\n",
              "    "
            ]
          },
          "metadata": {}
        },
        {
          "output_type": "stream",
          "name": "stdout",
          "text": [
            "\n",
            "*** Feature extraction finished ***\n",
            "/content/drive/MyDrive/Tareas CDSI/Archivos inerciales/Inerciales_por_carpeta/Johan Strauss/Folder_file105_OT.csv\n",
            "*** Feature extraction started ***\n",
            "60\n"
          ]
        },
        {
          "output_type": "stream",
          "name": "stderr",
          "text": [
            "<ipython-input-24-e31ce04631cc>:18: UserWarning: Using default sampling frequency set in configuration file.\n",
            "  carac = tsfel.time_series_features_extractor(cfg, df_arch) #Extraemos características, cfg debe estar importado\n"
          ]
        },
        {
          "output_type": "display_data",
          "data": {
            "text/plain": [
              "<IPython.core.display.HTML object>"
            ],
            "text/html": [
              "\n",
              "              <p>\n",
              "                  Progress: 100% Complete\n",
              "              <p/>            \n",
              "              <progress\n",
              "                  value='60'\n",
              "                  max='60',\n",
              "                  style='width: 25%',\n",
              "              >\n",
              "                  60\n",
              "              </progress>\n",
              "\n",
              "    "
            ]
          },
          "metadata": {}
        },
        {
          "output_type": "stream",
          "name": "stdout",
          "text": [
            "\n",
            "*** Feature extraction finished ***\n",
            "/content/drive/MyDrive/Tareas CDSI/Archivos inerciales/Inerciales_por_carpeta/Johan Strauss/Folder_file092_MJ.csv\n",
            "*** Feature extraction started ***\n",
            "60\n"
          ]
        },
        {
          "output_type": "stream",
          "name": "stderr",
          "text": [
            "<ipython-input-24-e31ce04631cc>:18: UserWarning: Using default sampling frequency set in configuration file.\n",
            "  carac = tsfel.time_series_features_extractor(cfg, df_arch) #Extraemos características, cfg debe estar importado\n"
          ]
        },
        {
          "output_type": "display_data",
          "data": {
            "text/plain": [
              "<IPython.core.display.HTML object>"
            ],
            "text/html": [
              "\n",
              "              <p>\n",
              "                  Progress: 100% Complete\n",
              "              <p/>            \n",
              "              <progress\n",
              "                  value='60'\n",
              "                  max='60',\n",
              "                  style='width: 25%',\n",
              "              >\n",
              "                  60\n",
              "              </progress>\n",
              "\n",
              "    "
            ]
          },
          "metadata": {}
        },
        {
          "output_type": "stream",
          "name": "stdout",
          "text": [
            "\n",
            "*** Feature extraction finished ***\n",
            "/content/drive/MyDrive/Tareas CDSI/Archivos inerciales/Inerciales_por_carpeta/Johan Strauss/Folder_file113_OT.csv\n",
            "*** Feature extraction started ***\n",
            "60\n"
          ]
        },
        {
          "output_type": "stream",
          "name": "stderr",
          "text": [
            "<ipython-input-24-e31ce04631cc>:18: UserWarning: Using default sampling frequency set in configuration file.\n",
            "  carac = tsfel.time_series_features_extractor(cfg, df_arch) #Extraemos características, cfg debe estar importado\n"
          ]
        },
        {
          "output_type": "display_data",
          "data": {
            "text/plain": [
              "<IPython.core.display.HTML object>"
            ],
            "text/html": [
              "\n",
              "              <p>\n",
              "                  Progress: 100% Complete\n",
              "              <p/>            \n",
              "              <progress\n",
              "                  value='60'\n",
              "                  max='60',\n",
              "                  style='width: 25%',\n",
              "              >\n",
              "                  60\n",
              "              </progress>\n",
              "\n",
              "    "
            ]
          },
          "metadata": {}
        },
        {
          "output_type": "stream",
          "name": "stdout",
          "text": [
            "\n",
            "*** Feature extraction finished ***\n",
            "/content/drive/MyDrive/Tareas CDSI/Archivos inerciales/Inerciales_por_carpeta/Johan Strauss/Folder_file080_MR.csv\n",
            "*** Feature extraction started ***\n",
            "60\n"
          ]
        },
        {
          "output_type": "stream",
          "name": "stderr",
          "text": [
            "<ipython-input-24-e31ce04631cc>:18: UserWarning: Using default sampling frequency set in configuration file.\n",
            "  carac = tsfel.time_series_features_extractor(cfg, df_arch) #Extraemos características, cfg debe estar importado\n"
          ]
        },
        {
          "output_type": "display_data",
          "data": {
            "text/plain": [
              "<IPython.core.display.HTML object>"
            ],
            "text/html": [
              "\n",
              "              <p>\n",
              "                  Progress: 100% Complete\n",
              "              <p/>            \n",
              "              <progress\n",
              "                  value='60'\n",
              "                  max='60',\n",
              "                  style='width: 25%',\n",
              "              >\n",
              "                  60\n",
              "              </progress>\n",
              "\n",
              "    "
            ]
          },
          "metadata": {}
        },
        {
          "output_type": "stream",
          "name": "stdout",
          "text": [
            "\n",
            "*** Feature extraction finished ***\n",
            "/content/drive/MyDrive/Tareas CDSI/Archivos inerciales/Inerciales_por_carpeta/Johan Strauss/Folder_file089_MW.csv\n",
            "*** Feature extraction started ***\n",
            "60\n"
          ]
        },
        {
          "output_type": "stream",
          "name": "stderr",
          "text": [
            "<ipython-input-24-e31ce04631cc>:18: UserWarning: Using default sampling frequency set in configuration file.\n",
            "  carac = tsfel.time_series_features_extractor(cfg, df_arch) #Extraemos características, cfg debe estar importado\n"
          ]
        },
        {
          "output_type": "display_data",
          "data": {
            "text/plain": [
              "<IPython.core.display.HTML object>"
            ],
            "text/html": [
              "\n",
              "              <p>\n",
              "                  Progress: 100% Complete\n",
              "              <p/>            \n",
              "              <progress\n",
              "                  value='60'\n",
              "                  max='60',\n",
              "                  style='width: 25%',\n",
              "              >\n",
              "                  60\n",
              "              </progress>\n",
              "\n",
              "    "
            ]
          },
          "metadata": {}
        },
        {
          "output_type": "stream",
          "name": "stdout",
          "text": [
            "\n",
            "*** Feature extraction finished ***\n",
            "/content/drive/MyDrive/Tareas CDSI/Archivos inerciales/Inerciales_por_carpeta/Johan Strauss/Folder_file081_MR.csv\n",
            "*** Feature extraction started ***\n",
            "60\n"
          ]
        },
        {
          "output_type": "stream",
          "name": "stderr",
          "text": [
            "<ipython-input-24-e31ce04631cc>:18: UserWarning: Using default sampling frequency set in configuration file.\n",
            "  carac = tsfel.time_series_features_extractor(cfg, df_arch) #Extraemos características, cfg debe estar importado\n"
          ]
        },
        {
          "output_type": "display_data",
          "data": {
            "text/plain": [
              "<IPython.core.display.HTML object>"
            ],
            "text/html": [
              "\n",
              "              <p>\n",
              "                  Progress: 100% Complete\n",
              "              <p/>            \n",
              "              <progress\n",
              "                  value='60'\n",
              "                  max='60',\n",
              "                  style='width: 25%',\n",
              "              >\n",
              "                  60\n",
              "              </progress>\n",
              "\n",
              "    "
            ]
          },
          "metadata": {}
        },
        {
          "output_type": "stream",
          "name": "stdout",
          "text": [
            "\n",
            "*** Feature extraction finished ***\n",
            "/content/drive/MyDrive/Tareas CDSI/Archivos inerciales/Inerciales_por_carpeta/Johan Strauss/Folder_file087_MW.csv\n",
            "*** Feature extraction started ***\n",
            "60\n"
          ]
        },
        {
          "output_type": "stream",
          "name": "stderr",
          "text": [
            "<ipython-input-24-e31ce04631cc>:18: UserWarning: Using default sampling frequency set in configuration file.\n",
            "  carac = tsfel.time_series_features_extractor(cfg, df_arch) #Extraemos características, cfg debe estar importado\n"
          ]
        },
        {
          "output_type": "display_data",
          "data": {
            "text/plain": [
              "<IPython.core.display.HTML object>"
            ],
            "text/html": [
              "\n",
              "              <p>\n",
              "                  Progress: 100% Complete\n",
              "              <p/>            \n",
              "              <progress\n",
              "                  value='60'\n",
              "                  max='60',\n",
              "                  style='width: 25%',\n",
              "              >\n",
              "                  60\n",
              "              </progress>\n",
              "\n",
              "    "
            ]
          },
          "metadata": {}
        },
        {
          "output_type": "stream",
          "name": "stdout",
          "text": [
            "\n",
            "*** Feature extraction finished ***\n",
            "/content/drive/MyDrive/Tareas CDSI/Archivos inerciales/Inerciales_por_carpeta/Johan Strauss/Folder_file102_LD.csv\n",
            "*** Feature extraction started ***\n",
            "60\n"
          ]
        },
        {
          "output_type": "stream",
          "name": "stderr",
          "text": [
            "<ipython-input-24-e31ce04631cc>:18: UserWarning: Using default sampling frequency set in configuration file.\n",
            "  carac = tsfel.time_series_features_extractor(cfg, df_arch) #Extraemos características, cfg debe estar importado\n"
          ]
        },
        {
          "output_type": "display_data",
          "data": {
            "text/plain": [
              "<IPython.core.display.HTML object>"
            ],
            "text/html": [
              "\n",
              "              <p>\n",
              "                  Progress: 100% Complete\n",
              "              <p/>            \n",
              "              <progress\n",
              "                  value='60'\n",
              "                  max='60',\n",
              "                  style='width: 25%',\n",
              "              >\n",
              "                  60\n",
              "              </progress>\n",
              "\n",
              "    "
            ]
          },
          "metadata": {}
        },
        {
          "output_type": "stream",
          "name": "stdout",
          "text": [
            "\n",
            "*** Feature extraction finished ***\n",
            "/content/drive/MyDrive/Tareas CDSI/Archivos inerciales/Inerciales_por_carpeta/Johan Strauss/Folder_file101_LD.csv\n",
            "*** Feature extraction started ***\n",
            "60\n"
          ]
        },
        {
          "output_type": "stream",
          "name": "stderr",
          "text": [
            "<ipython-input-24-e31ce04631cc>:18: UserWarning: Using default sampling frequency set in configuration file.\n",
            "  carac = tsfel.time_series_features_extractor(cfg, df_arch) #Extraemos características, cfg debe estar importado\n"
          ]
        },
        {
          "output_type": "display_data",
          "data": {
            "text/plain": [
              "<IPython.core.display.HTML object>"
            ],
            "text/html": [
              "\n",
              "              <p>\n",
              "                  Progress: 100% Complete\n",
              "              <p/>            \n",
              "              <progress\n",
              "                  value='60'\n",
              "                  max='60',\n",
              "                  style='width: 25%',\n",
              "              >\n",
              "                  60\n",
              "              </progress>\n",
              "\n",
              "    "
            ]
          },
          "metadata": {}
        },
        {
          "output_type": "stream",
          "name": "stdout",
          "text": [
            "\n",
            "*** Feature extraction finished ***\n",
            "/content/drive/MyDrive/Tareas CDSI/Archivos inerciales/Inerciales_por_carpeta/Johan Strauss/Folder_file107_OT.csv\n",
            "*** Feature extraction started ***\n",
            "60\n"
          ]
        },
        {
          "output_type": "stream",
          "name": "stderr",
          "text": [
            "<ipython-input-24-e31ce04631cc>:18: UserWarning: Using default sampling frequency set in configuration file.\n",
            "  carac = tsfel.time_series_features_extractor(cfg, df_arch) #Extraemos características, cfg debe estar importado\n"
          ]
        },
        {
          "output_type": "display_data",
          "data": {
            "text/plain": [
              "<IPython.core.display.HTML object>"
            ],
            "text/html": [
              "\n",
              "              <p>\n",
              "                  Progress: 100% Complete\n",
              "              <p/>            \n",
              "              <progress\n",
              "                  value='60'\n",
              "                  max='60',\n",
              "                  style='width: 25%',\n",
              "              >\n",
              "                  60\n",
              "              </progress>\n",
              "\n",
              "    "
            ]
          },
          "metadata": {}
        },
        {
          "output_type": "stream",
          "name": "stdout",
          "text": [
            "\n",
            "*** Feature extraction finished ***\n",
            "/content/drive/MyDrive/Tareas CDSI/Archivos inerciales/Inerciales_por_carpeta/Johan Strauss/Folder_file096_MJ.csv\n",
            "*** Feature extraction started ***\n",
            "60\n"
          ]
        },
        {
          "output_type": "stream",
          "name": "stderr",
          "text": [
            "<ipython-input-24-e31ce04631cc>:18: UserWarning: Using default sampling frequency set in configuration file.\n",
            "  carac = tsfel.time_series_features_extractor(cfg, df_arch) #Extraemos características, cfg debe estar importado\n"
          ]
        },
        {
          "output_type": "display_data",
          "data": {
            "text/plain": [
              "<IPython.core.display.HTML object>"
            ],
            "text/html": [
              "\n",
              "              <p>\n",
              "                  Progress: 100% Complete\n",
              "              <p/>            \n",
              "              <progress\n",
              "                  value='60'\n",
              "                  max='60',\n",
              "                  style='width: 25%',\n",
              "              >\n",
              "                  60\n",
              "              </progress>\n",
              "\n",
              "    "
            ]
          },
          "metadata": {}
        },
        {
          "output_type": "stream",
          "name": "stdout",
          "text": [
            "\n",
            "*** Feature extraction finished ***\n",
            "/content/drive/MyDrive/Tareas CDSI/Archivos inerciales/Inerciales_por_carpeta/Johan Strauss/Folder_file086_MW.csv\n",
            "*** Feature extraction started ***\n",
            "60\n"
          ]
        },
        {
          "output_type": "stream",
          "name": "stderr",
          "text": [
            "<ipython-input-24-e31ce04631cc>:18: UserWarning: Using default sampling frequency set in configuration file.\n",
            "  carac = tsfel.time_series_features_extractor(cfg, df_arch) #Extraemos características, cfg debe estar importado\n"
          ]
        },
        {
          "output_type": "display_data",
          "data": {
            "text/plain": [
              "<IPython.core.display.HTML object>"
            ],
            "text/html": [
              "\n",
              "              <p>\n",
              "                  Progress: 100% Complete\n",
              "              <p/>            \n",
              "              <progress\n",
              "                  value='60'\n",
              "                  max='60',\n",
              "                  style='width: 25%',\n",
              "              >\n",
              "                  60\n",
              "              </progress>\n",
              "\n",
              "    "
            ]
          },
          "metadata": {}
        },
        {
          "output_type": "stream",
          "name": "stdout",
          "text": [
            "\n",
            "*** Feature extraction finished ***\n",
            "/content/drive/MyDrive/Tareas CDSI/Archivos inerciales/Inerciales_por_carpeta/Johan Strauss/Folder_file104_LD.csv\n",
            "*** Feature extraction started ***\n",
            "60\n"
          ]
        },
        {
          "output_type": "stream",
          "name": "stderr",
          "text": [
            "<ipython-input-24-e31ce04631cc>:18: UserWarning: Using default sampling frequency set in configuration file.\n",
            "  carac = tsfel.time_series_features_extractor(cfg, df_arch) #Extraemos características, cfg debe estar importado\n"
          ]
        },
        {
          "output_type": "display_data",
          "data": {
            "text/plain": [
              "<IPython.core.display.HTML object>"
            ],
            "text/html": [
              "\n",
              "              <p>\n",
              "                  Progress: 100% Complete\n",
              "              <p/>            \n",
              "              <progress\n",
              "                  value='60'\n",
              "                  max='60',\n",
              "                  style='width: 25%',\n",
              "              >\n",
              "                  60\n",
              "              </progress>\n",
              "\n",
              "    "
            ]
          },
          "metadata": {}
        },
        {
          "output_type": "stream",
          "name": "stdout",
          "text": [
            "\n",
            "*** Feature extraction finished ***\n",
            "/content/drive/MyDrive/Tareas CDSI/Archivos inerciales/Inerciales_por_carpeta/Johan Strauss/Folder_file112_OT.csv\n",
            "*** Feature extraction started ***\n",
            "60\n"
          ]
        },
        {
          "output_type": "stream",
          "name": "stderr",
          "text": [
            "<ipython-input-24-e31ce04631cc>:18: UserWarning: Using default sampling frequency set in configuration file.\n",
            "  carac = tsfel.time_series_features_extractor(cfg, df_arch) #Extraemos características, cfg debe estar importado\n"
          ]
        },
        {
          "output_type": "display_data",
          "data": {
            "text/plain": [
              "<IPython.core.display.HTML object>"
            ],
            "text/html": [
              "\n",
              "              <p>\n",
              "                  Progress: 100% Complete\n",
              "              <p/>            \n",
              "              <progress\n",
              "                  value='60'\n",
              "                  max='60',\n",
              "                  style='width: 25%',\n",
              "              >\n",
              "                  60\n",
              "              </progress>\n",
              "\n",
              "    "
            ]
          },
          "metadata": {}
        },
        {
          "output_type": "stream",
          "name": "stdout",
          "text": [
            "\n",
            "*** Feature extraction finished ***\n",
            "/content/drive/MyDrive/Tareas CDSI/Archivos inerciales/Inerciales_por_carpeta/Johan Strauss/Folder_file085_MW.csv\n",
            "*** Feature extraction started ***\n",
            "60\n"
          ]
        },
        {
          "output_type": "stream",
          "name": "stderr",
          "text": [
            "<ipython-input-24-e31ce04631cc>:18: UserWarning: Using default sampling frequency set in configuration file.\n",
            "  carac = tsfel.time_series_features_extractor(cfg, df_arch) #Extraemos características, cfg debe estar importado\n"
          ]
        },
        {
          "output_type": "display_data",
          "data": {
            "text/plain": [
              "<IPython.core.display.HTML object>"
            ],
            "text/html": [
              "\n",
              "              <p>\n",
              "                  Progress: 100% Complete\n",
              "              <p/>            \n",
              "              <progress\n",
              "                  value='60'\n",
              "                  max='60',\n",
              "                  style='width: 25%',\n",
              "              >\n",
              "                  60\n",
              "              </progress>\n",
              "\n",
              "    "
            ]
          },
          "metadata": {}
        },
        {
          "output_type": "stream",
          "name": "stdout",
          "text": [
            "\n",
            "*** Feature extraction finished ***\n",
            "/content/drive/MyDrive/Tareas CDSI/Archivos inerciales/Inerciales_por_carpeta/Johan Strauss/Folder_file095_MJ.csv\n",
            "*** Feature extraction started ***\n",
            "60\n"
          ]
        },
        {
          "output_type": "stream",
          "name": "stderr",
          "text": [
            "<ipython-input-24-e31ce04631cc>:18: UserWarning: Using default sampling frequency set in configuration file.\n",
            "  carac = tsfel.time_series_features_extractor(cfg, df_arch) #Extraemos características, cfg debe estar importado\n"
          ]
        },
        {
          "output_type": "display_data",
          "data": {
            "text/plain": [
              "<IPython.core.display.HTML object>"
            ],
            "text/html": [
              "\n",
              "              <p>\n",
              "                  Progress: 100% Complete\n",
              "              <p/>            \n",
              "              <progress\n",
              "                  value='60'\n",
              "                  max='60',\n",
              "                  style='width: 25%',\n",
              "              >\n",
              "                  60\n",
              "              </progress>\n",
              "\n",
              "    "
            ]
          },
          "metadata": {}
        },
        {
          "output_type": "stream",
          "name": "stdout",
          "text": [
            "\n",
            "*** Feature extraction finished ***\n",
            "/content/drive/MyDrive/Tareas CDSI/Archivos inerciales/Inerciales_por_carpeta/Johan Strauss/Folder_file110_OT.csv\n",
            "*** Feature extraction started ***\n",
            "60\n"
          ]
        },
        {
          "output_type": "stream",
          "name": "stderr",
          "text": [
            "<ipython-input-24-e31ce04631cc>:18: UserWarning: Using default sampling frequency set in configuration file.\n",
            "  carac = tsfel.time_series_features_extractor(cfg, df_arch) #Extraemos características, cfg debe estar importado\n"
          ]
        },
        {
          "output_type": "display_data",
          "data": {
            "text/plain": [
              "<IPython.core.display.HTML object>"
            ],
            "text/html": [
              "\n",
              "              <p>\n",
              "                  Progress: 100% Complete\n",
              "              <p/>            \n",
              "              <progress\n",
              "                  value='60'\n",
              "                  max='60',\n",
              "                  style='width: 25%',\n",
              "              >\n",
              "                  60\n",
              "              </progress>\n",
              "\n",
              "    "
            ]
          },
          "metadata": {}
        },
        {
          "output_type": "stream",
          "name": "stdout",
          "text": [
            "\n",
            "*** Feature extraction finished ***\n",
            "/content/drive/MyDrive/Tareas CDSI/Archivos inerciales/Inerciales_por_carpeta/Johan Strauss/Folder_file088_MW.csv\n",
            "*** Feature extraction started ***\n",
            "60\n"
          ]
        },
        {
          "output_type": "stream",
          "name": "stderr",
          "text": [
            "<ipython-input-24-e31ce04631cc>:18: UserWarning: Using default sampling frequency set in configuration file.\n",
            "  carac = tsfel.time_series_features_extractor(cfg, df_arch) #Extraemos características, cfg debe estar importado\n"
          ]
        },
        {
          "output_type": "display_data",
          "data": {
            "text/plain": [
              "<IPython.core.display.HTML object>"
            ],
            "text/html": [
              "\n",
              "              <p>\n",
              "                  Progress: 100% Complete\n",
              "              <p/>            \n",
              "              <progress\n",
              "                  value='60'\n",
              "                  max='60',\n",
              "                  style='width: 25%',\n",
              "              >\n",
              "                  60\n",
              "              </progress>\n",
              "\n",
              "    "
            ]
          },
          "metadata": {}
        },
        {
          "output_type": "stream",
          "name": "stdout",
          "text": [
            "\n",
            "*** Feature extraction finished ***\n",
            "/content/drive/MyDrive/Tareas CDSI/Archivos inerciales/Inerciales_por_carpeta/Johan Strauss/Folder_file119_OT.csv\n",
            "*** Feature extraction started ***\n",
            "60\n"
          ]
        },
        {
          "output_type": "stream",
          "name": "stderr",
          "text": [
            "<ipython-input-24-e31ce04631cc>:18: UserWarning: Using default sampling frequency set in configuration file.\n",
            "  carac = tsfel.time_series_features_extractor(cfg, df_arch) #Extraemos características, cfg debe estar importado\n"
          ]
        },
        {
          "output_type": "display_data",
          "data": {
            "text/plain": [
              "<IPython.core.display.HTML object>"
            ],
            "text/html": [
              "\n",
              "              <p>\n",
              "                  Progress: 100% Complete\n",
              "              <p/>            \n",
              "              <progress\n",
              "                  value='60'\n",
              "                  max='60',\n",
              "                  style='width: 25%',\n",
              "              >\n",
              "                  60\n",
              "              </progress>\n",
              "\n",
              "    "
            ]
          },
          "metadata": {}
        },
        {
          "output_type": "stream",
          "name": "stdout",
          "text": [
            "\n",
            "*** Feature extraction finished ***\n",
            "/content/drive/MyDrive/Tareas CDSI/Archivos inerciales/Inerciales_por_carpeta/Johan Strauss/Folder_file115_OT.csv\n",
            "*** Feature extraction started ***\n",
            "60\n"
          ]
        },
        {
          "output_type": "stream",
          "name": "stderr",
          "text": [
            "<ipython-input-24-e31ce04631cc>:18: UserWarning: Using default sampling frequency set in configuration file.\n",
            "  carac = tsfel.time_series_features_extractor(cfg, df_arch) #Extraemos características, cfg debe estar importado\n"
          ]
        },
        {
          "output_type": "display_data",
          "data": {
            "text/plain": [
              "<IPython.core.display.HTML object>"
            ],
            "text/html": [
              "\n",
              "              <p>\n",
              "                  Progress: 100% Complete\n",
              "              <p/>            \n",
              "              <progress\n",
              "                  value='60'\n",
              "                  max='60',\n",
              "                  style='width: 25%',\n",
              "              >\n",
              "                  60\n",
              "              </progress>\n",
              "\n",
              "    "
            ]
          },
          "metadata": {}
        },
        {
          "output_type": "stream",
          "name": "stdout",
          "text": [
            "\n",
            "*** Feature extraction finished ***\n",
            "/content/drive/MyDrive/Tareas CDSI/Archivos inerciales/Inerciales_por_carpeta/Johan Strauss/Folder_file106_OT.csv\n",
            "*** Feature extraction started ***\n",
            "60\n"
          ]
        },
        {
          "output_type": "stream",
          "name": "stderr",
          "text": [
            "<ipython-input-24-e31ce04631cc>:18: UserWarning: Using default sampling frequency set in configuration file.\n",
            "  carac = tsfel.time_series_features_extractor(cfg, df_arch) #Extraemos características, cfg debe estar importado\n"
          ]
        },
        {
          "output_type": "display_data",
          "data": {
            "text/plain": [
              "<IPython.core.display.HTML object>"
            ],
            "text/html": [
              "\n",
              "              <p>\n",
              "                  Progress: 100% Complete\n",
              "              <p/>            \n",
              "              <progress\n",
              "                  value='60'\n",
              "                  max='60',\n",
              "                  style='width: 25%',\n",
              "              >\n",
              "                  60\n",
              "              </progress>\n",
              "\n",
              "    "
            ]
          },
          "metadata": {}
        },
        {
          "output_type": "stream",
          "name": "stdout",
          "text": [
            "\n",
            "*** Feature extraction finished ***\n",
            "/content/drive/MyDrive/Tareas CDSI/Archivos inerciales/Inerciales_por_carpeta/Johan Strauss/Folder_file118_OT.csv\n",
            "*** Feature extraction started ***\n",
            "60\n"
          ]
        },
        {
          "output_type": "stream",
          "name": "stderr",
          "text": [
            "<ipython-input-24-e31ce04631cc>:18: UserWarning: Using default sampling frequency set in configuration file.\n",
            "  carac = tsfel.time_series_features_extractor(cfg, df_arch) #Extraemos características, cfg debe estar importado\n"
          ]
        },
        {
          "output_type": "display_data",
          "data": {
            "text/plain": [
              "<IPython.core.display.HTML object>"
            ],
            "text/html": [
              "\n",
              "              <p>\n",
              "                  Progress: 100% Complete\n",
              "              <p/>            \n",
              "              <progress\n",
              "                  value='60'\n",
              "                  max='60',\n",
              "                  style='width: 25%',\n",
              "              >\n",
              "                  60\n",
              "              </progress>\n",
              "\n",
              "    "
            ]
          },
          "metadata": {}
        },
        {
          "output_type": "stream",
          "name": "stdout",
          "text": [
            "\n",
            "*** Feature extraction finished ***\n",
            "/content/drive/MyDrive/Tareas CDSI/Archivos inerciales/Inerciales_por_carpeta/Johan Strauss/Folder_file100_LD.csv\n",
            "*** Feature extraction started ***\n",
            "60\n"
          ]
        },
        {
          "output_type": "stream",
          "name": "stderr",
          "text": [
            "<ipython-input-24-e31ce04631cc>:18: UserWarning: Using default sampling frequency set in configuration file.\n",
            "  carac = tsfel.time_series_features_extractor(cfg, df_arch) #Extraemos características, cfg debe estar importado\n"
          ]
        },
        {
          "output_type": "display_data",
          "data": {
            "text/plain": [
              "<IPython.core.display.HTML object>"
            ],
            "text/html": [
              "\n",
              "              <p>\n",
              "                  Progress: 100% Complete\n",
              "              <p/>            \n",
              "              <progress\n",
              "                  value='60'\n",
              "                  max='60',\n",
              "                  style='width: 25%',\n",
              "              >\n",
              "                  60\n",
              "              </progress>\n",
              "\n",
              "    "
            ]
          },
          "metadata": {}
        },
        {
          "output_type": "stream",
          "name": "stdout",
          "text": [
            "\n",
            "*** Feature extraction finished ***\n",
            "/content/drive/MyDrive/Tareas CDSI/Archivos inerciales/Inerciales_por_carpeta/Johan Strauss/Folder_file099_MJ.csv\n",
            "*** Feature extraction started ***\n",
            "60\n"
          ]
        },
        {
          "output_type": "stream",
          "name": "stderr",
          "text": [
            "<ipython-input-24-e31ce04631cc>:18: UserWarning: Using default sampling frequency set in configuration file.\n",
            "  carac = tsfel.time_series_features_extractor(cfg, df_arch) #Extraemos características, cfg debe estar importado\n"
          ]
        },
        {
          "output_type": "display_data",
          "data": {
            "text/plain": [
              "<IPython.core.display.HTML object>"
            ],
            "text/html": [
              "\n",
              "              <p>\n",
              "                  Progress: 100% Complete\n",
              "              <p/>            \n",
              "              <progress\n",
              "                  value='60'\n",
              "                  max='60',\n",
              "                  style='width: 25%',\n",
              "              >\n",
              "                  60\n",
              "              </progress>\n",
              "\n",
              "    "
            ]
          },
          "metadata": {}
        },
        {
          "output_type": "stream",
          "name": "stdout",
          "text": [
            "\n",
            "*** Feature extraction finished ***\n",
            "/content/drive/MyDrive/Tareas CDSI/Archivos inerciales/Inerciales_por_carpeta/Johan Strauss/Folder_file111_OT.csv\n",
            "*** Feature extraction started ***\n",
            "60\n"
          ]
        },
        {
          "output_type": "stream",
          "name": "stderr",
          "text": [
            "<ipython-input-24-e31ce04631cc>:18: UserWarning: Using default sampling frequency set in configuration file.\n",
            "  carac = tsfel.time_series_features_extractor(cfg, df_arch) #Extraemos características, cfg debe estar importado\n"
          ]
        },
        {
          "output_type": "display_data",
          "data": {
            "text/plain": [
              "<IPython.core.display.HTML object>"
            ],
            "text/html": [
              "\n",
              "              <p>\n",
              "                  Progress: 100% Complete\n",
              "              <p/>            \n",
              "              <progress\n",
              "                  value='60'\n",
              "                  max='60',\n",
              "                  style='width: 25%',\n",
              "              >\n",
              "                  60\n",
              "              </progress>\n",
              "\n",
              "    "
            ]
          },
          "metadata": {}
        },
        {
          "output_type": "stream",
          "name": "stdout",
          "text": [
            "\n",
            "*** Feature extraction finished ***\n",
            "/content/drive/MyDrive/Tareas CDSI/Archivos inerciales/Inerciales_por_carpeta/Johan Strauss/Folder_file097_MJ.csv\n",
            "*** Feature extraction started ***\n",
            "60\n"
          ]
        },
        {
          "output_type": "stream",
          "name": "stderr",
          "text": [
            "<ipython-input-24-e31ce04631cc>:18: UserWarning: Using default sampling frequency set in configuration file.\n",
            "  carac = tsfel.time_series_features_extractor(cfg, df_arch) #Extraemos características, cfg debe estar importado\n"
          ]
        },
        {
          "output_type": "display_data",
          "data": {
            "text/plain": [
              "<IPython.core.display.HTML object>"
            ],
            "text/html": [
              "\n",
              "              <p>\n",
              "                  Progress: 100% Complete\n",
              "              <p/>            \n",
              "              <progress\n",
              "                  value='60'\n",
              "                  max='60',\n",
              "                  style='width: 25%',\n",
              "              >\n",
              "                  60\n",
              "              </progress>\n",
              "\n",
              "    "
            ]
          },
          "metadata": {}
        },
        {
          "output_type": "stream",
          "name": "stdout",
          "text": [
            "\n",
            "*** Feature extraction finished ***\n"
          ]
        }
      ],
      "source": [
        "Caract, Etiq = load_data(\"/content/drive/MyDrive/Tareas CDSI/Archivos inerciales/Inerciales_por_carpeta/*/*.csv\")\n"
      ]
    },
    {
      "cell_type": "code",
      "execution_count": null,
      "metadata": {
        "colab": {
          "base_uri": "https://localhost:8080/",
          "height": 539
        },
        "id": "1pt9RGowteJm",
        "outputId": "5c2ea7bb-e6d3-4577-a404-ab01db899b3f"
      },
      "outputs": [
        {
          "output_type": "execute_result",
          "data": {
            "text/plain": [
              "     0_Absolute energy  0_Area under the curve  0_Autocorrelation  0_Centroid  \\\n",
              "0           444.510265                5.968133         444.510265    9.070960   \n",
              "1           581.626878                6.966498         581.626878    3.291109   \n",
              "2           709.400737                6.510535         709.400737    7.999659   \n",
              "3            43.233331                1.735065          43.233331    3.455106   \n",
              "4           154.589198                4.187958         154.589198    4.905145   \n",
              "..                 ...                     ...                ...         ...   \n",
              "151          71.301973                1.543310          71.301973    1.341251   \n",
              "152         658.807352                7.316849         658.807352    8.912520   \n",
              "153          55.759166                1.402875          55.759166    5.074596   \n",
              "154          53.715497                1.380622          53.715497    4.937133   \n",
              "155          37.602877                1.192842          37.602877    6.665704   \n",
              "\n",
              "     0_ECDF Percentile Count_0  0_ECDF Percentile Count_1  \\\n",
              "0                        252.0                     1008.0   \n",
              "1                        254.0                     1017.0   \n",
              "2                        334.0                     1339.0   \n",
              "3                        192.0                      771.0   \n",
              "4                        241.0                      964.0   \n",
              "..                         ...                        ...   \n",
              "151                      138.0                      553.0   \n",
              "152                      252.0                     1008.0   \n",
              "153                      172.0                      688.0   \n",
              "154                      135.0                      543.0   \n",
              "155                      199.0                      796.0   \n",
              "\n",
              "     0_ECDF Percentile_0  0_ECDF Percentile_1  0_ECDF_0  0_ECDF_1  ...  \\\n",
              "0              -0.814280             0.188310  0.000794  0.001587  ...   \n",
              "1              -0.955940             0.114000  0.000786  0.001572  ...   \n",
              "2               0.090283             0.352880  0.000597  0.001195  ...   \n",
              "3              -0.006092             0.225140  0.001037  0.002075  ...   \n",
              "4              -0.419700             0.309130  0.000830  0.001660  ...   \n",
              "..                   ...                  ...       ...       ...  ...   \n",
              "151            -0.578220            -0.006566  0.001445  0.002890  ...   \n",
              "152            -0.968080            -0.064718  0.000793  0.001586  ...   \n",
              "153            -0.151600             0.128330  0.001161  0.002323  ...   \n",
              "154            -0.406660             0.109910  0.001473  0.002946  ...   \n",
              "155            -0.121190             0.077659  0.001005  0.002010  ...   \n",
              "\n",
              "     3_Wavelet variance_0  3_Wavelet variance_1  3_Wavelet variance_2  \\\n",
              "0                0.006375              0.049518              0.179855   \n",
              "1                0.001170              0.008803              0.022291   \n",
              "2                0.084300              0.416679              0.973080   \n",
              "3                0.000771              0.005725              0.012309   \n",
              "4                0.000319              0.001349              0.003564   \n",
              "..                    ...                   ...                   ...   \n",
              "151              0.000743              0.003348              0.009881   \n",
              "152              0.004021              0.031025              0.083220   \n",
              "153              0.012329              0.100052              0.289448   \n",
              "154              0.006342              0.052226              0.132649   \n",
              "155              0.010227              0.081928              0.170257   \n",
              "\n",
              "     3_Wavelet variance_3  3_Wavelet variance_4  3_Wavelet variance_5  \\\n",
              "0                0.375400              0.557141              0.691789   \n",
              "1                0.035336              0.044777              0.051455   \n",
              "2                1.592517              2.086085              2.484920   \n",
              "3                0.016834              0.020810              0.025876   \n",
              "4                0.007193              0.011399              0.015284   \n",
              "..                    ...                   ...                   ...   \n",
              "151              0.020422              0.032740              0.043711   \n",
              "152              0.146240              0.205531              0.256705   \n",
              "153              0.470958              0.616014              0.769278   \n",
              "154              0.212299              0.271834              0.328274   \n",
              "155              0.258564              0.369555              0.501668   \n",
              "\n",
              "     3_Wavelet variance_6  3_Wavelet variance_7  3_Wavelet variance_8  \\\n",
              "0                0.787198              0.860086              0.920300   \n",
              "1                0.057409              0.063651              0.070156   \n",
              "2                2.838805              3.129494              3.319133   \n",
              "3                0.032240              0.039758              0.048287   \n",
              "4                0.018449              0.021084              0.023650   \n",
              "..                    ...                   ...                   ...   \n",
              "151              0.051768              0.057501              0.062420   \n",
              "152              0.301560              0.342867              0.381673   \n",
              "153              0.953225              1.152082              1.342354   \n",
              "154              0.391879              0.460849              0.532175   \n",
              "155              0.640312              0.772813              0.891204   \n",
              "\n",
              "     3_Zero crossing rate  \n",
              "0                     0.0  \n",
              "1                     0.0  \n",
              "2                     0.0  \n",
              "3                     0.0  \n",
              "4                     0.0  \n",
              "..                    ...  \n",
              "151                   0.0  \n",
              "152                   0.0  \n",
              "153                   0.0  \n",
              "154                   0.0  \n",
              "155                   0.0  \n",
              "\n",
              "[156 rows x 1556 columns]"
            ],
            "text/html": [
              "\n",
              "  <div id=\"df-ae012d97-42f8-41c0-8363-3e7e1e67064d\">\n",
              "    <div class=\"colab-df-container\">\n",
              "      <div>\n",
              "<style scoped>\n",
              "    .dataframe tbody tr th:only-of-type {\n",
              "        vertical-align: middle;\n",
              "    }\n",
              "\n",
              "    .dataframe tbody tr th {\n",
              "        vertical-align: top;\n",
              "    }\n",
              "\n",
              "    .dataframe thead th {\n",
              "        text-align: right;\n",
              "    }\n",
              "</style>\n",
              "<table border=\"1\" class=\"dataframe\">\n",
              "  <thead>\n",
              "    <tr style=\"text-align: right;\">\n",
              "      <th></th>\n",
              "      <th>0_Absolute energy</th>\n",
              "      <th>0_Area under the curve</th>\n",
              "      <th>0_Autocorrelation</th>\n",
              "      <th>0_Centroid</th>\n",
              "      <th>0_ECDF Percentile Count_0</th>\n",
              "      <th>0_ECDF Percentile Count_1</th>\n",
              "      <th>0_ECDF Percentile_0</th>\n",
              "      <th>0_ECDF Percentile_1</th>\n",
              "      <th>0_ECDF_0</th>\n",
              "      <th>0_ECDF_1</th>\n",
              "      <th>...</th>\n",
              "      <th>3_Wavelet variance_0</th>\n",
              "      <th>3_Wavelet variance_1</th>\n",
              "      <th>3_Wavelet variance_2</th>\n",
              "      <th>3_Wavelet variance_3</th>\n",
              "      <th>3_Wavelet variance_4</th>\n",
              "      <th>3_Wavelet variance_5</th>\n",
              "      <th>3_Wavelet variance_6</th>\n",
              "      <th>3_Wavelet variance_7</th>\n",
              "      <th>3_Wavelet variance_8</th>\n",
              "      <th>3_Zero crossing rate</th>\n",
              "    </tr>\n",
              "  </thead>\n",
              "  <tbody>\n",
              "    <tr>\n",
              "      <th>0</th>\n",
              "      <td>444.510265</td>\n",
              "      <td>5.968133</td>\n",
              "      <td>444.510265</td>\n",
              "      <td>9.070960</td>\n",
              "      <td>252.0</td>\n",
              "      <td>1008.0</td>\n",
              "      <td>-0.814280</td>\n",
              "      <td>0.188310</td>\n",
              "      <td>0.000794</td>\n",
              "      <td>0.001587</td>\n",
              "      <td>...</td>\n",
              "      <td>0.006375</td>\n",
              "      <td>0.049518</td>\n",
              "      <td>0.179855</td>\n",
              "      <td>0.375400</td>\n",
              "      <td>0.557141</td>\n",
              "      <td>0.691789</td>\n",
              "      <td>0.787198</td>\n",
              "      <td>0.860086</td>\n",
              "      <td>0.920300</td>\n",
              "      <td>0.0</td>\n",
              "    </tr>\n",
              "    <tr>\n",
              "      <th>1</th>\n",
              "      <td>581.626878</td>\n",
              "      <td>6.966498</td>\n",
              "      <td>581.626878</td>\n",
              "      <td>3.291109</td>\n",
              "      <td>254.0</td>\n",
              "      <td>1017.0</td>\n",
              "      <td>-0.955940</td>\n",
              "      <td>0.114000</td>\n",
              "      <td>0.000786</td>\n",
              "      <td>0.001572</td>\n",
              "      <td>...</td>\n",
              "      <td>0.001170</td>\n",
              "      <td>0.008803</td>\n",
              "      <td>0.022291</td>\n",
              "      <td>0.035336</td>\n",
              "      <td>0.044777</td>\n",
              "      <td>0.051455</td>\n",
              "      <td>0.057409</td>\n",
              "      <td>0.063651</td>\n",
              "      <td>0.070156</td>\n",
              "      <td>0.0</td>\n",
              "    </tr>\n",
              "    <tr>\n",
              "      <th>2</th>\n",
              "      <td>709.400737</td>\n",
              "      <td>6.510535</td>\n",
              "      <td>709.400737</td>\n",
              "      <td>7.999659</td>\n",
              "      <td>334.0</td>\n",
              "      <td>1339.0</td>\n",
              "      <td>0.090283</td>\n",
              "      <td>0.352880</td>\n",
              "      <td>0.000597</td>\n",
              "      <td>0.001195</td>\n",
              "      <td>...</td>\n",
              "      <td>0.084300</td>\n",
              "      <td>0.416679</td>\n",
              "      <td>0.973080</td>\n",
              "      <td>1.592517</td>\n",
              "      <td>2.086085</td>\n",
              "      <td>2.484920</td>\n",
              "      <td>2.838805</td>\n",
              "      <td>3.129494</td>\n",
              "      <td>3.319133</td>\n",
              "      <td>0.0</td>\n",
              "    </tr>\n",
              "    <tr>\n",
              "      <th>3</th>\n",
              "      <td>43.233331</td>\n",
              "      <td>1.735065</td>\n",
              "      <td>43.233331</td>\n",
              "      <td>3.455106</td>\n",
              "      <td>192.0</td>\n",
              "      <td>771.0</td>\n",
              "      <td>-0.006092</td>\n",
              "      <td>0.225140</td>\n",
              "      <td>0.001037</td>\n",
              "      <td>0.002075</td>\n",
              "      <td>...</td>\n",
              "      <td>0.000771</td>\n",
              "      <td>0.005725</td>\n",
              "      <td>0.012309</td>\n",
              "      <td>0.016834</td>\n",
              "      <td>0.020810</td>\n",
              "      <td>0.025876</td>\n",
              "      <td>0.032240</td>\n",
              "      <td>0.039758</td>\n",
              "      <td>0.048287</td>\n",
              "      <td>0.0</td>\n",
              "    </tr>\n",
              "    <tr>\n",
              "      <th>4</th>\n",
              "      <td>154.589198</td>\n",
              "      <td>4.187958</td>\n",
              "      <td>154.589198</td>\n",
              "      <td>4.905145</td>\n",
              "      <td>241.0</td>\n",
              "      <td>964.0</td>\n",
              "      <td>-0.419700</td>\n",
              "      <td>0.309130</td>\n",
              "      <td>0.000830</td>\n",
              "      <td>0.001660</td>\n",
              "      <td>...</td>\n",
              "      <td>0.000319</td>\n",
              "      <td>0.001349</td>\n",
              "      <td>0.003564</td>\n",
              "      <td>0.007193</td>\n",
              "      <td>0.011399</td>\n",
              "      <td>0.015284</td>\n",
              "      <td>0.018449</td>\n",
              "      <td>0.021084</td>\n",
              "      <td>0.023650</td>\n",
              "      <td>0.0</td>\n",
              "    </tr>\n",
              "    <tr>\n",
              "      <th>...</th>\n",
              "      <td>...</td>\n",
              "      <td>...</td>\n",
              "      <td>...</td>\n",
              "      <td>...</td>\n",
              "      <td>...</td>\n",
              "      <td>...</td>\n",
              "      <td>...</td>\n",
              "      <td>...</td>\n",
              "      <td>...</td>\n",
              "      <td>...</td>\n",
              "      <td>...</td>\n",
              "      <td>...</td>\n",
              "      <td>...</td>\n",
              "      <td>...</td>\n",
              "      <td>...</td>\n",
              "      <td>...</td>\n",
              "      <td>...</td>\n",
              "      <td>...</td>\n",
              "      <td>...</td>\n",
              "      <td>...</td>\n",
              "      <td>...</td>\n",
              "    </tr>\n",
              "    <tr>\n",
              "      <th>151</th>\n",
              "      <td>71.301973</td>\n",
              "      <td>1.543310</td>\n",
              "      <td>71.301973</td>\n",
              "      <td>1.341251</td>\n",
              "      <td>138.0</td>\n",
              "      <td>553.0</td>\n",
              "      <td>-0.578220</td>\n",
              "      <td>-0.006566</td>\n",
              "      <td>0.001445</td>\n",
              "      <td>0.002890</td>\n",
              "      <td>...</td>\n",
              "      <td>0.000743</td>\n",
              "      <td>0.003348</td>\n",
              "      <td>0.009881</td>\n",
              "      <td>0.020422</td>\n",
              "      <td>0.032740</td>\n",
              "      <td>0.043711</td>\n",
              "      <td>0.051768</td>\n",
              "      <td>0.057501</td>\n",
              "      <td>0.062420</td>\n",
              "      <td>0.0</td>\n",
              "    </tr>\n",
              "    <tr>\n",
              "      <th>152</th>\n",
              "      <td>658.807352</td>\n",
              "      <td>7.316849</td>\n",
              "      <td>658.807352</td>\n",
              "      <td>8.912520</td>\n",
              "      <td>252.0</td>\n",
              "      <td>1008.0</td>\n",
              "      <td>-0.968080</td>\n",
              "      <td>-0.064718</td>\n",
              "      <td>0.000793</td>\n",
              "      <td>0.001586</td>\n",
              "      <td>...</td>\n",
              "      <td>0.004021</td>\n",
              "      <td>0.031025</td>\n",
              "      <td>0.083220</td>\n",
              "      <td>0.146240</td>\n",
              "      <td>0.205531</td>\n",
              "      <td>0.256705</td>\n",
              "      <td>0.301560</td>\n",
              "      <td>0.342867</td>\n",
              "      <td>0.381673</td>\n",
              "      <td>0.0</td>\n",
              "    </tr>\n",
              "    <tr>\n",
              "      <th>153</th>\n",
              "      <td>55.759166</td>\n",
              "      <td>1.402875</td>\n",
              "      <td>55.759166</td>\n",
              "      <td>5.074596</td>\n",
              "      <td>172.0</td>\n",
              "      <td>688.0</td>\n",
              "      <td>-0.151600</td>\n",
              "      <td>0.128330</td>\n",
              "      <td>0.001161</td>\n",
              "      <td>0.002323</td>\n",
              "      <td>...</td>\n",
              "      <td>0.012329</td>\n",
              "      <td>0.100052</td>\n",
              "      <td>0.289448</td>\n",
              "      <td>0.470958</td>\n",
              "      <td>0.616014</td>\n",
              "      <td>0.769278</td>\n",
              "      <td>0.953225</td>\n",
              "      <td>1.152082</td>\n",
              "      <td>1.342354</td>\n",
              "      <td>0.0</td>\n",
              "    </tr>\n",
              "    <tr>\n",
              "      <th>154</th>\n",
              "      <td>53.715497</td>\n",
              "      <td>1.380622</td>\n",
              "      <td>53.715497</td>\n",
              "      <td>4.937133</td>\n",
              "      <td>135.0</td>\n",
              "      <td>543.0</td>\n",
              "      <td>-0.406660</td>\n",
              "      <td>0.109910</td>\n",
              "      <td>0.001473</td>\n",
              "      <td>0.002946</td>\n",
              "      <td>...</td>\n",
              "      <td>0.006342</td>\n",
              "      <td>0.052226</td>\n",
              "      <td>0.132649</td>\n",
              "      <td>0.212299</td>\n",
              "      <td>0.271834</td>\n",
              "      <td>0.328274</td>\n",
              "      <td>0.391879</td>\n",
              "      <td>0.460849</td>\n",
              "      <td>0.532175</td>\n",
              "      <td>0.0</td>\n",
              "    </tr>\n",
              "    <tr>\n",
              "      <th>155</th>\n",
              "      <td>37.602877</td>\n",
              "      <td>1.192842</td>\n",
              "      <td>37.602877</td>\n",
              "      <td>6.665704</td>\n",
              "      <td>199.0</td>\n",
              "      <td>796.0</td>\n",
              "      <td>-0.121190</td>\n",
              "      <td>0.077659</td>\n",
              "      <td>0.001005</td>\n",
              "      <td>0.002010</td>\n",
              "      <td>...</td>\n",
              "      <td>0.010227</td>\n",
              "      <td>0.081928</td>\n",
              "      <td>0.170257</td>\n",
              "      <td>0.258564</td>\n",
              "      <td>0.369555</td>\n",
              "      <td>0.501668</td>\n",
              "      <td>0.640312</td>\n",
              "      <td>0.772813</td>\n",
              "      <td>0.891204</td>\n",
              "      <td>0.0</td>\n",
              "    </tr>\n",
              "  </tbody>\n",
              "</table>\n",
              "<p>156 rows × 1556 columns</p>\n",
              "</div>\n",
              "      <button class=\"colab-df-convert\" onclick=\"convertToInteractive('df-ae012d97-42f8-41c0-8363-3e7e1e67064d')\"\n",
              "              title=\"Convert this dataframe to an interactive table.\"\n",
              "              style=\"display:none;\">\n",
              "        \n",
              "  <svg xmlns=\"http://www.w3.org/2000/svg\" height=\"24px\"viewBox=\"0 0 24 24\"\n",
              "       width=\"24px\">\n",
              "    <path d=\"M0 0h24v24H0V0z\" fill=\"none\"/>\n",
              "    <path d=\"M18.56 5.44l.94 2.06.94-2.06 2.06-.94-2.06-.94-.94-2.06-.94 2.06-2.06.94zm-11 1L8.5 8.5l.94-2.06 2.06-.94-2.06-.94L8.5 2.5l-.94 2.06-2.06.94zm10 10l.94 2.06.94-2.06 2.06-.94-2.06-.94-.94-2.06-.94 2.06-2.06.94z\"/><path d=\"M17.41 7.96l-1.37-1.37c-.4-.4-.92-.59-1.43-.59-.52 0-1.04.2-1.43.59L10.3 9.45l-7.72 7.72c-.78.78-.78 2.05 0 2.83L4 21.41c.39.39.9.59 1.41.59.51 0 1.02-.2 1.41-.59l7.78-7.78 2.81-2.81c.8-.78.8-2.07 0-2.86zM5.41 20L4 18.59l7.72-7.72 1.47 1.35L5.41 20z\"/>\n",
              "  </svg>\n",
              "      </button>\n",
              "      \n",
              "  <style>\n",
              "    .colab-df-container {\n",
              "      display:flex;\n",
              "      flex-wrap:wrap;\n",
              "      gap: 12px;\n",
              "    }\n",
              "\n",
              "    .colab-df-convert {\n",
              "      background-color: #E8F0FE;\n",
              "      border: none;\n",
              "      border-radius: 50%;\n",
              "      cursor: pointer;\n",
              "      display: none;\n",
              "      fill: #1967D2;\n",
              "      height: 32px;\n",
              "      padding: 0 0 0 0;\n",
              "      width: 32px;\n",
              "    }\n",
              "\n",
              "    .colab-df-convert:hover {\n",
              "      background-color: #E2EBFA;\n",
              "      box-shadow: 0px 1px 2px rgba(60, 64, 67, 0.3), 0px 1px 3px 1px rgba(60, 64, 67, 0.15);\n",
              "      fill: #174EA6;\n",
              "    }\n",
              "\n",
              "    [theme=dark] .colab-df-convert {\n",
              "      background-color: #3B4455;\n",
              "      fill: #D2E3FC;\n",
              "    }\n",
              "\n",
              "    [theme=dark] .colab-df-convert:hover {\n",
              "      background-color: #434B5C;\n",
              "      box-shadow: 0px 1px 3px 1px rgba(0, 0, 0, 0.15);\n",
              "      filter: drop-shadow(0px 1px 2px rgba(0, 0, 0, 0.3));\n",
              "      fill: #FFFFFF;\n",
              "    }\n",
              "  </style>\n",
              "\n",
              "      <script>\n",
              "        const buttonEl =\n",
              "          document.querySelector('#df-ae012d97-42f8-41c0-8363-3e7e1e67064d button.colab-df-convert');\n",
              "        buttonEl.style.display =\n",
              "          google.colab.kernel.accessAllowed ? 'block' : 'none';\n",
              "\n",
              "        async function convertToInteractive(key) {\n",
              "          const element = document.querySelector('#df-ae012d97-42f8-41c0-8363-3e7e1e67064d');\n",
              "          const dataTable =\n",
              "            await google.colab.kernel.invokeFunction('convertToInteractive',\n",
              "                                                     [key], {});\n",
              "          if (!dataTable) return;\n",
              "\n",
              "          const docLinkHtml = 'Like what you see? Visit the ' +\n",
              "            '<a target=\"_blank\" href=https://colab.research.google.com/notebooks/data_table.ipynb>data table notebook</a>'\n",
              "            + ' to learn more about interactive tables.';\n",
              "          element.innerHTML = '';\n",
              "          dataTable['output_type'] = 'display_data';\n",
              "          await google.colab.output.renderOutput(dataTable, element);\n",
              "          const docLink = document.createElement('div');\n",
              "          docLink.innerHTML = docLinkHtml;\n",
              "          element.appendChild(docLink);\n",
              "        }\n",
              "      </script>\n",
              "    </div>\n",
              "  </div>\n",
              "  "
            ]
          },
          "metadata": {},
          "execution_count": 27
        }
      ],
      "source": [
        "Caract"
      ]
    },
    {
      "cell_type": "markdown",
      "source": [
        "Las **etiquetas** representan lo siguiente:\n",
        "- MW - actividades que involucran caminar.\n",
        "- MR - actividades que involucran correr.\n",
        "- MJ - actividades que involucran saltar.\n",
        "- WD - actividades que involucran bajar escaleras.\n",
        "- WU - actividades que involucran subir escaleras.\n",
        "- FF - actividades que involucran caer de frente.\n",
        "- FS - actividades que involucran caer de lateral.\n",
        "- FB - actividades que involucran caer de espalda.\n",
        "- LD - actividades que involucran estando acostado.\n",
        "- OT - Otras. Actividades que involucran estar sentado, parado o levantarse de una posición acostada.\n",
        "\n",
        "Para entender que involucran FF, FS y FB puede ver el link: https://www.researchgate.net/figure/Fall-patterns-performed-by-the-ten-subjects_fig1_323079154"
      ],
      "metadata": {
        "id": "H1SToFnAIdml"
      }
    },
    {
      "cell_type": "code",
      "execution_count": null,
      "metadata": {
        "colab": {
          "base_uri": "https://localhost:8080/",
          "height": 423
        },
        "id": "mwgqTfHMtgV_",
        "outputId": "8e82482d-cde1-4f99-91e1-3f019ceb921b"
      },
      "outputs": [
        {
          "output_type": "execute_result",
          "data": {
            "text/plain": [
              "    Etiqueta\n",
              "0         LD\n",
              "1         OT\n",
              "2         MR\n",
              "3         OT\n",
              "4         OT\n",
              "..       ...\n",
              "151       OT\n",
              "152       LD\n",
              "153       MJ\n",
              "154       OT\n",
              "155       MJ\n",
              "\n",
              "[156 rows x 1 columns]"
            ],
            "text/html": [
              "\n",
              "  <div id=\"df-9882ed85-48e4-4928-8414-a1df13da3592\">\n",
              "    <div class=\"colab-df-container\">\n",
              "      <div>\n",
              "<style scoped>\n",
              "    .dataframe tbody tr th:only-of-type {\n",
              "        vertical-align: middle;\n",
              "    }\n",
              "\n",
              "    .dataframe tbody tr th {\n",
              "        vertical-align: top;\n",
              "    }\n",
              "\n",
              "    .dataframe thead th {\n",
              "        text-align: right;\n",
              "    }\n",
              "</style>\n",
              "<table border=\"1\" class=\"dataframe\">\n",
              "  <thead>\n",
              "    <tr style=\"text-align: right;\">\n",
              "      <th></th>\n",
              "      <th>Etiqueta</th>\n",
              "    </tr>\n",
              "  </thead>\n",
              "  <tbody>\n",
              "    <tr>\n",
              "      <th>0</th>\n",
              "      <td>LD</td>\n",
              "    </tr>\n",
              "    <tr>\n",
              "      <th>1</th>\n",
              "      <td>OT</td>\n",
              "    </tr>\n",
              "    <tr>\n",
              "      <th>2</th>\n",
              "      <td>MR</td>\n",
              "    </tr>\n",
              "    <tr>\n",
              "      <th>3</th>\n",
              "      <td>OT</td>\n",
              "    </tr>\n",
              "    <tr>\n",
              "      <th>4</th>\n",
              "      <td>OT</td>\n",
              "    </tr>\n",
              "    <tr>\n",
              "      <th>...</th>\n",
              "      <td>...</td>\n",
              "    </tr>\n",
              "    <tr>\n",
              "      <th>151</th>\n",
              "      <td>OT</td>\n",
              "    </tr>\n",
              "    <tr>\n",
              "      <th>152</th>\n",
              "      <td>LD</td>\n",
              "    </tr>\n",
              "    <tr>\n",
              "      <th>153</th>\n",
              "      <td>MJ</td>\n",
              "    </tr>\n",
              "    <tr>\n",
              "      <th>154</th>\n",
              "      <td>OT</td>\n",
              "    </tr>\n",
              "    <tr>\n",
              "      <th>155</th>\n",
              "      <td>MJ</td>\n",
              "    </tr>\n",
              "  </tbody>\n",
              "</table>\n",
              "<p>156 rows × 1 columns</p>\n",
              "</div>\n",
              "      <button class=\"colab-df-convert\" onclick=\"convertToInteractive('df-9882ed85-48e4-4928-8414-a1df13da3592')\"\n",
              "              title=\"Convert this dataframe to an interactive table.\"\n",
              "              style=\"display:none;\">\n",
              "        \n",
              "  <svg xmlns=\"http://www.w3.org/2000/svg\" height=\"24px\"viewBox=\"0 0 24 24\"\n",
              "       width=\"24px\">\n",
              "    <path d=\"M0 0h24v24H0V0z\" fill=\"none\"/>\n",
              "    <path d=\"M18.56 5.44l.94 2.06.94-2.06 2.06-.94-2.06-.94-.94-2.06-.94 2.06-2.06.94zm-11 1L8.5 8.5l.94-2.06 2.06-.94-2.06-.94L8.5 2.5l-.94 2.06-2.06.94zm10 10l.94 2.06.94-2.06 2.06-.94-2.06-.94-.94-2.06-.94 2.06-2.06.94z\"/><path d=\"M17.41 7.96l-1.37-1.37c-.4-.4-.92-.59-1.43-.59-.52 0-1.04.2-1.43.59L10.3 9.45l-7.72 7.72c-.78.78-.78 2.05 0 2.83L4 21.41c.39.39.9.59 1.41.59.51 0 1.02-.2 1.41-.59l7.78-7.78 2.81-2.81c.8-.78.8-2.07 0-2.86zM5.41 20L4 18.59l7.72-7.72 1.47 1.35L5.41 20z\"/>\n",
              "  </svg>\n",
              "      </button>\n",
              "      \n",
              "  <style>\n",
              "    .colab-df-container {\n",
              "      display:flex;\n",
              "      flex-wrap:wrap;\n",
              "      gap: 12px;\n",
              "    }\n",
              "\n",
              "    .colab-df-convert {\n",
              "      background-color: #E8F0FE;\n",
              "      border: none;\n",
              "      border-radius: 50%;\n",
              "      cursor: pointer;\n",
              "      display: none;\n",
              "      fill: #1967D2;\n",
              "      height: 32px;\n",
              "      padding: 0 0 0 0;\n",
              "      width: 32px;\n",
              "    }\n",
              "\n",
              "    .colab-df-convert:hover {\n",
              "      background-color: #E2EBFA;\n",
              "      box-shadow: 0px 1px 2px rgba(60, 64, 67, 0.3), 0px 1px 3px 1px rgba(60, 64, 67, 0.15);\n",
              "      fill: #174EA6;\n",
              "    }\n",
              "\n",
              "    [theme=dark] .colab-df-convert {\n",
              "      background-color: #3B4455;\n",
              "      fill: #D2E3FC;\n",
              "    }\n",
              "\n",
              "    [theme=dark] .colab-df-convert:hover {\n",
              "      background-color: #434B5C;\n",
              "      box-shadow: 0px 1px 3px 1px rgba(0, 0, 0, 0.15);\n",
              "      filter: drop-shadow(0px 1px 2px rgba(0, 0, 0, 0.3));\n",
              "      fill: #FFFFFF;\n",
              "    }\n",
              "  </style>\n",
              "\n",
              "      <script>\n",
              "        const buttonEl =\n",
              "          document.querySelector('#df-9882ed85-48e4-4928-8414-a1df13da3592 button.colab-df-convert');\n",
              "        buttonEl.style.display =\n",
              "          google.colab.kernel.accessAllowed ? 'block' : 'none';\n",
              "\n",
              "        async function convertToInteractive(key) {\n",
              "          const element = document.querySelector('#df-9882ed85-48e4-4928-8414-a1df13da3592');\n",
              "          const dataTable =\n",
              "            await google.colab.kernel.invokeFunction('convertToInteractive',\n",
              "                                                     [key], {});\n",
              "          if (!dataTable) return;\n",
              "\n",
              "          const docLinkHtml = 'Like what you see? Visit the ' +\n",
              "            '<a target=\"_blank\" href=https://colab.research.google.com/notebooks/data_table.ipynb>data table notebook</a>'\n",
              "            + ' to learn more about interactive tables.';\n",
              "          element.innerHTML = '';\n",
              "          dataTable['output_type'] = 'display_data';\n",
              "          await google.colab.output.renderOutput(dataTable, element);\n",
              "          const docLink = document.createElement('div');\n",
              "          docLink.innerHTML = docLinkHtml;\n",
              "          element.appendChild(docLink);\n",
              "        }\n",
              "      </script>\n",
              "    </div>\n",
              "  </div>\n",
              "  "
            ]
          },
          "metadata": {},
          "execution_count": 28
        }
      ],
      "source": [
        "Etiq"
      ]
    },
    {
      "cell_type": "code",
      "source": [
        "YD = Etiq.values.flatten().tolist()\n"
      ],
      "metadata": {
        "id": "Ftr789GLL8jT"
      },
      "execution_count": null,
      "outputs": []
    },
    {
      "cell_type": "code",
      "execution_count": null,
      "metadata": {
        "id": "Nhq7O-gzb_L4"
      },
      "outputs": [],
      "source": [
        "#Corregimos posibles NaN´s del arreglo df de características\n",
        "imputer_Caract = SimpleImputer(missing_values=np.nan, strategy=\"mean\") #sustituimos los NaN´s por la media de la fila\n",
        "imputer_Caract = imputer_Caract.fit(Caract)\n",
        "Caract = imputer_Caract.transform(Caract) #Arreglo numpy sin NaN´s"
      ]
    },
    {
      "cell_type": "code",
      "execution_count": null,
      "metadata": {
        "id": "fY09AFc1doDY"
      },
      "outputs": [],
      "source": [
        "XD = Caract"
      ]
    },
    {
      "cell_type": "markdown",
      "metadata": {
        "id": "gOa9rrXEYdi9"
      },
      "source": [
        "###Modelación\n"
      ]
    },
    {
      "cell_type": "code",
      "execution_count": null,
      "metadata": {
        "id": "3YHJE0G-YK1V"
      },
      "outputs": [],
      "source": [
        "from sklearn import metrics\n",
        "from sklearn.metrics import accuracy_score\n",
        "from sklearn.metrics import confusion_matrix\n",
        "from sklearn.metrics import accuracy_score\n",
        "from sklearn.metrics import classification_report\n",
        "import seaborn as sns\n",
        "from sklearn.metrics import ConfusionMatrixDisplay\n"
      ]
    },
    {
      "cell_type": "code",
      "execution_count": null,
      "metadata": {
        "id": "IEiebC9kYjzQ"
      },
      "outputs": [],
      "source": [
        "from sklearn.model_selection import train_test_split"
      ]
    },
    {
      "cell_type": "code",
      "execution_count": null,
      "metadata": {
        "id": "4GLHD_pQYlYP"
      },
      "outputs": [],
      "source": [
        "X_train, X_test, Y_train, Y_test = train_test_split(XD, YD, test_size = 0.2 , random_state = 0)"
      ]
    },
    {
      "cell_type": "code",
      "source": [
        "from sklearn.preprocessing import StandardScaler"
      ],
      "metadata": {
        "id": "GP9NME8uMqfn"
      },
      "execution_count": null,
      "outputs": []
    },
    {
      "cell_type": "code",
      "source": [
        "sc_X = StandardScaler() #Escalado de Variables\n",
        "X_train = sc_X.fit_transform(X_train)\n",
        "X_test = sc_X.transform(X_test)"
      ],
      "metadata": {
        "id": "4cKxn6i_MuwD"
      },
      "execution_count": null,
      "outputs": []
    },
    {
      "cell_type": "markdown",
      "metadata": {
        "id": "icv-fMmLo595"
      },
      "source": [
        "###Naive Bayes BY"
      ]
    },
    {
      "cell_type": "code",
      "execution_count": null,
      "metadata": {
        "id": "3QqnzmwRm6Z6"
      },
      "outputs": [],
      "source": [
        "from sklearn.naive_bayes import GaussianNB"
      ]
    },
    {
      "cell_type": "code",
      "execution_count": null,
      "metadata": {
        "colab": {
          "base_uri": "https://localhost:8080/",
          "height": 74
        },
        "id": "ZPFbRyF3pBss",
        "outputId": "4fac5a8a-29fd-49be-f34a-def4aa30d665"
      },
      "outputs": [
        {
          "output_type": "execute_result",
          "data": {
            "text/plain": [
              "GaussianNB()"
            ],
            "text/html": [
              "<style>#sk-container-id-1 {color: black;background-color: white;}#sk-container-id-1 pre{padding: 0;}#sk-container-id-1 div.sk-toggleable {background-color: white;}#sk-container-id-1 label.sk-toggleable__label {cursor: pointer;display: block;width: 100%;margin-bottom: 0;padding: 0.3em;box-sizing: border-box;text-align: center;}#sk-container-id-1 label.sk-toggleable__label-arrow:before {content: \"▸\";float: left;margin-right: 0.25em;color: #696969;}#sk-container-id-1 label.sk-toggleable__label-arrow:hover:before {color: black;}#sk-container-id-1 div.sk-estimator:hover label.sk-toggleable__label-arrow:before {color: black;}#sk-container-id-1 div.sk-toggleable__content {max-height: 0;max-width: 0;overflow: hidden;text-align: left;background-color: #f0f8ff;}#sk-container-id-1 div.sk-toggleable__content pre {margin: 0.2em;color: black;border-radius: 0.25em;background-color: #f0f8ff;}#sk-container-id-1 input.sk-toggleable__control:checked~div.sk-toggleable__content {max-height: 200px;max-width: 100%;overflow: auto;}#sk-container-id-1 input.sk-toggleable__control:checked~label.sk-toggleable__label-arrow:before {content: \"▾\";}#sk-container-id-1 div.sk-estimator input.sk-toggleable__control:checked~label.sk-toggleable__label {background-color: #d4ebff;}#sk-container-id-1 div.sk-label input.sk-toggleable__control:checked~label.sk-toggleable__label {background-color: #d4ebff;}#sk-container-id-1 input.sk-hidden--visually {border: 0;clip: rect(1px 1px 1px 1px);clip: rect(1px, 1px, 1px, 1px);height: 1px;margin: -1px;overflow: hidden;padding: 0;position: absolute;width: 1px;}#sk-container-id-1 div.sk-estimator {font-family: monospace;background-color: #f0f8ff;border: 1px dotted black;border-radius: 0.25em;box-sizing: border-box;margin-bottom: 0.5em;}#sk-container-id-1 div.sk-estimator:hover {background-color: #d4ebff;}#sk-container-id-1 div.sk-parallel-item::after {content: \"\";width: 100%;border-bottom: 1px solid gray;flex-grow: 1;}#sk-container-id-1 div.sk-label:hover label.sk-toggleable__label {background-color: #d4ebff;}#sk-container-id-1 div.sk-serial::before {content: \"\";position: absolute;border-left: 1px solid gray;box-sizing: border-box;top: 0;bottom: 0;left: 50%;z-index: 0;}#sk-container-id-1 div.sk-serial {display: flex;flex-direction: column;align-items: center;background-color: white;padding-right: 0.2em;padding-left: 0.2em;position: relative;}#sk-container-id-1 div.sk-item {position: relative;z-index: 1;}#sk-container-id-1 div.sk-parallel {display: flex;align-items: stretch;justify-content: center;background-color: white;position: relative;}#sk-container-id-1 div.sk-item::before, #sk-container-id-1 div.sk-parallel-item::before {content: \"\";position: absolute;border-left: 1px solid gray;box-sizing: border-box;top: 0;bottom: 0;left: 50%;z-index: -1;}#sk-container-id-1 div.sk-parallel-item {display: flex;flex-direction: column;z-index: 1;position: relative;background-color: white;}#sk-container-id-1 div.sk-parallel-item:first-child::after {align-self: flex-end;width: 50%;}#sk-container-id-1 div.sk-parallel-item:last-child::after {align-self: flex-start;width: 50%;}#sk-container-id-1 div.sk-parallel-item:only-child::after {width: 0;}#sk-container-id-1 div.sk-dashed-wrapped {border: 1px dashed gray;margin: 0 0.4em 0.5em 0.4em;box-sizing: border-box;padding-bottom: 0.4em;background-color: white;}#sk-container-id-1 div.sk-label label {font-family: monospace;font-weight: bold;display: inline-block;line-height: 1.2em;}#sk-container-id-1 div.sk-label-container {text-align: center;}#sk-container-id-1 div.sk-container {/* jupyter's `normalize.less` sets `[hidden] { display: none; }` but bootstrap.min.css set `[hidden] { display: none !important; }` so we also need the `!important` here to be able to override the default hidden behavior on the sphinx rendered scikit-learn.org. See: https://github.com/scikit-learn/scikit-learn/issues/21755 */display: inline-block !important;position: relative;}#sk-container-id-1 div.sk-text-repr-fallback {display: none;}</style><div id=\"sk-container-id-1\" class=\"sk-top-container\"><div class=\"sk-text-repr-fallback\"><pre>GaussianNB()</pre><b>In a Jupyter environment, please rerun this cell to show the HTML representation or trust the notebook. <br />On GitHub, the HTML representation is unable to render, please try loading this page with nbviewer.org.</b></div><div class=\"sk-container\" hidden><div class=\"sk-item\"><div class=\"sk-estimator sk-toggleable\"><input class=\"sk-toggleable__control sk-hidden--visually\" id=\"sk-estimator-id-1\" type=\"checkbox\" checked><label for=\"sk-estimator-id-1\" class=\"sk-toggleable__label sk-toggleable__label-arrow\">GaussianNB</label><div class=\"sk-toggleable__content\"><pre>GaussianNB()</pre></div></div></div></div></div>"
            ]
          },
          "metadata": {},
          "execution_count": 38
        }
      ],
      "source": [
        "NB = GaussianNB()\n",
        "NB.fit(X_train,Y_train)"
      ]
    },
    {
      "cell_type": "code",
      "execution_count": null,
      "metadata": {
        "id": "rMMwUcecpCVm"
      },
      "outputs": [],
      "source": [
        "NB_predict = NB.predict(X_test)"
      ]
    },
    {
      "cell_type": "code",
      "execution_count": null,
      "metadata": {
        "colab": {
          "base_uri": "https://localhost:8080/",
          "height": 922
        },
        "id": "QXiLQJY4pFY7",
        "outputId": "9cf62f84-b800-454a-b346-ae79508c5346"
      },
      "outputs": [
        {
          "output_type": "stream",
          "name": "stdout",
          "text": [
            "0.75\n",
            "              precision    recall  f1-score   support\n",
            "\n",
            "          FB       1.00      0.67      0.80         3\n",
            "          FF       1.00      1.00      1.00         1\n",
            "          FS       0.67      1.00      0.80         2\n",
            "          LD       1.00      0.33      0.50         3\n",
            "          MJ       0.86      0.86      0.86         7\n",
            "          MR       0.25      1.00      0.40         1\n",
            "          MW       1.00      0.75      0.86         4\n",
            "          OT       0.67      1.00      0.80         4\n",
            "          WD       0.80      0.80      0.80         5\n",
            "          WU       0.00      0.00      0.00         2\n",
            "\n",
            "    accuracy                           0.75        32\n",
            "   macro avg       0.72      0.74      0.68        32\n",
            "weighted avg       0.79      0.75      0.74        32\n",
            "\n",
            "Conf. Matrix NB\n",
            "[[2 0 1 0 0 0 0 0 0 0]\n",
            " [0 1 0 0 0 0 0 0 0 0]\n",
            " [0 0 2 0 0 0 0 0 0 0]\n",
            " [0 0 0 1 0 0 0 2 0 0]\n",
            " [0 0 0 0 6 1 0 0 0 0]\n",
            " [0 0 0 0 0 1 0 0 0 0]\n",
            " [0 0 0 0 1 0 3 0 0 0]\n",
            " [0 0 0 0 0 0 0 4 0 0]\n",
            " [0 0 0 0 0 1 0 0 4 0]\n",
            " [0 0 0 0 0 1 0 0 1 0]]\n"
          ]
        },
        {
          "output_type": "stream",
          "name": "stderr",
          "text": [
            "/usr/local/lib/python3.9/dist-packages/sklearn/metrics/_classification.py:1344: UndefinedMetricWarning: Precision and F-score are ill-defined and being set to 0.0 in labels with no predicted samples. Use `zero_division` parameter to control this behavior.\n",
            "  _warn_prf(average, modifier, msg_start, len(result))\n",
            "/usr/local/lib/python3.9/dist-packages/sklearn/metrics/_classification.py:1344: UndefinedMetricWarning: Precision and F-score are ill-defined and being set to 0.0 in labels with no predicted samples. Use `zero_division` parameter to control this behavior.\n",
            "  _warn_prf(average, modifier, msg_start, len(result))\n",
            "/usr/local/lib/python3.9/dist-packages/sklearn/metrics/_classification.py:1344: UndefinedMetricWarning: Precision and F-score are ill-defined and being set to 0.0 in labels with no predicted samples. Use `zero_division` parameter to control this behavior.\n",
            "  _warn_prf(average, modifier, msg_start, len(result))\n"
          ]
        },
        {
          "output_type": "display_data",
          "data": {
            "text/plain": [
              "<Figure size 432x288 with 2 Axes>"
            ],
            "image/png": "[encoded data removed]"
          },
          "metadata": {
            "needs_background": "light"
          }
        }
      ],
      "source": [
        "print(accuracy_score(Y_test,y_pred=NB_predict))\n",
        "print(classification_report(Y_test, NB_predict))\n",
        "\n",
        "disp = ConfusionMatrixDisplay.from_estimator(\n",
        "        NB,\n",
        "        X_test,\n",
        "        Y_test,\n",
        "        cmap=plt.cm.Blues\n",
        "    )\n",
        "disp.ax_.set_title(\"Conf. Matrix  NB\")\n",
        "\n",
        "print(\"Conf. Matrix NB\")\n",
        "print(disp.confusion_matrix)\n"
      ]
    },
    {
      "cell_type": "markdown",
      "metadata": {
        "id": "uRIQsrtnqCok"
      },
      "source": [
        "### KNN"
      ]
    },
    {
      "cell_type": "code",
      "execution_count": null,
      "metadata": {
        "id": "ueqPp1dbqjdU"
      },
      "outputs": [],
      "source": [
        "from sklearn.neighbors import KNeighborsClassifier\n",
        "classifier_kn = KNeighborsClassifier(n_neighbors=15, metric = \"minkowski\", p=2)"
      ]
    },
    {
      "cell_type": "code",
      "execution_count": null,
      "metadata": {
        "colab": {
          "base_uri": "https://localhost:8080/",
          "height": 74
        },
        "id": "KfkWiLNTqw4y",
        "outputId": "bedc3809-be45-43c9-d377-1a91b7093b6e"
      },
      "outputs": [
        {
          "output_type": "execute_result",
          "data": {
            "text/plain": [
              "KNeighborsClassifier(n_neighbors=15)"
            ],
            "text/html": [
              "<style>#sk-container-id-2 {color: black;background-color: white;}#sk-container-id-2 pre{padding: 0;}#sk-container-id-2 div.sk-toggleable {background-color: white;}#sk-container-id-2 label.sk-toggleable__label {cursor: pointer;display: block;width: 100%;margin-bottom: 0;padding: 0.3em;box-sizing: border-box;text-align: center;}#sk-container-id-2 label.sk-toggleable__label-arrow:before {content: \"▸\";float: left;margin-right: 0.25em;color: #696969;}#sk-container-id-2 label.sk-toggleable__label-arrow:hover:before {color: black;}#sk-container-id-2 div.sk-estimator:hover label.sk-toggleable__label-arrow:before {color: black;}#sk-container-id-2 div.sk-toggleable__content {max-height: 0;max-width: 0;overflow: hidden;text-align: left;background-color: #f0f8ff;}#sk-container-id-2 div.sk-toggleable__content pre {margin: 0.2em;color: black;border-radius: 0.25em;background-color: #f0f8ff;}#sk-container-id-2 input.sk-toggleable__control:checked~div.sk-toggleable__content {max-height: 200px;max-width: 100%;overflow: auto;}#sk-container-id-2 input.sk-toggleable__control:checked~label.sk-toggleable__label-arrow:before {content: \"▾\";}#sk-container-id-2 div.sk-estimator input.sk-toggleable__control:checked~label.sk-toggleable__label {background-color: #d4ebff;}#sk-container-id-2 div.sk-label input.sk-toggleable__control:checked~label.sk-toggleable__label {background-color: #d4ebff;}#sk-container-id-2 input.sk-hidden--visually {border: 0;clip: rect(1px 1px 1px 1px);clip: rect(1px, 1px, 1px, 1px);height: 1px;margin: -1px;overflow: hidden;padding: 0;position: absolute;width: 1px;}#sk-container-id-2 div.sk-estimator {font-family: monospace;background-color: #f0f8ff;border: 1px dotted black;border-radius: 0.25em;box-sizing: border-box;margin-bottom: 0.5em;}#sk-container-id-2 div.sk-estimator:hover {background-color: #d4ebff;}#sk-container-id-2 div.sk-parallel-item::after {content: \"\";width: 100%;border-bottom: 1px solid gray;flex-grow: 1;}#sk-container-id-2 div.sk-label:hover label.sk-toggleable__label {background-color: #d4ebff;}#sk-container-id-2 div.sk-serial::before {content: \"\";position: absolute;border-left: 1px solid gray;box-sizing: border-box;top: 0;bottom: 0;left: 50%;z-index: 0;}#sk-container-id-2 div.sk-serial {display: flex;flex-direction: column;align-items: center;background-color: white;padding-right: 0.2em;padding-left: 0.2em;position: relative;}#sk-container-id-2 div.sk-item {position: relative;z-index: 1;}#sk-container-id-2 div.sk-parallel {display: flex;align-items: stretch;justify-content: center;background-color: white;position: relative;}#sk-container-id-2 div.sk-item::before, #sk-container-id-2 div.sk-parallel-item::before {content: \"\";position: absolute;border-left: 1px solid gray;box-sizing: border-box;top: 0;bottom: 0;left: 50%;z-index: -1;}#sk-container-id-2 div.sk-parallel-item {display: flex;flex-direction: column;z-index: 1;position: relative;background-color: white;}#sk-container-id-2 div.sk-parallel-item:first-child::after {align-self: flex-end;width: 50%;}#sk-container-id-2 div.sk-parallel-item:last-child::after {align-self: flex-start;width: 50%;}#sk-container-id-2 div.sk-parallel-item:only-child::after {width: 0;}#sk-container-id-2 div.sk-dashed-wrapped {border: 1px dashed gray;margin: 0 0.4em 0.5em 0.4em;box-sizing: border-box;padding-bottom: 0.4em;background-color: white;}#sk-container-id-2 div.sk-label label {font-family: monospace;font-weight: bold;display: inline-block;line-height: 1.2em;}#sk-container-id-2 div.sk-label-container {text-align: center;}#sk-container-id-2 div.sk-container {/* jupyter's `normalize.less` sets `[hidden] { display: none; }` but bootstrap.min.css set `[hidden] { display: none !important; }` so we also need the `!important` here to be able to override the default hidden behavior on the sphinx rendered scikit-learn.org. See: https://github.com/scikit-learn/scikit-learn/issues/21755 */display: inline-block !important;position: relative;}#sk-container-id-2 div.sk-text-repr-fallback {display: none;}</style><div id=\"sk-container-id-2\" class=\"sk-top-container\"><div class=\"sk-text-repr-fallback\"><pre>KNeighborsClassifier(n_neighbors=15)</pre><b>In a Jupyter environment, please rerun this cell to show the HTML representation or trust the notebook. <br />On GitHub, the HTML representation is unable to render, please try loading this page with nbviewer.org.</b></div><div class=\"sk-container\" hidden><div class=\"sk-item\"><div class=\"sk-estimator sk-toggleable\"><input class=\"sk-toggleable__control sk-hidden--visually\" id=\"sk-estimator-id-2\" type=\"checkbox\" checked><label for=\"sk-estimator-id-2\" class=\"sk-toggleable__label sk-toggleable__label-arrow\">KNeighborsClassifier</label><div class=\"sk-toggleable__content\"><pre>KNeighborsClassifier(n_neighbors=15)</pre></div></div></div></div></div>"
            ]
          },
          "metadata": {},
          "execution_count": 42
        }
      ],
      "source": [
        "classifier_kn.fit(X_train, Y_train)"
      ]
    },
    {
      "cell_type": "code",
      "execution_count": null,
      "metadata": {
        "id": "8hojQV-1q9nS"
      },
      "outputs": [],
      "source": [
        "KNN_pred = classifier_kn.predict(X_test)"
      ]
    },
    {
      "cell_type": "code",
      "execution_count": null,
      "metadata": {
        "colab": {
          "base_uri": "https://localhost:8080/",
          "height": 922
        },
        "id": "P1C2IgtZrFsj",
        "outputId": "f1b2bd53-40cd-425a-bad7-b4a3a1053d0c"
      },
      "outputs": [
        {
          "output_type": "stream",
          "name": "stdout",
          "text": [
            "0.59375\n",
            "              precision    recall  f1-score   support\n",
            "\n",
            "          FB       0.50      0.33      0.40         3\n",
            "          FF       0.00      0.00      0.00         1\n",
            "          FS       1.00      0.50      0.67         2\n",
            "          LD       0.00      0.00      0.00         3\n",
            "          MJ       1.00      0.71      0.83         7\n",
            "          MR       0.50      1.00      0.67         1\n",
            "          MW       0.67      1.00      0.80         4\n",
            "          OT       0.57      1.00      0.73         4\n",
            "          WD       1.00      0.20      0.33         5\n",
            "          WU       0.33      1.00      0.50         2\n",
            "\n",
            "    accuracy                           0.59        32\n",
            "   macro avg       0.56      0.57      0.49        32\n",
            "weighted avg       0.68      0.59      0.56        32\n",
            "\n"
          ]
        },
        {
          "output_type": "stream",
          "name": "stderr",
          "text": [
            "/usr/local/lib/python3.9/dist-packages/sklearn/metrics/_classification.py:1344: UndefinedMetricWarning: Precision and F-score are ill-defined and being set to 0.0 in labels with no predicted samples. Use `zero_division` parameter to control this behavior.\n",
            "  _warn_prf(average, modifier, msg_start, len(result))\n",
            "/usr/local/lib/python3.9/dist-packages/sklearn/metrics/_classification.py:1344: UndefinedMetricWarning: Precision and F-score are ill-defined and being set to 0.0 in labels with no predicted samples. Use `zero_division` parameter to control this behavior.\n",
            "  _warn_prf(average, modifier, msg_start, len(result))\n",
            "/usr/local/lib/python3.9/dist-packages/sklearn/metrics/_classification.py:1344: UndefinedMetricWarning: Precision and F-score are ill-defined and being set to 0.0 in labels with no predicted samples. Use `zero_division` parameter to control this behavior.\n",
            "  _warn_prf(average, modifier, msg_start, len(result))\n"
          ]
        },
        {
          "output_type": "stream",
          "name": "stdout",
          "text": [
            "Conf. Matrix KNN\n",
            "[[1 0 0 2 0 0 0 0 0 0]\n",
            " [1 0 0 0 0 0 0 0 0 0]\n",
            " [0 0 1 0 0 0 1 0 0 0]\n",
            " [0 0 0 0 0 0 0 3 0 0]\n",
            " [0 0 0 0 5 1 1 0 0 0]\n",
            " [0 0 0 0 0 1 0 0 0 0]\n",
            " [0 0 0 0 0 0 4 0 0 0]\n",
            " [0 0 0 0 0 0 0 4 0 0]\n",
            " [0 0 0 0 0 0 0 0 1 4]\n",
            " [0 0 0 0 0 0 0 0 0 2]]\n"
          ]
        },
        {
          "output_type": "display_data",
          "data": {
            "text/plain": [
              "<Figure size 432x288 with 2 Axes>"
            ],
            "image/png": "[encoded data removed]"
          },
          "metadata": {
            "needs_background": "light"
          }
        }
      ],
      "source": [
        "print(accuracy_score(Y_test,y_pred=KNN_pred))\n",
        "print(classification_report(Y_test, KNN_pred))\n",
        "\n",
        "disp = ConfusionMatrixDisplay.from_estimator(\n",
        "        classifier_kn,\n",
        "        X_test,\n",
        "        Y_test,\n",
        "        cmap=plt.cm.Blues\n",
        "    )\n",
        "disp.ax_.set_title(\"Conf. Matrix  KNN\")\n",
        "\n",
        "print(\"Conf. Matrix KNN\")\n",
        "print(disp.confusion_matrix)\n"
      ]
    },
    {
      "cell_type": "markdown",
      "metadata": {
        "id": "b2_VQMtHrlv9"
      },
      "source": [
        "###Random Forest RF"
      ]
    },
    {
      "cell_type": "code",
      "execution_count": null,
      "metadata": {
        "id": "1gXTR1Kbr6CV"
      },
      "outputs": [],
      "source": [
        "from sklearn.ensemble import RandomForestClassifier\n",
        "classifier_rf = RandomForestClassifier(n_estimators = 20, criterion=\"entropy\", random_state= 0)\n"
      ]
    },
    {
      "cell_type": "code",
      "source": [
        "classifier_rf.fit(X_train, Y_train)\n"
      ],
      "metadata": {
        "colab": {
          "base_uri": "https://localhost:8080/",
          "height": 74
        },
        "id": "-ATmLwf3NZG6",
        "outputId": "4e849254-f0a4-49e5-e373-70321e825154"
      },
      "execution_count": null,
      "outputs": [
        {
          "output_type": "execute_result",
          "data": {
            "text/plain": [
              "RandomForestClassifier(criterion='entropy', n_estimators=20, random_state=0)"
            ],
            "text/html": [
              "<style>#sk-container-id-3 {color: black;background-color: white;}#sk-container-id-3 pre{padding: 0;}#sk-container-id-3 div.sk-toggleable {background-color: white;}#sk-container-id-3 label.sk-toggleable__label {cursor: pointer;display: block;width: 100%;margin-bottom: 0;padding: 0.3em;box-sizing: border-box;text-align: center;}#sk-container-id-3 label.sk-toggleable__label-arrow:before {content: \"▸\";float: left;margin-right: 0.25em;color: #696969;}#sk-container-id-3 label.sk-toggleable__label-arrow:hover:before {color: black;}#sk-container-id-3 div.sk-estimator:hover label.sk-toggleable__label-arrow:before {color: black;}#sk-container-id-3 div.sk-toggleable__content {max-height: 0;max-width: 0;overflow: hidden;text-align: left;background-color: #f0f8ff;}#sk-container-id-3 div.sk-toggleable__content pre {margin: 0.2em;color: black;border-radius: 0.25em;background-color: #f0f8ff;}#sk-container-id-3 input.sk-toggleable__control:checked~div.sk-toggleable__content {max-height: 200px;max-width: 100%;overflow: auto;}#sk-container-id-3 input.sk-toggleable__control:checked~label.sk-toggleable__label-arrow:before {content: \"▾\";}#sk-container-id-3 div.sk-estimator input.sk-toggleable__control:checked~label.sk-toggleable__label {background-color: #d4ebff;}#sk-container-id-3 div.sk-label input.sk-toggleable__control:checked~label.sk-toggleable__label {background-color: #d4ebff;}#sk-container-id-3 input.sk-hidden--visually {border: 0;clip: rect(1px 1px 1px 1px);clip: rect(1px, 1px, 1px, 1px);height: 1px;margin: -1px;overflow: hidden;padding: 0;position: absolute;width: 1px;}#sk-container-id-3 div.sk-estimator {font-family: monospace;background-color: #f0f8ff;border: 1px dotted black;border-radius: 0.25em;box-sizing: border-box;margin-bottom: 0.5em;}#sk-container-id-3 div.sk-estimator:hover {background-color: #d4ebff;}#sk-container-id-3 div.sk-parallel-item::after {content: \"\";width: 100%;border-bottom: 1px solid gray;flex-grow: 1;}#sk-container-id-3 div.sk-label:hover label.sk-toggleable__label {background-color: #d4ebff;}#sk-container-id-3 div.sk-serial::before {content: \"\";position: absolute;border-left: 1px solid gray;box-sizing: border-box;top: 0;bottom: 0;left: 50%;z-index: 0;}#sk-container-id-3 div.sk-serial {display: flex;flex-direction: column;align-items: center;background-color: white;padding-right: 0.2em;padding-left: 0.2em;position: relative;}#sk-container-id-3 div.sk-item {position: relative;z-index: 1;}#sk-container-id-3 div.sk-parallel {display: flex;align-items: stretch;justify-content: center;background-color: white;position: relative;}#sk-container-id-3 div.sk-item::before, #sk-container-id-3 div.sk-parallel-item::before {content: \"\";position: absolute;border-left: 1px solid gray;box-sizing: border-box;top: 0;bottom: 0;left: 50%;z-index: -1;}#sk-container-id-3 div.sk-parallel-item {display: flex;flex-direction: column;z-index: 1;position: relative;background-color: white;}#sk-container-id-3 div.sk-parallel-item:first-child::after {align-self: flex-end;width: 50%;}#sk-container-id-3 div.sk-parallel-item:last-child::after {align-self: flex-start;width: 50%;}#sk-container-id-3 div.sk-parallel-item:only-child::after {width: 0;}#sk-container-id-3 div.sk-dashed-wrapped {border: 1px dashed gray;margin: 0 0.4em 0.5em 0.4em;box-sizing: border-box;padding-bottom: 0.4em;background-color: white;}#sk-container-id-3 div.sk-label label {font-family: monospace;font-weight: bold;display: inline-block;line-height: 1.2em;}#sk-container-id-3 div.sk-label-container {text-align: center;}#sk-container-id-3 div.sk-container {/* jupyter's `normalize.less` sets `[hidden] { display: none; }` but bootstrap.min.css set `[hidden] { display: none !important; }` so we also need the `!important` here to be able to override the default hidden behavior on the sphinx rendered scikit-learn.org. See: https://github.com/scikit-learn/scikit-learn/issues/21755 */display: inline-block !important;position: relative;}#sk-container-id-3 div.sk-text-repr-fallback {display: none;}</style><div id=\"sk-container-id-3\" class=\"sk-top-container\"><div class=\"sk-text-repr-fallback\"><pre>RandomForestClassifier(criterion=&#x27;entropy&#x27;, n_estimators=20, random_state=0)</pre><b>In a Jupyter environment, please rerun this cell to show the HTML representation or trust the notebook. <br />On GitHub, the HTML representation is unable to render, please try loading this page with nbviewer.org.</b></div><div class=\"sk-container\" hidden><div class=\"sk-item\"><div class=\"sk-estimator sk-toggleable\"><input class=\"sk-toggleable__control sk-hidden--visually\" id=\"sk-estimator-id-3\" type=\"checkbox\" checked><label for=\"sk-estimator-id-3\" class=\"sk-toggleable__label sk-toggleable__label-arrow\">RandomForestClassifier</label><div class=\"sk-toggleable__content\"><pre>RandomForestClassifier(criterion=&#x27;entropy&#x27;, n_estimators=20, random_state=0)</pre></div></div></div></div></div>"
            ]
          },
          "metadata": {},
          "execution_count": 46
        }
      ]
    },
    {
      "cell_type": "code",
      "source": [
        "rf_predictions = classifier_rf.predict(X_test)"
      ],
      "metadata": {
        "id": "2qpMagS1NZja"
      },
      "execution_count": null,
      "outputs": []
    },
    {
      "cell_type": "code",
      "execution_count": null,
      "metadata": {
        "colab": {
          "base_uri": "https://localhost:8080/",
          "height": 922
        },
        "id": "zY1ZaTbFsIkA",
        "outputId": "481bbad6-64ff-4c29-a172-657f193d832c"
      },
      "outputs": [
        {
          "output_type": "stream",
          "name": "stdout",
          "text": [
            "0.8125\n",
            "              precision    recall  f1-score   support\n",
            "\n",
            "          FB       0.60      1.00      0.75         3\n",
            "          FF       0.00      0.00      0.00         1\n",
            "          FS       1.00      0.50      0.67         2\n",
            "          LD       1.00      0.33      0.50         3\n",
            "          MJ       1.00      1.00      1.00         7\n",
            "          MR       0.50      1.00      0.67         1\n",
            "          MW       1.00      0.75      0.86         4\n",
            "          OT       0.67      1.00      0.80         4\n",
            "          WD       1.00      0.80      0.89         5\n",
            "          WU       0.67      1.00      0.80         2\n",
            "\n",
            "    accuracy                           0.81        32\n",
            "   macro avg       0.74      0.74      0.69        32\n",
            "weighted avg       0.85      0.81      0.79        32\n",
            "\n",
            "Conf. Matrix RF\n",
            "[[3 0 0 0 0 0 0 0 0 0]\n",
            " [1 0 0 0 0 0 0 0 0 0]\n",
            " [1 0 1 0 0 0 0 0 0 0]\n",
            " [0 0 0 1 0 0 0 2 0 0]\n",
            " [0 0 0 0 7 0 0 0 0 0]\n",
            " [0 0 0 0 0 1 0 0 0 0]\n",
            " [0 0 0 0 0 1 3 0 0 0]\n",
            " [0 0 0 0 0 0 0 4 0 0]\n",
            " [0 0 0 0 0 0 0 0 4 1]\n",
            " [0 0 0 0 0 0 0 0 0 2]]\n"
          ]
        },
        {
          "output_type": "stream",
          "name": "stderr",
          "text": [
            "/usr/local/lib/python3.9/dist-packages/sklearn/metrics/_classification.py:1344: UndefinedMetricWarning: Precision and F-score are ill-defined and being set to 0.0 in labels with no predicted samples. Use `zero_division` parameter to control this behavior.\n",
            "  _warn_prf(average, modifier, msg_start, len(result))\n",
            "/usr/local/lib/python3.9/dist-packages/sklearn/metrics/_classification.py:1344: UndefinedMetricWarning: Precision and F-score are ill-defined and being set to 0.0 in labels with no predicted samples. Use `zero_division` parameter to control this behavior.\n",
            "  _warn_prf(average, modifier, msg_start, len(result))\n",
            "/usr/local/lib/python3.9/dist-packages/sklearn/metrics/_classification.py:1344: UndefinedMetricWarning: Precision and F-score are ill-defined and being set to 0.0 in labels with no predicted samples. Use `zero_division` parameter to control this behavior.\n",
            "  _warn_prf(average, modifier, msg_start, len(result))\n"
          ]
        },
        {
          "output_type": "display_data",
          "data": {
            "text/plain": [
              "<Figure size 432x288 with 2 Axes>"
            ],
            "image/png": "[encoded data removed]"
          },
          "metadata": {
            "needs_background": "light"
          }
        }
      ],
      "source": [
        "print(accuracy_score(Y_test,y_pred=  rf_predictions))\n",
        "print(classification_report(Y_test, rf_predictions))\n",
        "\n",
        "disp = ConfusionMatrixDisplay.from_estimator(\n",
        "        classifier_rf,\n",
        "        X_test,\n",
        "        Y_test,\n",
        "        cmap=plt.cm.Blues\n",
        "    )\n",
        "disp.ax_.set_title(\"Conf. Matrix  RF\")\n",
        "\n",
        "print(\"Conf. Matrix RF\")\n",
        "print(disp.confusion_matrix)\n"
      ]
    },
    {
      "cell_type": "markdown",
      "metadata": {
        "id": "5mKgACjQtddh"
      },
      "source": [
        "###Decision Tree Clasifier DTC"
      ]
    },
    {
      "cell_type": "code",
      "execution_count": null,
      "metadata": {
        "id": "Za_j77h1td80"
      },
      "outputs": [],
      "source": [
        "from sklearn.tree import DecisionTreeClassifier"
      ]
    },
    {
      "cell_type": "code",
      "execution_count": null,
      "metadata": {
        "colab": {
          "base_uri": "https://localhost:8080/",
          "height": 74
        },
        "id": "Z7f9V_9itlJZ",
        "outputId": "678556c7-fcc8-4503-c267-2ed4373861d0"
      },
      "outputs": [
        {
          "output_type": "execute_result",
          "data": {
            "text/plain": [
              "DecisionTreeClassifier(criterion='entropy', random_state=0)"
            ],
            "text/html": [
              "<style>#sk-container-id-4 {color: black;background-color: white;}#sk-container-id-4 pre{padding: 0;}#sk-container-id-4 div.sk-toggleable {background-color: white;}#sk-container-id-4 label.sk-toggleable__label {cursor: pointer;display: block;width: 100%;margin-bottom: 0;padding: 0.3em;box-sizing: border-box;text-align: center;}#sk-container-id-4 label.sk-toggleable__label-arrow:before {content: \"▸\";float: left;margin-right: 0.25em;color: #696969;}#sk-container-id-4 label.sk-toggleable__label-arrow:hover:before {color: black;}#sk-container-id-4 div.sk-estimator:hover label.sk-toggleable__label-arrow:before {color: black;}#sk-container-id-4 div.sk-toggleable__content {max-height: 0;max-width: 0;overflow: hidden;text-align: left;background-color: #f0f8ff;}#sk-container-id-4 div.sk-toggleable__content pre {margin: 0.2em;color: black;border-radius: 0.25em;background-color: #f0f8ff;}#sk-container-id-4 input.sk-toggleable__control:checked~div.sk-toggleable__content {max-height: 200px;max-width: 100%;overflow: auto;}#sk-container-id-4 input.sk-toggleable__control:checked~label.sk-toggleable__label-arrow:before {content: \"▾\";}#sk-container-id-4 div.sk-estimator input.sk-toggleable__control:checked~label.sk-toggleable__label {background-color: #d4ebff;}#sk-container-id-4 div.sk-label input.sk-toggleable__control:checked~label.sk-toggleable__label {background-color: #d4ebff;}#sk-container-id-4 input.sk-hidden--visually {border: 0;clip: rect(1px 1px 1px 1px);clip: rect(1px, 1px, 1px, 1px);height: 1px;margin: -1px;overflow: hidden;padding: 0;position: absolute;width: 1px;}#sk-container-id-4 div.sk-estimator {font-family: monospace;background-color: #f0f8ff;border: 1px dotted black;border-radius: 0.25em;box-sizing: border-box;margin-bottom: 0.5em;}#sk-container-id-4 div.sk-estimator:hover {background-color: #d4ebff;}#sk-container-id-4 div.sk-parallel-item::after {content: \"\";width: 100%;border-bottom: 1px solid gray;flex-grow: 1;}#sk-container-id-4 div.sk-label:hover label.sk-toggleable__label {background-color: #d4ebff;}#sk-container-id-4 div.sk-serial::before {content: \"\";position: absolute;border-left: 1px solid gray;box-sizing: border-box;top: 0;bottom: 0;left: 50%;z-index: 0;}#sk-container-id-4 div.sk-serial {display: flex;flex-direction: column;align-items: center;background-color: white;padding-right: 0.2em;padding-left: 0.2em;position: relative;}#sk-container-id-4 div.sk-item {position: relative;z-index: 1;}#sk-container-id-4 div.sk-parallel {display: flex;align-items: stretch;justify-content: center;background-color: white;position: relative;}#sk-container-id-4 div.sk-item::before, #sk-container-id-4 div.sk-parallel-item::before {content: \"\";position: absolute;border-left: 1px solid gray;box-sizing: border-box;top: 0;bottom: 0;left: 50%;z-index: -1;}#sk-container-id-4 div.sk-parallel-item {display: flex;flex-direction: column;z-index: 1;position: relative;background-color: white;}#sk-container-id-4 div.sk-parallel-item:first-child::after {align-self: flex-end;width: 50%;}#sk-container-id-4 div.sk-parallel-item:last-child::after {align-self: flex-start;width: 50%;}#sk-container-id-4 div.sk-parallel-item:only-child::after {width: 0;}#sk-container-id-4 div.sk-dashed-wrapped {border: 1px dashed gray;margin: 0 0.4em 0.5em 0.4em;box-sizing: border-box;padding-bottom: 0.4em;background-color: white;}#sk-container-id-4 div.sk-label label {font-family: monospace;font-weight: bold;display: inline-block;line-height: 1.2em;}#sk-container-id-4 div.sk-label-container {text-align: center;}#sk-container-id-4 div.sk-container {/* jupyter's `normalize.less` sets `[hidden] { display: none; }` but bootstrap.min.css set `[hidden] { display: none !important; }` so we also need the `!important` here to be able to override the default hidden behavior on the sphinx rendered scikit-learn.org. See: https://github.com/scikit-learn/scikit-learn/issues/21755 */display: inline-block !important;position: relative;}#sk-container-id-4 div.sk-text-repr-fallback {display: none;}</style><div id=\"sk-container-id-4\" class=\"sk-top-container\"><div class=\"sk-text-repr-fallback\"><pre>DecisionTreeClassifier(criterion=&#x27;entropy&#x27;, random_state=0)</pre><b>In a Jupyter environment, please rerun this cell to show the HTML representation or trust the notebook. <br />On GitHub, the HTML representation is unable to render, please try loading this page with nbviewer.org.</b></div><div class=\"sk-container\" hidden><div class=\"sk-item\"><div class=\"sk-estimator sk-toggleable\"><input class=\"sk-toggleable__control sk-hidden--visually\" id=\"sk-estimator-id-4\" type=\"checkbox\" checked><label for=\"sk-estimator-id-4\" class=\"sk-toggleable__label sk-toggleable__label-arrow\">DecisionTreeClassifier</label><div class=\"sk-toggleable__content\"><pre>DecisionTreeClassifier(criterion=&#x27;entropy&#x27;, random_state=0)</pre></div></div></div></div></div>"
            ]
          },
          "metadata": {},
          "execution_count": 50
        }
      ],
      "source": [
        "DTC = DecisionTreeClassifier(criterion=\"entropy\", random_state=0)\n",
        "DTC.fit(X_train,Y_train)\n"
      ]
    },
    {
      "cell_type": "code",
      "execution_count": null,
      "metadata": {
        "id": "GDJXEyJLtpPV"
      },
      "outputs": [],
      "source": [
        "DTC_predict= DTC.predict(X_test)"
      ]
    },
    {
      "cell_type": "code",
      "execution_count": null,
      "metadata": {
        "colab": {
          "base_uri": "https://localhost:8080/",
          "height": 922
        },
        "id": "6eAGvbQ7tp4i",
        "outputId": "e2d9fefd-3010-466a-9280-a1f9281a6ef2"
      },
      "outputs": [
        {
          "output_type": "stream",
          "name": "stdout",
          "text": [
            "0.71875\n",
            "              precision    recall  f1-score   support\n",
            "\n",
            "          FB       0.00      0.00      0.00         3\n",
            "          FF       0.50      1.00      0.67         1\n",
            "          FS       0.50      0.50      0.50         2\n",
            "          LD       0.60      1.00      0.75         3\n",
            "          MJ       1.00      0.71      0.83         7\n",
            "          MR       0.33      1.00      0.50         1\n",
            "          MW       0.75      0.75      0.75         4\n",
            "          OT       1.00      1.00      1.00         4\n",
            "          WD       1.00      0.60      0.75         5\n",
            "          WU       0.50      1.00      0.67         2\n",
            "\n",
            "    accuracy                           0.72        32\n",
            "   macro avg       0.62      0.76      0.64        32\n",
            "weighted avg       0.74      0.72      0.70        32\n",
            "\n",
            "Conf. Matrix DTC\n",
            "[[0 0 1 2 0 0 0 0 0 0]\n",
            " [0 1 0 0 0 0 0 0 0 0]\n",
            " [0 1 1 0 0 0 0 0 0 0]\n",
            " [0 0 0 3 0 0 0 0 0 0]\n",
            " [0 0 0 0 5 1 1 0 0 0]\n",
            " [0 0 0 0 0 1 0 0 0 0]\n",
            " [0 0 0 0 0 1 3 0 0 0]\n",
            " [0 0 0 0 0 0 0 4 0 0]\n",
            " [0 0 0 0 0 0 0 0 3 2]\n",
            " [0 0 0 0 0 0 0 0 0 2]]\n"
          ]
        },
        {
          "output_type": "stream",
          "name": "stderr",
          "text": [
            "/usr/local/lib/python3.9/dist-packages/sklearn/metrics/_classification.py:1344: UndefinedMetricWarning: Precision and F-score are ill-defined and being set to 0.0 in labels with no predicted samples. Use `zero_division` parameter to control this behavior.\n",
            "  _warn_prf(average, modifier, msg_start, len(result))\n",
            "/usr/local/lib/python3.9/dist-packages/sklearn/metrics/_classification.py:1344: UndefinedMetricWarning: Precision and F-score are ill-defined and being set to 0.0 in labels with no predicted samples. Use `zero_division` parameter to control this behavior.\n",
            "  _warn_prf(average, modifier, msg_start, len(result))\n",
            "/usr/local/lib/python3.9/dist-packages/sklearn/metrics/_classification.py:1344: UndefinedMetricWarning: Precision and F-score are ill-defined and being set to 0.0 in labels with no predicted samples. Use `zero_division` parameter to control this behavior.\n",
            "  _warn_prf(average, modifier, msg_start, len(result))\n"
          ]
        },
        {
          "output_type": "display_data",
          "data": {
            "text/plain": [
              "<Figure size 432x288 with 2 Axes>"
            ],
            "image/png": "[encoded data removed]"
          },
          "metadata": {
            "needs_background": "light"
          }
        }
      ],
      "source": [
        "print(accuracy_score(Y_test,y_pred=DTC_predict))\n",
        "print(classification_report(Y_test, DTC_predict))\n",
        "#print(confusion_matrix(Y_test, DTC_predict) )\n",
        "disp = ConfusionMatrixDisplay.from_estimator(\n",
        "        DTC,\n",
        "        X_test,\n",
        "        Y_test,\n",
        "        cmap=plt.cm.Blues\n",
        "    )\n",
        "disp.ax_.set_title(\"Conf. Matrix  DTC\")\n",
        "\n",
        "print(\"Conf. Matrix DTC\")\n",
        "print(disp.confusion_matrix)\n"
      ]
    },
    {
      "cell_type": "markdown",
      "source": [
        "###Modelos Re-entrenados"
      ],
      "metadata": {
        "id": "PFfmfHO2EMMT"
      }
    },
    {
      "cell_type": "code",
      "source": [
        "XD = sc_X.fit_transform(XD) #Reescalado de todos los datos\n"
      ],
      "metadata": {
        "id": "ZU9aFPnBHNWH"
      },
      "execution_count": null,
      "outputs": []
    },
    {
      "cell_type": "markdown",
      "source": [
        "Naive Bayes NB"
      ],
      "metadata": {
        "id": "lU2brHElEiae"
      }
    },
    {
      "cell_type": "code",
      "source": [
        "NB_re = GaussianNB()\n",
        "NB_re.fit(XD,YD)"
      ],
      "metadata": {
        "colab": {
          "base_uri": "https://localhost:8080/",
          "height": 74
        },
        "id": "zs7wwSboERPo",
        "outputId": "3946280d-0890-480b-c01a-0aea4e1a5717"
      },
      "execution_count": null,
      "outputs": [
        {
          "output_type": "execute_result",
          "data": {
            "text/plain": [
              "GaussianNB()"
            ],
            "text/html": [
              "<style>#sk-container-id-5 {color: black;background-color: white;}#sk-container-id-5 pre{padding: 0;}#sk-container-id-5 div.sk-toggleable {background-color: white;}#sk-container-id-5 label.sk-toggleable__label {cursor: pointer;display: block;width: 100%;margin-bottom: 0;padding: 0.3em;box-sizing: border-box;text-align: center;}#sk-container-id-5 label.sk-toggleable__label-arrow:before {content: \"▸\";float: left;margin-right: 0.25em;color: #696969;}#sk-container-id-5 label.sk-toggleable__label-arrow:hover:before {color: black;}#sk-container-id-5 div.sk-estimator:hover label.sk-toggleable__label-arrow:before {color: black;}#sk-container-id-5 div.sk-toggleable__content {max-height: 0;max-width: 0;overflow: hidden;text-align: left;background-color: #f0f8ff;}#sk-container-id-5 div.sk-toggleable__content pre {margin: 0.2em;color: black;border-radius: 0.25em;background-color: #f0f8ff;}#sk-container-id-5 input.sk-toggleable__control:checked~div.sk-toggleable__content {max-height: 200px;max-width: 100%;overflow: auto;}#sk-container-id-5 input.sk-toggleable__control:checked~label.sk-toggleable__label-arrow:before {content: \"▾\";}#sk-container-id-5 div.sk-estimator input.sk-toggleable__control:checked~label.sk-toggleable__label {background-color: #d4ebff;}#sk-container-id-5 div.sk-label input.sk-toggleable__control:checked~label.sk-toggleable__label {background-color: #d4ebff;}#sk-container-id-5 input.sk-hidden--visually {border: 0;clip: rect(1px 1px 1px 1px);clip: rect(1px, 1px, 1px, 1px);height: 1px;margin: -1px;overflow: hidden;padding: 0;position: absolute;width: 1px;}#sk-container-id-5 div.sk-estimator {font-family: monospace;background-color: #f0f8ff;border: 1px dotted black;border-radius: 0.25em;box-sizing: border-box;margin-bottom: 0.5em;}#sk-container-id-5 div.sk-estimator:hover {background-color: #d4ebff;}#sk-container-id-5 div.sk-parallel-item::after {content: \"\";width: 100%;border-bottom: 1px solid gray;flex-grow: 1;}#sk-container-id-5 div.sk-label:hover label.sk-toggleable__label {background-color: #d4ebff;}#sk-container-id-5 div.sk-serial::before {content: \"\";position: absolute;border-left: 1px solid gray;box-sizing: border-box;top: 0;bottom: 0;left: 50%;z-index: 0;}#sk-container-id-5 div.sk-serial {display: flex;flex-direction: column;align-items: center;background-color: white;padding-right: 0.2em;padding-left: 0.2em;position: relative;}#sk-container-id-5 div.sk-item {position: relative;z-index: 1;}#sk-container-id-5 div.sk-parallel {display: flex;align-items: stretch;justify-content: center;background-color: white;position: relative;}#sk-container-id-5 div.sk-item::before, #sk-container-id-5 div.sk-parallel-item::before {content: \"\";position: absolute;border-left: 1px solid gray;box-sizing: border-box;top: 0;bottom: 0;left: 50%;z-index: -1;}#sk-container-id-5 div.sk-parallel-item {display: flex;flex-direction: column;z-index: 1;position: relative;background-color: white;}#sk-container-id-5 div.sk-parallel-item:first-child::after {align-self: flex-end;width: 50%;}#sk-container-id-5 div.sk-parallel-item:last-child::after {align-self: flex-start;width: 50%;}#sk-container-id-5 div.sk-parallel-item:only-child::after {width: 0;}#sk-container-id-5 div.sk-dashed-wrapped {border: 1px dashed gray;margin: 0 0.4em 0.5em 0.4em;box-sizing: border-box;padding-bottom: 0.4em;background-color: white;}#sk-container-id-5 div.sk-label label {font-family: monospace;font-weight: bold;display: inline-block;line-height: 1.2em;}#sk-container-id-5 div.sk-label-container {text-align: center;}#sk-container-id-5 div.sk-container {/* jupyter's `normalize.less` sets `[hidden] { display: none; }` but bootstrap.min.css set `[hidden] { display: none !important; }` so we also need the `!important` here to be able to override the default hidden behavior on the sphinx rendered scikit-learn.org. See: https://github.com/scikit-learn/scikit-learn/issues/21755 */display: inline-block !important;position: relative;}#sk-container-id-5 div.sk-text-repr-fallback {display: none;}</style><div id=\"sk-container-id-5\" class=\"sk-top-container\"><div class=\"sk-text-repr-fallback\"><pre>GaussianNB()</pre><b>In a Jupyter environment, please rerun this cell to show the HTML representation or trust the notebook. <br />On GitHub, the HTML representation is unable to render, please try loading this page with nbviewer.org.</b></div><div class=\"sk-container\" hidden><div class=\"sk-item\"><div class=\"sk-estimator sk-toggleable\"><input class=\"sk-toggleable__control sk-hidden--visually\" id=\"sk-estimator-id-5\" type=\"checkbox\" checked><label for=\"sk-estimator-id-5\" class=\"sk-toggleable__label sk-toggleable__label-arrow\">GaussianNB</label><div class=\"sk-toggleable__content\"><pre>GaussianNB()</pre></div></div></div></div></div>"
            ]
          },
          "metadata": {},
          "execution_count": 54
        }
      ]
    },
    {
      "cell_type": "markdown",
      "source": [
        "KNN"
      ],
      "metadata": {
        "id": "jfOUf_WhJUVH"
      }
    },
    {
      "cell_type": "code",
      "source": [
        "KNN_re = classifier_kn = KNeighborsClassifier(n_neighbors=15, metric = \"minkowski\", p=2)\n",
        "KNN_re.fit(XD, YD)"
      ],
      "metadata": {
        "colab": {
          "base_uri": "https://localhost:8080/",
          "height": 74
        },
        "id": "lJiOuDOZHDqv",
        "outputId": "b6c13e19-32bc-4d54-97c5-109caf9786bf"
      },
      "execution_count": null,
      "outputs": [
        {
          "output_type": "execute_result",
          "data": {
            "text/plain": [
              "KNeighborsClassifier(n_neighbors=15)"
            ],
            "text/html": [
              "<style>#sk-container-id-6 {color: black;background-color: white;}#sk-container-id-6 pre{padding: 0;}#sk-container-id-6 div.sk-toggleable {background-color: white;}#sk-container-id-6 label.sk-toggleable__label {cursor: pointer;display: block;width: 100%;margin-bottom: 0;padding: 0.3em;box-sizing: border-box;text-align: center;}#sk-container-id-6 label.sk-toggleable__label-arrow:before {content: \"▸\";float: left;margin-right: 0.25em;color: #696969;}#sk-container-id-6 label.sk-toggleable__label-arrow:hover:before {color: black;}#sk-container-id-6 div.sk-estimator:hover label.sk-toggleable__label-arrow:before {color: black;}#sk-container-id-6 div.sk-toggleable__content {max-height: 0;max-width: 0;overflow: hidden;text-align: left;background-color: #f0f8ff;}#sk-container-id-6 div.sk-toggleable__content pre {margin: 0.2em;color: black;border-radius: 0.25em;background-color: #f0f8ff;}#sk-container-id-6 input.sk-toggleable__control:checked~div.sk-toggleable__content {max-height: 200px;max-width: 100%;overflow: auto;}#sk-container-id-6 input.sk-toggleable__control:checked~label.sk-toggleable__label-arrow:before {content: \"▾\";}#sk-container-id-6 div.sk-estimator input.sk-toggleable__control:checked~label.sk-toggleable__label {background-color: #d4ebff;}#sk-container-id-6 div.sk-label input.sk-toggleable__control:checked~label.sk-toggleable__label {background-color: #d4ebff;}#sk-container-id-6 input.sk-hidden--visually {border: 0;clip: rect(1px 1px 1px 1px);clip: rect(1px, 1px, 1px, 1px);height: 1px;margin: -1px;overflow: hidden;padding: 0;position: absolute;width: 1px;}#sk-container-id-6 div.sk-estimator {font-family: monospace;background-color: #f0f8ff;border: 1px dotted black;border-radius: 0.25em;box-sizing: border-box;margin-bottom: 0.5em;}#sk-container-id-6 div.sk-estimator:hover {background-color: #d4ebff;}#sk-container-id-6 div.sk-parallel-item::after {content: \"\";width: 100%;border-bottom: 1px solid gray;flex-grow: 1;}#sk-container-id-6 div.sk-label:hover label.sk-toggleable__label {background-color: #d4ebff;}#sk-container-id-6 div.sk-serial::before {content: \"\";position: absolute;border-left: 1px solid gray;box-sizing: border-box;top: 0;bottom: 0;left: 50%;z-index: 0;}#sk-container-id-6 div.sk-serial {display: flex;flex-direction: column;align-items: center;background-color: white;padding-right: 0.2em;padding-left: 0.2em;position: relative;}#sk-container-id-6 div.sk-item {position: relative;z-index: 1;}#sk-container-id-6 div.sk-parallel {display: flex;align-items: stretch;justify-content: center;background-color: white;position: relative;}#sk-container-id-6 div.sk-item::before, #sk-container-id-6 div.sk-parallel-item::before {content: \"\";position: absolute;border-left: 1px solid gray;box-sizing: border-box;top: 0;bottom: 0;left: 50%;z-index: -1;}#sk-container-id-6 div.sk-parallel-item {display: flex;flex-direction: column;z-index: 1;position: relative;background-color: white;}#sk-container-id-6 div.sk-parallel-item:first-child::after {align-self: flex-end;width: 50%;}#sk-container-id-6 div.sk-parallel-item:last-child::after {align-self: flex-start;width: 50%;}#sk-container-id-6 div.sk-parallel-item:only-child::after {width: 0;}#sk-container-id-6 div.sk-dashed-wrapped {border: 1px dashed gray;margin: 0 0.4em 0.5em 0.4em;box-sizing: border-box;padding-bottom: 0.4em;background-color: white;}#sk-container-id-6 div.sk-label label {font-family: monospace;font-weight: bold;display: inline-block;line-height: 1.2em;}#sk-container-id-6 div.sk-label-container {text-align: center;}#sk-container-id-6 div.sk-container {/* jupyter's `normalize.less` sets `[hidden] { display: none; }` but bootstrap.min.css set `[hidden] { display: none !important; }` so we also need the `!important` here to be able to override the default hidden behavior on the sphinx rendered scikit-learn.org. See: https://github.com/scikit-learn/scikit-learn/issues/21755 */display: inline-block !important;position: relative;}#sk-container-id-6 div.sk-text-repr-fallback {display: none;}</style><div id=\"sk-container-id-6\" class=\"sk-top-container\"><div class=\"sk-text-repr-fallback\"><pre>KNeighborsClassifier(n_neighbors=15)</pre><b>In a Jupyter environment, please rerun this cell to show the HTML representation or trust the notebook. <br />On GitHub, the HTML representation is unable to render, please try loading this page with nbviewer.org.</b></div><div class=\"sk-container\" hidden><div class=\"sk-item\"><div class=\"sk-estimator sk-toggleable\"><input class=\"sk-toggleable__control sk-hidden--visually\" id=\"sk-estimator-id-6\" type=\"checkbox\" checked><label for=\"sk-estimator-id-6\" class=\"sk-toggleable__label sk-toggleable__label-arrow\">KNeighborsClassifier</label><div class=\"sk-toggleable__content\"><pre>KNeighborsClassifier(n_neighbors=15)</pre></div></div></div></div></div>"
            ]
          },
          "metadata": {},
          "execution_count": 55
        }
      ]
    },
    {
      "cell_type": "markdown",
      "source": [
        "DTC"
      ],
      "metadata": {
        "id": "kTgrlC1PJcEY"
      }
    },
    {
      "cell_type": "code",
      "source": [
        "DTC_re = DecisionTreeClassifier(criterion=\"entropy\", random_state=0)\n",
        "DTC_re.fit(XD,YD)\n"
      ],
      "metadata": {
        "colab": {
          "base_uri": "https://localhost:8080/",
          "height": 74
        },
        "id": "zAIribHVJcXe",
        "outputId": "da9bb472-d36b-496d-ce89-938b7d48a23b"
      },
      "execution_count": null,
      "outputs": [
        {
          "output_type": "execute_result",
          "data": {
            "text/plain": [
              "DecisionTreeClassifier(criterion='entropy', random_state=0)"
            ],
            "text/html": [
              "<style>#sk-container-id-7 {color: black;background-color: white;}#sk-container-id-7 pre{padding: 0;}#sk-container-id-7 div.sk-toggleable {background-color: white;}#sk-container-id-7 label.sk-toggleable__label {cursor: pointer;display: block;width: 100%;margin-bottom: 0;padding: 0.3em;box-sizing: border-box;text-align: center;}#sk-container-id-7 label.sk-toggleable__label-arrow:before {content: \"▸\";float: left;margin-right: 0.25em;color: #696969;}#sk-container-id-7 label.sk-toggleable__label-arrow:hover:before {color: black;}#sk-container-id-7 div.sk-estimator:hover label.sk-toggleable__label-arrow:before {color: black;}#sk-container-id-7 div.sk-toggleable__content {max-height: 0;max-width: 0;overflow: hidden;text-align: left;background-color: #f0f8ff;}#sk-container-id-7 div.sk-toggleable__content pre {margin: 0.2em;color: black;border-radius: 0.25em;background-color: #f0f8ff;}#sk-container-id-7 input.sk-toggleable__control:checked~div.sk-toggleable__content {max-height: 200px;max-width: 100%;overflow: auto;}#sk-container-id-7 input.sk-toggleable__control:checked~label.sk-toggleable__label-arrow:before {content: \"▾\";}#sk-container-id-7 div.sk-estimator input.sk-toggleable__control:checked~label.sk-toggleable__label {background-color: #d4ebff;}#sk-container-id-7 div.sk-label input.sk-toggleable__control:checked~label.sk-toggleable__label {background-color: #d4ebff;}#sk-container-id-7 input.sk-hidden--visually {border: 0;clip: rect(1px 1px 1px 1px);clip: rect(1px, 1px, 1px, 1px);height: 1px;margin: -1px;overflow: hidden;padding: 0;position: absolute;width: 1px;}#sk-container-id-7 div.sk-estimator {font-family: monospace;background-color: #f0f8ff;border: 1px dotted black;border-radius: 0.25em;box-sizing: border-box;margin-bottom: 0.5em;}#sk-container-id-7 div.sk-estimator:hover {background-color: #d4ebff;}#sk-container-id-7 div.sk-parallel-item::after {content: \"\";width: 100%;border-bottom: 1px solid gray;flex-grow: 1;}#sk-container-id-7 div.sk-label:hover label.sk-toggleable__label {background-color: #d4ebff;}#sk-container-id-7 div.sk-serial::before {content: \"\";position: absolute;border-left: 1px solid gray;box-sizing: border-box;top: 0;bottom: 0;left: 50%;z-index: 0;}#sk-container-id-7 div.sk-serial {display: flex;flex-direction: column;align-items: center;background-color: white;padding-right: 0.2em;padding-left: 0.2em;position: relative;}#sk-container-id-7 div.sk-item {position: relative;z-index: 1;}#sk-container-id-7 div.sk-parallel {display: flex;align-items: stretch;justify-content: center;background-color: white;position: relative;}#sk-container-id-7 div.sk-item::before, #sk-container-id-7 div.sk-parallel-item::before {content: \"\";position: absolute;border-left: 1px solid gray;box-sizing: border-box;top: 0;bottom: 0;left: 50%;z-index: -1;}#sk-container-id-7 div.sk-parallel-item {display: flex;flex-direction: column;z-index: 1;position: relative;background-color: white;}#sk-container-id-7 div.sk-parallel-item:first-child::after {align-self: flex-end;width: 50%;}#sk-container-id-7 div.sk-parallel-item:last-child::after {align-self: flex-start;width: 50%;}#sk-container-id-7 div.sk-parallel-item:only-child::after {width: 0;}#sk-container-id-7 div.sk-dashed-wrapped {border: 1px dashed gray;margin: 0 0.4em 0.5em 0.4em;box-sizing: border-box;padding-bottom: 0.4em;background-color: white;}#sk-container-id-7 div.sk-label label {font-family: monospace;font-weight: bold;display: inline-block;line-height: 1.2em;}#sk-container-id-7 div.sk-label-container {text-align: center;}#sk-container-id-7 div.sk-container {/* jupyter's `normalize.less` sets `[hidden] { display: none; }` but bootstrap.min.css set `[hidden] { display: none !important; }` so we also need the `!important` here to be able to override the default hidden behavior on the sphinx rendered scikit-learn.org. See: https://github.com/scikit-learn/scikit-learn/issues/21755 */display: inline-block !important;position: relative;}#sk-container-id-7 div.sk-text-repr-fallback {display: none;}</style><div id=\"sk-container-id-7\" class=\"sk-top-container\"><div class=\"sk-text-repr-fallback\"><pre>DecisionTreeClassifier(criterion=&#x27;entropy&#x27;, random_state=0)</pre><b>In a Jupyter environment, please rerun this cell to show the HTML representation or trust the notebook. <br />On GitHub, the HTML representation is unable to render, please try loading this page with nbviewer.org.</b></div><div class=\"sk-container\" hidden><div class=\"sk-item\"><div class=\"sk-estimator sk-toggleable\"><input class=\"sk-toggleable__control sk-hidden--visually\" id=\"sk-estimator-id-7\" type=\"checkbox\" checked><label for=\"sk-estimator-id-7\" class=\"sk-toggleable__label sk-toggleable__label-arrow\">DecisionTreeClassifier</label><div class=\"sk-toggleable__content\"><pre>DecisionTreeClassifier(criterion=&#x27;entropy&#x27;, random_state=0)</pre></div></div></div></div></div>"
            ]
          },
          "metadata": {},
          "execution_count": 56
        }
      ]
    },
    {
      "cell_type": "markdown",
      "source": [
        "RF"
      ],
      "metadata": {
        "id": "bN8AfSKoJmWq"
      }
    },
    {
      "cell_type": "code",
      "source": [
        "RF_re = RandomForestClassifier(n_estimators = 20, criterion=\"entropy\", random_state= 0)\n",
        "RF_re.fit(XD, YD)"
      ],
      "metadata": {
        "colab": {
          "base_uri": "https://localhost:8080/",
          "height": 74
        },
        "id": "0ucfz-3cJnEa",
        "outputId": "ecda3457-8a5f-400e-d9e6-a81e1531df27"
      },
      "execution_count": null,
      "outputs": [
        {
          "output_type": "execute_result",
          "data": {
            "text/plain": [
              "RandomForestClassifier(criterion='entropy', n_estimators=20, random_state=0)"
            ],
            "text/html": [
              "<style>#sk-container-id-8 {color: black;background-color: white;}#sk-container-id-8 pre{padding: 0;}#sk-container-id-8 div.sk-toggleable {background-color: white;}#sk-container-id-8 label.sk-toggleable__label {cursor: pointer;display: block;width: 100%;margin-bottom: 0;padding: 0.3em;box-sizing: border-box;text-align: center;}#sk-container-id-8 label.sk-toggleable__label-arrow:before {content: \"▸\";float: left;margin-right: 0.25em;color: #696969;}#sk-container-id-8 label.sk-toggleable__label-arrow:hover:before {color: black;}#sk-container-id-8 div.sk-estimator:hover label.sk-toggleable__label-arrow:before {color: black;}#sk-container-id-8 div.sk-toggleable__content {max-height: 0;max-width: 0;overflow: hidden;text-align: left;background-color: #f0f8ff;}#sk-container-id-8 div.sk-toggleable__content pre {margin: 0.2em;color: black;border-radius: 0.25em;background-color: #f0f8ff;}#sk-container-id-8 input.sk-toggleable__control:checked~div.sk-toggleable__content {max-height: 200px;max-width: 100%;overflow: auto;}#sk-container-id-8 input.sk-toggleable__control:checked~label.sk-toggleable__label-arrow:before {content: \"▾\";}#sk-container-id-8 div.sk-estimator input.sk-toggleable__control:checked~label.sk-toggleable__label {background-color: #d4ebff;}#sk-container-id-8 div.sk-label input.sk-toggleable__control:checked~label.sk-toggleable__label {background-color: #d4ebff;}#sk-container-id-8 input.sk-hidden--visually {border: 0;clip: rect(1px 1px 1px 1px);clip: rect(1px, 1px, 1px, 1px);height: 1px;margin: -1px;overflow: hidden;padding: 0;position: absolute;width: 1px;}#sk-container-id-8 div.sk-estimator {font-family: monospace;background-color: #f0f8ff;border: 1px dotted black;border-radius: 0.25em;box-sizing: border-box;margin-bottom: 0.5em;}#sk-container-id-8 div.sk-estimator:hover {background-color: #d4ebff;}#sk-container-id-8 div.sk-parallel-item::after {content: \"\";width: 100%;border-bottom: 1px solid gray;flex-grow: 1;}#sk-container-id-8 div.sk-label:hover label.sk-toggleable__label {background-color: #d4ebff;}#sk-container-id-8 div.sk-serial::before {content: \"\";position: absolute;border-left: 1px solid gray;box-sizing: border-box;top: 0;bottom: 0;left: 50%;z-index: 0;}#sk-container-id-8 div.sk-serial {display: flex;flex-direction: column;align-items: center;background-color: white;padding-right: 0.2em;padding-left: 0.2em;position: relative;}#sk-container-id-8 div.sk-item {position: relative;z-index: 1;}#sk-container-id-8 div.sk-parallel {display: flex;align-items: stretch;justify-content: center;background-color: white;position: relative;}#sk-container-id-8 div.sk-item::before, #sk-container-id-8 div.sk-parallel-item::before {content: \"\";position: absolute;border-left: 1px solid gray;box-sizing: border-box;top: 0;bottom: 0;left: 50%;z-index: -1;}#sk-container-id-8 div.sk-parallel-item {display: flex;flex-direction: column;z-index: 1;position: relative;background-color: white;}#sk-container-id-8 div.sk-parallel-item:first-child::after {align-self: flex-end;width: 50%;}#sk-container-id-8 div.sk-parallel-item:last-child::after {align-self: flex-start;width: 50%;}#sk-container-id-8 div.sk-parallel-item:only-child::after {width: 0;}#sk-container-id-8 div.sk-dashed-wrapped {border: 1px dashed gray;margin: 0 0.4em 0.5em 0.4em;box-sizing: border-box;padding-bottom: 0.4em;background-color: white;}#sk-container-id-8 div.sk-label label {font-family: monospace;font-weight: bold;display: inline-block;line-height: 1.2em;}#sk-container-id-8 div.sk-label-container {text-align: center;}#sk-container-id-8 div.sk-container {/* jupyter's `normalize.less` sets `[hidden] { display: none; }` but bootstrap.min.css set `[hidden] { display: none !important; }` so we also need the `!important` here to be able to override the default hidden behavior on the sphinx rendered scikit-learn.org. See: https://github.com/scikit-learn/scikit-learn/issues/21755 */display: inline-block !important;position: relative;}#sk-container-id-8 div.sk-text-repr-fallback {display: none;}</style><div id=\"sk-container-id-8\" class=\"sk-top-container\"><div class=\"sk-text-repr-fallback\"><pre>RandomForestClassifier(criterion=&#x27;entropy&#x27;, n_estimators=20, random_state=0)</pre><b>In a Jupyter environment, please rerun this cell to show the HTML representation or trust the notebook. <br />On GitHub, the HTML representation is unable to render, please try loading this page with nbviewer.org.</b></div><div class=\"sk-container\" hidden><div class=\"sk-item\"><div class=\"sk-estimator sk-toggleable\"><input class=\"sk-toggleable__control sk-hidden--visually\" id=\"sk-estimator-id-8\" type=\"checkbox\" checked><label for=\"sk-estimator-id-8\" class=\"sk-toggleable__label sk-toggleable__label-arrow\">RandomForestClassifier</label><div class=\"sk-toggleable__content\"><pre>RandomForestClassifier(criterion=&#x27;entropy&#x27;, n_estimators=20, random_state=0)</pre></div></div></div></div></div>"
            ]
          },
          "metadata": {},
          "execution_count": 57
        }
      ]
    },
    {
      "cell_type": "markdown",
      "source": [
        "# Testeo de datos externos"
      ],
      "metadata": {
        "id": "Jv3_DogrKBXl"
      }
    },
    {
      "cell_type": "markdown",
      "source": [
        "Modificamos ligeramente las funciones, ya que los nombres de los archivos csv de test así como las cabeceras de las columnas sí se encuentran."
      ],
      "metadata": {
        "id": "RFFLXim2P87Y"
      }
    },
    {
      "cell_type": "code",
      "source": [
        "def get_caract_p(file_name,i):\n",
        "  arch = pd.read_csv(file_name) #Existen los heads en las columnas\n",
        "  array_arch = arch.values\n",
        "\n",
        "  #Creamos un DataFrame con la componente en Y desplazada y que contenga el vector de aceleración.\n",
        "  prm = np.mean(array_arch[:,1]).astype('float')\n",
        "  yd = array_arch[:,1]-prm\n",
        "  va = np.sqrt(array_arch[:,0]**2 + yd**2 + array_arch[:,2]**2)\n",
        "  dic = {\"X\": array_arch[:,0], \"Y\": yd, \"Z\": array_arch[:,2], \"Vect. Ace.\": va}\n",
        "  df_arch = pd.DataFrame(dic)\n",
        "\n",
        "  #Corregimos posibles NaN´s del vector de acelearación:\n",
        "  imputer = SimpleImputer(missing_values=np.nan, strategy=\"mean\") #sustituimos los NaN´s por la media de la fila\n",
        "  imputer = imputer.fit(df_arch[[\"Vect. Ace.\"]])\n",
        "  df_arch[\"Vect. Ace.\"] = imputer.transform(df_arch[[\"Vect. Ace.\"]])\n",
        "\n",
        "  #Obtenemos las características del DataFrame\n",
        "  carac = tsfel.time_series_features_extractor(cfg, df_arch)\n",
        "  carac.index = [i]\n",
        "\n",
        "  return carac"
      ],
      "metadata": {
        "id": "puQPL0CjVDE0"
      },
      "execution_count": null,
      "outputs": []
    },
    {
      "cell_type": "code",
      "source": [
        "def load_data_test(ospath):\n",
        "  features=pd.DataFrame()# Data frame vacío\n",
        "  etiqueta=[\"Etiqueta\"]\n",
        "  letras=[]\n",
        "  i=0\n",
        "  for file in glob(ospath):\n",
        "    print(file)\n",
        "\n",
        "    #obtenemos las eiquetas:\n",
        "    individual_label= os.path.splitext(os.path.basename(file))[0] #Cambia la etiqueta y así la línea\n",
        "\n",
        "    #Obtenemos las características:\n",
        "    features_df = get_caract_p(file,i)\n",
        "    features = pd.concat([features, features_df])\n",
        "    letras.append(individual_label)\n",
        "    i+=1\n",
        "\n",
        "  DFE = pd.DataFrame(letras,columns=etiqueta)\n",
        "  return features,DFE\n"
      ],
      "metadata": {
        "id": "umqMvJHoQJVe"
      },
      "execution_count": null,
      "outputs": []
    },
    {
      "cell_type": "code",
      "source": [
        "Caract_t, Etiq_t = load_data_test('/content/drive/MyDrive/Tareas CDSI/Archivos inerciales/Test/Test/*.csv')\n"
      ],
      "metadata": {
        "colab": {
          "base_uri": "https://localhost:8080/",
          "height": 1000
        },
        "id": "v6aMcT5HQ56x",
        "outputId": "3b17e9a6-1045-4e48-bf3a-5ecd2a87e39b"
      },
      "execution_count": null,
      "outputs": [
        {
          "output_type": "stream",
          "name": "stdout",
          "text": [
            "/content/drive/MyDrive/Tareas CDSI/Archivos inerciales/Test/Test/file_18.csv\n",
            "*** Feature extraction started ***\n",
            "60\n"
          ]
        },
        {
          "output_type": "stream",
          "name": "stderr",
          "text": [
            "<ipython-input-58-f9956fd2d883>:18: UserWarning: Using default sampling frequency set in configuration file.\n",
            "  carac = tsfel.time_series_features_extractor(cfg, df_arch)\n"
          ]
        },
        {
          "output_type": "display_data",
          "data": {
            "text/plain": [
              "<IPython.core.display.HTML object>"
            ],
            "text/html": [
              "\n",
              "              <p>\n",
              "                  Progress: 100% Complete\n",
              "              <p/>            \n",
              "              <progress\n",
              "                  value='60'\n",
              "                  max='60',\n",
              "                  style='width: 25%',\n",
              "              >\n",
              "                  60\n",
              "              </progress>\n",
              "\n",
              "    "
            ]
          },
          "metadata": {}
        },
        {
          "output_type": "stream",
          "name": "stdout",
          "text": [
            "\n",
            "*** Feature extraction finished ***\n",
            "/content/drive/MyDrive/Tareas CDSI/Archivos inerciales/Test/Test/file_5.csv\n",
            "*** Feature extraction started ***\n",
            "60\n"
          ]
        },
        {
          "output_type": "stream",
          "name": "stderr",
          "text": [
            "<ipython-input-58-f9956fd2d883>:18: UserWarning: Using default sampling frequency set in configuration file.\n",
            "  carac = tsfel.time_series_features_extractor(cfg, df_arch)\n"
          ]
        },
        {
          "output_type": "display_data",
          "data": {
            "text/plain": [
              "<IPython.core.display.HTML object>"
            ],
            "text/html": [
              "\n",
              "              <p>\n",
              "                  Progress: 100% Complete\n",
              "              <p/>            \n",
              "              <progress\n",
              "                  value='60'\n",
              "                  max='60',\n",
              "                  style='width: 25%',\n",
              "              >\n",
              "                  60\n",
              "              </progress>\n",
              "\n",
              "    "
            ]
          },
          "metadata": {}
        },
        {
          "output_type": "stream",
          "name": "stdout",
          "text": [
            "\n",
            "*** Feature extraction finished ***\n",
            "/content/drive/MyDrive/Tareas CDSI/Archivos inerciales/Test/Test/file_20.csv\n",
            "*** Feature extraction started ***\n",
            "60\n"
          ]
        },
        {
          "output_type": "stream",
          "name": "stderr",
          "text": [
            "<ipython-input-58-f9956fd2d883>:18: UserWarning: Using default sampling frequency set in configuration file.\n",
            "  carac = tsfel.time_series_features_extractor(cfg, df_arch)\n"
          ]
        },
        {
          "output_type": "display_data",
          "data": {
            "text/plain": [
              "<IPython.core.display.HTML object>"
            ],
            "text/html": [
              "\n",
              "              <p>\n",
              "                  Progress: 100% Complete\n",
              "              <p/>            \n",
              "              <progress\n",
              "                  value='60'\n",
              "                  max='60',\n",
              "                  style='width: 25%',\n",
              "              >\n",
              "                  60\n",
              "              </progress>\n",
              "\n",
              "    "
            ]
          },
          "metadata": {}
        },
        {
          "output_type": "stream",
          "name": "stdout",
          "text": [
            "\n",
            "*** Feature extraction finished ***\n",
            "/content/drive/MyDrive/Tareas CDSI/Archivos inerciales/Test/Test/file_29.csv\n",
            "*** Feature extraction started ***\n",
            "60\n"
          ]
        },
        {
          "output_type": "stream",
          "name": "stderr",
          "text": [
            "<ipython-input-58-f9956fd2d883>:18: UserWarning: Using default sampling frequency set in configuration file.\n",
            "  carac = tsfel.time_series_features_extractor(cfg, df_arch)\n"
          ]
        },
        {
          "output_type": "display_data",
          "data": {
            "text/plain": [
              "<IPython.core.display.HTML object>"
            ],
            "text/html": [
              "\n",
              "              <p>\n",
              "                  Progress: 100% Complete\n",
              "              <p/>            \n",
              "              <progress\n",
              "                  value='60'\n",
              "                  max='60',\n",
              "                  style='width: 25%',\n",
              "              >\n",
              "                  60\n",
              "              </progress>\n",
              "\n",
              "    "
            ]
          },
          "metadata": {}
        },
        {
          "output_type": "stream",
          "name": "stdout",
          "text": [
            "\n",
            "*** Feature extraction finished ***\n",
            "/content/drive/MyDrive/Tareas CDSI/Archivos inerciales/Test/Test/file_4.csv\n",
            "*** Feature extraction started ***\n",
            "60\n"
          ]
        },
        {
          "output_type": "stream",
          "name": "stderr",
          "text": [
            "<ipython-input-58-f9956fd2d883>:18: UserWarning: Using default sampling frequency set in configuration file.\n",
            "  carac = tsfel.time_series_features_extractor(cfg, df_arch)\n"
          ]
        },
        {
          "output_type": "display_data",
          "data": {
            "text/plain": [
              "<IPython.core.display.HTML object>"
            ],
            "text/html": [
              "\n",
              "              <p>\n",
              "                  Progress: 100% Complete\n",
              "              <p/>            \n",
              "              <progress\n",
              "                  value='60'\n",
              "                  max='60',\n",
              "                  style='width: 25%',\n",
              "              >\n",
              "                  60\n",
              "              </progress>\n",
              "\n",
              "    "
            ]
          },
          "metadata": {}
        },
        {
          "output_type": "stream",
          "name": "stdout",
          "text": [
            "\n",
            "*** Feature extraction finished ***\n",
            "/content/drive/MyDrive/Tareas CDSI/Archivos inerciales/Test/Test/file_26.csv\n",
            "*** Feature extraction started ***\n",
            "60\n"
          ]
        },
        {
          "output_type": "stream",
          "name": "stderr",
          "text": [
            "<ipython-input-58-f9956fd2d883>:18: UserWarning: Using default sampling frequency set in configuration file.\n",
            "  carac = tsfel.time_series_features_extractor(cfg, df_arch)\n"
          ]
        },
        {
          "output_type": "display_data",
          "data": {
            "text/plain": [
              "<IPython.core.display.HTML object>"
            ],
            "text/html": [
              "\n",
              "              <p>\n",
              "                  Progress: 100% Complete\n",
              "              <p/>            \n",
              "              <progress\n",
              "                  value='60'\n",
              "                  max='60',\n",
              "                  style='width: 25%',\n",
              "              >\n",
              "                  60\n",
              "              </progress>\n",
              "\n",
              "    "
            ]
          },
          "metadata": {}
        },
        {
          "output_type": "stream",
          "name": "stdout",
          "text": [
            "\n",
            "*** Feature extraction finished ***\n",
            "/content/drive/MyDrive/Tareas CDSI/Archivos inerciales/Test/Test/file_15.csv\n",
            "*** Feature extraction started ***\n",
            "60\n"
          ]
        },
        {
          "output_type": "stream",
          "name": "stderr",
          "text": [
            "<ipython-input-58-f9956fd2d883>:18: UserWarning: Using default sampling frequency set in configuration file.\n",
            "  carac = tsfel.time_series_features_extractor(cfg, df_arch)\n"
          ]
        },
        {
          "output_type": "display_data",
          "data": {
            "text/plain": [
              "<IPython.core.display.HTML object>"
            ],
            "text/html": [
              "\n",
              "              <p>\n",
              "                  Progress: 100% Complete\n",
              "              <p/>            \n",
              "              <progress\n",
              "                  value='60'\n",
              "                  max='60',\n",
              "                  style='width: 25%',\n",
              "              >\n",
              "                  60\n",
              "              </progress>\n",
              "\n",
              "    "
            ]
          },
          "metadata": {}
        },
        {
          "output_type": "stream",
          "name": "stdout",
          "text": [
            "\n",
            "*** Feature extraction finished ***\n",
            "/content/drive/MyDrive/Tareas CDSI/Archivos inerciales/Test/Test/file_14.csv\n",
            "*** Feature extraction started ***\n",
            "60\n"
          ]
        },
        {
          "output_type": "stream",
          "name": "stderr",
          "text": [
            "<ipython-input-58-f9956fd2d883>:18: UserWarning: Using default sampling frequency set in configuration file.\n",
            "  carac = tsfel.time_series_features_extractor(cfg, df_arch)\n"
          ]
        },
        {
          "output_type": "display_data",
          "data": {
            "text/plain": [
              "<IPython.core.display.HTML object>"
            ],
            "text/html": [
              "\n",
              "              <p>\n",
              "                  Progress: 100% Complete\n",
              "              <p/>            \n",
              "              <progress\n",
              "                  value='60'\n",
              "                  max='60',\n",
              "                  style='width: 25%',\n",
              "              >\n",
              "                  60\n",
              "              </progress>\n",
              "\n",
              "    "
            ]
          },
          "metadata": {}
        },
        {
          "output_type": "stream",
          "name": "stdout",
          "text": [
            "\n",
            "*** Feature extraction finished ***\n",
            "/content/drive/MyDrive/Tareas CDSI/Archivos inerciales/Test/Test/file_0.csv\n",
            "*** Feature extraction started ***\n",
            "60\n"
          ]
        },
        {
          "output_type": "stream",
          "name": "stderr",
          "text": [
            "<ipython-input-58-f9956fd2d883>:18: UserWarning: Using default sampling frequency set in configuration file.\n",
            "  carac = tsfel.time_series_features_extractor(cfg, df_arch)\n"
          ]
        },
        {
          "output_type": "display_data",
          "data": {
            "text/plain": [
              "<IPython.core.display.HTML object>"
            ],
            "text/html": [
              "\n",
              "              <p>\n",
              "                  Progress: 100% Complete\n",
              "              <p/>            \n",
              "              <progress\n",
              "                  value='60'\n",
              "                  max='60',\n",
              "                  style='width: 25%',\n",
              "              >\n",
              "                  60\n",
              "              </progress>\n",
              "\n",
              "    "
            ]
          },
          "metadata": {}
        },
        {
          "output_type": "stream",
          "name": "stdout",
          "text": [
            "\n",
            "*** Feature extraction finished ***\n",
            "/content/drive/MyDrive/Tareas CDSI/Archivos inerciales/Test/Test/file_33.csv\n",
            "*** Feature extraction started ***\n",
            "60\n"
          ]
        },
        {
          "output_type": "stream",
          "name": "stderr",
          "text": [
            "<ipython-input-58-f9956fd2d883>:18: UserWarning: Using default sampling frequency set in configuration file.\n",
            "  carac = tsfel.time_series_features_extractor(cfg, df_arch)\n"
          ]
        },
        {
          "output_type": "display_data",
          "data": {
            "text/plain": [
              "<IPython.core.display.HTML object>"
            ],
            "text/html": [
              "\n",
              "              <p>\n",
              "                  Progress: 100% Complete\n",
              "              <p/>            \n",
              "              <progress\n",
              "                  value='60'\n",
              "                  max='60',\n",
              "                  style='width: 25%',\n",
              "              >\n",
              "                  60\n",
              "              </progress>\n",
              "\n",
              "    "
            ]
          },
          "metadata": {}
        },
        {
          "output_type": "stream",
          "name": "stdout",
          "text": [
            "\n",
            "*** Feature extraction finished ***\n",
            "/content/drive/MyDrive/Tareas CDSI/Archivos inerciales/Test/Test/file_7.csv\n",
            "*** Feature extraction started ***\n",
            "60\n"
          ]
        },
        {
          "output_type": "stream",
          "name": "stderr",
          "text": [
            "<ipython-input-58-f9956fd2d883>:18: UserWarning: Using default sampling frequency set in configuration file.\n",
            "  carac = tsfel.time_series_features_extractor(cfg, df_arch)\n"
          ]
        },
        {
          "output_type": "display_data",
          "data": {
            "text/plain": [
              "<IPython.core.display.HTML object>"
            ],
            "text/html": [
              "\n",
              "              <p>\n",
              "                  Progress: 100% Complete\n",
              "              <p/>            \n",
              "              <progress\n",
              "                  value='60'\n",
              "                  max='60',\n",
              "                  style='width: 25%',\n",
              "              >\n",
              "                  60\n",
              "              </progress>\n",
              "\n",
              "    "
            ]
          },
          "metadata": {}
        },
        {
          "output_type": "stream",
          "name": "stdout",
          "text": [
            "\n",
            "*** Feature extraction finished ***\n",
            "/content/drive/MyDrive/Tareas CDSI/Archivos inerciales/Test/Test/file_21.csv\n",
            "*** Feature extraction started ***\n",
            "60\n"
          ]
        },
        {
          "output_type": "stream",
          "name": "stderr",
          "text": [
            "<ipython-input-58-f9956fd2d883>:18: UserWarning: Using default sampling frequency set in configuration file.\n",
            "  carac = tsfel.time_series_features_extractor(cfg, df_arch)\n"
          ]
        },
        {
          "output_type": "display_data",
          "data": {
            "text/plain": [
              "<IPython.core.display.HTML object>"
            ],
            "text/html": [
              "\n",
              "              <p>\n",
              "                  Progress: 100% Complete\n",
              "              <p/>            \n",
              "              <progress\n",
              "                  value='60'\n",
              "                  max='60',\n",
              "                  style='width: 25%',\n",
              "              >\n",
              "                  60\n",
              "              </progress>\n",
              "\n",
              "    "
            ]
          },
          "metadata": {}
        },
        {
          "output_type": "stream",
          "name": "stdout",
          "text": [
            "\n",
            "*** Feature extraction finished ***\n",
            "/content/drive/MyDrive/Tareas CDSI/Archivos inerciales/Test/Test/file_28.csv\n",
            "*** Feature extraction started ***\n",
            "60\n"
          ]
        },
        {
          "output_type": "stream",
          "name": "stderr",
          "text": [
            "<ipython-input-58-f9956fd2d883>:18: UserWarning: Using default sampling frequency set in configuration file.\n",
            "  carac = tsfel.time_series_features_extractor(cfg, df_arch)\n"
          ]
        },
        {
          "output_type": "display_data",
          "data": {
            "text/plain": [
              "<IPython.core.display.HTML object>"
            ],
            "text/html": [
              "\n",
              "              <p>\n",
              "                  Progress: 100% Complete\n",
              "              <p/>            \n",
              "              <progress\n",
              "                  value='60'\n",
              "                  max='60',\n",
              "                  style='width: 25%',\n",
              "              >\n",
              "                  60\n",
              "              </progress>\n",
              "\n",
              "    "
            ]
          },
          "metadata": {}
        },
        {
          "output_type": "stream",
          "name": "stdout",
          "text": [
            "\n",
            "*** Feature extraction finished ***\n",
            "/content/drive/MyDrive/Tareas CDSI/Archivos inerciales/Test/Test/file_34.csv\n",
            "*** Feature extraction started ***\n",
            "60\n"
          ]
        },
        {
          "output_type": "stream",
          "name": "stderr",
          "text": [
            "<ipython-input-58-f9956fd2d883>:18: UserWarning: Using default sampling frequency set in configuration file.\n",
            "  carac = tsfel.time_series_features_extractor(cfg, df_arch)\n"
          ]
        },
        {
          "output_type": "display_data",
          "data": {
            "text/plain": [
              "<IPython.core.display.HTML object>"
            ],
            "text/html": [
              "\n",
              "              <p>\n",
              "                  Progress: 100% Complete\n",
              "              <p/>            \n",
              "              <progress\n",
              "                  value='60'\n",
              "                  max='60',\n",
              "                  style='width: 25%',\n",
              "              >\n",
              "                  60\n",
              "              </progress>\n",
              "\n",
              "    "
            ]
          },
          "metadata": {}
        },
        {
          "output_type": "stream",
          "name": "stdout",
          "text": [
            "\n",
            "*** Feature extraction finished ***\n",
            "/content/drive/MyDrive/Tareas CDSI/Archivos inerciales/Test/Test/file_11.csv\n",
            "*** Feature extraction started ***\n",
            "60\n"
          ]
        },
        {
          "output_type": "stream",
          "name": "stderr",
          "text": [
            "<ipython-input-58-f9956fd2d883>:18: UserWarning: Using default sampling frequency set in configuration file.\n",
            "  carac = tsfel.time_series_features_extractor(cfg, df_arch)\n"
          ]
        },
        {
          "output_type": "display_data",
          "data": {
            "text/plain": [
              "<IPython.core.display.HTML object>"
            ],
            "text/html": [
              "\n",
              "              <p>\n",
              "                  Progress: 100% Complete\n",
              "              <p/>            \n",
              "              <progress\n",
              "                  value='60'\n",
              "                  max='60',\n",
              "                  style='width: 25%',\n",
              "              >\n",
              "                  60\n",
              "              </progress>\n",
              "\n",
              "    "
            ]
          },
          "metadata": {}
        },
        {
          "output_type": "stream",
          "name": "stdout",
          "text": [
            "\n",
            "*** Feature extraction finished ***\n",
            "/content/drive/MyDrive/Tareas CDSI/Archivos inerciales/Test/Test/file_27.csv\n",
            "*** Feature extraction started ***\n",
            "60\n"
          ]
        },
        {
          "output_type": "stream",
          "name": "stderr",
          "text": [
            "<ipython-input-58-f9956fd2d883>:18: UserWarning: Using default sampling frequency set in configuration file.\n",
            "  carac = tsfel.time_series_features_extractor(cfg, df_arch)\n"
          ]
        },
        {
          "output_type": "display_data",
          "data": {
            "text/plain": [
              "<IPython.core.display.HTML object>"
            ],
            "text/html": [
              "\n",
              "              <p>\n",
              "                  Progress: 100% Complete\n",
              "              <p/>            \n",
              "              <progress\n",
              "                  value='60'\n",
              "                  max='60',\n",
              "                  style='width: 25%',\n",
              "              >\n",
              "                  60\n",
              "              </progress>\n",
              "\n",
              "    "
            ]
          },
          "metadata": {}
        },
        {
          "output_type": "stream",
          "name": "stdout",
          "text": [
            "\n",
            "*** Feature extraction finished ***\n",
            "/content/drive/MyDrive/Tareas CDSI/Archivos inerciales/Test/Test/file_9.csv\n",
            "*** Feature extraction started ***\n",
            "60\n"
          ]
        },
        {
          "output_type": "stream",
          "name": "stderr",
          "text": [
            "<ipython-input-58-f9956fd2d883>:18: UserWarning: Using default sampling frequency set in configuration file.\n",
            "  carac = tsfel.time_series_features_extractor(cfg, df_arch)\n"
          ]
        },
        {
          "output_type": "display_data",
          "data": {
            "text/plain": [
              "<IPython.core.display.HTML object>"
            ],
            "text/html": [
              "\n",
              "              <p>\n",
              "                  Progress: 100% Complete\n",
              "              <p/>            \n",
              "              <progress\n",
              "                  value='60'\n",
              "                  max='60',\n",
              "                  style='width: 25%',\n",
              "              >\n",
              "                  60\n",
              "              </progress>\n",
              "\n",
              "    "
            ]
          },
          "metadata": {}
        },
        {
          "output_type": "stream",
          "name": "stdout",
          "text": [
            "\n",
            "*** Feature extraction finished ***\n",
            "/content/drive/MyDrive/Tareas CDSI/Archivos inerciales/Test/Test/file_13.csv\n",
            "*** Feature extraction started ***\n",
            "60\n"
          ]
        },
        {
          "output_type": "stream",
          "name": "stderr",
          "text": [
            "<ipython-input-58-f9956fd2d883>:18: UserWarning: Using default sampling frequency set in configuration file.\n",
            "  carac = tsfel.time_series_features_extractor(cfg, df_arch)\n"
          ]
        },
        {
          "output_type": "display_data",
          "data": {
            "text/plain": [
              "<IPython.core.display.HTML object>"
            ],
            "text/html": [
              "\n",
              "              <p>\n",
              "                  Progress: 100% Complete\n",
              "              <p/>            \n",
              "              <progress\n",
              "                  value='60'\n",
              "                  max='60',\n",
              "                  style='width: 25%',\n",
              "              >\n",
              "                  60\n",
              "              </progress>\n",
              "\n",
              "    "
            ]
          },
          "metadata": {}
        },
        {
          "output_type": "stream",
          "name": "stdout",
          "text": [
            "\n",
            "*** Feature extraction finished ***\n",
            "/content/drive/MyDrive/Tareas CDSI/Archivos inerciales/Test/Test/file_17.csv\n",
            "*** Feature extraction started ***\n",
            "60\n"
          ]
        },
        {
          "output_type": "stream",
          "name": "stderr",
          "text": [
            "<ipython-input-58-f9956fd2d883>:18: UserWarning: Using default sampling frequency set in configuration file.\n",
            "  carac = tsfel.time_series_features_extractor(cfg, df_arch)\n"
          ]
        },
        {
          "output_type": "display_data",
          "data": {
            "text/plain": [
              "<IPython.core.display.HTML object>"
            ],
            "text/html": [
              "\n",
              "              <p>\n",
              "                  Progress: 100% Complete\n",
              "              <p/>            \n",
              "              <progress\n",
              "                  value='60'\n",
              "                  max='60',\n",
              "                  style='width: 25%',\n",
              "              >\n",
              "                  60\n",
              "              </progress>\n",
              "\n",
              "    "
            ]
          },
          "metadata": {}
        },
        {
          "output_type": "stream",
          "name": "stdout",
          "text": [
            "\n",
            "*** Feature extraction finished ***\n",
            "/content/drive/MyDrive/Tareas CDSI/Archivos inerciales/Test/Test/file_6.csv\n",
            "*** Feature extraction started ***\n",
            "60\n"
          ]
        },
        {
          "output_type": "stream",
          "name": "stderr",
          "text": [
            "<ipython-input-58-f9956fd2d883>:18: UserWarning: Using default sampling frequency set in configuration file.\n",
            "  carac = tsfel.time_series_features_extractor(cfg, df_arch)\n"
          ]
        },
        {
          "output_type": "display_data",
          "data": {
            "text/plain": [
              "<IPython.core.display.HTML object>"
            ],
            "text/html": [
              "\n",
              "              <p>\n",
              "                  Progress: 100% Complete\n",
              "              <p/>            \n",
              "              <progress\n",
              "                  value='60'\n",
              "                  max='60',\n",
              "                  style='width: 25%',\n",
              "              >\n",
              "                  60\n",
              "              </progress>\n",
              "\n",
              "    "
            ]
          },
          "metadata": {}
        },
        {
          "output_type": "stream",
          "name": "stdout",
          "text": [
            "\n",
            "*** Feature extraction finished ***\n",
            "/content/drive/MyDrive/Tareas CDSI/Archivos inerciales/Test/Test/file_12.csv\n",
            "*** Feature extraction started ***\n",
            "60\n"
          ]
        },
        {
          "output_type": "stream",
          "name": "stderr",
          "text": [
            "<ipython-input-58-f9956fd2d883>:18: UserWarning: Using default sampling frequency set in configuration file.\n",
            "  carac = tsfel.time_series_features_extractor(cfg, df_arch)\n"
          ]
        },
        {
          "output_type": "display_data",
          "data": {
            "text/plain": [
              "<IPython.core.display.HTML object>"
            ],
            "text/html": [
              "\n",
              "              <p>\n",
              "                  Progress: 100% Complete\n",
              "              <p/>            \n",
              "              <progress\n",
              "                  value='60'\n",
              "                  max='60',\n",
              "                  style='width: 25%',\n",
              "              >\n",
              "                  60\n",
              "              </progress>\n",
              "\n",
              "    "
            ]
          },
          "metadata": {}
        },
        {
          "output_type": "stream",
          "name": "stdout",
          "text": [
            "\n",
            "*** Feature extraction finished ***\n",
            "/content/drive/MyDrive/Tareas CDSI/Archivos inerciales/Test/Test/file_32.csv\n",
            "*** Feature extraction started ***\n",
            "60\n"
          ]
        },
        {
          "output_type": "stream",
          "name": "stderr",
          "text": [
            "<ipython-input-58-f9956fd2d883>:18: UserWarning: Using default sampling frequency set in configuration file.\n",
            "  carac = tsfel.time_series_features_extractor(cfg, df_arch)\n"
          ]
        },
        {
          "output_type": "display_data",
          "data": {
            "text/plain": [
              "<IPython.core.display.HTML object>"
            ],
            "text/html": [
              "\n",
              "              <p>\n",
              "                  Progress: 100% Complete\n",
              "              <p/>            \n",
              "              <progress\n",
              "                  value='60'\n",
              "                  max='60',\n",
              "                  style='width: 25%',\n",
              "              >\n",
              "                  60\n",
              "              </progress>\n",
              "\n",
              "    "
            ]
          },
          "metadata": {}
        },
        {
          "output_type": "stream",
          "name": "stdout",
          "text": [
            "\n",
            "*** Feature extraction finished ***\n",
            "/content/drive/MyDrive/Tareas CDSI/Archivos inerciales/Test/Test/file_31.csv\n",
            "*** Feature extraction started ***\n",
            "60\n"
          ]
        },
        {
          "output_type": "stream",
          "name": "stderr",
          "text": [
            "<ipython-input-58-f9956fd2d883>:18: UserWarning: Using default sampling frequency set in configuration file.\n",
            "  carac = tsfel.time_series_features_extractor(cfg, df_arch)\n"
          ]
        },
        {
          "output_type": "display_data",
          "data": {
            "text/plain": [
              "<IPython.core.display.HTML object>"
            ],
            "text/html": [
              "\n",
              "              <p>\n",
              "                  Progress: 100% Complete\n",
              "              <p/>            \n",
              "              <progress\n",
              "                  value='60'\n",
              "                  max='60',\n",
              "                  style='width: 25%',\n",
              "              >\n",
              "                  60\n",
              "              </progress>\n",
              "\n",
              "    "
            ]
          },
          "metadata": {}
        },
        {
          "output_type": "stream",
          "name": "stdout",
          "text": [
            "\n",
            "*** Feature extraction finished ***\n",
            "/content/drive/MyDrive/Tareas CDSI/Archivos inerciales/Test/Test/file_3.csv\n",
            "*** Feature extraction started ***\n",
            "60\n"
          ]
        },
        {
          "output_type": "stream",
          "name": "stderr",
          "text": [
            "<ipython-input-58-f9956fd2d883>:18: UserWarning: Using default sampling frequency set in configuration file.\n",
            "  carac = tsfel.time_series_features_extractor(cfg, df_arch)\n"
          ]
        },
        {
          "output_type": "display_data",
          "data": {
            "text/plain": [
              "<IPython.core.display.HTML object>"
            ],
            "text/html": [
              "\n",
              "              <p>\n",
              "                  Progress: 100% Complete\n",
              "              <p/>            \n",
              "              <progress\n",
              "                  value='60'\n",
              "                  max='60',\n",
              "                  style='width: 25%',\n",
              "              >\n",
              "                  60\n",
              "              </progress>\n",
              "\n",
              "    "
            ]
          },
          "metadata": {}
        },
        {
          "output_type": "stream",
          "name": "stdout",
          "text": [
            "\n",
            "*** Feature extraction finished ***\n",
            "/content/drive/MyDrive/Tareas CDSI/Archivos inerciales/Test/Test/file_19.csv\n",
            "*** Feature extraction started ***\n",
            "60\n"
          ]
        },
        {
          "output_type": "stream",
          "name": "stderr",
          "text": [
            "<ipython-input-58-f9956fd2d883>:18: UserWarning: Using default sampling frequency set in configuration file.\n",
            "  carac = tsfel.time_series_features_extractor(cfg, df_arch)\n"
          ]
        },
        {
          "output_type": "display_data",
          "data": {
            "text/plain": [
              "<IPython.core.display.HTML object>"
            ],
            "text/html": [
              "\n",
              "              <p>\n",
              "                  Progress: 100% Complete\n",
              "              <p/>            \n",
              "              <progress\n",
              "                  value='60'\n",
              "                  max='60',\n",
              "                  style='width: 25%',\n",
              "              >\n",
              "                  60\n",
              "              </progress>\n",
              "\n",
              "    "
            ]
          },
          "metadata": {}
        },
        {
          "output_type": "stream",
          "name": "stdout",
          "text": [
            "\n",
            "*** Feature extraction finished ***\n",
            "/content/drive/MyDrive/Tareas CDSI/Archivos inerciales/Test/Test/file_16.csv\n",
            "*** Feature extraction started ***\n",
            "60\n"
          ]
        },
        {
          "output_type": "stream",
          "name": "stderr",
          "text": [
            "<ipython-input-58-f9956fd2d883>:18: UserWarning: Using default sampling frequency set in configuration file.\n",
            "  carac = tsfel.time_series_features_extractor(cfg, df_arch)\n"
          ]
        },
        {
          "output_type": "display_data",
          "data": {
            "text/plain": [
              "<IPython.core.display.HTML object>"
            ],
            "text/html": [
              "\n",
              "              <p>\n",
              "                  Progress: 100% Complete\n",
              "              <p/>            \n",
              "              <progress\n",
              "                  value='60'\n",
              "                  max='60',\n",
              "                  style='width: 25%',\n",
              "              >\n",
              "                  60\n",
              "              </progress>\n",
              "\n",
              "    "
            ]
          },
          "metadata": {}
        },
        {
          "output_type": "stream",
          "name": "stdout",
          "text": [
            "\n",
            "*** Feature extraction finished ***\n",
            "/content/drive/MyDrive/Tareas CDSI/Archivos inerciales/Test/Test/file_30.csv\n",
            "*** Feature extraction started ***\n",
            "60\n"
          ]
        },
        {
          "output_type": "stream",
          "name": "stderr",
          "text": [
            "<ipython-input-58-f9956fd2d883>:18: UserWarning: Using default sampling frequency set in configuration file.\n",
            "  carac = tsfel.time_series_features_extractor(cfg, df_arch)\n"
          ]
        },
        {
          "output_type": "display_data",
          "data": {
            "text/plain": [
              "<IPython.core.display.HTML object>"
            ],
            "text/html": [
              "\n",
              "              <p>\n",
              "                  Progress: 100% Complete\n",
              "              <p/>            \n",
              "              <progress\n",
              "                  value='60'\n",
              "                  max='60',\n",
              "                  style='width: 25%',\n",
              "              >\n",
              "                  60\n",
              "              </progress>\n",
              "\n",
              "    "
            ]
          },
          "metadata": {}
        },
        {
          "output_type": "stream",
          "name": "stdout",
          "text": [
            "\n",
            "*** Feature extraction finished ***\n",
            "/content/drive/MyDrive/Tareas CDSI/Archivos inerciales/Test/Test/file_25.csv\n",
            "*** Feature extraction started ***\n",
            "60\n"
          ]
        },
        {
          "output_type": "stream",
          "name": "stderr",
          "text": [
            "<ipython-input-58-f9956fd2d883>:18: UserWarning: Using default sampling frequency set in configuration file.\n",
            "  carac = tsfel.time_series_features_extractor(cfg, df_arch)\n"
          ]
        },
        {
          "output_type": "display_data",
          "data": {
            "text/plain": [
              "<IPython.core.display.HTML object>"
            ],
            "text/html": [
              "\n",
              "              <p>\n",
              "                  Progress: 100% Complete\n",
              "              <p/>            \n",
              "              <progress\n",
              "                  value='60'\n",
              "                  max='60',\n",
              "                  style='width: 25%',\n",
              "              >\n",
              "                  60\n",
              "              </progress>\n",
              "\n",
              "    "
            ]
          },
          "metadata": {}
        },
        {
          "output_type": "stream",
          "name": "stdout",
          "text": [
            "\n",
            "*** Feature extraction finished ***\n",
            "/content/drive/MyDrive/Tareas CDSI/Archivos inerciales/Test/Test/file_24.csv\n",
            "*** Feature extraction started ***\n",
            "60\n"
          ]
        },
        {
          "output_type": "stream",
          "name": "stderr",
          "text": [
            "<ipython-input-58-f9956fd2d883>:18: UserWarning: Using default sampling frequency set in configuration file.\n",
            "  carac = tsfel.time_series_features_extractor(cfg, df_arch)\n"
          ]
        },
        {
          "output_type": "display_data",
          "data": {
            "text/plain": [
              "<IPython.core.display.HTML object>"
            ],
            "text/html": [
              "\n",
              "              <p>\n",
              "                  Progress: 100% Complete\n",
              "              <p/>            \n",
              "              <progress\n",
              "                  value='60'\n",
              "                  max='60',\n",
              "                  style='width: 25%',\n",
              "              >\n",
              "                  60\n",
              "              </progress>\n",
              "\n",
              "    "
            ]
          },
          "metadata": {}
        },
        {
          "output_type": "stream",
          "name": "stdout",
          "text": [
            "\n",
            "*** Feature extraction finished ***\n",
            "/content/drive/MyDrive/Tareas CDSI/Archivos inerciales/Test/Test/file_8.csv\n",
            "*** Feature extraction started ***\n",
            "60\n"
          ]
        },
        {
          "output_type": "stream",
          "name": "stderr",
          "text": [
            "<ipython-input-58-f9956fd2d883>:18: UserWarning: Using default sampling frequency set in configuration file.\n",
            "  carac = tsfel.time_series_features_extractor(cfg, df_arch)\n"
          ]
        },
        {
          "output_type": "display_data",
          "data": {
            "text/plain": [
              "<IPython.core.display.HTML object>"
            ],
            "text/html": [
              "\n",
              "              <p>\n",
              "                  Progress: 100% Complete\n",
              "              <p/>            \n",
              "              <progress\n",
              "                  value='60'\n",
              "                  max='60',\n",
              "                  style='width: 25%',\n",
              "              >\n",
              "                  60\n",
              "              </progress>\n",
              "\n",
              "    "
            ]
          },
          "metadata": {}
        },
        {
          "output_type": "stream",
          "name": "stdout",
          "text": [
            "\n",
            "*** Feature extraction finished ***\n",
            "/content/drive/MyDrive/Tareas CDSI/Archivos inerciales/Test/Test/file_2.csv\n",
            "*** Feature extraction started ***\n",
            "60\n"
          ]
        },
        {
          "output_type": "stream",
          "name": "stderr",
          "text": [
            "<ipython-input-58-f9956fd2d883>:18: UserWarning: Using default sampling frequency set in configuration file.\n",
            "  carac = tsfel.time_series_features_extractor(cfg, df_arch)\n"
          ]
        },
        {
          "output_type": "display_data",
          "data": {
            "text/plain": [
              "<IPython.core.display.HTML object>"
            ],
            "text/html": [
              "\n",
              "              <p>\n",
              "                  Progress: 100% Complete\n",
              "              <p/>            \n",
              "              <progress\n",
              "                  value='60'\n",
              "                  max='60',\n",
              "                  style='width: 25%',\n",
              "              >\n",
              "                  60\n",
              "              </progress>\n",
              "\n",
              "    "
            ]
          },
          "metadata": {}
        },
        {
          "output_type": "stream",
          "name": "stdout",
          "text": [
            "\n",
            "*** Feature extraction finished ***\n",
            "/content/drive/MyDrive/Tareas CDSI/Archivos inerciales/Test/Test/file_10.csv\n",
            "*** Feature extraction started ***\n",
            "60\n"
          ]
        },
        {
          "output_type": "stream",
          "name": "stderr",
          "text": [
            "<ipython-input-58-f9956fd2d883>:18: UserWarning: Using default sampling frequency set in configuration file.\n",
            "  carac = tsfel.time_series_features_extractor(cfg, df_arch)\n"
          ]
        },
        {
          "output_type": "display_data",
          "data": {
            "text/plain": [
              "<IPython.core.display.HTML object>"
            ],
            "text/html": [
              "\n",
              "              <p>\n",
              "                  Progress: 100% Complete\n",
              "              <p/>            \n",
              "              <progress\n",
              "                  value='60'\n",
              "                  max='60',\n",
              "                  style='width: 25%',\n",
              "              >\n",
              "                  60\n",
              "              </progress>\n",
              "\n",
              "    "
            ]
          },
          "metadata": {}
        },
        {
          "output_type": "stream",
          "name": "stdout",
          "text": [
            "\n",
            "*** Feature extraction finished ***\n",
            "/content/drive/MyDrive/Tareas CDSI/Archivos inerciales/Test/Test/file_22.csv\n",
            "*** Feature extraction started ***\n",
            "60\n"
          ]
        },
        {
          "output_type": "stream",
          "name": "stderr",
          "text": [
            "<ipython-input-58-f9956fd2d883>:18: UserWarning: Using default sampling frequency set in configuration file.\n",
            "  carac = tsfel.time_series_features_extractor(cfg, df_arch)\n"
          ]
        },
        {
          "output_type": "display_data",
          "data": {
            "text/plain": [
              "<IPython.core.display.HTML object>"
            ],
            "text/html": [
              "\n",
              "              <p>\n",
              "                  Progress: 100% Complete\n",
              "              <p/>            \n",
              "              <progress\n",
              "                  value='60'\n",
              "                  max='60',\n",
              "                  style='width: 25%',\n",
              "              >\n",
              "                  60\n",
              "              </progress>\n",
              "\n",
              "    "
            ]
          },
          "metadata": {}
        },
        {
          "output_type": "stream",
          "name": "stdout",
          "text": [
            "\n",
            "*** Feature extraction finished ***\n",
            "/content/drive/MyDrive/Tareas CDSI/Archivos inerciales/Test/Test/file_1.csv\n",
            "*** Feature extraction started ***\n",
            "60\n"
          ]
        },
        {
          "output_type": "stream",
          "name": "stderr",
          "text": [
            "<ipython-input-58-f9956fd2d883>:18: UserWarning: Using default sampling frequency set in configuration file.\n",
            "  carac = tsfel.time_series_features_extractor(cfg, df_arch)\n"
          ]
        },
        {
          "output_type": "display_data",
          "data": {
            "text/plain": [
              "<IPython.core.display.HTML object>"
            ],
            "text/html": [
              "\n",
              "              <p>\n",
              "                  Progress: 100% Complete\n",
              "              <p/>            \n",
              "              <progress\n",
              "                  value='60'\n",
              "                  max='60',\n",
              "                  style='width: 25%',\n",
              "              >\n",
              "                  60\n",
              "              </progress>\n",
              "\n",
              "    "
            ]
          },
          "metadata": {}
        },
        {
          "output_type": "stream",
          "name": "stdout",
          "text": [
            "\n",
            "*** Feature extraction finished ***\n",
            "/content/drive/MyDrive/Tareas CDSI/Archivos inerciales/Test/Test/file_23.csv\n",
            "*** Feature extraction started ***\n",
            "60\n"
          ]
        },
        {
          "output_type": "stream",
          "name": "stderr",
          "text": [
            "<ipython-input-58-f9956fd2d883>:18: UserWarning: Using default sampling frequency set in configuration file.\n",
            "  carac = tsfel.time_series_features_extractor(cfg, df_arch)\n"
          ]
        },
        {
          "output_type": "display_data",
          "data": {
            "text/plain": [
              "<IPython.core.display.HTML object>"
            ],
            "text/html": [
              "\n",
              "              <p>\n",
              "                  Progress: 100% Complete\n",
              "              <p/>            \n",
              "              <progress\n",
              "                  value='60'\n",
              "                  max='60',\n",
              "                  style='width: 25%',\n",
              "              >\n",
              "                  60\n",
              "              </progress>\n",
              "\n",
              "    "
            ]
          },
          "metadata": {}
        },
        {
          "output_type": "stream",
          "name": "stdout",
          "text": [
            "\n",
            "*** Feature extraction finished ***\n"
          ]
        }
      ]
    },
    {
      "cell_type": "code",
      "source": [
        "Caract_t"
      ],
      "metadata": {
        "colab": {
          "base_uri": "https://localhost:8080/",
          "height": 1000
        },
        "id": "L9Zbo48GXq80",
        "outputId": "76397825-d7c3-462f-adc5-77a5cd318f71"
      },
      "execution_count": null,
      "outputs": [
        {
          "output_type": "execute_result",
          "data": {
            "text/plain": [
              "    0_Absolute energy  0_Area under the curve  0_Autocorrelation  0_Centroid  \\\n",
              "0          347.102218                4.754841         347.102218   10.721238   \n",
              "1          182.242537                4.157707         182.242537   12.050602   \n",
              "2          136.600043                1.482791         136.600043    4.152497   \n",
              "3           63.193702                2.098675          63.193702   11.587317   \n",
              "4          199.665572                2.120628         199.665572    4.534875   \n",
              "5          127.911753                2.667965         127.911753    6.057935   \n",
              "6          642.828203                6.707832         642.828203    7.648620   \n",
              "7          538.930570                5.251425         538.930570    8.564220   \n",
              "8          174.374461                4.136906         174.374461   12.250946   \n",
              "9          181.183586                1.989767         181.183586    5.399271   \n",
              "10         473.376963                7.422486         473.376963    6.879985   \n",
              "11         129.088790                2.778071         129.088790    7.472044   \n",
              "12         665.763811                5.679505         665.763811    6.785733   \n",
              "13         278.239324                3.973011         278.239324    7.133932   \n",
              "14          88.057296                2.383306          88.057296    8.601041   \n",
              "15         674.420425                6.807484         674.420425    8.342702   \n",
              "16         359.157972                5.938683         359.157972    5.624583   \n",
              "17          88.853505                2.333044          88.853505    7.263724   \n",
              "18         132.109854                2.801572         132.109854    6.977020   \n",
              "19         483.647261                5.600170         483.647261    7.812671   \n",
              "20          88.482018                2.070762          88.482018    6.320640   \n",
              "21         141.924003                1.506197         141.924003    3.954655   \n",
              "22         653.674946                8.710528         653.674946    5.010697   \n",
              "23         154.213384                4.636992         154.213384   19.371300   \n",
              "24         621.208377                8.078570         621.208377   10.031427   \n",
              "25         316.508840                5.189582         316.508840    4.918445   \n",
              "26         510.581419                4.737355         510.581419    7.352927   \n",
              "27         445.968695                5.169454         445.968695    8.574579   \n",
              "28         299.041126                5.245291         299.041126   11.426928   \n",
              "29         267.181983                4.795063         267.181983    9.410988   \n",
              "30         579.491152                5.125610         579.491152    6.939971   \n",
              "31         148.605235                4.841030         148.605235   16.051754   \n",
              "32         117.038354                2.480004         117.038354    6.754680   \n",
              "33         711.585880                9.018448         711.585880    5.191224   \n",
              "34         237.697906                3.634363         237.697906    6.161399   \n",
              "\n",
              "    0_ECDF Percentile Count_0  0_ECDF Percentile Count_1  0_ECDF Percentile_0  \\\n",
              "0                       400.0                     1600.0            -0.162598   \n",
              "1                       600.0                     2400.0            -0.136047   \n",
              "2                       200.0                      800.0            -0.082458   \n",
              "3                       390.0                     1560.0            -0.181274   \n",
              "4                       180.0                      720.0            -0.222656   \n",
              "5                       280.0                     1120.0            -0.349182   \n",
              "6                       240.0                      960.0            -0.866516   \n",
              "7                       240.0                      960.0            -0.052673   \n",
              "8                       540.0                     2160.0            -0.160889   \n",
              "9                       200.0                      800.0            -0.146667   \n",
              "10                      240.0                      960.0            -0.716614   \n",
              "11                      320.0                     1280.0            -0.306824   \n",
              "12                      260.0                     1040.0            -0.384460   \n",
              "13                      300.0                     1200.0            -0.266541   \n",
              "14                      300.0                     1200.0            -0.264160   \n",
              "15                      240.0                      960.0            -0.090027   \n",
              "16                      200.0                      800.0            -0.686707   \n",
              "17                      280.0                     1120.0            -0.281616   \n",
              "18                      340.0                     1360.0            -0.283264   \n",
              "19                      260.0                     1040.0            -0.612732   \n",
              "20                      240.0                      960.0            -0.277588   \n",
              "21                      160.0                      640.0            -0.179932   \n",
              "22                      240.0                      960.0            -0.898315   \n",
              "23                      740.0                     2960.0            -0.159912   \n",
              "24                      300.0                     1200.0            -0.794189   \n",
              "25                      250.0                     1000.0            -0.692505   \n",
              "26                      200.0                      800.0            -0.070496   \n",
              "27                      240.0                      960.0            -0.817749   \n",
              "28                      340.0                     1360.0            -0.511230   \n",
              "29                      340.0                     1360.0            -0.375122   \n",
              "30                      260.0                     1040.0            -0.328247   \n",
              "31                      740.0                     2960.0            -0.163208   \n",
              "32                      260.0                     1040.0            -0.323975   \n",
              "33                      400.0                     1600.0            -0.831482   \n",
              "34                      240.0                      960.0            -0.368408   \n",
              "\n",
              "    0_ECDF Percentile_1  0_ECDF_0  0_ECDF_1  ...  3_Wavelet variance_0  \\\n",
              "0              0.150330  0.000500  0.001000  ...              0.047301   \n",
              "1              0.076782  0.000333  0.000667  ...              0.004106   \n",
              "2              0.008911  0.001000  0.002000  ...              0.026132   \n",
              "3              0.014221  0.000513  0.001026  ...              0.002588   \n",
              "4             -0.037354  0.001111  0.002222  ...              0.028399   \n",
              "5             -0.015076  0.000714  0.001429  ...              0.008708   \n",
              "6             -0.089355  0.000833  0.001667  ...              0.010389   \n",
              "7              0.853638  0.000833  0.001667  ...              0.044599   \n",
              "8              0.088074  0.000370  0.000741  ...              0.003521   \n",
              "9             -0.007996  0.001000  0.002000  ...              0.030024   \n",
              "10            -0.528381  0.000833  0.001667  ...              0.000931   \n",
              "11            -0.008911  0.000625  0.001250  ...              0.007529   \n",
              "12             0.299194  0.000769  0.001538  ...              0.145156   \n",
              "13             0.227295  0.000667  0.001333  ...              0.060548   \n",
              "14            -0.013489  0.000667  0.001333  ...              0.012198   \n",
              "15             0.969238  0.000833  0.001667  ...              0.027703   \n",
              "16            -0.530518  0.001000  0.002000  ...              0.000693   \n",
              "17            -0.008972  0.000714  0.001429  ...              0.012826   \n",
              "18            -0.016785  0.000588  0.001176  ...              0.006622   \n",
              "19            -0.057495  0.000769  0.001538  ...              0.006289   \n",
              "20             0.009644  0.000833  0.001667  ...              0.016067   \n",
              "21            -0.009399  0.001250  0.002500  ...              0.030239   \n",
              "22            -0.625122  0.000833  0.001667  ...              0.000626   \n",
              "23             0.064148  0.000270  0.000541  ...              0.001391   \n",
              "24            -0.058350  0.000667  0.001333  ...              0.000461   \n",
              "25            -0.119324  0.000800  0.001600  ...              0.001062   \n",
              "26             0.940430  0.001000  0.002000  ...              0.027283   \n",
              "27            -0.073120  0.000833  0.001667  ...              0.012121   \n",
              "28            -0.082275  0.000588  0.001176  ...              0.011210   \n",
              "29            -0.056946  0.000588  0.001176  ...              0.015088   \n",
              "30             0.354553  0.000769  0.001538  ...              0.141163   \n",
              "31             0.057007  0.000270  0.000541  ...              0.001105   \n",
              "32            -0.002747  0.000769  0.001538  ...              0.008629   \n",
              "33            -0.055908  0.000500  0.001000  ...              0.000185   \n",
              "34            -0.060669  0.000833  0.001667  ...              0.021167   \n",
              "\n",
              "    3_Wavelet variance_1  3_Wavelet variance_2  3_Wavelet variance_3  \\\n",
              "0               0.244429              0.566319              0.971823   \n",
              "1               0.035105              0.095080              0.170210   \n",
              "2               0.069042              0.150144              0.280167   \n",
              "3               0.023279              0.057154              0.092426   \n",
              "4               0.161763              0.409405              0.664411   \n",
              "5               0.032623              0.078481              0.130860   \n",
              "6               0.107345              0.319610              0.566603   \n",
              "7               0.182274              0.353754              0.455618   \n",
              "8               0.032460              0.094735              0.176458   \n",
              "9               0.104665              0.205559              0.352586   \n",
              "10              0.006248              0.018208              0.034943   \n",
              "11              0.041766              0.102453              0.158242   \n",
              "12              0.626852              1.354635              2.103789   \n",
              "13              0.307607              0.736163              1.226427   \n",
              "14              0.097999              0.219115              0.311883   \n",
              "15              0.164266              0.330140              0.488560   \n",
              "16              0.002766              0.006547              0.011656   \n",
              "17              0.079187              0.149643              0.199151   \n",
              "18              0.030216              0.072542              0.118660   \n",
              "19              0.067431              0.232047              0.484339   \n",
              "20              0.111172              0.258538              0.407957   \n",
              "21              0.133932              0.250042              0.379696   \n",
              "22              0.002323              0.005241              0.009387   \n",
              "23              0.014492              0.041804              0.076640   \n",
              "24              0.003684              0.011093              0.018508   \n",
              "25              0.008099              0.025827              0.047889   \n",
              "26              0.149428              0.335248              0.532037   \n",
              "27              0.140826              0.384028              0.594117   \n",
              "28              0.058753              0.130573              0.224638   \n",
              "29              0.074324              0.157416              0.292076   \n",
              "30              0.674520              1.303924              1.941407   \n",
              "31              0.012703              0.039424              0.073254   \n",
              "32              0.034775              0.085858              0.146198   \n",
              "33              0.000774              0.001854              0.003470   \n",
              "34              0.124963              0.283353              0.482536   \n",
              "\n",
              "    3_Wavelet variance_4  3_Wavelet variance_5  3_Wavelet variance_6  \\\n",
              "0               1.394784              1.771973              2.046325   \n",
              "1               0.240064              0.299297              0.354675   \n",
              "2               0.443408              0.633930              0.842917   \n",
              "3               0.126162              0.159724              0.196479   \n",
              "4               0.869706              1.015591              1.122967   \n",
              "5               0.182720              0.227333              0.260253   \n",
              "6               0.778045              0.940258              1.086275   \n",
              "7               0.568849              0.745992              0.981530   \n",
              "8               0.253631              0.317471              0.373462   \n",
              "9               0.522047              0.676203              0.794892   \n",
              "10              0.051943              0.065943              0.077618   \n",
              "11              0.201055              0.232188              0.253700   \n",
              "12              2.686296              3.025442              3.251847   \n",
              "13              1.676764              2.064192              2.378581   \n",
              "14              0.379505              0.446789              0.535162   \n",
              "15              0.630474              0.716752              0.755974   \n",
              "16              0.017590              0.024456              0.032630   \n",
              "17              0.240939              0.282594              0.334918   \n",
              "18              0.161518              0.195964              0.220742   \n",
              "19              0.782026              1.088196              1.366308   \n",
              "20              0.538492              0.665267              0.810383   \n",
              "21              0.524057              0.678338              0.856682   \n",
              "22              0.014841              0.021591              0.029381   \n",
              "23              0.109982              0.137043              0.160326   \n",
              "24              0.022881              0.026736              0.032301   \n",
              "25              0.063276              0.070775              0.076748   \n",
              "26              0.657428              0.696853              0.688904   \n",
              "27              0.750375              0.922588              1.146941   \n",
              "28              0.329696              0.446661              0.575153   \n",
              "29              0.441566              0.598230              0.765091   \n",
              "30              2.490454              2.826364              2.984983   \n",
              "31              0.102874              0.123155              0.138448   \n",
              "32              0.205800              0.256109              0.292245   \n",
              "33              0.005681              0.008394              0.011475   \n",
              "34              0.721468              0.988375              1.262263   \n",
              "\n",
              "    3_Wavelet variance_7  3_Wavelet variance_8  3_Zero crossing rate  \n",
              "0               2.188923              2.210693                   0.0  \n",
              "1               0.410036              0.465119                   0.0  \n",
              "2               1.049850              1.231830                   0.0  \n",
              "3               0.237108              0.277976                   0.0  \n",
              "4               1.218126              1.316657                   0.0  \n",
              "5               0.282473              0.298146                   0.0  \n",
              "6               1.246031              1.427360                   0.0  \n",
              "7               1.254715              1.546416                   0.0  \n",
              "8               0.426928              0.479489                   0.0  \n",
              "9               0.878063              0.933660                   0.0  \n",
              "10              0.089322              0.102244                   0.0  \n",
              "11              0.267287              0.275224                   0.0  \n",
              "12              3.517203              3.864348                   0.0  \n",
              "13              2.579125              2.636503                   0.0  \n",
              "14              0.648019              0.772969                   0.0  \n",
              "15              0.789364              0.850126                   0.0  \n",
              "16              0.042295              0.053421                   0.0  \n",
              "17              0.404199              0.487311                   0.0  \n",
              "18              0.238020              0.251357                   0.0  \n",
              "19              1.601708              1.806517                   0.0  \n",
              "20              0.973912              1.137490                   0.0  \n",
              "21              1.055369              1.251653                   0.0  \n",
              "22              0.037941              0.047170                   0.0  \n",
              "23              0.184167              0.211293                   0.0  \n",
              "24              0.039210              0.046562                   0.0  \n",
              "25              0.085637              0.098041                   0.0  \n",
              "26              0.677690              0.689571                   0.0  \n",
              "27              1.405271              1.650440                   0.0  \n",
              "28              0.697853              0.793939                   0.0  \n",
              "29              0.923163              1.040078                   0.0  \n",
              "30              3.070448              3.152387                   0.0  \n",
              "31              0.155533              0.178318                   0.0  \n",
              "32              0.314537              0.327421                   0.0  \n",
              "33              0.014868              0.018603                   0.0  \n",
              "34              1.511451              1.698918                   0.0  \n",
              "\n",
              "[35 rows x 1556 columns]"
            ],
            "text/html": [
              "\n",
              "  <div id=\"df-0a3c8f09-ae24-4131-97a2-81cd7f2fea14\">\n",
              "    <div class=\"colab-df-container\">\n",
              "      <div>\n",
              "<style scoped>\n",
              "    .dataframe tbody tr th:only-of-type {\n",
              "        vertical-align: middle;\n",
              "    }\n",
              "\n",
              "    .dataframe tbody tr th {\n",
              "        vertical-align: top;\n",
              "    }\n",
              "\n",
              "    .dataframe thead th {\n",
              "        text-align: right;\n",
              "    }\n",
              "</style>\n",
              "<table border=\"1\" class=\"dataframe\">\n",
              "  <thead>\n",
              "    <tr style=\"text-align: right;\">\n",
              "      <th></th>\n",
              "      <th>0_Absolute energy</th>\n",
              "      <th>0_Area under the curve</th>\n",
              "      <th>0_Autocorrelation</th>\n",
              "      <th>0_Centroid</th>\n",
              "      <th>0_ECDF Percentile Count_0</th>\n",
              "      <th>0_ECDF Percentile Count_1</th>\n",
              "      <th>0_ECDF Percentile_0</th>\n",
              "      <th>0_ECDF Percentile_1</th>\n",
              "      <th>0_ECDF_0</th>\n",
              "      <th>0_ECDF_1</th>\n",
              "      <th>...</th>\n",
              "      <th>3_Wavelet variance_0</th>\n",
              "      <th>3_Wavelet variance_1</th>\n",
              "      <th>3_Wavelet variance_2</th>\n",
              "      <th>3_Wavelet variance_3</th>\n",
              "      <th>3_Wavelet variance_4</th>\n",
              "      <th>3_Wavelet variance_5</th>\n",
              "      <th>3_Wavelet variance_6</th>\n",
              "      <th>3_Wavelet variance_7</th>\n",
              "      <th>3_Wavelet variance_8</th>\n",
              "      <th>3_Zero crossing rate</th>\n",
              "    </tr>\n",
              "  </thead>\n",
              "  <tbody>\n",
              "    <tr>\n",
              "      <th>0</th>\n",
              "      <td>347.102218</td>\n",
              "      <td>4.754841</td>\n",
              "      <td>347.102218</td>\n",
              "      <td>10.721238</td>\n",
              "      <td>400.0</td>\n",
              "      <td>1600.0</td>\n",
              "      <td>-0.162598</td>\n",
              "      <td>0.150330</td>\n",
              "      <td>0.000500</td>\n",
              "      <td>0.001000</td>\n",
              "      <td>...</td>\n",
              "      <td>0.047301</td>\n",
              "      <td>0.244429</td>\n",
              "      <td>0.566319</td>\n",
              "      <td>0.971823</td>\n",
              "      <td>1.394784</td>\n",
              "      <td>1.771973</td>\n",
              "      <td>2.046325</td>\n",
              "      <td>2.188923</td>\n",
              "      <td>2.210693</td>\n",
              "      <td>0.0</td>\n",
              "    </tr>\n",
              "    <tr>\n",
              "      <th>1</th>\n",
              "      <td>182.242537</td>\n",
              "      <td>4.157707</td>\n",
              "      <td>182.242537</td>\n",
              "      <td>12.050602</td>\n",
              "      <td>600.0</td>\n",
              "      <td>2400.0</td>\n",
              "      <td>-0.136047</td>\n",
              "      <td>0.076782</td>\n",
              "      <td>0.000333</td>\n",
              "      <td>0.000667</td>\n",
              "      <td>...</td>\n",
              "      <td>0.004106</td>\n",
              "      <td>0.035105</td>\n",
              "      <td>0.095080</td>\n",
              "      <td>0.170210</td>\n",
              "      <td>0.240064</td>\n",
              "      <td>0.299297</td>\n",
              "      <td>0.354675</td>\n",
              "      <td>0.410036</td>\n",
              "      <td>0.465119</td>\n",
              "      <td>0.0</td>\n",
              "    </tr>\n",
              "    <tr>\n",
              "      <th>2</th>\n",
              "      <td>136.600043</td>\n",
              "      <td>1.482791</td>\n",
              "      <td>136.600043</td>\n",
              "      <td>4.152497</td>\n",
              "      <td>200.0</td>\n",
              "      <td>800.0</td>\n",
              "      <td>-0.082458</td>\n",
              "      <td>0.008911</td>\n",
              "      <td>0.001000</td>\n",
              "      <td>0.002000</td>\n",
              "      <td>...</td>\n",
              "      <td>0.026132</td>\n",
              "      <td>0.069042</td>\n",
              "      <td>0.150144</td>\n",
              "      <td>0.280167</td>\n",
              "      <td>0.443408</td>\n",
              "      <td>0.633930</td>\n",
              "      <td>0.842917</td>\n",
              "      <td>1.049850</td>\n",
              "      <td>1.231830</td>\n",
              "      <td>0.0</td>\n",
              "    </tr>\n",
              "    <tr>\n",
              "      <th>3</th>\n",
              "      <td>63.193702</td>\n",
              "      <td>2.098675</td>\n",
              "      <td>63.193702</td>\n",
              "      <td>11.587317</td>\n",
              "      <td>390.0</td>\n",
              "      <td>1560.0</td>\n",
              "      <td>-0.181274</td>\n",
              "      <td>0.014221</td>\n",
              "      <td>0.000513</td>\n",
              "      <td>0.001026</td>\n",
              "      <td>...</td>\n",
              "      <td>0.002588</td>\n",
              "      <td>0.023279</td>\n",
              "      <td>0.057154</td>\n",
              "      <td>0.092426</td>\n",
              "      <td>0.126162</td>\n",
              "      <td>0.159724</td>\n",
              "      <td>0.196479</td>\n",
              "      <td>0.237108</td>\n",
              "      <td>0.277976</td>\n",
              "      <td>0.0</td>\n",
              "    </tr>\n",
              "    <tr>\n",
              "      <th>4</th>\n",
              "      <td>199.665572</td>\n",
              "      <td>2.120628</td>\n",
              "      <td>199.665572</td>\n",
              "      <td>4.534875</td>\n",
              "      <td>180.0</td>\n",
              "      <td>720.0</td>\n",
              "      <td>-0.222656</td>\n",
              "      <td>-0.037354</td>\n",
              "      <td>0.001111</td>\n",
              "      <td>0.002222</td>\n",
              "      <td>...</td>\n",
              "      <td>0.028399</td>\n",
              "      <td>0.161763</td>\n",
              "      <td>0.409405</td>\n",
              "      <td>0.664411</td>\n",
              "      <td>0.869706</td>\n",
              "      <td>1.015591</td>\n",
              "      <td>1.122967</td>\n",
              "      <td>1.218126</td>\n",
              "      <td>1.316657</td>\n",
              "      <td>0.0</td>\n",
              "    </tr>\n",
              "    <tr>\n",
              "      <th>5</th>\n",
              "      <td>127.911753</td>\n",
              "      <td>2.667965</td>\n",
              "      <td>127.911753</td>\n",
              "      <td>6.057935</td>\n",
              "      <td>280.0</td>\n",
              "      <td>1120.0</td>\n",
              "      <td>-0.349182</td>\n",
              "      <td>-0.015076</td>\n",
              "      <td>0.000714</td>\n",
              "      <td>0.001429</td>\n",
              "      <td>...</td>\n",
              "      <td>0.008708</td>\n",
              "      <td>0.032623</td>\n",
              "      <td>0.078481</td>\n",
              "      <td>0.130860</td>\n",
              "      <td>0.182720</td>\n",
              "      <td>0.227333</td>\n",
              "      <td>0.260253</td>\n",
              "      <td>0.282473</td>\n",
              "      <td>0.298146</td>\n",
              "      <td>0.0</td>\n",
              "    </tr>\n",
              "    <tr>\n",
              "      <th>6</th>\n",
              "      <td>642.828203</td>\n",
              "      <td>6.707832</td>\n",
              "      <td>642.828203</td>\n",
              "      <td>7.648620</td>\n",
              "      <td>240.0</td>\n",
              "      <td>960.0</td>\n",
              "      <td>-0.866516</td>\n",
              "      <td>-0.089355</td>\n",
              "      <td>0.000833</td>\n",
              "      <td>0.001667</td>\n",
              "      <td>...</td>\n",
              "      <td>0.010389</td>\n",
              "      <td>0.107345</td>\n",
              "      <td>0.319610</td>\n",
              "      <td>0.566603</td>\n",
              "      <td>0.778045</td>\n",
              "      <td>0.940258</td>\n",
              "      <td>1.086275</td>\n",
              "      <td>1.246031</td>\n",
              "      <td>1.427360</td>\n",
              "      <td>0.0</td>\n",
              "    </tr>\n",
              "    <tr>\n",
              "      <th>7</th>\n",
              "      <td>538.930570</td>\n",
              "      <td>5.251425</td>\n",
              "      <td>538.930570</td>\n",
              "      <td>8.564220</td>\n",
              "      <td>240.0</td>\n",
              "      <td>960.0</td>\n",
              "      <td>-0.052673</td>\n",
              "      <td>0.853638</td>\n",
              "      <td>0.000833</td>\n",
              "      <td>0.001667</td>\n",
              "      <td>...</td>\n",
              "      <td>0.044599</td>\n",
              "      <td>0.182274</td>\n",
              "      <td>0.353754</td>\n",
              "      <td>0.455618</td>\n",
              "      <td>0.568849</td>\n",
              "      <td>0.745992</td>\n",
              "      <td>0.981530</td>\n",
              "      <td>1.254715</td>\n",
              "      <td>1.546416</td>\n",
              "      <td>0.0</td>\n",
              "    </tr>\n",
              "    <tr>\n",
              "      <th>8</th>\n",
              "      <td>174.374461</td>\n",
              "      <td>4.136906</td>\n",
              "      <td>174.374461</td>\n",
              "      <td>12.250946</td>\n",
              "      <td>540.0</td>\n",
              "      <td>2160.0</td>\n",
              "      <td>-0.160889</td>\n",
              "      <td>0.088074</td>\n",
              "      <td>0.000370</td>\n",
              "      <td>0.000741</td>\n",
              "      <td>...</td>\n",
              "      <td>0.003521</td>\n",
              "      <td>0.032460</td>\n",
              "      <td>0.094735</td>\n",
              "      <td>0.176458</td>\n",
              "      <td>0.253631</td>\n",
              "      <td>0.317471</td>\n",
              "      <td>0.373462</td>\n",
              "      <td>0.426928</td>\n",
              "      <td>0.479489</td>\n",
              "      <td>0.0</td>\n",
              "    </tr>\n",
              "    <tr>\n",
              "      <th>9</th>\n",
              "      <td>181.183586</td>\n",
              "      <td>1.989767</td>\n",
              "      <td>181.183586</td>\n",
              "      <td>5.399271</td>\n",
              "      <td>200.0</td>\n",
              "      <td>800.0</td>\n",
              "      <td>-0.146667</td>\n",
              "      <td>-0.007996</td>\n",
              "      <td>0.001000</td>\n",
              "      <td>0.002000</td>\n",
              "      <td>...</td>\n",
              "      <td>0.030024</td>\n",
              "      <td>0.104665</td>\n",
              "      <td>0.205559</td>\n",
              "      <td>0.352586</td>\n",
              "      <td>0.522047</td>\n",
              "      <td>0.676203</td>\n",
              "      <td>0.794892</td>\n",
              "      <td>0.878063</td>\n",
              "      <td>0.933660</td>\n",
              "      <td>0.0</td>\n",
              "    </tr>\n",
              "    <tr>\n",
              "      <th>10</th>\n",
              "      <td>473.376963</td>\n",
              "      <td>7.422486</td>\n",
              "      <td>473.376963</td>\n",
              "      <td>6.879985</td>\n",
              "      <td>240.0</td>\n",
              "      <td>960.0</td>\n",
              "      <td>-0.716614</td>\n",
              "      <td>-0.528381</td>\n",
              "      <td>0.000833</td>\n",
              "      <td>0.001667</td>\n",
              "      <td>...</td>\n",
              "      <td>0.000931</td>\n",
              "      <td>0.006248</td>\n",
              "      <td>0.018208</td>\n",
              "      <td>0.034943</td>\n",
              "      <td>0.051943</td>\n",
              "      <td>0.065943</td>\n",
              "      <td>0.077618</td>\n",
              "      <td>0.089322</td>\n",
              "      <td>0.102244</td>\n",
              "      <td>0.0</td>\n",
              "    </tr>\n",
              "    <tr>\n",
              "      <th>11</th>\n",
              "      <td>129.088790</td>\n",
              "      <td>2.778071</td>\n",
              "      <td>129.088790</td>\n",
              "      <td>7.472044</td>\n",
              "      <td>320.0</td>\n",
              "      <td>1280.0</td>\n",
              "      <td>-0.306824</td>\n",
              "      <td>-0.008911</td>\n",
              "      <td>0.000625</td>\n",
              "      <td>0.001250</td>\n",
              "      <td>...</td>\n",
              "      <td>0.007529</td>\n",
              "      <td>0.041766</td>\n",
              "      <td>0.102453</td>\n",
              "      <td>0.158242</td>\n",
              "      <td>0.201055</td>\n",
              "      <td>0.232188</td>\n",
              "      <td>0.253700</td>\n",
              "      <td>0.267287</td>\n",
              "      <td>0.275224</td>\n",
              "      <td>0.0</td>\n",
              "    </tr>\n",
              "    <tr>\n",
              "      <th>12</th>\n",
              "      <td>665.763811</td>\n",
              "      <td>5.679505</td>\n",
              "      <td>665.763811</td>\n",
              "      <td>6.785733</td>\n",
              "      <td>260.0</td>\n",
              "      <td>1040.0</td>\n",
              "      <td>-0.384460</td>\n",
              "      <td>0.299194</td>\n",
              "      <td>0.000769</td>\n",
              "      <td>0.001538</td>\n",
              "      <td>...</td>\n",
              "      <td>0.145156</td>\n",
              "      <td>0.626852</td>\n",
              "      <td>1.354635</td>\n",
              "      <td>2.103789</td>\n",
              "      <td>2.686296</td>\n",
              "      <td>3.025442</td>\n",
              "      <td>3.251847</td>\n",
              "      <td>3.517203</td>\n",
              "      <td>3.864348</td>\n",
              "      <td>0.0</td>\n",
              "    </tr>\n",
              "    <tr>\n",
              "      <th>13</th>\n",
              "      <td>278.239324</td>\n",
              "      <td>3.973011</td>\n",
              "      <td>278.239324</td>\n",
              "      <td>7.133932</td>\n",
              "      <td>300.0</td>\n",
              "      <td>1200.0</td>\n",
              "      <td>-0.266541</td>\n",
              "      <td>0.227295</td>\n",
              "      <td>0.000667</td>\n",
              "      <td>0.001333</td>\n",
              "      <td>...</td>\n",
              "      <td>0.060548</td>\n",
              "      <td>0.307607</td>\n",
              "      <td>0.736163</td>\n",
              "      <td>1.226427</td>\n",
              "      <td>1.676764</td>\n",
              "      <td>2.064192</td>\n",
              "      <td>2.378581</td>\n",
              "      <td>2.579125</td>\n",
              "      <td>2.636503</td>\n",
              "      <td>0.0</td>\n",
              "    </tr>\n",
              "    <tr>\n",
              "      <th>14</th>\n",
              "      <td>88.057296</td>\n",
              "      <td>2.383306</td>\n",
              "      <td>88.057296</td>\n",
              "      <td>8.601041</td>\n",
              "      <td>300.0</td>\n",
              "      <td>1200.0</td>\n",
              "      <td>-0.264160</td>\n",
              "      <td>-0.013489</td>\n",
              "      <td>0.000667</td>\n",
              "      <td>0.001333</td>\n",
              "      <td>...</td>\n",
              "      <td>0.012198</td>\n",
              "      <td>0.097999</td>\n",
              "      <td>0.219115</td>\n",
              "      <td>0.311883</td>\n",
              "      <td>0.379505</td>\n",
              "      <td>0.446789</td>\n",
              "      <td>0.535162</td>\n",
              "      <td>0.648019</td>\n",
              "      <td>0.772969</td>\n",
              "      <td>0.0</td>\n",
              "    </tr>\n",
              "    <tr>\n",
              "      <th>15</th>\n",
              "      <td>674.420425</td>\n",
              "      <td>6.807484</td>\n",
              "      <td>674.420425</td>\n",
              "      <td>8.342702</td>\n",
              "      <td>240.0</td>\n",
              "      <td>960.0</td>\n",
              "      <td>-0.090027</td>\n",
              "      <td>0.969238</td>\n",
              "      <td>0.000833</td>\n",
              "      <td>0.001667</td>\n",
              "      <td>...</td>\n",
              "      <td>0.027703</td>\n",
              "      <td>0.164266</td>\n",
              "      <td>0.330140</td>\n",
              "      <td>0.488560</td>\n",
              "      <td>0.630474</td>\n",
              "      <td>0.716752</td>\n",
              "      <td>0.755974</td>\n",
              "      <td>0.789364</td>\n",
              "      <td>0.850126</td>\n",
              "      <td>0.0</td>\n",
              "    </tr>\n",
              "    <tr>\n",
              "      <th>16</th>\n",
              "      <td>359.157972</td>\n",
              "      <td>5.938683</td>\n",
              "      <td>359.157972</td>\n",
              "      <td>5.624583</td>\n",
              "      <td>200.0</td>\n",
              "      <td>800.0</td>\n",
              "      <td>-0.686707</td>\n",
              "      <td>-0.530518</td>\n",
              "      <td>0.001000</td>\n",
              "      <td>0.002000</td>\n",
              "      <td>...</td>\n",
              "      <td>0.000693</td>\n",
              "      <td>0.002766</td>\n",
              "      <td>0.006547</td>\n",
              "      <td>0.011656</td>\n",
              "      <td>0.017590</td>\n",
              "      <td>0.024456</td>\n",
              "      <td>0.032630</td>\n",
              "      <td>0.042295</td>\n",
              "      <td>0.053421</td>\n",
              "      <td>0.0</td>\n",
              "    </tr>\n",
              "    <tr>\n",
              "      <th>17</th>\n",
              "      <td>88.853505</td>\n",
              "      <td>2.333044</td>\n",
              "      <td>88.853505</td>\n",
              "      <td>7.263724</td>\n",
              "      <td>280.0</td>\n",
              "      <td>1120.0</td>\n",
              "      <td>-0.281616</td>\n",
              "      <td>-0.008972</td>\n",
              "      <td>0.000714</td>\n",
              "      <td>0.001429</td>\n",
              "      <td>...</td>\n",
              "      <td>0.012826</td>\n",
              "      <td>0.079187</td>\n",
              "      <td>0.149643</td>\n",
              "      <td>0.199151</td>\n",
              "      <td>0.240939</td>\n",
              "      <td>0.282594</td>\n",
              "      <td>0.334918</td>\n",
              "      <td>0.404199</td>\n",
              "      <td>0.487311</td>\n",
              "      <td>0.0</td>\n",
              "    </tr>\n",
              "    <tr>\n",
              "      <th>18</th>\n",
              "      <td>132.109854</td>\n",
              "      <td>2.801572</td>\n",
              "      <td>132.109854</td>\n",
              "      <td>6.977020</td>\n",
              "      <td>340.0</td>\n",
              "      <td>1360.0</td>\n",
              "      <td>-0.283264</td>\n",
              "      <td>-0.016785</td>\n",
              "      <td>0.000588</td>\n",
              "      <td>0.001176</td>\n",
              "      <td>...</td>\n",
              "      <td>0.006622</td>\n",
              "      <td>0.030216</td>\n",
              "      <td>0.072542</td>\n",
              "      <td>0.118660</td>\n",
              "      <td>0.161518</td>\n",
              "      <td>0.195964</td>\n",
              "      <td>0.220742</td>\n",
              "      <td>0.238020</td>\n",
              "      <td>0.251357</td>\n",
              "      <td>0.0</td>\n",
              "    </tr>\n",
              "    <tr>\n",
              "      <th>19</th>\n",
              "      <td>483.647261</td>\n",
              "      <td>5.600170</td>\n",
              "      <td>483.647261</td>\n",
              "      <td>7.812671</td>\n",
              "      <td>260.0</td>\n",
              "      <td>1040.0</td>\n",
              "      <td>-0.612732</td>\n",
              "      <td>-0.057495</td>\n",
              "      <td>0.000769</td>\n",
              "      <td>0.001538</td>\n",
              "      <td>...</td>\n",
              "      <td>0.006289</td>\n",
              "      <td>0.067431</td>\n",
              "      <td>0.232047</td>\n",
              "      <td>0.484339</td>\n",
              "      <td>0.782026</td>\n",
              "      <td>1.088196</td>\n",
              "      <td>1.366308</td>\n",
              "      <td>1.601708</td>\n",
              "      <td>1.806517</td>\n",
              "      <td>0.0</td>\n",
              "    </tr>\n",
              "    <tr>\n",
              "      <th>20</th>\n",
              "      <td>88.482018</td>\n",
              "      <td>2.070762</td>\n",
              "      <td>88.482018</td>\n",
              "      <td>6.320640</td>\n",
              "      <td>240.0</td>\n",
              "      <td>960.0</td>\n",
              "      <td>-0.277588</td>\n",
              "      <td>0.009644</td>\n",
              "      <td>0.000833</td>\n",
              "      <td>0.001667</td>\n",
              "      <td>...</td>\n",
              "      <td>0.016067</td>\n",
              "      <td>0.111172</td>\n",
              "      <td>0.258538</td>\n",
              "      <td>0.407957</td>\n",
              "      <td>0.538492</td>\n",
              "      <td>0.665267</td>\n",
              "      <td>0.810383</td>\n",
              "      <td>0.973912</td>\n",
              "      <td>1.137490</td>\n",
              "      <td>0.0</td>\n",
              "    </tr>\n",
              "    <tr>\n",
              "      <th>21</th>\n",
              "      <td>141.924003</td>\n",
              "      <td>1.506197</td>\n",
              "      <td>141.924003</td>\n",
              "      <td>3.954655</td>\n",
              "      <td>160.0</td>\n",
              "      <td>640.0</td>\n",
              "      <td>-0.179932</td>\n",
              "      <td>-0.009399</td>\n",
              "      <td>0.001250</td>\n",
              "      <td>0.002500</td>\n",
              "      <td>...</td>\n",
              "      <td>0.030239</td>\n",
              "      <td>0.133932</td>\n",
              "      <td>0.250042</td>\n",
              "      <td>0.379696</td>\n",
              "      <td>0.524057</td>\n",
              "      <td>0.678338</td>\n",
              "      <td>0.856682</td>\n",
              "      <td>1.055369</td>\n",
              "      <td>1.251653</td>\n",
              "      <td>0.0</td>\n",
              "    </tr>\n",
              "    <tr>\n",
              "      <th>22</th>\n",
              "      <td>653.674946</td>\n",
              "      <td>8.710528</td>\n",
              "      <td>653.674946</td>\n",
              "      <td>5.010697</td>\n",
              "      <td>240.0</td>\n",
              "      <td>960.0</td>\n",
              "      <td>-0.898315</td>\n",
              "      <td>-0.625122</td>\n",
              "      <td>0.000833</td>\n",
              "      <td>0.001667</td>\n",
              "      <td>...</td>\n",
              "      <td>0.000626</td>\n",
              "      <td>0.002323</td>\n",
              "      <td>0.005241</td>\n",
              "      <td>0.009387</td>\n",
              "      <td>0.014841</td>\n",
              "      <td>0.021591</td>\n",
              "      <td>0.029381</td>\n",
              "      <td>0.037941</td>\n",
              "      <td>0.047170</td>\n",
              "      <td>0.0</td>\n",
              "    </tr>\n",
              "    <tr>\n",
              "      <th>23</th>\n",
              "      <td>154.213384</td>\n",
              "      <td>4.636992</td>\n",
              "      <td>154.213384</td>\n",
              "      <td>19.371300</td>\n",
              "      <td>740.0</td>\n",
              "      <td>2960.0</td>\n",
              "      <td>-0.159912</td>\n",
              "      <td>0.064148</td>\n",
              "      <td>0.000270</td>\n",
              "      <td>0.000541</td>\n",
              "      <td>...</td>\n",
              "      <td>0.001391</td>\n",
              "      <td>0.014492</td>\n",
              "      <td>0.041804</td>\n",
              "      <td>0.076640</td>\n",
              "      <td>0.109982</td>\n",
              "      <td>0.137043</td>\n",
              "      <td>0.160326</td>\n",
              "      <td>0.184167</td>\n",
              "      <td>0.211293</td>\n",
              "      <td>0.0</td>\n",
              "    </tr>\n",
              "    <tr>\n",
              "      <th>24</th>\n",
              "      <td>621.208377</td>\n",
              "      <td>8.078570</td>\n",
              "      <td>621.208377</td>\n",
              "      <td>10.031427</td>\n",
              "      <td>300.0</td>\n",
              "      <td>1200.0</td>\n",
              "      <td>-0.794189</td>\n",
              "      <td>-0.058350</td>\n",
              "      <td>0.000667</td>\n",
              "      <td>0.001333</td>\n",
              "      <td>...</td>\n",
              "      <td>0.000461</td>\n",
              "      <td>0.003684</td>\n",
              "      <td>0.011093</td>\n",
              "      <td>0.018508</td>\n",
              "      <td>0.022881</td>\n",
              "      <td>0.026736</td>\n",
              "      <td>0.032301</td>\n",
              "      <td>0.039210</td>\n",
              "      <td>0.046562</td>\n",
              "      <td>0.0</td>\n",
              "    </tr>\n",
              "    <tr>\n",
              "      <th>25</th>\n",
              "      <td>316.508840</td>\n",
              "      <td>5.189582</td>\n",
              "      <td>316.508840</td>\n",
              "      <td>4.918445</td>\n",
              "      <td>250.0</td>\n",
              "      <td>1000.0</td>\n",
              "      <td>-0.692505</td>\n",
              "      <td>-0.119324</td>\n",
              "      <td>0.000800</td>\n",
              "      <td>0.001600</td>\n",
              "      <td>...</td>\n",
              "      <td>0.001062</td>\n",
              "      <td>0.008099</td>\n",
              "      <td>0.025827</td>\n",
              "      <td>0.047889</td>\n",
              "      <td>0.063276</td>\n",
              "      <td>0.070775</td>\n",
              "      <td>0.076748</td>\n",
              "      <td>0.085637</td>\n",
              "      <td>0.098041</td>\n",
              "      <td>0.0</td>\n",
              "    </tr>\n",
              "    <tr>\n",
              "      <th>26</th>\n",
              "      <td>510.581419</td>\n",
              "      <td>4.737355</td>\n",
              "      <td>510.581419</td>\n",
              "      <td>7.352927</td>\n",
              "      <td>200.0</td>\n",
              "      <td>800.0</td>\n",
              "      <td>-0.070496</td>\n",
              "      <td>0.940430</td>\n",
              "      <td>0.001000</td>\n",
              "      <td>0.002000</td>\n",
              "      <td>...</td>\n",
              "      <td>0.027283</td>\n",
              "      <td>0.149428</td>\n",
              "      <td>0.335248</td>\n",
              "      <td>0.532037</td>\n",
              "      <td>0.657428</td>\n",
              "      <td>0.696853</td>\n",
              "      <td>0.688904</td>\n",
              "      <td>0.677690</td>\n",
              "      <td>0.689571</td>\n",
              "      <td>0.0</td>\n",
              "    </tr>\n",
              "    <tr>\n",
              "      <th>27</th>\n",
              "      <td>445.968695</td>\n",
              "      <td>5.169454</td>\n",
              "      <td>445.968695</td>\n",
              "      <td>8.574579</td>\n",
              "      <td>240.0</td>\n",
              "      <td>960.0</td>\n",
              "      <td>-0.817749</td>\n",
              "      <td>-0.073120</td>\n",
              "      <td>0.000833</td>\n",
              "      <td>0.001667</td>\n",
              "      <td>...</td>\n",
              "      <td>0.012121</td>\n",
              "      <td>0.140826</td>\n",
              "      <td>0.384028</td>\n",
              "      <td>0.594117</td>\n",
              "      <td>0.750375</td>\n",
              "      <td>0.922588</td>\n",
              "      <td>1.146941</td>\n",
              "      <td>1.405271</td>\n",
              "      <td>1.650440</td>\n",
              "      <td>0.0</td>\n",
              "    </tr>\n",
              "    <tr>\n",
              "      <th>28</th>\n",
              "      <td>299.041126</td>\n",
              "      <td>5.245291</td>\n",
              "      <td>299.041126</td>\n",
              "      <td>11.426928</td>\n",
              "      <td>340.0</td>\n",
              "      <td>1360.0</td>\n",
              "      <td>-0.511230</td>\n",
              "      <td>-0.082275</td>\n",
              "      <td>0.000588</td>\n",
              "      <td>0.001176</td>\n",
              "      <td>...</td>\n",
              "      <td>0.011210</td>\n",
              "      <td>0.058753</td>\n",
              "      <td>0.130573</td>\n",
              "      <td>0.224638</td>\n",
              "      <td>0.329696</td>\n",
              "      <td>0.446661</td>\n",
              "      <td>0.575153</td>\n",
              "      <td>0.697853</td>\n",
              "      <td>0.793939</td>\n",
              "      <td>0.0</td>\n",
              "    </tr>\n",
              "    <tr>\n",
              "      <th>29</th>\n",
              "      <td>267.181983</td>\n",
              "      <td>4.795063</td>\n",
              "      <td>267.181983</td>\n",
              "      <td>9.410988</td>\n",
              "      <td>340.0</td>\n",
              "      <td>1360.0</td>\n",
              "      <td>-0.375122</td>\n",
              "      <td>-0.056946</td>\n",
              "      <td>0.000588</td>\n",
              "      <td>0.001176</td>\n",
              "      <td>...</td>\n",
              "      <td>0.015088</td>\n",
              "      <td>0.074324</td>\n",
              "      <td>0.157416</td>\n",
              "      <td>0.292076</td>\n",
              "      <td>0.441566</td>\n",
              "      <td>0.598230</td>\n",
              "      <td>0.765091</td>\n",
              "      <td>0.923163</td>\n",
              "      <td>1.040078</td>\n",
              "      <td>0.0</td>\n",
              "    </tr>\n",
              "    <tr>\n",
              "      <th>30</th>\n",
              "      <td>579.491152</td>\n",
              "      <td>5.125610</td>\n",
              "      <td>579.491152</td>\n",
              "      <td>6.939971</td>\n",
              "      <td>260.0</td>\n",
              "      <td>1040.0</td>\n",
              "      <td>-0.328247</td>\n",
              "      <td>0.354553</td>\n",
              "      <td>0.000769</td>\n",
              "      <td>0.001538</td>\n",
              "      <td>...</td>\n",
              "      <td>0.141163</td>\n",
              "      <td>0.674520</td>\n",
              "      <td>1.303924</td>\n",
              "      <td>1.941407</td>\n",
              "      <td>2.490454</td>\n",
              "      <td>2.826364</td>\n",
              "      <td>2.984983</td>\n",
              "      <td>3.070448</td>\n",
              "      <td>3.152387</td>\n",
              "      <td>0.0</td>\n",
              "    </tr>\n",
              "    <tr>\n",
              "      <th>31</th>\n",
              "      <td>148.605235</td>\n",
              "      <td>4.841030</td>\n",
              "      <td>148.605235</td>\n",
              "      <td>16.051754</td>\n",
              "      <td>740.0</td>\n",
              "      <td>2960.0</td>\n",
              "      <td>-0.163208</td>\n",
              "      <td>0.057007</td>\n",
              "      <td>0.000270</td>\n",
              "      <td>0.000541</td>\n",
              "      <td>...</td>\n",
              "      <td>0.001105</td>\n",
              "      <td>0.012703</td>\n",
              "      <td>0.039424</td>\n",
              "      <td>0.073254</td>\n",
              "      <td>0.102874</td>\n",
              "      <td>0.123155</td>\n",
              "      <td>0.138448</td>\n",
              "      <td>0.155533</td>\n",
              "      <td>0.178318</td>\n",
              "      <td>0.0</td>\n",
              "    </tr>\n",
              "    <tr>\n",
              "      <th>32</th>\n",
              "      <td>117.038354</td>\n",
              "      <td>2.480004</td>\n",
              "      <td>117.038354</td>\n",
              "      <td>6.754680</td>\n",
              "      <td>260.0</td>\n",
              "      <td>1040.0</td>\n",
              "      <td>-0.323975</td>\n",
              "      <td>-0.002747</td>\n",
              "      <td>0.000769</td>\n",
              "      <td>0.001538</td>\n",
              "      <td>...</td>\n",
              "      <td>0.008629</td>\n",
              "      <td>0.034775</td>\n",
              "      <td>0.085858</td>\n",
              "      <td>0.146198</td>\n",
              "      <td>0.205800</td>\n",
              "      <td>0.256109</td>\n",
              "      <td>0.292245</td>\n",
              "      <td>0.314537</td>\n",
              "      <td>0.327421</td>\n",
              "      <td>0.0</td>\n",
              "    </tr>\n",
              "    <tr>\n",
              "      <th>33</th>\n",
              "      <td>711.585880</td>\n",
              "      <td>9.018448</td>\n",
              "      <td>711.585880</td>\n",
              "      <td>5.191224</td>\n",
              "      <td>400.0</td>\n",
              "      <td>1600.0</td>\n",
              "      <td>-0.831482</td>\n",
              "      <td>-0.055908</td>\n",
              "      <td>0.000500</td>\n",
              "      <td>0.001000</td>\n",
              "      <td>...</td>\n",
              "      <td>0.000185</td>\n",
              "      <td>0.000774</td>\n",
              "      <td>0.001854</td>\n",
              "      <td>0.003470</td>\n",
              "      <td>0.005681</td>\n",
              "      <td>0.008394</td>\n",
              "      <td>0.011475</td>\n",
              "      <td>0.014868</td>\n",
              "      <td>0.018603</td>\n",
              "      <td>0.0</td>\n",
              "    </tr>\n",
              "    <tr>\n",
              "      <th>34</th>\n",
              "      <td>237.697906</td>\n",
              "      <td>3.634363</td>\n",
              "      <td>237.697906</td>\n",
              "      <td>6.161399</td>\n",
              "      <td>240.0</td>\n",
              "      <td>960.0</td>\n",
              "      <td>-0.368408</td>\n",
              "      <td>-0.060669</td>\n",
              "      <td>0.000833</td>\n",
              "      <td>0.001667</td>\n",
              "      <td>...</td>\n",
              "      <td>0.021167</td>\n",
              "      <td>0.124963</td>\n",
              "      <td>0.283353</td>\n",
              "      <td>0.482536</td>\n",
              "      <td>0.721468</td>\n",
              "      <td>0.988375</td>\n",
              "      <td>1.262263</td>\n",
              "      <td>1.511451</td>\n",
              "      <td>1.698918</td>\n",
              "      <td>0.0</td>\n",
              "    </tr>\n",
              "  </tbody>\n",
              "</table>\n",
              "<p>35 rows × 1556 columns</p>\n",
              "</div>\n",
              "      <button class=\"colab-df-convert\" onclick=\"convertToInteractive('df-0a3c8f09-ae24-4131-97a2-81cd7f2fea14')\"\n",
              "              title=\"Convert this dataframe to an interactive table.\"\n",
              "              style=\"display:none;\">\n",
              "        \n",
              "  <svg xmlns=\"http://www.w3.org/2000/svg\" height=\"24px\"viewBox=\"0 0 24 24\"\n",
              "       width=\"24px\">\n",
              "    <path d=\"M0 0h24v24H0V0z\" fill=\"none\"/>\n",
              "    <path d=\"M18.56 5.44l.94 2.06.94-2.06 2.06-.94-2.06-.94-.94-2.06-.94 2.06-2.06.94zm-11 1L8.5 8.5l.94-2.06 2.06-.94-2.06-.94L8.5 2.5l-.94 2.06-2.06.94zm10 10l.94 2.06.94-2.06 2.06-.94-2.06-.94-.94-2.06-.94 2.06-2.06.94z\"/><path d=\"M17.41 7.96l-1.37-1.37c-.4-.4-.92-.59-1.43-.59-.52 0-1.04.2-1.43.59L10.3 9.45l-7.72 7.72c-.78.78-.78 2.05 0 2.83L4 21.41c.39.39.9.59 1.41.59.51 0 1.02-.2 1.41-.59l7.78-7.78 2.81-2.81c.8-.78.8-2.07 0-2.86zM5.41 20L4 18.59l7.72-7.72 1.47 1.35L5.41 20z\"/>\n",
              "  </svg>\n",
              "      </button>\n",
              "      \n",
              "  <style>\n",
              "    .colab-df-container {\n",
              "      display:flex;\n",
              "      flex-wrap:wrap;\n",
              "      gap: 12px;\n",
              "    }\n",
              "\n",
              "    .colab-df-convert {\n",
              "      background-color: #E8F0FE;\n",
              "      border: none;\n",
              "      border-radius: 50%;\n",
              "      cursor: pointer;\n",
              "      display: none;\n",
              "      fill: #1967D2;\n",
              "      height: 32px;\n",
              "      padding: 0 0 0 0;\n",
              "      width: 32px;\n",
              "    }\n",
              "\n",
              "    .colab-df-convert:hover {\n",
              "      background-color: #E2EBFA;\n",
              "      box-shadow: 0px 1px 2px rgba(60, 64, 67, 0.3), 0px 1px 3px 1px rgba(60, 64, 67, 0.15);\n",
              "      fill: #174EA6;\n",
              "    }\n",
              "\n",
              "    [theme=dark] .colab-df-convert {\n",
              "      background-color: #3B4455;\n",
              "      fill: #D2E3FC;\n",
              "    }\n",
              "\n",
              "    [theme=dark] .colab-df-convert:hover {\n",
              "      background-color: #434B5C;\n",
              "      box-shadow: 0px 1px 3px 1px rgba(0, 0, 0, 0.15);\n",
              "      filter: drop-shadow(0px 1px 2px rgba(0, 0, 0, 0.3));\n",
              "      fill: #FFFFFF;\n",
              "    }\n",
              "  </style>\n",
              "\n",
              "      <script>\n",
              "        const buttonEl =\n",
              "          document.querySelector('#df-0a3c8f09-ae24-4131-97a2-81cd7f2fea14 button.colab-df-convert');\n",
              "        buttonEl.style.display =\n",
              "          google.colab.kernel.accessAllowed ? 'block' : 'none';\n",
              "\n",
              "        async function convertToInteractive(key) {\n",
              "          const element = document.querySelector('#df-0a3c8f09-ae24-4131-97a2-81cd7f2fea14');\n",
              "          const dataTable =\n",
              "            await google.colab.kernel.invokeFunction('convertToInteractive',\n",
              "                                                     [key], {});\n",
              "          if (!dataTable) return;\n",
              "\n",
              "          const docLinkHtml = 'Like what you see? Visit the ' +\n",
              "            '<a target=\"_blank\" href=https://colab.research.google.com/notebooks/data_table.ipynb>data table notebook</a>'\n",
              "            + ' to learn more about interactive tables.';\n",
              "          element.innerHTML = '';\n",
              "          dataTable['output_type'] = 'display_data';\n",
              "          await google.colab.output.renderOutput(dataTable, element);\n",
              "          const docLink = document.createElement('div');\n",
              "          docLink.innerHTML = docLinkHtml;\n",
              "          element.appendChild(docLink);\n",
              "        }\n",
              "      </script>\n",
              "    </div>\n",
              "  </div>\n",
              "  "
            ]
          },
          "metadata": {},
          "execution_count": 61
        }
      ]
    },
    {
      "cell_type": "code",
      "source": [
        "Etiq_t"
      ],
      "metadata": {
        "colab": {
          "base_uri": "https://localhost:8080/",
          "height": 1000
        },
        "id": "XVlvHOz9ZKsh",
        "outputId": "0b1d441d-be85-49c4-971b-bbb8eec310cb"
      },
      "execution_count": null,
      "outputs": [
        {
          "output_type": "execute_result",
          "data": {
            "text/plain": [
              "   Etiqueta\n",
              "0   file_18\n",
              "1    file_5\n",
              "2   file_20\n",
              "3   file_29\n",
              "4    file_4\n",
              "5   file_26\n",
              "6   file_15\n",
              "7   file_14\n",
              "8    file_0\n",
              "9   file_33\n",
              "10   file_7\n",
              "11  file_21\n",
              "12  file_28\n",
              "13  file_34\n",
              "14  file_11\n",
              "15  file_27\n",
              "16   file_9\n",
              "17  file_13\n",
              "18  file_17\n",
              "19   file_6\n",
              "20  file_12\n",
              "21  file_32\n",
              "22  file_31\n",
              "23   file_3\n",
              "24  file_19\n",
              "25  file_16\n",
              "26  file_30\n",
              "27  file_25\n",
              "28  file_24\n",
              "29   file_8\n",
              "30   file_2\n",
              "31  file_10\n",
              "32  file_22\n",
              "33   file_1\n",
              "34  file_23"
            ],
            "text/html": [
              "\n",
              "  <div id=\"df-1de8d295-3dfa-44ba-87af-9e674ff43e97\">\n",
              "    <div class=\"colab-df-container\">\n",
              "      <div>\n",
              "<style scoped>\n",
              "    .dataframe tbody tr th:only-of-type {\n",
              "        vertical-align: middle;\n",
              "    }\n",
              "\n",
              "    .dataframe tbody tr th {\n",
              "        vertical-align: top;\n",
              "    }\n",
              "\n",
              "    .dataframe thead th {\n",
              "        text-align: right;\n",
              "    }\n",
              "</style>\n",
              "<table border=\"1\" class=\"dataframe\">\n",
              "  <thead>\n",
              "    <tr style=\"text-align: right;\">\n",
              "      <th></th>\n",
              "      <th>Etiqueta</th>\n",
              "    </tr>\n",
              "  </thead>\n",
              "  <tbody>\n",
              "    <tr>\n",
              "      <th>0</th>\n",
              "      <td>file_18</td>\n",
              "    </tr>\n",
              "    <tr>\n",
              "      <th>1</th>\n",
              "      <td>file_5</td>\n",
              "    </tr>\n",
              "    <tr>\n",
              "      <th>2</th>\n",
              "      <td>file_20</td>\n",
              "    </tr>\n",
              "    <tr>\n",
              "      <th>3</th>\n",
              "      <td>file_29</td>\n",
              "    </tr>\n",
              "    <tr>\n",
              "      <th>4</th>\n",
              "      <td>file_4</td>\n",
              "    </tr>\n",
              "    <tr>\n",
              "      <th>5</th>\n",
              "      <td>file_26</td>\n",
              "    </tr>\n",
              "    <tr>\n",
              "      <th>6</th>\n",
              "      <td>file_15</td>\n",
              "    </tr>\n",
              "    <tr>\n",
              "      <th>7</th>\n",
              "      <td>file_14</td>\n",
              "    </tr>\n",
              "    <tr>\n",
              "      <th>8</th>\n",
              "      <td>file_0</td>\n",
              "    </tr>\n",
              "    <tr>\n",
              "      <th>9</th>\n",
              "      <td>file_33</td>\n",
              "    </tr>\n",
              "    <tr>\n",
              "      <th>10</th>\n",
              "      <td>file_7</td>\n",
              "    </tr>\n",
              "    <tr>\n",
              "      <th>11</th>\n",
              "      <td>file_21</td>\n",
              "    </tr>\n",
              "    <tr>\n",
              "      <th>12</th>\n",
              "      <td>file_28</td>\n",
              "    </tr>\n",
              "    <tr>\n",
              "      <th>13</th>\n",
              "      <td>file_34</td>\n",
              "    </tr>\n",
              "    <tr>\n",
              "      <th>14</th>\n",
              "      <td>file_11</td>\n",
              "    </tr>\n",
              "    <tr>\n",
              "      <th>15</th>\n",
              "      <td>file_27</td>\n",
              "    </tr>\n",
              "    <tr>\n",
              "      <th>16</th>\n",
              "      <td>file_9</td>\n",
              "    </tr>\n",
              "    <tr>\n",
              "      <th>17</th>\n",
              "      <td>file_13</td>\n",
              "    </tr>\n",
              "    <tr>\n",
              "      <th>18</th>\n",
              "      <td>file_17</td>\n",
              "    </tr>\n",
              "    <tr>\n",
              "      <th>19</th>\n",
              "      <td>file_6</td>\n",
              "    </tr>\n",
              "    <tr>\n",
              "      <th>20</th>\n",
              "      <td>file_12</td>\n",
              "    </tr>\n",
              "    <tr>\n",
              "      <th>21</th>\n",
              "      <td>file_32</td>\n",
              "    </tr>\n",
              "    <tr>\n",
              "      <th>22</th>\n",
              "      <td>file_31</td>\n",
              "    </tr>\n",
              "    <tr>\n",
              "      <th>23</th>\n",
              "      <td>file_3</td>\n",
              "    </tr>\n",
              "    <tr>\n",
              "      <th>24</th>\n",
              "      <td>file_19</td>\n",
              "    </tr>\n",
              "    <tr>\n",
              "      <th>25</th>\n",
              "      <td>file_16</td>\n",
              "    </tr>\n",
              "    <tr>\n",
              "      <th>26</th>\n",
              "      <td>file_30</td>\n",
              "    </tr>\n",
              "    <tr>\n",
              "      <th>27</th>\n",
              "      <td>file_25</td>\n",
              "    </tr>\n",
              "    <tr>\n",
              "      <th>28</th>\n",
              "      <td>file_24</td>\n",
              "    </tr>\n",
              "    <tr>\n",
              "      <th>29</th>\n",
              "      <td>file_8</td>\n",
              "    </tr>\n",
              "    <tr>\n",
              "      <th>30</th>\n",
              "      <td>file_2</td>\n",
              "    </tr>\n",
              "    <tr>\n",
              "      <th>31</th>\n",
              "      <td>file_10</td>\n",
              "    </tr>\n",
              "    <tr>\n",
              "      <th>32</th>\n",
              "      <td>file_22</td>\n",
              "    </tr>\n",
              "    <tr>\n",
              "      <th>33</th>\n",
              "      <td>file_1</td>\n",
              "    </tr>\n",
              "    <tr>\n",
              "      <th>34</th>\n",
              "      <td>file_23</td>\n",
              "    </tr>\n",
              "  </tbody>\n",
              "</table>\n",
              "</div>\n",
              "      <button class=\"colab-df-convert\" onclick=\"convertToInteractive('df-1de8d295-3dfa-44ba-87af-9e674ff43e97')\"\n",
              "              title=\"Convert this dataframe to an interactive table.\"\n",
              "              style=\"display:none;\">\n",
              "        \n",
              "  <svg xmlns=\"http://www.w3.org/2000/svg\" height=\"24px\"viewBox=\"0 0 24 24\"\n",
              "       width=\"24px\">\n",
              "    <path d=\"M0 0h24v24H0V0z\" fill=\"none\"/>\n",
              "    <path d=\"M18.56 5.44l.94 2.06.94-2.06 2.06-.94-2.06-.94-.94-2.06-.94 2.06-2.06.94zm-11 1L8.5 8.5l.94-2.06 2.06-.94-2.06-.94L8.5 2.5l-.94 2.06-2.06.94zm10 10l.94 2.06.94-2.06 2.06-.94-2.06-.94-.94-2.06-.94 2.06-2.06.94z\"/><path d=\"M17.41 7.96l-1.37-1.37c-.4-.4-.92-.59-1.43-.59-.52 0-1.04.2-1.43.59L10.3 9.45l-7.72 7.72c-.78.78-.78 2.05 0 2.83L4 21.41c.39.39.9.59 1.41.59.51 0 1.02-.2 1.41-.59l7.78-7.78 2.81-2.81c.8-.78.8-2.07 0-2.86zM5.41 20L4 18.59l7.72-7.72 1.47 1.35L5.41 20z\"/>\n",
              "  </svg>\n",
              "      </button>\n",
              "      \n",
              "  <style>\n",
              "    .colab-df-container {\n",
              "      display:flex;\n",
              "      flex-wrap:wrap;\n",
              "      gap: 12px;\n",
              "    }\n",
              "\n",
              "    .colab-df-convert {\n",
              "      background-color: #E8F0FE;\n",
              "      border: none;\n",
              "      border-radius: 50%;\n",
              "      cursor: pointer;\n",
              "      display: none;\n",
              "      fill: #1967D2;\n",
              "      height: 32px;\n",
              "      padding: 0 0 0 0;\n",
              "      width: 32px;\n",
              "    }\n",
              "\n",
              "    .colab-df-convert:hover {\n",
              "      background-color: #E2EBFA;\n",
              "      box-shadow: 0px 1px 2px rgba(60, 64, 67, 0.3), 0px 1px 3px 1px rgba(60, 64, 67, 0.15);\n",
              "      fill: #174EA6;\n",
              "    }\n",
              "\n",
              "    [theme=dark] .colab-df-convert {\n",
              "      background-color: #3B4455;\n",
              "      fill: #D2E3FC;\n",
              "    }\n",
              "\n",
              "    [theme=dark] .colab-df-convert:hover {\n",
              "      background-color: #434B5C;\n",
              "      box-shadow: 0px 1px 3px 1px rgba(0, 0, 0, 0.15);\n",
              "      filter: drop-shadow(0px 1px 2px rgba(0, 0, 0, 0.3));\n",
              "      fill: #FFFFFF;\n",
              "    }\n",
              "  </style>\n",
              "\n",
              "      <script>\n",
              "        const buttonEl =\n",
              "          document.querySelector('#df-1de8d295-3dfa-44ba-87af-9e674ff43e97 button.colab-df-convert');\n",
              "        buttonEl.style.display =\n",
              "          google.colab.kernel.accessAllowed ? 'block' : 'none';\n",
              "\n",
              "        async function convertToInteractive(key) {\n",
              "          const element = document.querySelector('#df-1de8d295-3dfa-44ba-87af-9e674ff43e97');\n",
              "          const dataTable =\n",
              "            await google.colab.kernel.invokeFunction('convertToInteractive',\n",
              "                                                     [key], {});\n",
              "          if (!dataTable) return;\n",
              "\n",
              "          const docLinkHtml = 'Like what you see? Visit the ' +\n",
              "            '<a target=\"_blank\" href=https://colab.research.google.com/notebooks/data_table.ipynb>data table notebook</a>'\n",
              "            + ' to learn more about interactive tables.';\n",
              "          element.innerHTML = '';\n",
              "          dataTable['output_type'] = 'display_data';\n",
              "          await google.colab.output.renderOutput(dataTable, element);\n",
              "          const docLink = document.createElement('div');\n",
              "          docLink.innerHTML = docLinkHtml;\n",
              "          element.appendChild(docLink);\n",
              "        }\n",
              "      </script>\n",
              "    </div>\n",
              "  </div>\n",
              "  "
            ]
          },
          "metadata": {},
          "execution_count": 62
        }
      ]
    },
    {
      "cell_type": "code",
      "source": [
        "#Corregimos los NaN´s del DataFrame\n",
        "imputer_Caract_t = SimpleImputer(missing_values=np.nan, strategy=\"mean\") #sustituimos los NaN´s por la media de la fila\n",
        "imputer_Caract_t = imputer_Caract_t.fit(Caract_t)\n",
        "Caract_t = imputer_Caract_t.transform(Caract_t) #Arreglo numpy sin NaN´s"
      ],
      "metadata": {
        "id": "-DXRaDjkZTG4"
      },
      "execution_count": null,
      "outputs": []
    },
    {
      "cell_type": "code",
      "source": [
        "X = Caract_t #Reescalamos\n",
        "X = sc_X.fit_transform(X)\n"
      ],
      "metadata": {
        "id": "qlQyQxHla8PA"
      },
      "execution_count": null,
      "outputs": []
    },
    {
      "cell_type": "code",
      "source": [
        "Y_Etiq = Etiq_t.values.flatten().tolist() #Nos quedamos con la lista de etiquetas\n"
      ],
      "metadata": {
        "id": "1vzpxdedbogj"
      },
      "execution_count": null,
      "outputs": []
    },
    {
      "cell_type": "markdown",
      "source": [
        "## Clasificación de los archivos Test\n",
        "**NOTA:** Todas las siguientes predicciones fueron compartidas en formatos de txt. El responsbale de la práctica junto con el docente son los responsables de comparar estas predicciones con los datos verdaderos, con el fin de observar qué compañero obtuvo el mayos score (el que mejor predijo las clases verdaderas)."
      ],
      "metadata": {
        "id": "xtzmNBVib3Xi"
      }
    },
    {
      "cell_type": "markdown",
      "source": [
        "NB"
      ],
      "metadata": {
        "id": "ruHIG2j7b-YY"
      }
    },
    {
      "cell_type": "code",
      "source": [
        "NB_re_predict = NB_re.predict(X)\n",
        "NB_re_predict"
      ],
      "metadata": {
        "colab": {
          "base_uri": "https://localhost:8080/"
        },
        "id": "oSrR_5rzb5Sc",
        "outputId": "cb686b68-b498-4526-c612-f7573a5a6ecb"
      },
      "execution_count": null,
      "outputs": [
        {
          "output_type": "execute_result",
          "data": {
            "text/plain": [
              "array(['MR', 'MR', 'MR', 'MR', 'MR', 'MR', 'MR', 'MR', 'MR', 'MR', 'MR',\n",
              "       'MR', 'MR', 'MR', 'MR', 'MR', 'MR', 'MR', 'MR', 'MR', 'MR', 'MR',\n",
              "       'MR', 'MR', 'MR', 'MR', 'MR', 'MR', 'MR', 'MR', 'MR', 'MR', 'MR',\n",
              "       'MR', 'MR'], dtype='<U2')"
            ]
          },
          "metadata": {},
          "execution_count": 66
        }
      ]
    },
    {
      "cell_type": "code",
      "source": [
        "range(35)"
      ],
      "metadata": {
        "colab": {
          "base_uri": "https://localhost:8080/"
        },
        "id": "SJ3Mb29hSoGn",
        "outputId": "30820461-d592-4bc3-a90e-3ab5f22902d7"
      },
      "execution_count": null,
      "outputs": [
        {
          "output_type": "execute_result",
          "data": {
            "text/plain": [
              "range(0, 35)"
            ]
          },
          "metadata": {},
          "execution_count": 67
        }
      ]
    },
    {
      "cell_type": "code",
      "source": [
        "for i in range(35):\n",
        "  print(\"El clasificador NB clasifica el archivo\", Y_Etiq[i], \"como\", NB_re_predict[i] )\n"
      ],
      "metadata": {
        "colab": {
          "base_uri": "https://localhost:8080/"
        },
        "id": "KPqIwuY8RxWQ",
        "outputId": "25faab34-637f-4518-9b39-977c74e47338"
      },
      "execution_count": null,
      "outputs": [
        {
          "output_type": "stream",
          "name": "stdout",
          "text": [
            "El clasificador NB clasifica el archivo file_18 como MR\n",
            "El clasificador NB clasifica el archivo file_5 como MR\n",
            "El clasificador NB clasifica el archivo file_20 como MR\n",
            "El clasificador NB clasifica el archivo file_29 como MR\n",
            "El clasificador NB clasifica el archivo file_4 como MR\n",
            "El clasificador NB clasifica el archivo file_26 como MR\n",
            "El clasificador NB clasifica el archivo file_15 como MR\n",
            "El clasificador NB clasifica el archivo file_14 como MR\n",
            "El clasificador NB clasifica el archivo file_0 como MR\n",
            "El clasificador NB clasifica el archivo file_33 como MR\n",
            "El clasificador NB clasifica el archivo file_7 como MR\n",
            "El clasificador NB clasifica el archivo file_21 como MR\n",
            "El clasificador NB clasifica el archivo file_28 como MR\n",
            "El clasificador NB clasifica el archivo file_34 como MR\n",
            "El clasificador NB clasifica el archivo file_11 como MR\n",
            "El clasificador NB clasifica el archivo file_27 como MR\n",
            "El clasificador NB clasifica el archivo file_9 como MR\n",
            "El clasificador NB clasifica el archivo file_13 como MR\n",
            "El clasificador NB clasifica el archivo file_17 como MR\n",
            "El clasificador NB clasifica el archivo file_6 como MR\n",
            "El clasificador NB clasifica el archivo file_12 como MR\n",
            "El clasificador NB clasifica el archivo file_32 como MR\n",
            "El clasificador NB clasifica el archivo file_31 como MR\n",
            "El clasificador NB clasifica el archivo file_3 como MR\n",
            "El clasificador NB clasifica el archivo file_19 como MR\n",
            "El clasificador NB clasifica el archivo file_16 como MR\n",
            "El clasificador NB clasifica el archivo file_30 como MR\n",
            "El clasificador NB clasifica el archivo file_25 como MR\n",
            "El clasificador NB clasifica el archivo file_24 como MR\n",
            "El clasificador NB clasifica el archivo file_8 como MR\n",
            "El clasificador NB clasifica el archivo file_2 como MR\n",
            "El clasificador NB clasifica el archivo file_10 como MR\n",
            "El clasificador NB clasifica el archivo file_22 como MR\n",
            "El clasificador NB clasifica el archivo file_1 como MR\n",
            "El clasificador NB clasifica el archivo file_23 como MR\n"
          ]
        }
      ]
    },
    {
      "cell_type": "markdown",
      "source": [
        "Guardamos las etiquetas de Naive Bayes"
      ],
      "metadata": {
        "id": "hHIOu20qFazJ"
      }
    },
    {
      "cell_type": "code",
      "source": [
        "save_nb =[[Y_Etiq[0],NB_re_predict[0]]]\n",
        "for k in range(1,35):\n",
        "  save_nb.append([Y_Etiq[k],NB_re_predict[k]])\n",
        "save_NB = np.array(save_nb)\n",
        "np.savetxt('Etiquetas Naive Bayes.txt', save_NB,fmt=\"%s\")"
      ],
      "metadata": {
        "id": "FHtf48v7FCd7"
      },
      "execution_count": null,
      "outputs": []
    },
    {
      "cell_type": "markdown",
      "source": [
        "KNN"
      ],
      "metadata": {
        "id": "ovbN2WRGRxzR"
      }
    },
    {
      "cell_type": "code",
      "source": [
        "KNN_re_predict = KNN_re.predict(X)\n",
        "KNN_re_predict"
      ],
      "metadata": {
        "colab": {
          "base_uri": "https://localhost:8080/"
        },
        "id": "rg7ulrF8cBRO",
        "outputId": "ed16f8cf-a63d-4995-cc8f-4c7955c67e1b"
      },
      "execution_count": null,
      "outputs": [
        {
          "output_type": "execute_result",
          "data": {
            "text/plain": [
              "array(['MR', 'WD', 'MJ', 'MW', 'MJ', 'MW', 'LD', 'MR', 'WD', 'MJ', 'OT',\n",
              "       'MW', 'MR', 'MR', 'MW', 'MJ', 'OT', 'MW', 'MW', 'LD', 'MW', 'MJ',\n",
              "       'OT', 'WU', 'OT', 'OT', 'FB', 'LD', 'MW', 'FB', 'MR', 'WU', 'MW',\n",
              "       'OT', 'LD'], dtype='<U2')"
            ]
          },
          "metadata": {},
          "execution_count": 69
        }
      ]
    },
    {
      "cell_type": "code",
      "source": [
        "for i in range(35):\n",
        "  print(\"El clasificador KNN clasifica el archivo\", Y_Etiq[i], \"como\", KNN_re_predict[i] )\n"
      ],
      "metadata": {
        "colab": {
          "base_uri": "https://localhost:8080/"
        },
        "id": "msLegnrTUFGG",
        "outputId": "2df97027-1a62-48d1-9765-510196c29117"
      },
      "execution_count": null,
      "outputs": [
        {
          "output_type": "stream",
          "name": "stdout",
          "text": [
            "El clasificador KNN clasifica el archivo file_18 como MR\n",
            "El clasificador KNN clasifica el archivo file_5 como WD\n",
            "El clasificador KNN clasifica el archivo file_20 como MJ\n",
            "El clasificador KNN clasifica el archivo file_29 como MW\n",
            "El clasificador KNN clasifica el archivo file_4 como MJ\n",
            "El clasificador KNN clasifica el archivo file_26 como MW\n",
            "El clasificador KNN clasifica el archivo file_15 como LD\n",
            "El clasificador KNN clasifica el archivo file_14 como MR\n",
            "El clasificador KNN clasifica el archivo file_0 como WD\n",
            "El clasificador KNN clasifica el archivo file_33 como MJ\n",
            "El clasificador KNN clasifica el archivo file_7 como OT\n",
            "El clasificador KNN clasifica el archivo file_21 como MW\n",
            "El clasificador KNN clasifica el archivo file_28 como MR\n",
            "El clasificador KNN clasifica el archivo file_34 como MR\n",
            "El clasificador KNN clasifica el archivo file_11 como MW\n",
            "El clasificador KNN clasifica el archivo file_27 como MJ\n",
            "El clasificador KNN clasifica el archivo file_9 como OT\n",
            "El clasificador KNN clasifica el archivo file_13 como MW\n",
            "El clasificador KNN clasifica el archivo file_17 como MW\n",
            "El clasificador KNN clasifica el archivo file_6 como LD\n",
            "El clasificador KNN clasifica el archivo file_12 como MW\n",
            "El clasificador KNN clasifica el archivo file_32 como MJ\n",
            "El clasificador KNN clasifica el archivo file_31 como OT\n",
            "El clasificador KNN clasifica el archivo file_3 como WU\n",
            "El clasificador KNN clasifica el archivo file_19 como OT\n",
            "El clasificador KNN clasifica el archivo file_16 como OT\n",
            "El clasificador KNN clasifica el archivo file_30 como FB\n",
            "El clasificador KNN clasifica el archivo file_25 como LD\n",
            "El clasificador KNN clasifica el archivo file_24 como MW\n",
            "El clasificador KNN clasifica el archivo file_8 como FB\n",
            "El clasificador KNN clasifica el archivo file_2 como MR\n",
            "El clasificador KNN clasifica el archivo file_10 como WU\n",
            "El clasificador KNN clasifica el archivo file_22 como MW\n",
            "El clasificador KNN clasifica el archivo file_1 como OT\n",
            "El clasificador KNN clasifica el archivo file_23 como LD\n"
          ]
        }
      ]
    },
    {
      "cell_type": "markdown",
      "source": [
        "Guardamos las etiquetas de KNN"
      ],
      "metadata": {
        "id": "lvuQuGWcF1Lu"
      }
    },
    {
      "cell_type": "code",
      "source": [
        "save_knn =[[Y_Etiq[0],KNN_re_predict[0]]]\n",
        "for k in range(1,35):\n",
        "  save_knn.append([Y_Etiq[k],KNN_re_predict[k]])\n",
        "save_KNN = np.array(save_knn)\n",
        "np.savetxt('Etiquetas KNN.txt', save_KNN,fmt=\"%s\")"
      ],
      "metadata": {
        "id": "-Z4tJrAQFimz"
      },
      "execution_count": null,
      "outputs": []
    },
    {
      "cell_type": "markdown",
      "source": [
        "DTC"
      ],
      "metadata": {
        "id": "jgAseAglR0TP"
      }
    },
    {
      "cell_type": "code",
      "source": [
        "DTC_re_predict = DTC_re.predict(X)\n",
        "DTC_re_predict\n"
      ],
      "metadata": {
        "colab": {
          "base_uri": "https://localhost:8080/"
        },
        "id": "JV2wyII0dDxf",
        "outputId": "60864d94-db7b-41cb-b497-432a67cbea9f"
      },
      "execution_count": null,
      "outputs": [
        {
          "output_type": "execute_result",
          "data": {
            "text/plain": [
              "array(['WD', 'WD', 'MJ', 'MW', 'MJ', 'OT', 'FB', 'FF', 'WD', 'MJ', 'OT',\n",
              "       'OT', 'MR', 'MR', 'MW', 'FS', 'OT', 'MW', 'OT', 'FS', 'MJ', 'MJ',\n",
              "       'OT', 'WD', 'OT', 'OT', 'FF', 'FB', 'FS', 'FS', 'MR', 'WD', 'OT',\n",
              "       'OT', 'FS'], dtype='<U2')"
            ]
          },
          "metadata": {},
          "execution_count": 71
        }
      ]
    },
    {
      "cell_type": "code",
      "source": [
        "for i in range(35):\n",
        "  print(\"El clasificador DTC clasifica el archivo\", Y_Etiq[i], \"como\", DTC_re_predict[i] )\n"
      ],
      "metadata": {
        "colab": {
          "base_uri": "https://localhost:8080/"
        },
        "id": "GekzxdEzR2TG",
        "outputId": "88551592-4ca1-40ac-a60e-b3308cb5fdd0"
      },
      "execution_count": null,
      "outputs": [
        {
          "output_type": "stream",
          "name": "stdout",
          "text": [
            "El clasificador DTC clasifica el archivo file_18 como WD\n",
            "El clasificador DTC clasifica el archivo file_5 como WD\n",
            "El clasificador DTC clasifica el archivo file_20 como MJ\n",
            "El clasificador DTC clasifica el archivo file_29 como MW\n",
            "El clasificador DTC clasifica el archivo file_4 como MJ\n",
            "El clasificador DTC clasifica el archivo file_26 como OT\n",
            "El clasificador DTC clasifica el archivo file_15 como FB\n",
            "El clasificador DTC clasifica el archivo file_14 como FF\n",
            "El clasificador DTC clasifica el archivo file_0 como WD\n",
            "El clasificador DTC clasifica el archivo file_33 como MJ\n",
            "El clasificador DTC clasifica el archivo file_7 como OT\n",
            "El clasificador DTC clasifica el archivo file_21 como OT\n",
            "El clasificador DTC clasifica el archivo file_28 como MR\n",
            "El clasificador DTC clasifica el archivo file_34 como MR\n",
            "El clasificador DTC clasifica el archivo file_11 como MW\n",
            "El clasificador DTC clasifica el archivo file_27 como FS\n",
            "El clasificador DTC clasifica el archivo file_9 como OT\n",
            "El clasificador DTC clasifica el archivo file_13 como MW\n",
            "El clasificador DTC clasifica el archivo file_17 como OT\n",
            "El clasificador DTC clasifica el archivo file_6 como FS\n",
            "El clasificador DTC clasifica el archivo file_12 como MJ\n",
            "El clasificador DTC clasifica el archivo file_32 como MJ\n",
            "El clasificador DTC clasifica el archivo file_31 como OT\n",
            "El clasificador DTC clasifica el archivo file_3 como WD\n",
            "El clasificador DTC clasifica el archivo file_19 como OT\n",
            "El clasificador DTC clasifica el archivo file_16 como OT\n",
            "El clasificador DTC clasifica el archivo file_30 como FF\n",
            "El clasificador DTC clasifica el archivo file_25 como FB\n",
            "El clasificador DTC clasifica el archivo file_24 como FS\n",
            "El clasificador DTC clasifica el archivo file_8 como FS\n",
            "El clasificador DTC clasifica el archivo file_2 como MR\n",
            "El clasificador DTC clasifica el archivo file_10 como WD\n",
            "El clasificador DTC clasifica el archivo file_22 como OT\n",
            "El clasificador DTC clasifica el archivo file_1 como OT\n",
            "El clasificador DTC clasifica el archivo file_23 como FS\n"
          ]
        }
      ]
    },
    {
      "cell_type": "markdown",
      "source": [
        "Guardamos las etiquetas de DTC"
      ],
      "metadata": {
        "id": "Od6Slq3QF61f"
      }
    },
    {
      "cell_type": "code",
      "source": [
        "save_dtc =[[Y_Etiq[0],DTC_re_predict[0]]]\n",
        "for k in range(1,35):\n",
        "  save_dtc.append([Y_Etiq[k],DTC_re_predict[k]])\n",
        "save_DTC = np.array(save_dtc)\n",
        "np.savetxt('Etiquetas DTC.txt', save_DTC,fmt=\"%s\")"
      ],
      "metadata": {
        "id": "vXT0sDsmF6fG"
      },
      "execution_count": null,
      "outputs": []
    },
    {
      "cell_type": "markdown",
      "source": [
        "RF"
      ],
      "metadata": {
        "id": "3OWJSmjRR2ki"
      }
    },
    {
      "cell_type": "code",
      "source": [
        "RF_re_predict = RF_re.predict(X)\n",
        "RF_re_predict"
      ],
      "metadata": {
        "colab": {
          "base_uri": "https://localhost:8080/"
        },
        "id": "Em8pQ5bydy5X",
        "outputId": "f431be43-efde-4aab-caf9-4bda1ca9a8fd"
      },
      "execution_count": null,
      "outputs": [
        {
          "output_type": "execute_result",
          "data": {
            "text/plain": [
              "array(['MR', 'WD', 'MJ', 'MW', 'MJ', 'MW', 'FF', 'FS', 'WD', 'MJ', 'OT',\n",
              "       'MW', 'MR', 'MR', 'MW', 'LD', 'OT', 'MW', 'MW', 'FF', 'MJ', 'MJ',\n",
              "       'OT', 'WU', 'OT', 'OT', 'FF', 'FF', 'FB', 'FB', 'MR', 'WU', 'OT',\n",
              "       'OT', 'FS'], dtype='<U2')"
            ]
          },
          "metadata": {},
          "execution_count": 73
        }
      ]
    },
    {
      "cell_type": "code",
      "source": [
        "for i in range(35):\n",
        "  print(\"El clasificador RF clasifica el archivo\", Y_Etiq[i], \"como\", RF_re_predict[i] )\n"
      ],
      "metadata": {
        "colab": {
          "base_uri": "https://localhost:8080/"
        },
        "id": "kJRjnGeyUin8",
        "outputId": "69f9cb55-6e9a-48a1-a6f5-55696ef9686b"
      },
      "execution_count": null,
      "outputs": [
        {
          "output_type": "stream",
          "name": "stdout",
          "text": [
            "El clasificador RF clasifica el archivo file_18 como MR\n",
            "El clasificador RF clasifica el archivo file_5 como WD\n",
            "El clasificador RF clasifica el archivo file_20 como MJ\n",
            "El clasificador RF clasifica el archivo file_29 como MW\n",
            "El clasificador RF clasifica el archivo file_4 como MJ\n",
            "El clasificador RF clasifica el archivo file_26 como MW\n",
            "El clasificador RF clasifica el archivo file_15 como FF\n",
            "El clasificador RF clasifica el archivo file_14 como FS\n",
            "El clasificador RF clasifica el archivo file_0 como WD\n",
            "El clasificador RF clasifica el archivo file_33 como MJ\n",
            "El clasificador RF clasifica el archivo file_7 como OT\n",
            "El clasificador RF clasifica el archivo file_21 como MW\n",
            "El clasificador RF clasifica el archivo file_28 como MR\n",
            "El clasificador RF clasifica el archivo file_34 como MR\n",
            "El clasificador RF clasifica el archivo file_11 como MW\n",
            "El clasificador RF clasifica el archivo file_27 como LD\n",
            "El clasificador RF clasifica el archivo file_9 como OT\n",
            "El clasificador RF clasifica el archivo file_13 como MW\n",
            "El clasificador RF clasifica el archivo file_17 como MW\n",
            "El clasificador RF clasifica el archivo file_6 como FF\n",
            "El clasificador RF clasifica el archivo file_12 como MJ\n",
            "El clasificador RF clasifica el archivo file_32 como MJ\n",
            "El clasificador RF clasifica el archivo file_31 como OT\n",
            "El clasificador RF clasifica el archivo file_3 como WU\n",
            "El clasificador RF clasifica el archivo file_19 como OT\n",
            "El clasificador RF clasifica el archivo file_16 como OT\n",
            "El clasificador RF clasifica el archivo file_30 como FF\n",
            "El clasificador RF clasifica el archivo file_25 como FF\n",
            "El clasificador RF clasifica el archivo file_24 como FB\n",
            "El clasificador RF clasifica el archivo file_8 como FB\n",
            "El clasificador RF clasifica el archivo file_2 como MR\n",
            "El clasificador RF clasifica el archivo file_10 como WU\n",
            "El clasificador RF clasifica el archivo file_22 como OT\n",
            "El clasificador RF clasifica el archivo file_1 como OT\n",
            "El clasificador RF clasifica el archivo file_23 como FS\n"
          ]
        }
      ]
    },
    {
      "cell_type": "markdown",
      "source": [
        "Gaurdamos etiquetas de RF"
      ],
      "metadata": {
        "id": "d6SrJF5lEw9Z"
      }
    },
    {
      "cell_type": "code",
      "source": [
        "save_rf =[[Y_Etiq[0],RF_re_predict[0]]]\n",
        "for k in range(1,35):\n",
        "  save_rf.append([Y_Etiq[k],RF_re_predict[k]])\n",
        "save_RF = np.array(save_rf)\n",
        "np.savetxt('Etiquetas Random Forest.txt', save_RF,fmt=\"%s\")"
      ],
      "metadata": {
        "id": "_BhB0uuqCwLK"
      },
      "execution_count": null,
      "outputs": []
    }
  ],
  "metadata": {
    "colab": {
      "provenance": [],
      "authorship_tag": "ABX9TyMospI5xs26Z7g6HdW5PrB8",
      "include_colab_link": true
    },
    "kernelspec": {
      "display_name": "Python 3",
      "name": "python3"
    },
    "language_info": {
      "name": "python"
    }
  },
  "nbformat": 4,
  "nbformat_minor": 0
}